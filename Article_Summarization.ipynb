{
 "cells": [
  {
   "cell_type": "markdown",
   "metadata": {},
   "source": [
    "# Summarization\n",
    "## This notebook outlines the concepts behind Text Summarization\n",
    "### Emilja Beneja 101539668"
   ]
  },
  {
   "cell_type": "markdown",
   "metadata": {},
   "source": [
    "## Summarization\n",
    "- concept of capturing very important gist of a long piece of text\n",
    "\n",
    "### Types of Summarization\n",
    "- 1. **Extractive Summarization**\n",
    "    - Select sentences from the corpus that best represent the text\n",
    "    - Arrange them to form a summary\n",
    "- 2. **Abstractive Summarization**\n",
    "    - Captures the very important sentences from the text\n",
    "    - Paraphrases them to form a summary"
   ]
  },
  {
   "cell_type": "markdown",
   "metadata": {},
   "source": [
    "## Summarization Libraries\n",
    "- Sumy\n",
    "- Gensim\n",
    "- Summa\n",
    "- BERT **\n",
    "    - BART **\n",
    "    - PEGASUS **\n",
    "    - T5 **\n",
    "\n",
    "** Will be seen in DL-1\n",
    "\n",
    "\n",
    "## 1. Sumy :\n",
    "    1. Luhn – Heurestic method\n",
    "    2. Latent Semantic Analysis\n",
    "    4. LexRank – Unsupervised approach inspired by algorithms PageRank and HITS\n",
    "    5. TextRank - Graph-based summarization technique with keyword extractions in from document\n",
    "\n",
    "Documentation Reference [sumy](https://github.com/miso-belica/sumy)"
   ]
  },
  {
   "cell_type": "markdown",
   "metadata": {},
   "source": [
    "## Task: Take a piece of text from wiki page and summarize them using Sumy\n",
    "### Steps\n",
    "- Install the necessary libraries\n",
    "- Import the libraries\n",
    "- Scrape the text from a pre-defined webpage\n",
    "- Summarize"
   ]
  },
  {
   "cell_type": "markdown",
   "metadata": {},
   "source": [
    "### Install Sumy"
   ]
  },
  {
   "cell_type": "code",
   "execution_count": 3,
   "metadata": {},
   "outputs": [
    {
     "name": "stdout",
     "output_type": "stream",
     "text": [
      "Requirement already satisfied: lxml[html_clean] in c:\\users\\user\\appdata\\local\\packages\\pythonsoftwarefoundation.python.3.11_qbz5n2kfra8p0\\localcache\\local-packages\\python311\\site-packages (5.3.0)\n",
      "Collecting lxml-html-clean (from lxml[html_clean])\n",
      "  Downloading lxml_html_clean-0.4.0-py3-none-any.whl.metadata (2.4 kB)\n",
      "Downloading lxml_html_clean-0.4.0-py3-none-any.whl (14 kB)\n",
      "Installing collected packages: lxml-html-clean\n",
      "Successfully installed lxml-html-clean-0.4.0\n",
      "Note: you may need to restart the kernel to use updated packages.\n"
     ]
    }
   ],
   "source": [
    "pip install lxml[html_clean]"
   ]
  },
  {
   "cell_type": "code",
   "execution_count": 1,
   "metadata": {
    "scrolled": true
   },
   "outputs": [
    {
     "name": "stdout",
     "output_type": "stream",
     "text": [
      "Collecting sumy\n",
      "  Downloading sumy-0.11.0-py2.py3-none-any.whl.metadata (7.5 kB)\n",
      "Collecting docopt<0.7,>=0.6.1 (from sumy)\n",
      "  Downloading docopt-0.6.2.tar.gz (25 kB)\n",
      "  Installing build dependencies: started\n",
      "  Installing build dependencies: finished with status 'done'\n",
      "  Getting requirements to build wheel: started\n",
      "  Getting requirements to build wheel: finished with status 'done'\n",
      "  Preparing metadata (pyproject.toml): started\n",
      "  Preparing metadata (pyproject.toml): finished with status 'done'\n",
      "Collecting breadability>=0.1.20 (from sumy)\n",
      "  Downloading breadability-0.1.20.tar.gz (32 kB)\n",
      "  Installing build dependencies: started\n",
      "  Installing build dependencies: finished with status 'done'\n",
      "  Getting requirements to build wheel: started\n",
      "  Getting requirements to build wheel: finished with status 'done'\n",
      "  Preparing metadata (pyproject.toml): started\n",
      "  Preparing metadata (pyproject.toml): finished with status 'done'\n",
      "Requirement already satisfied: requests>=2.7.0 in c:\\users\\user\\appdata\\local\\packages\\pythonsoftwarefoundation.python.3.11_qbz5n2kfra8p0\\localcache\\local-packages\\python311\\site-packages (from sumy) (2.32.3)\n",
      "Collecting pycountry>=18.2.23 (from sumy)\n",
      "  Downloading pycountry-24.6.1-py3-none-any.whl.metadata (12 kB)\n",
      "Collecting nltk>=3.0.2 (from sumy)\n",
      "  Downloading nltk-3.9.1-py3-none-any.whl.metadata (2.9 kB)\n",
      "Collecting chardet (from breadability>=0.1.20->sumy)\n",
      "  Downloading chardet-5.2.0-py3-none-any.whl.metadata (3.4 kB)\n",
      "Collecting lxml>=2.0 (from breadability>=0.1.20->sumy)\n",
      "  Downloading lxml-5.3.0-cp311-cp311-win_amd64.whl.metadata (3.9 kB)\n",
      "Collecting click (from nltk>=3.0.2->sumy)\n",
      "  Downloading click-8.1.7-py3-none-any.whl.metadata (3.0 kB)\n",
      "Requirement already satisfied: joblib in c:\\users\\user\\appdata\\local\\packages\\pythonsoftwarefoundation.python.3.11_qbz5n2kfra8p0\\localcache\\local-packages\\python311\\site-packages (from nltk>=3.0.2->sumy) (1.4.2)\n",
      "Collecting regex>=2021.8.3 (from nltk>=3.0.2->sumy)\n",
      "  Downloading regex-2024.11.6-cp311-cp311-win_amd64.whl.metadata (41 kB)\n",
      "Collecting tqdm (from nltk>=3.0.2->sumy)\n",
      "  Downloading tqdm-4.67.0-py3-none-any.whl.metadata (57 kB)\n",
      "Requirement already satisfied: charset-normalizer<4,>=2 in c:\\users\\user\\appdata\\local\\packages\\pythonsoftwarefoundation.python.3.11_qbz5n2kfra8p0\\localcache\\local-packages\\python311\\site-packages (from requests>=2.7.0->sumy) (3.3.2)\n",
      "Requirement already satisfied: idna<4,>=2.5 in c:\\users\\user\\appdata\\local\\packages\\pythonsoftwarefoundation.python.3.11_qbz5n2kfra8p0\\localcache\\local-packages\\python311\\site-packages (from requests>=2.7.0->sumy) (3.10)\n",
      "Requirement already satisfied: urllib3<3,>=1.21.1 in c:\\users\\user\\appdata\\local\\packages\\pythonsoftwarefoundation.python.3.11_qbz5n2kfra8p0\\localcache\\local-packages\\python311\\site-packages (from requests>=2.7.0->sumy) (2.2.3)\n",
      "Requirement already satisfied: certifi>=2017.4.17 in c:\\users\\user\\appdata\\local\\packages\\pythonsoftwarefoundation.python.3.11_qbz5n2kfra8p0\\localcache\\local-packages\\python311\\site-packages (from requests>=2.7.0->sumy) (2024.8.30)\n",
      "Requirement already satisfied: colorama in c:\\users\\user\\appdata\\local\\packages\\pythonsoftwarefoundation.python.3.11_qbz5n2kfra8p0\\localcache\\local-packages\\python311\\site-packages (from click->nltk>=3.0.2->sumy) (0.4.6)\n",
      "Downloading sumy-0.11.0-py2.py3-none-any.whl (97 kB)\n",
      "Downloading nltk-3.9.1-py3-none-any.whl (1.5 MB)\n",
      "   ---------------------------------------- 0.0/1.5 MB ? eta -:--:--\n",
      "   ---------------------------------------- 1.5/1.5 MB 13.4 MB/s eta 0:00:00\n",
      "Downloading pycountry-24.6.1-py3-none-any.whl (6.3 MB)\n",
      "   ---------------------------------------- 0.0/6.3 MB ? eta -:--:--\n",
      "   ---------------------------------------- 6.3/6.3 MB 38.9 MB/s eta 0:00:00\n",
      "Downloading lxml-5.3.0-cp311-cp311-win_amd64.whl (3.8 MB)\n",
      "   ---------------------------------------- 0.0/3.8 MB ? eta -:--:--\n",
      "   ---------------------------------------- 3.8/3.8 MB 32.3 MB/s eta 0:00:00\n",
      "Downloading regex-2024.11.6-cp311-cp311-win_amd64.whl (274 kB)\n",
      "Downloading chardet-5.2.0-py3-none-any.whl (199 kB)\n",
      "Downloading click-8.1.7-py3-none-any.whl (97 kB)\n",
      "Downloading tqdm-4.67.0-py3-none-any.whl (78 kB)\n",
      "Building wheels for collected packages: breadability, docopt\n",
      "  Building wheel for breadability (pyproject.toml): started\n",
      "  Building wheel for breadability (pyproject.toml): finished with status 'done'\n",
      "  Created wheel for breadability: filename=breadability-0.1.20-py2.py3-none-any.whl size=21741 sha256=9246cbb9e0488d9ecca7af031224ea71a9160d7e5551255837f422eb3f20047e\n",
      "  Stored in directory: c:\\users\\user\\appdata\\local\\pip\\cache\\wheels\\4d\\57\\58\\7e3d7fedf51fe248b7fcee3df6945ae28638e22cddf01eb92b\n",
      "  Building wheel for docopt (pyproject.toml): started\n",
      "  Building wheel for docopt (pyproject.toml): finished with status 'done'\n",
      "  Created wheel for docopt: filename=docopt-0.6.2-py2.py3-none-any.whl size=13775 sha256=93ba32f9eef01617d31fe218441b22bb1facc8f3a63f75ba05d2e81056620533\n",
      "  Stored in directory: c:\\users\\user\\appdata\\local\\pip\\cache\\wheels\\1a\\b0\\8c\\4b75c4116c31f83c8f9f047231251e13cc74481cca4a78a9ce\n",
      "Successfully built breadability docopt\n",
      "Installing collected packages: docopt, tqdm, regex, pycountry, lxml, click, chardet, nltk, breadability, sumy\n",
      "Successfully installed breadability-0.1.20 chardet-5.2.0 click-8.1.7 docopt-0.6.2 lxml-5.3.0 nltk-3.9.1 pycountry-24.6.1 regex-2024.11.6 sumy-0.11.0 tqdm-4.67.0\n",
      "Note: you may need to restart the kernel to use updated packages.\n"
     ]
    }
   ],
   "source": [
    "pip install sumy"
   ]
  },
  {
   "cell_type": "code",
   "execution_count": 11,
   "metadata": {},
   "outputs": [
    {
     "name": "stdout",
     "output_type": "stream",
     "text": [
      "Requirement already satisfied: nltk in c:\\users\\user\\appdata\\local\\packages\\pythonsoftwarefoundation.python.3.11_qbz5n2kfra8p0\\localcache\\local-packages\\python311\\site-packages (3.9.1)\n",
      "Requirement already satisfied: click in c:\\users\\user\\appdata\\local\\packages\\pythonsoftwarefoundation.python.3.11_qbz5n2kfra8p0\\localcache\\local-packages\\python311\\site-packages (from nltk) (8.1.7)\n",
      "Requirement already satisfied: joblib in c:\\users\\user\\appdata\\local\\packages\\pythonsoftwarefoundation.python.3.11_qbz5n2kfra8p0\\localcache\\local-packages\\python311\\site-packages (from nltk) (1.4.2)\n",
      "Requirement already satisfied: regex>=2021.8.3 in c:\\users\\user\\appdata\\local\\packages\\pythonsoftwarefoundation.python.3.11_qbz5n2kfra8p0\\localcache\\local-packages\\python311\\site-packages (from nltk) (2024.11.6)\n",
      "Requirement already satisfied: tqdm in c:\\users\\user\\appdata\\local\\packages\\pythonsoftwarefoundation.python.3.11_qbz5n2kfra8p0\\localcache\\local-packages\\python311\\site-packages (from nltk) (4.67.0)\n",
      "Requirement already satisfied: colorama in c:\\users\\user\\appdata\\local\\packages\\pythonsoftwarefoundation.python.3.11_qbz5n2kfra8p0\\localcache\\local-packages\\python311\\site-packages (from click->nltk) (0.4.6)\n",
      "Note: you may need to restart the kernel to use updated packages.\n"
     ]
    }
   ],
   "source": [
    "pip install nltk"
   ]
  },
  {
   "cell_type": "markdown",
   "metadata": {},
   "source": [
    "### Import the libraries\n",
    "- HtmlParser\n",
    "- Tokenizer\n",
    "- TextRankSummarizer"
   ]
  },
  {
   "cell_type": "code",
   "execution_count": 25,
   "metadata": {},
   "outputs": [
    {
     "name": "stderr",
     "output_type": "stream",
     "text": [
      "[nltk_data] Downloading package punkt_tab to\n",
      "[nltk_data]     C:\\Users\\user\\AppData\\Roaming\\nltk_data...\n",
      "[nltk_data]   Unzipping tokenizers\\punkt_tab.zip.\n"
     ]
    },
    {
     "data": {
      "text/plain": [
       "True"
      ]
     },
     "execution_count": 25,
     "metadata": {},
     "output_type": "execute_result"
    }
   ],
   "source": [
    "from sumy.parsers.html import HtmlParser\n",
    "from sumy.nlp.tokenizers import Tokenizer\n",
    "from sumy.summarizers.text_rank import TextRankSummarizer\n",
    "import nltk\n",
    "nltk.download('punkt_tab')"
   ]
  },
  {
   "cell_type": "markdown",
   "metadata": {},
   "source": [
    "### Scrape the text"
   ]
  },
  {
   "cell_type": "code",
   "execution_count": 62,
   "metadata": {},
   "outputs": [],
   "source": [
    "url = \"https://medium.com/@subashgandyer/papa-what-is-a-neural-network-c5e5cc427c7\"\n",
    "parser = HtmlParser.from_url(url, Tokenizer(\"english\"))\n"
   ]
  },
  {
   "cell_type": "code",
   "execution_count": 63,
   "metadata": {},
   "outputs": [
    {
     "data": {
      "text/plain": [
       "<DOM with 46 paragraphs>"
      ]
     },
     "execution_count": 63,
     "metadata": {},
     "output_type": "execute_result"
    }
   ],
   "source": [
    "doc = parser.document\n",
    "doc"
   ]
  },
  {
   "cell_type": "markdown",
   "metadata": {},
   "source": [
    "### Summarize - TextRankSummarizer"
   ]
  },
  {
   "cell_type": "code",
   "execution_count": 64,
   "metadata": {},
   "outputs": [],
   "source": [
    "summarizer = TextRankSummarizer()"
   ]
  },
  {
   "cell_type": "code",
   "execution_count": 65,
   "metadata": {},
   "outputs": [
    {
     "data": {
      "text/plain": [
       "(<Sentence: Papa, What is a Neural Network?At the back of my head, thoughts of me taking days to comprehend what a NN (short for Neural Network) is, how it would work, where it is used, how it is simulating our human brain’s inner workings were going through.>,\n",
       " <Sentence: “Neural Network is a collection (a network) of neurons whose job is to learn a new thing or a new place or a new process or a new concept.”>,\n",
       " <Sentence: After telling her the features of a lion, asked her “Can you draw these for me?” She happily drew almost a similar figure to that of a dog she drew before.>,\n",
       " <Sentence: When you see a new object, your brain will ask the neurons, ‘Hey, anybody experienced this before?’ The neurons will say, ‘Yes, I have seen this.’ Certain other neurons will say, ‘No, I have not seen this.’ The neurons that have seen this before, will group together and form logical connections from the past and gives us an object from our memory.>,\n",
       " <Sentence: The same principle is applied for a song that you hear, a cartoon that you watch, a rhyme that you sing, an animal that you draw, a food that you taste, a flower that you smell and so on.>)"
      ]
     },
     "execution_count": 65,
     "metadata": {},
     "output_type": "execute_result"
    }
   ],
   "source": [
    "summary_text = summarizer(doc, 5)\n",
    "summary_text"
   ]
  },
  {
   "cell_type": "markdown",
   "metadata": {},
   "source": [
    "### Try different Summarizers\n",
    "- LexRankSummarizer\n",
    "- LuhnSummarizer\n",
    "- LsaSummarizer"
   ]
  },
  {
   "cell_type": "markdown",
   "metadata": {},
   "source": [
    "### Import the summarizers"
   ]
  },
  {
   "cell_type": "code",
   "execution_count": 30,
   "metadata": {},
   "outputs": [],
   "source": [
    "from sumy.summarizers.lex_rank import LexRankSummarizer\n",
    "from sumy.summarizers.luhn import LuhnSummarizer\n",
    "from sumy.summarizers.lsa import LsaSummarizer"
   ]
  },
  {
   "cell_type": "markdown",
   "metadata": {},
   "source": [
    "### Create Summarizers"
   ]
  },
  {
   "cell_type": "code",
   "execution_count": 66,
   "metadata": {},
   "outputs": [],
   "source": [
    "lexSummarizer =  LexRankSummarizer()\n",
    "luhnSummarizer = LuhnSummarizer()\n",
    "lsaSummarizer = LsaSummarizer()"
   ]
  },
  {
   "cell_type": "markdown",
   "metadata": {},
   "source": [
    "### LexRankSummarizer"
   ]
  },
  {
   "cell_type": "code",
   "execution_count": 67,
   "metadata": {},
   "outputs": [
    {
     "data": {
      "text/plain": [
       "(<Sentence: After telling her the features of a lion, asked her “Can you draw these for me?” She happily drew almost a similar figure to that of a dog she drew before.>,\n",
       " <Sentence: Was it a dog or a lion?>,\n",
       " <Sentence: Do you know what is the difference between a lion and a dog?” She said, “Yes.” I said, “This is called Learning.>,\n",
       " <Sentence: Picture of my version of Neural Network with their Neuron friends“Your brain is here inside our head.>,\n",
       " <Sentence: Ultimately, the neurons in your brain tell that it is a lion and not a dog.>)"
      ]
     },
     "execution_count": 67,
     "metadata": {},
     "output_type": "execute_result"
    }
   ],
   "source": [
    "lex_summary_text = lexSummarizer(doc, 5)\n",
    "lex_summary_text"
   ]
  },
  {
   "cell_type": "markdown",
   "metadata": {},
   "source": [
    "### LuhnSummarizer"
   ]
  },
  {
   "cell_type": "code",
   "execution_count": 68,
   "metadata": {},
   "outputs": [
    {
     "data": {
      "text/plain": [
       "(<Sentence: Papa, What is a Neural Network?At the back of my head, thoughts of me taking days to comprehend what a NN (short for Neural Network) is, how it would work, where it is used, how it is simulating our human brain’s inner workings were going through.>,\n",
       " <Sentence: How you learnt it is because of Neural Network inside your brain.” Now, a neural network is a collection of neurons that keeps switching on and off based on things you see, feel, hear and think just like switching on light bulb at our home.>,\n",
       " <Sentence: Every neuron is waiting for your eyes to see something new, for your nose to smell something new, for your ears to hear something new, for your tongue to taste something new.>,\n",
       " <Sentence: When something new is heard, or smelled, or seen, or tasted, the neurons will group together to send signals and forms connections with already seen, heard, tasted or smelled neurons.>,\n",
       " <Sentence: When you see a new object, your brain will ask the neurons, ‘Hey, anybody experienced this before?’ The neurons will say, ‘Yes, I have seen this.’ Certain other neurons will say, ‘No, I have not seen this.’ The neurons that have seen this before, will group together and form logical connections from the past and gives us an object from our memory.>)"
      ]
     },
     "execution_count": 68,
     "metadata": {},
     "output_type": "execute_result"
    }
   ],
   "source": [
    "luhn_summary_text = luhnSummarizer(doc, 5)\n",
    "luhn_summary_text"
   ]
  },
  {
   "cell_type": "markdown",
   "metadata": {},
   "source": [
    "### LsaSummarizer"
   ]
  },
  {
   "cell_type": "code",
   "execution_count": 69,
   "metadata": {},
   "outputs": [
    {
     "data": {
      "text/plain": [
       "(<Sentence: If you’ve noticed, this is how ML people make their machines learn through Reinforcement Learning.>,\n",
       " <Sentence: For example, when I showed you a lion picture, your brain asked the neurons who had seen it before.>,\n",
       " <Sentence: Every neuron will tune itself to pick up certain features like legs, tail, face, beard, and so on.>,\n",
       " <Sentence: And I hope she will not come to me running asking “Papa, what is Meural Metark?” again.>,\n",
       " <Sentence: And I have a strong feeling; she would ask me another stunning question sooner or later.>)"
      ]
     },
     "execution_count": 69,
     "metadata": {},
     "output_type": "execute_result"
    }
   ],
   "source": [
    "lsa_summary_text = lsaSummarizer(doc, 5)\n",
    "lsa_summary_text\n"
   ]
  },
  {
   "cell_type": "markdown",
   "metadata": {},
   "source": [
    "## 2. Gensim"
   ]
  },
  {
   "cell_type": "markdown",
   "metadata": {},
   "source": [
    "## Task: Take a piece of text from wiki page and summarize them using Gensim\n",
    "### Steps\n",
    "- Install the necessary libraries\n",
    "- Import the libraries\n",
    "- Scrape the text from a pre-defined webpage\n",
    "- Summarize"
   ]
  },
  {
   "cell_type": "markdown",
   "metadata": {},
   "source": [
    "### Install the library"
   ]
  },
  {
   "cell_type": "code",
   "execution_count": 35,
   "metadata": {},
   "outputs": [
    {
     "name": "stdout",
     "output_type": "stream",
     "text": [
      "Collecting gensim\n",
      "  Downloading gensim-4.3.3-cp311-cp311-win_amd64.whl.metadata (8.2 kB)\n",
      "Requirement already satisfied: numpy<2.0,>=1.18.5 in c:\\users\\user\\appdata\\local\\packages\\pythonsoftwarefoundation.python.3.11_qbz5n2kfra8p0\\localcache\\local-packages\\python311\\site-packages (from gensim) (1.26.2)\n",
      "Collecting scipy<1.14.0,>=1.7.0 (from gensim)\n",
      "  Downloading scipy-1.13.1-cp311-cp311-win_amd64.whl.metadata (60 kB)\n",
      "Collecting smart-open>=1.8.1 (from gensim)\n",
      "  Downloading smart_open-7.0.5-py3-none-any.whl.metadata (24 kB)\n",
      "Collecting wrapt (from smart-open>=1.8.1->gensim)\n",
      "  Using cached wrapt-1.16.0-cp311-cp311-win_amd64.whl.metadata (6.8 kB)\n",
      "Downloading gensim-4.3.3-cp311-cp311-win_amd64.whl (24.0 MB)\n",
      "   ---------------------------------------- 0.0/24.0 MB ? eta -:--:--\n",
      "   ------------------ --------------------- 11.0/24.0 MB 62.5 MB/s eta 0:00:01\n",
      "   ---------------------------------------  23.9/24.0 MB 65.7 MB/s eta 0:00:01\n",
      "   ---------------------------------------- 24.0/24.0 MB 44.7 MB/s eta 0:00:00\n",
      "Downloading scipy-1.13.1-cp311-cp311-win_amd64.whl (46.2 MB)\n",
      "   ---------------------------------------- 0.0/46.2 MB ? eta -:--:--\n",
      "   ------------- -------------------------- 16.0/46.2 MB 77.5 MB/s eta 0:00:01\n",
      "   -------------------------- ------------- 30.9/46.2 MB 72.9 MB/s eta 0:00:01\n",
      "   ---------------------------------------  46.1/46.2 MB 73.4 MB/s eta 0:00:01\n",
      "   ---------------------------------------  46.1/46.2 MB 73.4 MB/s eta 0:00:01\n",
      "   ---------------------------------------- 46.2/46.2 MB 50.7 MB/s eta 0:00:00\n",
      "Downloading smart_open-7.0.5-py3-none-any.whl (61 kB)\n",
      "Using cached wrapt-1.16.0-cp311-cp311-win_amd64.whl (37 kB)\n",
      "Installing collected packages: wrapt, scipy, smart-open, gensim\n",
      "  Attempting uninstall: scipy\n",
      "    Found existing installation: scipy 1.14.1\n",
      "    Uninstalling scipy-1.14.1:\n",
      "      Successfully uninstalled scipy-1.14.1\n",
      "Successfully installed gensim-4.3.3 scipy-1.13.1 smart-open-7.0.5 wrapt-1.16.0\n",
      "Note: you may need to restart the kernel to use updated packages.\n"
     ]
    },
    {
     "name": "stderr",
     "output_type": "stream",
     "text": [
      "  WARNING: Failed to remove contents in a temporary directory 'C:\\Users\\user\\AppData\\Local\\Packages\\PythonSoftwareFoundation.Python.3.11_qbz5n2kfra8p0\\LocalCache\\local-packages\\Python311\\site-packages\\~cipy.libs'.\n",
      "  You can safely remove it manually.\n",
      "  WARNING: Failed to remove contents in a temporary directory 'C:\\Users\\user\\AppData\\Local\\Packages\\PythonSoftwareFoundation.Python.3.11_qbz5n2kfra8p0\\LocalCache\\local-packages\\Python311\\site-packages\\~cipy'.\n",
      "  You can safely remove it manually.\n"
     ]
    }
   ],
   "source": [
    "pip install gensim"
   ]
  },
  {
   "cell_type": "code",
   "execution_count": 45,
   "metadata": {},
   "outputs": [
    {
     "name": "stderr",
     "output_type": "stream",
     "text": [
      "WARNING: Skipping gensim as it is not installed.\n",
      "ERROR: Too many arguments\n"
     ]
    }
   ],
   "source": [
    "!pip uninstall gensim==3.8.3 -y\n",
    "!pip cache purge  # Clears cached packages that may interfere\n",
    "\n"
   ]
  },
  {
   "cell_type": "code",
   "execution_count": 46,
   "metadata": {},
   "outputs": [
    {
     "name": "stdout",
     "output_type": "stream",
     "text": [
      "Collecting gensim==3.6.0\n",
      "  Downloading gensim-3.6.0.tar.gz (23.1 MB)\n",
      "     ---------------------------------------- 0.0/23.1 MB ? eta -:--:--\n",
      "     ------------ --------------------------- 7.3/23.1 MB 50.2 MB/s eta 0:00:01\n",
      "     -------------------------------- ------ 19.4/23.1 MB 55.6 MB/s eta 0:00:01\n",
      "     --------------------------------------- 23.1/23.1 MB 44.4 MB/s eta 0:00:00\n",
      "  Installing build dependencies: started\n",
      "  Installing build dependencies: finished with status 'done'\n",
      "  Getting requirements to build wheel: started\n",
      "  Getting requirements to build wheel: finished with status 'done'\n",
      "  Installing backend dependencies: started\n",
      "  Installing backend dependencies: finished with status 'done'\n",
      "  Preparing metadata (pyproject.toml): started\n",
      "  Preparing metadata (pyproject.toml): finished with status 'done'\n",
      "Requirement already satisfied: numpy>=1.11.3 in c:\\users\\user\\appdata\\local\\packages\\pythonsoftwarefoundation.python.3.11_qbz5n2kfra8p0\\localcache\\local-packages\\python311\\site-packages (from gensim==3.6.0) (1.26.2)\n",
      "Requirement already satisfied: scipy>=0.18.1 in c:\\users\\user\\appdata\\local\\packages\\pythonsoftwarefoundation.python.3.11_qbz5n2kfra8p0\\localcache\\local-packages\\python311\\site-packages (from gensim==3.6.0) (1.13.1)\n",
      "Requirement already satisfied: six>=1.5.0 in c:\\users\\user\\appdata\\local\\packages\\pythonsoftwarefoundation.python.3.11_qbz5n2kfra8p0\\localcache\\local-packages\\python311\\site-packages (from gensim==3.6.0) (1.16.0)\n",
      "Requirement already satisfied: smart-open>=1.2.1 in c:\\users\\user\\appdata\\local\\packages\\pythonsoftwarefoundation.python.3.11_qbz5n2kfra8p0\\localcache\\local-packages\\python311\\site-packages (from gensim==3.6.0) (7.0.5)\n",
      "Requirement already satisfied: wrapt in c:\\users\\user\\appdata\\local\\packages\\pythonsoftwarefoundation.python.3.11_qbz5n2kfra8p0\\localcache\\local-packages\\python311\\site-packages (from smart-open>=1.2.1->gensim==3.6.0) (1.16.0)\n",
      "Building wheels for collected packages: gensim\n",
      "  Building wheel for gensim (pyproject.toml): started\n",
      "  Building wheel for gensim (pyproject.toml): finished with status 'done'\n",
      "  Created wheel for gensim: filename=gensim-3.6.0-cp311-cp311-win_amd64.whl size=23429735 sha256=bbcefdf804fb7af610c77d9daf8a6800ee653beffd517ac81ea661bf41da1952\n",
      "  Stored in directory: c:\\users\\user\\appdata\\local\\pip\\cache\\wheels\\6b\\84\\4d\\ea7977f42f89ebaa24f5702cc2d5013300934c7641d48c1521\n",
      "Successfully built gensim\n",
      "Installing collected packages: gensim\n",
      "Successfully installed gensim-3.6.0\n"
     ]
    }
   ],
   "source": [
    "!pip install gensim==3.6.0\n"
   ]
  },
  {
   "cell_type": "markdown",
   "metadata": {},
   "source": [
    "### Import the library"
   ]
  },
  {
   "cell_type": "code",
   "execution_count": 47,
   "metadata": {},
   "outputs": [],
   "source": [
    "from gensim.summarization import summarize"
   ]
  },
  {
   "cell_type": "markdown",
   "metadata": {},
   "source": [
    "### Scrape the text\n",
    "- Use beautifulSoup to extract text (from Task1 of ML-1)"
   ]
  },
  {
   "cell_type": "code",
   "execution_count": 48,
   "metadata": {},
   "outputs": [],
   "source": [
    "import requests\n",
    "import re\n",
    "from bs4 import BeautifulSoup"
   ]
  },
  {
   "cell_type": "code",
   "execution_count": 70,
   "metadata": {},
   "outputs": [],
   "source": [
    "def get_page(url):\n",
    "    res = requests.get(url)\n",
    "    soup = BeautifulSoup(res.text, 'html.parser')\n",
    "    return soup"
   ]
  },
  {
   "cell_type": "code",
   "execution_count": 71,
   "metadata": {},
   "outputs": [],
   "source": [
    "def collect_text(soup):\n",
    "    text = f'url: {url}\\n\\n'\n",
    "    para_text = soup.find_all('p')\n",
    "    print(f\"paragraphs text = \\n {para_text}\")\n",
    "    for para in para_text:\n",
    "        text += f\"{para.text}\\n\\n\"\n",
    "    return text"
   ]
  },
  {
   "cell_type": "code",
   "execution_count": 72,
   "metadata": {},
   "outputs": [],
   "source": [
    "url = \"https://medium.com/@subashgandyer/papa-what-is-a-neural-network-c5e5cc427c7\""
   ]
  },
  {
   "cell_type": "code",
   "execution_count": 73,
   "metadata": {},
   "outputs": [
    {
     "name": "stdout",
     "output_type": "stream",
     "text": [
      "paragraphs text = \n",
      " [<p class=\"bf b dx dy dz ea eb ec ed ee ef eg du\"><span><button class=\"bf b dx dy eh dz ea ei eb ec ej ek ee el em eg eo ep eq er es et eu ev ew ex ey ez fa fb fc fd bm fe ff\" data-testid=\"headerSignUpButton\">Sign up</button></span></p>, <p class=\"bf b dx dy dz ea eb ec ed ee ef eg du\"><span><a class=\"af ag ah ai aj ak al am an ao ap aq ar as at\" data-testid=\"headerSignInButton\" href=\"/m/signin?operation=login&amp;redirect=https%3A%2F%2Fmedium.com%2F%40subashgandyer%2Fpapa-what-is-a-neural-network-c5e5cc427c7&amp;source=post_page---top_nav_layout_nav-----------------------global_nav-----------\" rel=\"noopener follow\">Sign in</a></span></p>, <p class=\"bf b dx dy dz ea eb ec ed ee ef eg du\"><span><button class=\"bf b dx dy eh dz ea ei eb ec ej ek ee el em eg eo ep eq er es et eu ev ew ex ey ez fa fb fc fd bm fe ff\" data-testid=\"headerSignUpButton\">Sign up</button></span></p>, <p class=\"bf b dx dy dz ea eb ec ed ee ef eg du\"><span><a class=\"af ag ah ai aj ak al am an ao ap aq ar as at\" data-testid=\"headerSignInButton\" href=\"/m/signin?operation=login&amp;redirect=https%3A%2F%2Fmedium.com%2F%40subashgandyer%2Fpapa-what-is-a-neural-network-c5e5cc427c7&amp;source=post_page---top_nav_layout_nav-----------------------global_nav-----------\" rel=\"noopener follow\">Sign in</a></span></p>, <p class=\"bf b ij ik bk\"><a class=\"af ag ah ai aj ak al am an ao ap aq ar il\" data-testid=\"authorName\" href=\"/@subashgandyer?source=post_page---byline--c5e5cc427c7--------------------------------\" rel=\"noopener follow\">Subash Gandyer</a></p>, <p class=\"bf b ij ik du\"><span><a class=\"io ip ah ai aj ak al am an ao ap aq ar ex iq ir\" href=\"/m/signin?actionUrl=https%3A%2F%2Fmedium.com%2F_%2Fsubscribe%2Fuser%2F28366f5ebce1&amp;operation=register&amp;redirect=https%3A%2F%2Fmedium.com%2F%40subashgandyer%2Fpapa-what-is-a-neural-network-c5e5cc427c7&amp;user=Subash+Gandyer&amp;userId=28366f5ebce1&amp;source=post_page-28366f5ebce1--byline--c5e5cc427c7---------------------post_header-----------\" rel=\"noopener follow\">Follow</a></span></p>, <p class=\"bf b dv z du\"><span class=\"kz\">--</span></p>, <p class=\"bf b dv z du\"><span class=\"pw-responses-count la lb\">1</span></p>, <p class=\"bf b bg z du\">Listen</p>, <p class=\"bf b bg z du\">Share</p>, <p class=\"pw-post-body-paragraph mh mi gu mj b mk ml mm mn mo mp mq mr ms mt mu mv mw mx my mz na nb nc nd ne gn bk\" id=\"7022\">It was a cozy Sunday afternoon in the month of February 2018. I just finished my huge customary Sunday lunch spread with family and resting along. Everyone in the family was taking a quick nap for a pre-planned evening outing. Well not everyone, actually.</p>, <p class=\"pw-post-body-paragraph mh mi gu mj b mk ml mm mn mo mp mq mr ms mt mu mv mw mx my mz na nb nc nd ne gn bk\" id=\"d273\">My 4-year-old angel came running to me, asked me to play with her for a while. As I was lazy and not in a position to move after the big spread, I evaded the chance to play with her by telling her “Papa’s got some work baby. Got to code some stuff.” I thought that would be the end of the conversation. No! It wasn’t. As my daughter was very inquisitive, she asked me “Papa, what stuff?” I said, “I need to code something for my work.” She didn’t leave. She again asked, “What is code something?” I wanted to end this conversation, as I was half past asleep. “Just some stuff baby. You wouldn’t understand. Way beyond your age.” Tanishi never takes NO for an answer. “Papa, tell me what stuff means and something means.” Cannot help evade a cute curious face, I said, “I am working on Neural Network.” Before I finish the statement, “Papa, What is a Meural Metark?” I gave up my stubbornness of avoiding her. With a smile, I said slowly, “Its Neu — ral Net — work”</p>, <p class=\"pw-post-body-paragraph mh mi gu mj b mk ml mm mn mo mp mq mr ms mt mu mv mw mx my mz na nb nc nd ne gn bk\" id=\"cdc5\">She asked, “Papa, What is Meu-ral Met-ark?”</p>, <p class=\"pw-post-body-paragraph mh mi gu mj b mk ml mm mn mo mp mq mr ms mt mu mv mw mx my mz na nb nc nd ne gn bk\" id=\"79e6\">At the back of my head, thoughts of me taking days to comprehend what a NN (short for Neural Network) is, how it would work, where it is used, how it is simulating our human brain’s inner workings were going through. It took me days and weeks to understand fully and how can I make a 4-year-old understand what a Neural Network is. I never thought about teaching a complex concept to a kid before. It was way beyond their age. It was not a mere color or a shape or a number to teach. This was going to be interesting and challenging. I saw an opportunity here as a teacher (teaching professional college adults) to simplify the complex problem to a simpler understandable concept for a kid who doesn’t know anything apart from ABC, 1 to 20, Colors and Shapes. WOW! This was mind-boggling. I gave a couple of lectures to make my adult students understand what a Neural Network is when I taught them a mini-Machine Learning course. I rolled up my sleeves. Took up the challenge. Sat down beside my kid with pencil, drawing sheet and my laptop.</p>, <p class=\"pw-post-body-paragraph mh mi gu mj b mk ml mm mn mo mp mq mr ms mt mu mv mw mx my mz na nb nc nd ne gn bk\" id=\"f38f\">Thinking of ways of what would be the best way to start teaching her. One simple methodology: I thought of starting with an easy-to-follow definition.</p>, <p class=\"pw-post-body-paragraph mh mi gu mj b mk ml mm mn mo mp mq mr ms mt mu mv mw mx my mz na nb nc nd ne gn bk\" id=\"49ee\"><em class=\"nz\">“Neural Network is a collection (a network) of neurons whose job is to learn a new thing or a new place or a new process or a new concept.”</em></p>, <p class=\"pw-post-body-paragraph mh mi gu mj b mk ml mm mn mo mp mq mr ms mt mu mv mw mx my mz na nb nc nd ne gn bk\" id=\"829e\">It would be stupid on my part to start with a definition of Neural Network like how we used to teach adults in college. No, it’s not right for a kid. Then, I thought of a way to start with her favorite hobby of drawing and coloring objects. Gave her a paper, ask her to draw a circle. She did. She didn’t stop there. She drew a face inside the circle. She did with great pride and smile. I drew a circle below. Asked her to draw a dog out of it. She drew a face on the circle, and then she drew one big ellipse next to head. Beneath the ellipse, she drew four legs downwards. She said, “That’s the dog daddy.” I was super impressed as her daddy. I said, “Good Job!” and asked her, “Where’s the tail, baby?” She smiled and drew a tail. That’s it. There’s a dog.</p>, <p class=\"pw-post-body-paragraph mh mi gu mj b mk ml mm mn mo mp mq mr ms mt mu mv mw mx my mz na nb nc nd ne gn bk\" id=\"30d4\">I knew she never learnt to draw a lion. I took this opportunity to make her learn a new thing. After all, neural network inside our brain helps us to learn new things in our life. I said, “Baby, we would learn how to draw a lion now.” She’s bustling with energy said “Yayyyy! Lion!” and made “Grrrrrrrrr!!!” I tested her by asking her to try drawing a lion. She stumbled. She never came across a lion before. I told her, there would be a circle face, ellipse body, four legs, a tail and so on. What I was actually doing here was teaching her neural network (brain) the features of a lion like exactly how Machine Learning Engineers would train the machine to learn new features. After telling her the features of a lion, asked her “Can you draw these for me?” She happily drew almost a similar figure to that of a dog she drew before.</p>, <p class=\"pw-post-body-paragraph mh mi gu mj b mk ml mm mn mo mp mq mr ms mt mu mv mw mx my mz na nb nc nd ne gn bk\" id=\"936b\">I said, “Very good”. But they look similar right? Now, we need to know the difference between a dog and a lion. What’s the difference? Lion is big. Dog is small. One big difference is the mane (the beard) just like your papa has. A big beard is the main difference between a lion and a dog. Now I took the pencil and drew a beard in the face. I told her this is a lion. A dog will have features like face, body, legs, and tail. A lion will have features like face, body, legs, tail and a beard. She was little confused, rightly so.</p>, <p class=\"pw-post-body-paragraph mh mi gu mj b mk ml mm mn mo mp mq mr ms mt mu mv mw mx my mz na nb nc nd ne gn bk\" id=\"fc45\">Tried a different approach to teach her with visuals. I spend some time in collecting pictures of dogs and lions from Google images. Printed it and showed her a set of dogs and then a set of lions. I asked her what these pictures look like to you? Was it a dog or a lion? She kept mixing the answers first. After rewarding her for correct classifications with nice adjectives and correcting her for wrong classifications, her detection accuracy improved a lot after sometime. She slowly got used to it. She got trained. Her neural network got aligned with classifying Dogs and Lions after some training. If you’ve noticed, this is how ML people make their machines learn through Reinforcement Learning. This was how I trained my daughter to classify dogs and lions. She was so happy that she learnt a new thing by doing her favorite pastime of drawing and coloring.</p>, <p class=\"pw-post-body-paragraph mh mi gu mj b mk ml mm mn mo mp mq mr ms mt mu mv mw mx my mz na nb nc nd ne gn bk\" id=\"c543\">She was happy and there was the neural network functioning concept that still remained to be taught to her. I asked her “What happened now baby? Did you learn something new today? Do you know what is the difference between a lion and a dog?” She said, “Yes.” I said, “This is called Learning. You just learnt a new thing today. How you learnt it is because of Neural Network inside your brain.” Now, a neural network is a collection of neurons that keeps switching on and off based on things you see, feel, hear and think just like switching on light bulb at our home.</p>, <p class=\"pw-post-body-paragraph mh mi gu mj b mk ml mm mn mo mp mq mr ms mt mu mv mw mx my mz na nb nc nd ne gn bk\" id=\"5ecd\">“Your brain is here inside our head. Your brain has billions of neurons inside. Every neuron has a purpose of seeing a feature. You can think of a feature as a simpler form of an object. For example, a face object can be seen by neurons as a circle (face) with two smaller circles (two eyes), a line (nose) and a curved line (mouth). These are features in a face object. Neurons will look for these patterns (circle, line, curved line, smaller circles and so on). Every neuron is waiting for your eyes to see something new, for your nose to smell something new, for your ears to hear something new, for your tongue to taste something new. When something new is heard, or smelled, or seen, or tasted, the neurons will group together to send signals and forms connections with already seen, heard, tasted or smelled neurons. This is what is called as ‘Forming Logical Connections’ with the past. Once it is established, your brain will say, ‘Hey, this is dog. This is lion and so on.’ Every neuron would’ve seen, or heard, or smelled, or tasted certain features. When you see a new object, your brain will ask the neurons, ‘Hey, anybody experienced this before?’ The neurons will say, ‘Yes, I have seen this.’ Certain other neurons will say, ‘No, I have not seen this.’ The neurons that have seen this before, will group together and form logical connections from the past and gives us an object from our memory. For example, when I showed you a lion picture, your brain asked the neurons who had seen it before. The neurons grouped together with features like face, body, legs, tail and a beard forms a lion. Your brain looks for these features. Once all the features are there, the neurons will send a signal that the picture you are looking at is a lion and not a dog. This is what happens inside your brain, darling. This is also how all our learning happens.”</p>, <p class=\"pw-post-body-paragraph mh mi gu mj b mk ml mm mn mo mp mq mr ms mt mu mv mw mx my mz na nb nc nd ne gn bk\" id=\"998b\">“In short, brain consists of billions of neurons. Every neuron will tune itself to pick up certain features like legs, tail, face, beard, and so on. When a picture is shown to you, your neurons will group together and tries to signal what that object is by forming logical connections between the past and the present. Ultimately, the neurons in your brain tell that it is a lion and not a dog. This is how your brain identifies things. This complex working of the neurons inside the brain works super fast in the order of milliseconds (very fast). In a few milliseconds, your brain identifies whether the picture is a lion or a dog. This is what a neural network is and this is how it works in identifying things. The same principle is applied for a song that you hear, a cartoon that you watch, a rhyme that you sing, an animal that you draw, a food that you taste, a flower that you smell and so on. Neurons work together in finding patterns and once a pattern is identified, it signals the brain that it is a thing, place, song, taste, smell and so on.”</p>, <p class=\"pw-post-body-paragraph mh mi gu mj b mk ml mm mn mo mp mq mr ms mt mu mv mw mx my mz na nb nc nd ne gn bk\" id=\"97b5\">It was the time to test her understanding. I asked her simple questions to reiterate what she learnt just now. “Do you understand now, baby? Shall I ask you some questions? If you answer it correctly, I will take you out to the ice-cream parlor and you can have how much ever you want. “ The conversation went like this.</p>, <p class=\"pw-post-body-paragraph mh mi gu mj b mk ml mm mn mo mp mq mr ms mt mu mv mw mx my mz na nb nc nd ne gn bk\" id=\"d25d\">Me: Where is your brain?</p>, <p class=\"pw-post-body-paragraph mh mi gu mj b mk ml mm mn mo mp mq mr ms mt mu mv mw mx my mz na nb nc nd ne gn bk\" id=\"2409\">Tanishi: Its here (showing her head)</p>, <p class=\"pw-post-body-paragraph mh mi gu mj b mk ml mm mn mo mp mq mr ms mt mu mv mw mx my mz na nb nc nd ne gn bk\" id=\"f15d\">Me: Correct! Where are the neurons located?</p>, <p class=\"pw-post-body-paragraph mh mi gu mj b mk ml mm mn mo mp mq mr ms mt mu mv mw mx my mz na nb nc nd ne gn bk\" id=\"a07d\">Tanishi: Here (showing her head)</p>, <p class=\"pw-post-body-paragraph mh mi gu mj b mk ml mm mn mo mp mq mr ms mt mu mv mw mx my mz na nb nc nd ne gn bk\" id=\"2522\">Me: Good! Who is responsible for identifying things, objects inside our brain?</p>, <p class=\"pw-post-body-paragraph mh mi gu mj b mk ml mm mn mo mp mq mr ms mt mu mv mw mx my mz na nb nc nd ne gn bk\" id=\"4e2c\">Tanishi: Hmmmm. Don’t know.</p>, <p class=\"pw-post-body-paragraph mh mi gu mj b mk ml mm mn mo mp mq mr ms mt mu mv mw mx my mz na nb nc nd ne gn bk\" id=\"43ee\">Me: I will give a clue. It starts with ’N’ and ends with a rhyming sound of ‘ons’</p>, <p class=\"pw-post-body-paragraph mh mi gu mj b mk ml mm mn mo mp mq mr ms mt mu mv mw mx my mz na nb nc nd ne gn bk\" id=\"eac0\">Tanishi: Neurons</p>, <p class=\"pw-post-body-paragraph mh mi gu mj b mk ml mm mn mo mp mq mr ms mt mu mv mw mx my mz na nb nc nd ne gn bk\" id=\"fe95\">Me: Good job, baby. Every neuron looks for something. What is a neuron looking for? I will give you a hint. Is it features?</p>, <p class=\"pw-post-body-paragraph mh mi gu mj b mk ml mm mn mo mp mq mr ms mt mu mv mw mx my mz na nb nc nd ne gn bk\" id=\"009b\">Tanishi: Yes.</p>, <p class=\"pw-post-body-paragraph mh mi gu mj b mk ml mm mn mo mp mq mr ms mt mu mv mw mx my mz na nb nc nd ne gn bk\" id=\"eb01\">Me: Tell me what neurons are looking for?</p>, <p class=\"pw-post-body-paragraph mh mi gu mj b mk ml mm mn mo mp mq mr ms mt mu mv mw mx my mz na nb nc nd ne gn bk\" id=\"b74a\">Tanishi: Features.</p>, <p class=\"pw-post-body-paragraph mh mi gu mj b mk ml mm mn mo mp mq mr ms mt mu mv mw mx my mz na nb nc nd ne gn bk\" id=\"f474\">Me: Great! When I ask you to draw a dog, what are the features there?</p>, <p class=\"pw-post-body-paragraph mh mi gu mj b mk ml mm mn mo mp mq mr ms mt mu mv mw mx my mz na nb nc nd ne gn bk\" id=\"8d2e\">Tanishi: Help me. I don’t know.</p>, <p class=\"pw-post-body-paragraph mh mi gu mj b mk ml mm mn mo mp mq mr ms mt mu mv mw mx my mz na nb nc nd ne gn bk\" id=\"243f\">Me: Okay, when I ask you to draw a dog, what is the first thing you draw?</p>, <p class=\"pw-post-body-paragraph mh mi gu mj b mk ml mm mn mo mp mq mr ms mt mu mv mw mx my mz na nb nc nd ne gn bk\" id=\"f198\">Tanishi: Circle.</p>, <p class=\"pw-post-body-paragraph mh mi gu mj b mk ml mm mn mo mp mq mr ms mt mu mv mw mx my mz na nb nc nd ne gn bk\" id=\"ce3a\">Me: Good. Circle represents what?</p>, <p class=\"pw-post-body-paragraph mh mi gu mj b mk ml mm mn mo mp mq mr ms mt mu mv mw mx my mz na nb nc nd ne gn bk\" id=\"ef37\">Tanishi: Face</p>, <p class=\"pw-post-body-paragraph mh mi gu mj b mk ml mm mn mo mp mq mr ms mt mu mv mw mx my mz na nb nc nd ne gn bk\" id=\"5689\">Me: Yeah, baby. Then what you draw next?</p>, <p class=\"pw-post-body-paragraph mh mi gu mj b mk ml mm mn mo mp mq mr ms mt mu mv mw mx my mz na nb nc nd ne gn bk\" id=\"059c\">Tanishi: I draw eyes, nose, and mouth.</p>, <p class=\"pw-post-body-paragraph mh mi gu mj b mk ml mm mn mo mp mq mr ms mt mu mv mw mx my mz na nb nc nd ne gn bk\" id=\"1b01\">Me: Good. That’s right. So, the face has got eyes, nose and mouth as features. Now tell me, what are the features in a face?</p>, <p class=\"pw-post-body-paragraph mh mi gu mj b mk ml mm mn mo mp mq mr ms mt mu mv mw mx my mz na nb nc nd ne gn bk\" id=\"1348\">Tanishi: Eyes, nose, mouth</p>, <p class=\"pw-post-body-paragraph mh mi gu mj b mk ml mm mn mo mp mq mr ms mt mu mv mw mx my mz na nb nc nd ne gn bk\" id=\"a0e3\">Me: Brilliant! After the face, what do you draw for completing a dog?</p>, <p class=\"pw-post-body-paragraph mh mi gu mj b mk ml mm mn mo mp mq mr ms mt mu mv mw mx my mz na nb nc nd ne gn bk\" id=\"4ee2\">Tanishi: Body</p>, <p class=\"pw-post-body-paragraph mh mi gu mj b mk ml mm mn mo mp mq mr ms mt mu mv mw mx my mz na nb nc nd ne gn bk\" id=\"7fd8\">Me: What shape is the body?</p>, <p class=\"pw-post-body-paragraph mh mi gu mj b mk ml mm mn mo mp mq mr ms mt mu mv mw mx my mz na nb nc nd ne gn bk\" id=\"1b0d\">Tanishi: Ellipse</p>, <p class=\"pw-post-body-paragraph mh mi gu mj b mk ml mm mn mo mp mq mr ms mt mu mv mw mx my mz na nb nc nd ne gn bk\" id=\"8a41\">Me: Nice. This is also a feature that our neurons are looking for. What’s next?</p>, <p class=\"pw-post-body-paragraph mh mi gu mj b mk ml mm mn mo mp mq mr ms mt mu mv mw mx my mz na nb nc nd ne gn bk\" id=\"ed6e\">Tanishi: Legs</p>, <p class=\"pw-post-body-paragraph mh mi gu mj b mk ml mm mn mo mp mq mr ms mt mu mv mw mx my mz na nb nc nd ne gn bk\" id=\"e1c4\">Me: How many legs does a dog have?</p>, <p class=\"pw-post-body-paragraph mh mi gu mj b mk ml mm mn mo mp mq mr ms mt mu mv mw mx my mz na nb nc nd ne gn bk\" id=\"15f4\">Tanishi: 1,2,3,4. 4 legs</p>, <p class=\"pw-post-body-paragraph mh mi gu mj b mk ml mm mn mo mp mq mr ms mt mu mv mw mx my mz na nb nc nd ne gn bk\" id=\"d09c\">Me: Good. Anything else to draw in a dog?</p>, <p class=\"pw-post-body-paragraph mh mi gu mj b mk ml mm mn mo mp mq mr ms mt mu mv mw mx my mz na nb nc nd ne gn bk\" id=\"b8dd\">Tanishi: That’s it.</p>, <p class=\"pw-post-body-paragraph mh mi gu mj b mk ml mm mn mo mp mq mr ms mt mu mv mw mx my mz na nb nc nd ne gn bk\" id=\"16bf\">Me: Hey how about a tail? Dogs have tail?</p>, <p class=\"pw-post-body-paragraph mh mi gu mj b mk ml mm mn mo mp mq mr ms mt mu mv mw mx my mz na nb nc nd ne gn bk\" id=\"fc5e\">Tanishi: Yes.</p>, <p class=\"pw-post-body-paragraph mh mi gu mj b mk ml mm mn mo mp mq mr ms mt mu mv mw mx my mz na nb nc nd ne gn bk\" id=\"51d2\">Me: So, for a dog, the features are face, body, legs and tail. Do you understand what are the features now for a dog?</p>, <p class=\"pw-post-body-paragraph mh mi gu mj b mk ml mm mn mo mp mq mr ms mt mu mv mw mx my mz na nb nc nd ne gn bk\" id=\"0400\">Tanishi: Yes!!!</p>, <p class=\"pw-post-body-paragraph mh mi gu mj b mk ml mm mn mo mp mq mr ms mt mu mv mw mx my mz na nb nc nd ne gn bk\" id=\"cd53\">Me: What are they?</p>, <p class=\"pw-post-body-paragraph mh mi gu mj b mk ml mm mn mo mp mq mr ms mt mu mv mw mx my mz na nb nc nd ne gn bk\" id=\"40c9\">Tanishi: Face, body, legs and tail</p>, <p class=\"pw-post-body-paragraph mh mi gu mj b mk ml mm mn mo mp mq mr ms mt mu mv mw mx my mz na nb nc nd ne gn bk\" id=\"4d40\">Me: Amazing baby. If I ask you to draw a lion, what are the features? Same features as a dog but with an extra feature. Can you tell me what that extra feature is for a lion? It starts with ‘B’</p>, <p class=\"pw-post-body-paragraph mh mi gu mj b mk ml mm mn mo mp mq mr ms mt mu mv mw mx my mz na nb nc nd ne gn bk\" id=\"3685\">Tanishi: Beard. (Holding my beard, she smiled and said) Beard like you</p>, <p class=\"pw-post-body-paragraph mh mi gu mj b mk ml mm mn mo mp mq mr ms mt mu mv mw mx my mz na nb nc nd ne gn bk\" id=\"3199\">Me: Yes, darling. Good job. So, neurons are inside our brain waiting for features. To identify an object, it looks for features. Once the features are seen and a logical connection is established, neurons signals your brain that it is a lion. Who sends signal to the brain?</p>, <p class=\"pw-post-body-paragraph mh mi gu mj b mk ml mm mn mo mp mq mr ms mt mu mv mw mx my mz na nb nc nd ne gn bk\" id=\"e5a5\">Tanishi: Neurons</p>, <p class=\"pw-post-body-paragraph mh mi gu mj b mk ml mm mn mo mp mq mr ms mt mu mv mw mx my mz na nb nc nd ne gn bk\" id=\"e8b1\">Me: Now, these neurons are working together as friends. They are like your friends Daisy, Rose, Isabelle and Hayami. All neurons work together like your friends and identify lion and dog. So, this group of neuron friends is called as Neural Network. Tell me, what is a neural network?</p>, <p class=\"pw-post-body-paragraph mh mi gu mj b mk ml mm mn mo mp mq mr ms mt mu mv mw mx my mz na nb nc nd ne gn bk\" id=\"749a\">Tanishi: Neuron friends</p>, <p class=\"pw-post-body-paragraph mh mi gu mj b mk ml mm mn mo mp mq mr ms mt mu mv mw mx my mz na nb nc nd ne gn bk\" id=\"66c5\">Me: Good. Neural network is a group of neuron friends identifying lions and dogs. Do you understand Neural Network now?</p>, <p class=\"pw-post-body-paragraph mh mi gu mj b mk ml mm mn mo mp mq mr ms mt mu mv mw mx my mz na nb nc nd ne gn bk\" id=\"619e\">Tanishi: Yes papa.</p>, <p class=\"pw-post-body-paragraph mh mi gu mj b mk ml mm mn mo mp mq mr ms mt mu mv mw mx my mz na nb nc nd ne gn bk\" id=\"9ddc\">Me: Brilliant job baby. Come, let’s go, and get some ice creams for my lovely angel.</p>, <p class=\"pw-post-body-paragraph mh mi gu mj b mk ml mm mn mo mp mq mr ms mt mu mv mw mx my mz na nb nc nd ne gn bk\" id=\"915a\">Phew! That was a challenging and a learning experience for me as well. That was how I ended my Sunday afternoon with my brilliant daughter who can teach other kids what a Meural Metark is. And I hope she will not come to me running asking “Papa, what is Meural Metark?” again. And I have a strong feeling; she would ask me another stunning question sooner or later. Fingers crossed and I am prepared to take up the challenges coming my way in the future.</p>, <p class=\"bf b dv z du\"><span class=\"kz\">--</span></p>, <p class=\"bf b dv z du\"><span class=\"kz\">--</span></p>, <p class=\"bf b bg z du\"><span class=\"pw-responses-count la lb\">1</span></p>, <p class=\"bf b bg z bk\"><span class=\"gn\">CS Teacher to ...</span></p>, <p class=\"bf b dv z du\">Help</p>, <p class=\"bf b dv z du\">Status</p>, <p class=\"bf b dv z du\">About</p>, <p class=\"bf b dv z du\">Careers</p>, <p class=\"bf b dv z du\">Press</p>, <p class=\"bf b dv z du\">Blog</p>, <p class=\"bf b dv z du\">Privacy</p>, <p class=\"bf b dv z du\">Terms</p>, <p class=\"bf b dv z du\">Text to speech</p>, <p class=\"bf b dv z du\">Teams</p>]\n"
     ]
    },
    {
     "data": {
      "text/plain": [
       "'url: https://medium.com/@subashgandyer/papa-what-is-a-neural-network-c5e5cc427c7\\n\\nSign up\\n\\nSign in\\n\\nSign up\\n\\nSign in\\n\\nSubash Gandyer\\n\\nFollow\\n\\n--\\n\\n1\\n\\nListen\\n\\nShare\\n\\nIt was a cozy Sunday afternoon in the month of February 2018. I just finished my huge customary Sunday lunch spread with family and resting along. Everyone in the family was taking a quick nap for a pre-planned evening outing. Well not everyone, actually.\\n\\nMy 4-year-old angel came running to me, asked me to play with her for a while. As I was lazy and not in a position to move after the big spread, I evaded the chance to play with her by telling her “Papa’s got some work baby. Got to code some stuff.” I thought that would be the end of the conversation. No! It wasn’t. As my daughter was very inquisitive, she asked me “Papa, what stuff?” I said, “I need to code something for my work.” She didn’t leave. She again asked, “What is code something?” I wanted to end this conversation, as I was half past asleep. “Just some stuff baby. You wouldn’t understand. Way beyond your age.” Tanishi never takes NO for an answer. “Papa, tell me what stuff means and something means.” Cannot help evade a cute curious face, I said, “I am working on Neural Network.” Before I finish the statement, “Papa, What is a Meural Metark?” I gave up my stubbornness of avoiding her. With a smile, I said slowly, “Its Neu — ral Net — work”\\n\\nShe asked, “Papa, What is Meu-ral Met-ark?”\\n\\nAt the back of my head, thoughts of me taking days to comprehend what a NN (short for Neural Network) is, how it would work, where it is used, how it is simulating our human brain’s inner workings were going through. It took me days and weeks to understand fully and how can I make a 4-year-old understand what a Neural Network is. I never thought about teaching a complex concept to a kid before. It was way beyond their age. It was not a mere color or a shape or a number to teach. This was going to be interesting and challenging. I saw an opportunity here as a teacher (teaching professional college adults) to simplify the complex problem to a simpler understandable concept for a kid who doesn’t know anything apart from ABC, 1 to 20, Colors and Shapes. WOW! This was mind-boggling. I gave a couple of lectures to make my adult students understand what a Neural Network is when I taught them a mini-Machine Learning course. I rolled up my sleeves. Took up the challenge. Sat down beside my kid with pencil, drawing sheet and my laptop.\\n\\nThinking of ways of what would be the best way to start teaching her. One simple methodology: I thought of starting with an easy-to-follow definition.\\n\\n“Neural Network is a collection (a network) of neurons whose job is to learn a new thing or a new place or a new process or a new concept.”\\n\\nIt would be stupid on my part to start with a definition of Neural Network like how we used to teach adults in college. No, it’s not right for a kid. Then, I thought of a way to start with her favorite hobby of drawing and coloring objects. Gave her a paper, ask her to draw a circle. She did. She didn’t stop there. She drew a face inside the circle. She did with great pride and smile. I drew a circle below. Asked her to draw a dog out of it. She drew a face on the circle, and then she drew one big ellipse next to head. Beneath the ellipse, she drew four legs downwards. She said, “That’s the dog daddy.” I was super impressed as her daddy. I said, “Good Job!” and asked her, “Where’s the tail, baby?” She smiled and drew a tail. That’s it. There’s a dog.\\n\\nI knew she never learnt to draw a lion. I took this opportunity to make her learn a new thing. After all, neural network inside our brain helps us to learn new things in our life. I said, “Baby, we would learn how to draw a lion now.” She’s bustling with energy said “Yayyyy! Lion!” and made “Grrrrrrrrr!!!” I tested her by asking her to try drawing a lion. She stumbled. She never came across a lion before. I told her, there would be a circle face, ellipse body, four legs, a tail and so on. What I was actually doing here was teaching her neural network (brain) the features of a lion like exactly how Machine Learning Engineers would train the machine to learn new features. After telling her the features of a lion, asked her “Can you draw these for me?” She happily drew almost a similar figure to that of a dog she drew before.\\n\\nI said, “Very good”. But they look similar right? Now, we need to know the difference between a dog and a lion. What’s the difference? Lion is big. Dog is small. One big difference is the mane (the beard) just like your papa has. A big beard is the main difference between a lion and a dog. Now I took the pencil and drew a beard in the face. I told her this is a lion. A dog will have features like face, body, legs, and tail. A lion will have features like face, body, legs, tail and a beard. She was little confused, rightly so.\\n\\nTried a different approach to teach her with visuals. I spend some time in collecting pictures of dogs and lions from Google images. Printed it and showed her a set of dogs and then a set of lions. I asked her what these pictures look like to you? Was it a dog or a lion? She kept mixing the answers first. After rewarding her for correct classifications with nice adjectives and correcting her for wrong classifications, her detection accuracy improved a lot after sometime. She slowly got used to it. She got trained. Her neural network got aligned with classifying Dogs and Lions after some training. If you’ve noticed, this is how ML people make their machines learn through Reinforcement Learning. This was how I trained my daughter to classify dogs and lions. She was so happy that she learnt a new thing by doing her favorite pastime of drawing and coloring.\\n\\nShe was happy and there was the neural network functioning concept that still remained to be taught to her. I asked her “What happened now baby? Did you learn something new today? Do you know what is the difference between a lion and a dog?” She said, “Yes.” I said, “This is called Learning. You just learnt a new thing today. How you learnt it is because of Neural Network inside your brain.” Now, a neural network is a collection of neurons that keeps switching on and off based on things you see, feel, hear and think just like switching on light bulb at our home.\\n\\n“Your brain is here inside our head. Your brain has billions of neurons inside. Every neuron has a purpose of seeing a feature. You can think of a feature as a simpler form of an object. For example, a face object can be seen by neurons as a circle (face) with two smaller circles (two eyes), a line (nose) and a curved line (mouth). These are features in a face object. Neurons will look for these patterns (circle, line, curved line, smaller circles and so on). Every neuron is waiting for your eyes to see something new, for your nose to smell something new, for your ears to hear something new, for your tongue to taste something new. When something new is heard, or smelled, or seen, or tasted, the neurons will group together to send signals and forms connections with already seen, heard, tasted or smelled neurons. This is what is called as ‘Forming Logical Connections’ with the past. Once it is established, your brain will say, ‘Hey, this is dog. This is lion and so on.’ Every neuron would’ve seen, or heard, or smelled, or tasted certain features. When you see a new object, your brain will ask the neurons, ‘Hey, anybody experienced this before?’ The neurons will say, ‘Yes, I have seen this.’ Certain other neurons will say, ‘No, I have not seen this.’ The neurons that have seen this before, will group together and form logical connections from the past and gives us an object from our memory. For example, when I showed you a lion picture, your brain asked the neurons who had seen it before. The neurons grouped together with features like face, body, legs, tail and a beard forms a lion. Your brain looks for these features. Once all the features are there, the neurons will send a signal that the picture you are looking at is a lion and not a dog. This is what happens inside your brain, darling. This is also how all our learning happens.”\\n\\n“In short, brain consists of billions of neurons. Every neuron will tune itself to pick up certain features like legs, tail, face, beard, and so on. When a picture is shown to you, your neurons will group together and tries to signal what that object is by forming logical connections between the past and the present. Ultimately, the neurons in your brain tell that it is a lion and not a dog. This is how your brain identifies things. This complex working of the neurons inside the brain works super fast in the order of milliseconds (very fast). In a few milliseconds, your brain identifies whether the picture is a lion or a dog. This is what a neural network is and this is how it works in identifying things. The same principle is applied for a song that you hear, a cartoon that you watch, a rhyme that you sing, an animal that you draw, a food that you taste, a flower that you smell and so on. Neurons work together in finding patterns and once a pattern is identified, it signals the brain that it is a thing, place, song, taste, smell and so on.”\\n\\nIt was the time to test her understanding. I asked her simple questions to reiterate what she learnt just now. “Do you understand now, baby? Shall I ask you some questions? If you answer it correctly, I will take you out to the ice-cream parlor and you can have how much ever you want. “ The conversation went like this.\\n\\nMe: Where is your brain?\\n\\nTanishi: Its here (showing her head)\\n\\nMe: Correct! Where are the neurons located?\\n\\nTanishi: Here (showing her head)\\n\\nMe: Good! Who is responsible for identifying things, objects inside our brain?\\n\\nTanishi: Hmmmm. Don’t know.\\n\\nMe: I will give a clue. It starts with ’N’ and ends with a rhyming sound of ‘ons’\\n\\nTanishi: Neurons\\n\\nMe: Good job, baby. Every neuron looks for something. What is a neuron looking for? I will give you a hint. Is it features?\\n\\nTanishi: Yes.\\n\\nMe: Tell me what neurons are looking for?\\n\\nTanishi: Features.\\n\\nMe: Great! When I ask you to draw a dog, what are the features there?\\n\\nTanishi: Help me. I don’t know.\\n\\nMe: Okay, when I ask you to draw a dog, what is the first thing you draw?\\n\\nTanishi: Circle.\\n\\nMe: Good. Circle represents what?\\n\\nTanishi: Face\\n\\nMe: Yeah, baby. Then what you draw next?\\n\\nTanishi: I draw eyes, nose, and mouth.\\n\\nMe: Good. That’s right. So, the face has got eyes, nose and mouth as features. Now tell me, what are the features in a face?\\n\\nTanishi: Eyes, nose, mouth\\n\\nMe: Brilliant! After the face, what do you draw for completing a dog?\\n\\nTanishi: Body\\n\\nMe: What shape is the body?\\n\\nTanishi: Ellipse\\n\\nMe: Nice. This is also a feature that our neurons are looking for. What’s next?\\n\\nTanishi: Legs\\n\\nMe: How many legs does a dog have?\\n\\nTanishi: 1,2,3,4. 4 legs\\n\\nMe: Good. Anything else to draw in a dog?\\n\\nTanishi: That’s it.\\n\\nMe: Hey how about a tail? Dogs have tail?\\n\\nTanishi: Yes.\\n\\nMe: So, for a dog, the features are face, body, legs and tail. Do you understand what are the features now for a dog?\\n\\nTanishi: Yes!!!\\n\\nMe: What are they?\\n\\nTanishi: Face, body, legs and tail\\n\\nMe: Amazing baby. If I ask you to draw a lion, what are the features? Same features as a dog but with an extra feature. Can you tell me what that extra feature is for a lion? It starts with ‘B’\\n\\nTanishi: Beard. (Holding my beard, she smiled and said) Beard like you\\n\\nMe: Yes, darling. Good job. So, neurons are inside our brain waiting for features. To identify an object, it looks for features. Once the features are seen and a logical connection is established, neurons signals your brain that it is a lion. Who sends signal to the brain?\\n\\nTanishi: Neurons\\n\\nMe: Now, these neurons are working together as friends. They are like your friends Daisy, Rose, Isabelle and Hayami. All neurons work together like your friends and identify lion and dog. So, this group of neuron friends is called as Neural Network. Tell me, what is a neural network?\\n\\nTanishi: Neuron friends\\n\\nMe: Good. Neural network is a group of neuron friends identifying lions and dogs. Do you understand Neural Network now?\\n\\nTanishi: Yes papa.\\n\\nMe: Brilliant job baby. Come, let’s go, and get some ice creams for my lovely angel.\\n\\nPhew! That was a challenging and a learning experience for me as well. That was how I ended my Sunday afternoon with my brilliant daughter who can teach other kids what a Meural Metark is. And I hope she will not come to me running asking “Papa, what is Meural Metark?” again. And I have a strong feeling; she would ask me another stunning question sooner or later. Fingers crossed and I am prepared to take up the challenges coming my way in the future.\\n\\n--\\n\\n--\\n\\n1\\n\\nCS Teacher to ...\\n\\nHelp\\n\\nStatus\\n\\nAbout\\n\\nCareers\\n\\nPress\\n\\nBlog\\n\\nPrivacy\\n\\nTerms\\n\\nText to speech\\n\\nTeams\\n\\n'"
      ]
     },
     "execution_count": 73,
     "metadata": {},
     "output_type": "execute_result"
    }
   ],
   "source": [
    "text = collect_text(get_page(url))\n",
    "text"
   ]
  },
  {
   "cell_type": "markdown",
   "metadata": {},
   "source": [
    "### Another approach to make it more structured\n"
   ]
  },
  {
   "cell_type": "code",
   "execution_count": 74,
   "metadata": {},
   "outputs": [
    {
     "name": "stdout",
     "output_type": "stream",
     "text": [
      "“Neural Network is a collection (a network) of neurons whose job is to learn a new thing or a new place or a new process or a new concept.” It would be stupid on my part to start with a definition of Neural Network like how we used to teach adults in college.\n",
      "What I was actually doing here was teaching her neural network (brain) the features of a lion like exactly how Machine Learning Engineers would train the machine to learn new features.\n",
      "After telling her the features of a lion, asked her “Can you draw these for me?” She happily drew almost a similar figure to that of a dog she drew before.\n",
      "A lion will have features like face, body, legs, tail and a beard.\n",
      "The neurons grouped together with features like face, body, legs, tail and a beard forms a lion.\n",
      "Once all the features are there, the neurons will send a signal that the picture you are looking at is a lion and not a dog.\n",
      "Tanishi: Yes. Me: So, for a dog, the features are face, body, legs and tail.\n",
      "Neural network is a group of neuron friends identifying lions and dogs.\n"
     ]
    }
   ],
   "source": [
    "def collect_main_text_from_url(url):\n",
    "    # Fetch the webpage content\n",
    "    response = requests.get(url)\n",
    "    soup = BeautifulSoup(response.content, 'html.parser')\n",
    "    \n",
    "    # Find all paragraph tags\n",
    "    paragraphs = soup.find_all('p')\n",
    "    \n",
    "    # Extract text from each paragraph, filtering out unwanted phrases\n",
    "    main_content = []\n",
    "    for paragraph in paragraphs:\n",
    "        text = paragraph.get_text()\n",
    "        \n",
    "        # Filter out known unwanted phrases\n",
    "        if 'Sign in' not in text and 'Sign up' not in text and 'Member-only story' not in text \\\n",
    "           and 'Follow' not in text and 'Towards Data Science' not in text and 'linkedin.com' not in text:\n",
    "            main_content.append(text)\n",
    "    \n",
    "    # Join the main content paragraphs into a single string\n",
    "    main_text = ' '.join(main_content)\n",
    "    \n",
    "    return main_text\n",
    "\n",
    "# Example usage\n",
    "url = \"https://medium.com/@subashgandyer/papa-what-is-a-neural-network-c5e5cc427c7\"\n",
    "cleaned_text = collect_main_text_from_url(url)\n",
    "\n",
    "# Now use cleaned_text for summarization\n",
    "from gensim.summarization import summarize\n",
    "gensim_summary_text = summarize(cleaned_text, word_count=200, ratio=0.1)\n",
    "print(gensim_summary_text)\n"
   ]
  },
  {
   "cell_type": "markdown",
   "metadata": {},
   "source": [
    "### Summarize\n",
    "- **word_count**: maximum amount of words we want in the summary\n",
    "- **ratio**: fraction of sentences in the original text should be returned as output"
   ]
  },
  {
   "cell_type": "code",
   "execution_count": 75,
   "metadata": {},
   "outputs": [
    {
     "name": "stdout",
     "output_type": "stream",
     "text": [
      "What I was actually doing here was teaching her neural network (brain) the features of a lion like exactly how Machine Learning Engineers would train the machine to learn new features.\n",
      "After telling her the features of a lion, asked her “Can you draw these for me?” She happily drew almost a similar figure to that of a dog she drew before.\n",
      "A dog will have features like face, body, legs, and tail.\n",
      "A lion will have features like face, body, legs, tail and a beard.\n",
      "The neurons grouped together with features like face, body, legs, tail and a beard forms a lion.\n",
      "Once all the features are there, the neurons will send a signal that the picture you are looking at is a lion and not a dog.\n",
      "Every neuron will tune itself to pick up certain features like legs, tail, face, beard, and so on.\n",
      "Ultimately, the neurons in your brain tell that it is a lion and not a dog.\n",
      "When I ask you to draw a dog, what are the features there?\n",
      "All neurons work together like your friends and identify lion and dog.\n",
      "Neural network is a group of neuron friends identifying lions and dogs.\n"
     ]
    }
   ],
   "source": [
    "# Clean the text by removing URLs and any unwanted phrases\n",
    "cleaned_text = re.sub(r'http\\S+|Sign in|Follow|Member-only story|Towards Data Science|Help|Status|Careers|Press|Blog|Privacy|Terms|Text to speech|Teams', '', text)\n",
    "\n",
    "# Summarize the cleaned text\n",
    "gensim_summary_text = summarize(cleaned_text, word_count=200, ratio=0.1)\n",
    "print(gensim_summary_text)"
   ]
  },
  {
   "cell_type": "markdown",
   "metadata": {},
   "source": [
    "## 3. Summa"
   ]
  },
  {
   "cell_type": "markdown",
   "metadata": {},
   "source": [
    "## Task: Take a piece of text from wiki page and summarize them using Gensim\n",
    "### Steps\n",
    "- Install the necessary libraries\n",
    "- Import the libraries\n",
    "- Scrape the text from a pre-defined webpage\n",
    "- Summarize"
   ]
  },
  {
   "cell_type": "markdown",
   "metadata": {},
   "source": [
    "### Install the library"
   ]
  },
  {
   "cell_type": "code",
   "execution_count": 59,
   "metadata": {},
   "outputs": [
    {
     "name": "stdout",
     "output_type": "stream",
     "text": [
      "Collecting summa\n",
      "  Downloading summa-1.2.0.tar.gz (54 kB)\n",
      "  Installing build dependencies: started\n",
      "  Installing build dependencies: finished with status 'done'\n",
      "  Getting requirements to build wheel: started\n",
      "  Getting requirements to build wheel: finished with status 'done'\n",
      "  Preparing metadata (pyproject.toml): started\n",
      "  Preparing metadata (pyproject.toml): finished with status 'done'\n",
      "Requirement already satisfied: scipy>=0.19 in c:\\users\\user\\appdata\\local\\packages\\pythonsoftwarefoundation.python.3.11_qbz5n2kfra8p0\\localcache\\local-packages\\python311\\site-packages (from summa) (1.13.1)\n",
      "Requirement already satisfied: numpy<2.3,>=1.22.4 in c:\\users\\user\\appdata\\local\\packages\\pythonsoftwarefoundation.python.3.11_qbz5n2kfra8p0\\localcache\\local-packages\\python311\\site-packages (from scipy>=0.19->summa) (1.26.2)\n",
      "Building wheels for collected packages: summa\n",
      "  Building wheel for summa (pyproject.toml): started\n",
      "  Building wheel for summa (pyproject.toml): finished with status 'done'\n",
      "  Created wheel for summa: filename=summa-1.2.0-py3-none-any.whl size=54410 sha256=126888a8f9b27f96a57f90821a3c94291e3c9c83368d1b43a23cf7c26e7f19b7\n",
      "  Stored in directory: c:\\users\\user\\appdata\\local\\pip\\cache\\wheels\\10\\2d\\7a\\abce87c4ea233f8dcca0d99b740ac0257eced1f99a124a0e1f\n",
      "Successfully built summa\n",
      "Installing collected packages: summa\n",
      "Successfully installed summa-1.2.0\n",
      "Note: you may need to restart the kernel to use updated packages.\n"
     ]
    }
   ],
   "source": [
    "pip install summa"
   ]
  },
  {
   "cell_type": "markdown",
   "metadata": {},
   "source": [
    "### Import the library"
   ]
  },
  {
   "cell_type": "code",
   "execution_count": 77,
   "metadata": {},
   "outputs": [],
   "source": [
    "from summa import summarizer\n",
    "from summa import keywords"
   ]
  },
  {
   "cell_type": "markdown",
   "metadata": {},
   "source": [
    "### Scrape the text\n",
    "- Use beautifulSoup to extract text (from Task1 of ML-1)"
   ]
  },
  {
   "cell_type": "markdown",
   "metadata": {},
   "source": [
    "### Summarize"
   ]
  },
  {
   "cell_type": "code",
   "execution_count": 78,
   "metadata": {},
   "outputs": [
    {
     "data": {
      "text/plain": [
       "'After all, neural network inside our brain helps us to learn new things in our life.\\nWhat I was actually doing here was teaching her neural network (brain) the features of a lion like exactly how Machine Learning Engineers would train the machine to learn new features.\\nAfter telling her the features of a lion, asked her “Can you draw these for me?” She happily drew almost a similar figure to that of a dog she drew before.\\nA dog will have features like face, body, legs, and tail.\\nA lion will have features like face, body, legs, tail and a beard.\\nHer neural network got aligned with classifying Dogs and Lions after some training.\\nDo you know what is the difference between a lion and a dog?” She said, “Yes.” I said, “This is called Learning.\\nHow you learnt it is because of Neural Network inside your brain.” Now, a neural network is a collection of neurons that keeps switching on and off based on things you see, feel, hear and think just like switching on light bulb at our home.\\nFor example, when I showed you a lion picture, your brain asked the neurons who had seen it before.\\nThe neurons grouped together with features like face, body, legs, tail and a beard forms a lion.\\nOnce all the features are there, the neurons will send a signal that the picture you are looking at is a lion and not a dog.\\nEvery neuron will tune itself to pick up certain features like legs, tail, face, beard, and so on.\\nUltimately, the neurons in your brain tell that it is a lion and not a dog.\\nIn a few milliseconds, your brain identifies whether the picture is a lion or a dog.\\nTanishi: Neurons\\nWhen I ask you to draw a dog, what are the features there?\\nMe: So, for a dog, the features are face, body, legs and tail.\\nIf I ask you to draw a lion, what are the features?\\nSo, neurons are inside our brain waiting for features.\\nOnce the features are seen and a logical connection is established, neurons signals your brain that it is a lion.\\nTanishi: Neurons\\nAll neurons work together like your friends and identify lion and dog.\\nNeural network is a group of neuron friends identifying lions and dogs.'"
      ]
     },
     "execution_count": 78,
     "metadata": {},
     "output_type": "execute_result"
    }
   ],
   "source": [
    "summa_summary_text = summarizer.summarize(text, ratio=0.1)\n",
    "summa_summary_text"
   ]
  },
  {
   "cell_type": "markdown",
   "metadata": {},
   "source": [
    "## ASSIGNMENT: Take the same medium article (the one I wrote) we used for Task 1 of ML-1 and extract the text and summarize them using all the above methods and provide the best summary with a note saying why the chosen library is the best\n",
    "url = https://medium.com/@subashgandyer/papa-what-is-a-neural-network-c5e5cc427c7\n",
    "\n",
    "### Submit 2 files\n",
    "- (notebook) .ipynb\n",
    "- (summary) .txt"
   ]
  }
 ],
 "metadata": {
  "kernelspec": {
   "display_name": "Python 3",
   "language": "python",
   "name": "python3"
  },
  "language_info": {
   "codemirror_mode": {
    "name": "ipython",
    "version": 3
   },
   "file_extension": ".py",
   "mimetype": "text/x-python",
   "name": "python",
   "nbconvert_exporter": "python",
   "pygments_lexer": "ipython3",
   "version": "3.11.9"
  }
 },
 "nbformat": 4,
 "nbformat_minor": 4
}
