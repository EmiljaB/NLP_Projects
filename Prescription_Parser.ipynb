{
  "nbformat": 4,
  "nbformat_minor": 0,
  "metadata": {
    "colab": {
      "provenance": [],
      "authorship_tag": "ABX9TyNEentxVWPbqBrmYgdQ6HEJ",
      "include_colab_link": true
    },
    "kernelspec": {
      "name": "python3",
      "display_name": "Python 3"
    },
    "language_info": {
      "name": "python"
    }
  },
  "cells": [
    {
      "cell_type": "markdown",
      "metadata": {
        "id": "view-in-github",
        "colab_type": "text"
      },
      "source": [
        "<a href=\"https://colab.research.google.com/github/EmiljaB/NLP_Projects/blob/Prescription_Parser/Prescription_Parser.ipynb\" target=\"_parent\"><img src=\"https://colab.research.google.com/assets/colab-badge.svg\" alt=\"Open In Colab\"/></a>"
      ]
    },
    {
      "cell_type": "markdown",
      "source": [
        "# Task 1: Create a Prescription Parser using CRF\n",
        "### Emilja Beneja\n",
        "This task tests your ability to build a Doctor Prescription Parser with the help of CRF model\n",
        "\n",
        "Your job is to build a Prescription Parser that takes a prescription (sentence) as an input and find / label the words in that sentence with one of the already pre-defined labels\n",
        "\n",
        "### Problem: SEQUENCE PREDICTION - Label words in a sentence\n",
        "#### Input : Doctor Prescription in the form of a sentence split into tokens\n",
        "- Ex: Take 2 tablets once a day for 10 days\n",
        "\n",
        "#### Output : FHIR Labels\n",
        "- ('Take', 'Method')\n",
        "- ('2', 'Qty')\n",
        "- ('tablets', 'Form')\n",
        "- ('once', 'Frequency')\n",
        "- ('a', 'Period')\n",
        "- ('day', 'PeriodUnit')\n",
        "- ('for', 'FOR')\n",
        "- ('10', 'Duration')\n",
        "- ('days', 'DurationUnit')"
      ],
      "metadata": {
        "id": "D5NSPthQ_XTG"
      }
    },
    {
      "cell_type": "markdown",
      "source": [
        "### Major Steps\n",
        "- Install necessary library\n",
        "- Import the libraries\n",
        "- Create training data with labels\n",
        "    - Split the sentence into tokens\n",
        "    - Compute POS tags\n",
        "    - Create triples\n",
        "- Extract features\n",
        "- Split the data into training and testing set\n",
        "- Create CRF model\n",
        "- Save the CRF model\n",
        "- Load the CRF model\n",
        "- Predict on test data\n",
        "- Accuracy"
      ],
      "metadata": {
        "id": "IRdBhkpG_j62"
      }
    },
    {
      "cell_type": "markdown",
      "source": [
        "#### Install necesaary library"
      ],
      "metadata": {
        "id": "UZlhyipz_m-_"
      }
    },
    {
      "cell_type": "code",
      "source": [
        "!pip install sklearn_crfsuite"
      ],
      "metadata": {
        "colab": {
          "base_uri": "https://localhost:8080/"
        },
        "id": "nvETKize_8p8",
        "outputId": "78562376-58f1-48df-c74d-4b07b953a8f8"
      },
      "execution_count": null,
      "outputs": [
        {
          "output_type": "stream",
          "name": "stdout",
          "text": [
            "Collecting sklearn_crfsuite\n",
            "  Downloading sklearn_crfsuite-0.5.0-py2.py3-none-any.whl.metadata (4.9 kB)\n",
            "Collecting python-crfsuite>=0.9.7 (from sklearn_crfsuite)\n",
            "  Downloading python_crfsuite-0.9.11-cp310-cp310-manylinux_2_17_x86_64.manylinux2014_x86_64.whl.metadata (4.3 kB)\n",
            "Requirement already satisfied: scikit-learn>=0.24.0 in /usr/local/lib/python3.10/dist-packages (from sklearn_crfsuite) (1.5.2)\n",
            "Requirement already satisfied: tabulate>=0.4.2 in /usr/local/lib/python3.10/dist-packages (from sklearn_crfsuite) (0.9.0)\n",
            "Requirement already satisfied: tqdm>=2.0 in /usr/local/lib/python3.10/dist-packages (from sklearn_crfsuite) (4.66.6)\n",
            "Requirement already satisfied: numpy>=1.19.5 in /usr/local/lib/python3.10/dist-packages (from scikit-learn>=0.24.0->sklearn_crfsuite) (1.26.4)\n",
            "Requirement already satisfied: scipy>=1.6.0 in /usr/local/lib/python3.10/dist-packages (from scikit-learn>=0.24.0->sklearn_crfsuite) (1.13.1)\n",
            "Requirement already satisfied: joblib>=1.2.0 in /usr/local/lib/python3.10/dist-packages (from scikit-learn>=0.24.0->sklearn_crfsuite) (1.4.2)\n",
            "Requirement already satisfied: threadpoolctl>=3.1.0 in /usr/local/lib/python3.10/dist-packages (from scikit-learn>=0.24.0->sklearn_crfsuite) (3.5.0)\n",
            "Downloading sklearn_crfsuite-0.5.0-py2.py3-none-any.whl (10 kB)\n",
            "Downloading python_crfsuite-0.9.11-cp310-cp310-manylinux_2_17_x86_64.manylinux2014_x86_64.whl (1.2 MB)\n",
            "\u001b[2K   \u001b[90m━━━━━━━━━━━━━━━━━━━━━━━━━━━━━━━━━━━━━━━━\u001b[0m \u001b[32m1.2/1.2 MB\u001b[0m \u001b[31m13.4 MB/s\u001b[0m eta \u001b[36m0:00:00\u001b[0m\n",
            "\u001b[?25hInstalling collected packages: python-crfsuite, sklearn_crfsuite\n",
            "Successfully installed python-crfsuite-0.9.11 sklearn_crfsuite-0.5.0\n"
          ]
        }
      ]
    },
    {
      "cell_type": "markdown",
      "source": [
        "### Import libraries"
      ],
      "metadata": {
        "id": "BIyqlEpkAKfT"
      }
    },
    {
      "cell_type": "code",
      "execution_count": null,
      "metadata": {
        "id": "FyZyCU_X_WjV"
      },
      "outputs": [],
      "source": [
        "import pandas as pd\n",
        "from sklearn_crfsuite import CRF, metrics\n",
        "from sklearn.model_selection import train_test_split\n",
        "import joblib"
      ]
    },
    {
      "cell_type": "markdown",
      "source": [
        "### Input data (GIVEN)\n",
        "#### Creating the inputs to the ML model in the following form:\n",
        "- sigs --> ['take 3 tabs for 10 days']       INPUT SIG\n",
        "- input_sigs --> [['take', '3', 'tabs', 'for', '10', 'days']]      TOKENS\n",
        "- output_labels --> [['Method','Qty', 'Form', 'FOR', 'Duration', 'DurationUnit']]       LABELS"
      ],
      "metadata": {
        "id": "glnfKfWpATTs"
      }
    },
    {
      "cell_type": "code",
      "source": [
        "sigs = [\"for 5 to 6 days\", \"inject 2 units\", \"x 2 weeks\", \"x 3 days\", \"every day\", \"every 2 weeks\", \"every 3 days\", \"every 1 to 2 months\", \"every 2 to 6 weeks\", \"every 4 to 6 days\", \"take two to four tabs\", \"take 2 to 4 tabs\", \"take 3 tabs orally bid for 10 days at bedtime\", \"swallow three capsules tid orally\", \"take 2 capsules po every 6 hours\", \"take 2 tabs po for 10 days\", \"take 100 caps by mouth tid for 10 weeks\", \"take 2 tabs after an hour\", \"2 tabs every 4-6 hours\", \"every 4 to 6 hours\", \"q46h\", \"q4-6h\", \"2 hours before breakfast\", \"before 30 mins at bedtime\", \"30 mins before bed\", \"and 100 tabs twice a month\", \"100 tabs twice a month\", \"100 tabs once a month\", \"100 tabs thrice a month\", \"3 tabs daily for 3 days then 1 tab per day at bed\", \"30 tabs 10 days tid\", \"take 30 tabs for 10 days three times a day\", \"qid q6h\", \"bid\", \"qid\", \"30 tabs before dinner and bedtime\", \"30 tabs before dinner & bedtime\", \"take 3 tabs at bedtime\", \"30 tabs thrice daily for 10 days \", \"30 tabs for 10 days three times a day\", \"Take 2 tablets a day\", \"qid for 10 days\", \"every day\", \"take 2 caps at bedtime\", \"apply 3 drops before bedtime\", \"take three capsules daily\", \"swallow 3 pills once a day\", \"swallow three pills thrice a day\", \"apply daily\", \"apply three drops before bedtime\", \"every 6 hours\", \"before food\", \"after food\", \"for 20 days\", \"for twenty days\", \"with meals\"]\n",
        "input_sigs = [['for', '5', 'to', '6', 'days'], ['inject', '2', 'units'], ['x', '2', 'weeks'], ['x', '3', 'days'], ['every', 'day'], ['every', '2', 'weeks'], ['every', '3', 'days'], ['every', '1', 'to', '2', 'months'], ['every', '2', 'to', '6', 'weeks'], ['every', '4', 'to', '6', 'days'], ['take', 'two', 'to', 'four', 'tabs'], ['take', '2', 'to', '4', 'tabs'], ['take', '3', 'tabs', 'orally', 'bid', 'for', '10', 'days', 'at', 'bedtime'], ['swallow', 'three', 'capsules', 'tid', 'orally'], ['take', '2', 'capsules', 'po', 'every', '6', 'hours'], ['take', '2', 'tabs', 'po', 'for', '10', 'days'], ['take', '100', 'caps', 'by', 'mouth', 'tid', 'for', '10', 'weeks'], ['take', '2', 'tabs', 'after', 'an', 'hour'], ['2', 'tabs', 'every', '4-6', 'hours'], ['every', '4', 'to', '6', 'hours'], ['q46h'], ['q4-6h'], ['2', 'hours', 'before', 'breakfast'], ['before', '30', 'mins', 'at', 'bedtime'], ['30', 'mins', 'before', 'bed'], ['and', '100', 'tabs', 'twice', 'a', 'month'], ['100', 'tabs', 'twice', 'a', 'month'], ['100', 'tabs', 'once', 'a', 'month'], ['100', 'tabs', 'thrice', 'a', 'month'], ['3', 'tabs', 'daily', 'for', '3', 'days', 'then', '1', 'tab', 'per', 'day', 'at', 'bed'], ['30', 'tabs', '10', 'days', 'tid'], ['take', '30', 'tabs', 'for', '10', 'days', 'three', 'times', 'a', 'day'], ['qid', 'q6h'], ['bid'], ['qid'], ['30', 'tabs', 'before', 'dinner', 'and', 'bedtime'], ['30', 'tabs', 'before', 'dinner', '&', 'bedtime'], ['take', '3', 'tabs', 'at', 'bedtime'], ['30', 'tabs', 'thrice', 'daily', 'for', '10', 'days'], ['30', 'tabs', 'for', '10', 'days', 'three', 'times', 'a', 'day'], ['take', '2', 'tablets', 'a', 'day'], ['qid', 'for', '10', 'days'], ['every', 'day'], ['take', '2', 'caps', 'at', 'bedtime'], ['apply', '3', 'drops', 'before', 'bedtime'], ['take', 'three', 'capsules', 'daily'], ['swallow', '3', 'pills', 'once', 'a', 'day'], ['swallow', 'three', 'pills', 'thrice', 'a', 'day'], ['apply', 'daily'], ['apply', 'three', 'drops', 'before', 'bedtime'], ['every', '6', 'hours'], ['before', 'food'], ['after', 'food'], ['for', '20', 'days'], ['for', 'twenty', 'days'], ['with', 'meals']]\n",
        "output_labels = [['FOR', 'Duration', 'TO', 'DurationMax', 'DurationUnit'], ['Method', 'Qty', 'Form'], ['FOR', 'Duration', 'DurationUnit'], ['FOR', 'Duration', 'DurationUnit'], ['EVERY', 'Period'], ['EVERY', 'Period', 'PeriodUnit'], ['EVERY', 'Period', 'PeriodUnit'], ['EVERY', 'Period', 'TO', 'PeriodMax', 'PeriodUnit'], ['EVERY', 'Period', 'TO', 'PeriodMax', 'PeriodUnit'], ['EVERY', 'Period', 'TO', 'PeriodMax', 'PeriodUnit'], ['Method', 'Qty', 'TO', 'Qty', 'Form'], ['Method', 'Qty', 'TO', 'Qty', 'Form'], ['Method', 'Qty', 'Form', 'PO', 'BID', 'FOR', 'Duration', 'DurationUnit', 'AT', 'WHEN'], ['Method', 'Qty', 'Form', 'TID', 'PO'], ['Method', 'Qty', 'Form', 'PO', 'EVERY', 'Period', 'PeriodUnit'], ['Method', 'Qty', 'Form', 'PO', 'FOR', 'Duration', 'DurationUnit'], ['Method', 'Qty', 'Form', 'BY', 'PO', 'TID', 'FOR', 'Duration', 'DurationUnit'], ['Method', 'Qty', 'Form', 'AFTER', 'Period', 'PeriodUnit'], ['Qty', 'Form', 'EVERY', 'Period', 'PeriodUnit'], ['EVERY', 'Period', 'TO', 'PeriodMax', 'PeriodUnit'], ['Q46H'], ['Q4-6H'], ['Qty', 'PeriodUnit', 'BEFORE', 'WHEN'], ['BEFORE', 'Qty', 'M', 'AT', 'WHEN'], ['Qty', 'M', 'BEFORE', 'WHEN'], ['AND', 'Qty', 'Form', 'Frequency', 'Period', 'PeriodUnit'], ['Qty', 'Form', 'Frequency', 'Period', 'PeriodUnit'], ['Qty', 'Form', 'Frequency', 'Period', 'PeriodUnit'], ['Qty', 'Form', 'Frequency', 'Period', 'PeriodUnit'], ['Qty', 'Form', 'Frequency', 'FOR', 'Duration', 'DurationUnit', 'THEN', 'Qty', 'Form', 'Frequency', 'PeriodUnit', 'AT', 'WHEN'], ['Qty', 'Form', 'Duration', 'DurationUnit', 'TID'], ['Method', 'Qty', 'Form', 'FOR', 'Duration', 'DurationUnit', 'Qty', 'TIMES', 'Period', 'PeriodUnit'], ['QID', 'Q6H'], ['BID'], ['QID'],['Qty', 'Form', 'BEFORE', 'WHEN', 'AND', 'WHEN'], ['Qty', 'Form', 'BEFORE', 'WHEN', 'AND', 'WHEN'], ['Method', 'Qty', 'Form', 'AT', 'WHEN'], ['Qty', 'Form', 'Frequency', 'DAILY', 'FOR', 'Duration', 'DurationUnit'], ['Qty', 'Form', 'FOR', 'Duration', 'DurationUnit', 'Frequency', 'TIMES', 'Period', 'PeriodUnit'], ['Method', 'Qty', 'Form', 'Period', 'PeriodUnit'], ['QID', 'FOR', 'Duration', 'DurationUnit'], ['EVERY', 'PeriodUnit'], ['Method', 'Qty', 'Form', 'AT', 'WHEN'], ['Method', 'Qty', 'Form', 'BEFORE', 'WHEN'], ['Method', 'Qty', 'Form', 'DAILY'], ['Method', 'Qty', 'Form', 'Frequency', 'Period', 'PeriodUnit'], ['Method', 'Qty', 'Form', 'Frequency', 'Period', 'PeriodUnit'], ['Method', 'DAILY'], ['Method', 'Qty', 'Form', 'BEFORE', 'WHEN'], ['EVERY', 'Period', 'PeriodUnit'], ['BEFORE', 'FOOD'], ['AFTER', 'FOOD'], ['FOR', 'Duration', 'DurationUnit'], ['FOR', 'Duration', 'DurationUnit'], ['WITH', 'FOOD']]"
      ],
      "metadata": {
        "id": "4XpNbsobAT6k"
      },
      "execution_count": null,
      "outputs": []
    },
    {
      "cell_type": "code",
      "source": [
        "len(sigs), len(input_sigs) , len(output_labels)"
      ],
      "metadata": {
        "colab": {
          "base_uri": "https://localhost:8080/"
        },
        "id": "uslNEbNIAa8X",
        "outputId": "ad69ca42-0433-45a2-ec28-db5fdb54e3d6"
      },
      "execution_count": null,
      "outputs": [
        {
          "output_type": "execute_result",
          "data": {
            "text/plain": [
              "(56, 56, 56)"
            ]
          },
          "metadata": {},
          "execution_count": 15
        }
      ]
    },
    {
      "cell_type": "markdown",
      "source": [
        "### Creating a Tuples Maker method\n",
        "Create the tuples as given below by writing a function **tuples_maker(input_sigs, output_labels)** and returns **output** as given below\n",
        "\n",
        "Input(s):\n",
        "- input_sigs\n",
        "- output_lables\n",
        "\n",
        "Output:\n",
        "\n",
        "[[('for', 'FOR'),\n",
        "  ('5', 'Duration'),\n",
        "  ('to', 'TO'),\n",
        "  ('6', 'DurationMax'),\n",
        "  ('days', 'DurationUnit')], [second sentence], ...]"
      ],
      "metadata": {
        "id": "BcJVLQBIAfW3"
      }
    },
    {
      "cell_type": "code",
      "source": [
        "def tuples_maker(input_sigs, output_labels):\n",
        "    \"\"\"\n",
        "    Create tuples that pair each word with its corresponding label.\n",
        "\n",
        "    Parameters:\n",
        "    input_sigs (list of lists): Tokenized input sequences (e.g., [[\"for\", \"5\", \"to\", \"6\", \"days\"], ...]).\n",
        "    output_labels (list of lists): Label sequences (e.g., [[\"FOR\", \"Duration\", \"TO\", \"DurationMax\", \"DurationUnit\"], ...]).\n",
        "\n",
        "    Returns:\n",
        "    list of lists: Each inner list contains tuples of (word, label) for each word in a sentence.\n",
        "    \"\"\"\n",
        "    output = []\n",
        "\n",
        "    for words, labels in zip(input_sigs, output_labels):\n",
        "        sentence_tuples = list(zip(words, labels))\n",
        "        output.append(sentence_tuples)\n",
        "\n",
        "    return output\n"
      ],
      "metadata": {
        "id": "2HfylB9bAgjf"
      },
      "execution_count": null,
      "outputs": []
    },
    {
      "cell_type": "code",
      "source": [
        "# Call the function using your existing data\n",
        "output = tuples_maker(input_sigs, output_labels)\n",
        "\n",
        "# Print each sentence's tuples in a readable format\n",
        "for sentence in output:\n",
        "    print(sentence)\n"
      ],
      "metadata": {
        "colab": {
          "base_uri": "https://localhost:8080/"
        },
        "id": "y4WI7KeSKWPN",
        "outputId": "a8d9ba1b-5391-45bf-f46d-180d2c4cfcc7"
      },
      "execution_count": null,
      "outputs": [
        {
          "output_type": "stream",
          "name": "stdout",
          "text": [
            "[('for', 'FOR'), ('5', 'Duration'), ('to', 'TO'), ('6', 'DurationMax'), ('days', 'DurationUnit')]\n",
            "[('inject', 'Method'), ('2', 'Qty'), ('units', 'Form')]\n",
            "[('x', 'FOR'), ('2', 'Duration'), ('weeks', 'DurationUnit')]\n",
            "[('x', 'FOR'), ('3', 'Duration'), ('days', 'DurationUnit')]\n",
            "[('every', 'EVERY'), ('day', 'Period')]\n",
            "[('every', 'EVERY'), ('2', 'Period'), ('weeks', 'PeriodUnit')]\n",
            "[('every', 'EVERY'), ('3', 'Period'), ('days', 'PeriodUnit')]\n",
            "[('every', 'EVERY'), ('1', 'Period'), ('to', 'TO'), ('2', 'PeriodMax'), ('months', 'PeriodUnit')]\n",
            "[('every', 'EVERY'), ('2', 'Period'), ('to', 'TO'), ('6', 'PeriodMax'), ('weeks', 'PeriodUnit')]\n",
            "[('every', 'EVERY'), ('4', 'Period'), ('to', 'TO'), ('6', 'PeriodMax'), ('days', 'PeriodUnit')]\n",
            "[('take', 'Method'), ('two', 'Qty'), ('to', 'TO'), ('four', 'Qty'), ('tabs', 'Form')]\n",
            "[('take', 'Method'), ('2', 'Qty'), ('to', 'TO'), ('4', 'Qty'), ('tabs', 'Form')]\n",
            "[('take', 'Method'), ('3', 'Qty'), ('tabs', 'Form'), ('orally', 'PO'), ('bid', 'BID'), ('for', 'FOR'), ('10', 'Duration'), ('days', 'DurationUnit'), ('at', 'AT'), ('bedtime', 'WHEN')]\n",
            "[('swallow', 'Method'), ('three', 'Qty'), ('capsules', 'Form'), ('tid', 'TID'), ('orally', 'PO')]\n",
            "[('take', 'Method'), ('2', 'Qty'), ('capsules', 'Form'), ('po', 'PO'), ('every', 'EVERY'), ('6', 'Period'), ('hours', 'PeriodUnit')]\n",
            "[('take', 'Method'), ('2', 'Qty'), ('tabs', 'Form'), ('po', 'PO'), ('for', 'FOR'), ('10', 'Duration'), ('days', 'DurationUnit')]\n",
            "[('take', 'Method'), ('100', 'Qty'), ('caps', 'Form'), ('by', 'BY'), ('mouth', 'PO'), ('tid', 'TID'), ('for', 'FOR'), ('10', 'Duration'), ('weeks', 'DurationUnit')]\n",
            "[('take', 'Method'), ('2', 'Qty'), ('tabs', 'Form'), ('after', 'AFTER'), ('an', 'Period'), ('hour', 'PeriodUnit')]\n",
            "[('2', 'Qty'), ('tabs', 'Form'), ('every', 'EVERY'), ('4-6', 'Period'), ('hours', 'PeriodUnit')]\n",
            "[('every', 'EVERY'), ('4', 'Period'), ('to', 'TO'), ('6', 'PeriodMax'), ('hours', 'PeriodUnit')]\n",
            "[('q46h', 'Q46H')]\n",
            "[('q4-6h', 'Q4-6H')]\n",
            "[('2', 'Qty'), ('hours', 'PeriodUnit'), ('before', 'BEFORE'), ('breakfast', 'WHEN')]\n",
            "[('before', 'BEFORE'), ('30', 'Qty'), ('mins', 'M'), ('at', 'AT'), ('bedtime', 'WHEN')]\n",
            "[('30', 'Qty'), ('mins', 'M'), ('before', 'BEFORE'), ('bed', 'WHEN')]\n",
            "[('and', 'AND'), ('100', 'Qty'), ('tabs', 'Form'), ('twice', 'Frequency'), ('a', 'Period'), ('month', 'PeriodUnit')]\n",
            "[('100', 'Qty'), ('tabs', 'Form'), ('twice', 'Frequency'), ('a', 'Period'), ('month', 'PeriodUnit')]\n",
            "[('100', 'Qty'), ('tabs', 'Form'), ('once', 'Frequency'), ('a', 'Period'), ('month', 'PeriodUnit')]\n",
            "[('100', 'Qty'), ('tabs', 'Form'), ('thrice', 'Frequency'), ('a', 'Period'), ('month', 'PeriodUnit')]\n",
            "[('3', 'Qty'), ('tabs', 'Form'), ('daily', 'Frequency'), ('for', 'FOR'), ('3', 'Duration'), ('days', 'DurationUnit'), ('then', 'THEN'), ('1', 'Qty'), ('tab', 'Form'), ('per', 'Frequency'), ('day', 'PeriodUnit'), ('at', 'AT'), ('bed', 'WHEN')]\n",
            "[('30', 'Qty'), ('tabs', 'Form'), ('10', 'Duration'), ('days', 'DurationUnit'), ('tid', 'TID')]\n",
            "[('take', 'Method'), ('30', 'Qty'), ('tabs', 'Form'), ('for', 'FOR'), ('10', 'Duration'), ('days', 'DurationUnit'), ('three', 'Qty'), ('times', 'TIMES'), ('a', 'Period'), ('day', 'PeriodUnit')]\n",
            "[('qid', 'QID'), ('q6h', 'Q6H')]\n",
            "[('bid', 'BID')]\n",
            "[('qid', 'QID')]\n",
            "[('30', 'Qty'), ('tabs', 'Form'), ('before', 'BEFORE'), ('dinner', 'WHEN'), ('and', 'AND'), ('bedtime', 'WHEN')]\n",
            "[('30', 'Qty'), ('tabs', 'Form'), ('before', 'BEFORE'), ('dinner', 'WHEN'), ('&', 'AND'), ('bedtime', 'WHEN')]\n",
            "[('take', 'Method'), ('3', 'Qty'), ('tabs', 'Form'), ('at', 'AT'), ('bedtime', 'WHEN')]\n",
            "[('30', 'Qty'), ('tabs', 'Form'), ('thrice', 'Frequency'), ('daily', 'DAILY'), ('for', 'FOR'), ('10', 'Duration'), ('days', 'DurationUnit')]\n",
            "[('30', 'Qty'), ('tabs', 'Form'), ('for', 'FOR'), ('10', 'Duration'), ('days', 'DurationUnit'), ('three', 'Frequency'), ('times', 'TIMES'), ('a', 'Period'), ('day', 'PeriodUnit')]\n",
            "[('take', 'Method'), ('2', 'Qty'), ('tablets', 'Form'), ('a', 'Period'), ('day', 'PeriodUnit')]\n",
            "[('qid', 'QID'), ('for', 'FOR'), ('10', 'Duration'), ('days', 'DurationUnit')]\n",
            "[('every', 'EVERY'), ('day', 'PeriodUnit')]\n",
            "[('take', 'Method'), ('2', 'Qty'), ('caps', 'Form'), ('at', 'AT'), ('bedtime', 'WHEN')]\n",
            "[('apply', 'Method'), ('3', 'Qty'), ('drops', 'Form'), ('before', 'BEFORE'), ('bedtime', 'WHEN')]\n",
            "[('take', 'Method'), ('three', 'Qty'), ('capsules', 'Form'), ('daily', 'DAILY')]\n",
            "[('swallow', 'Method'), ('3', 'Qty'), ('pills', 'Form'), ('once', 'Frequency'), ('a', 'Period'), ('day', 'PeriodUnit')]\n",
            "[('swallow', 'Method'), ('three', 'Qty'), ('pills', 'Form'), ('thrice', 'Frequency'), ('a', 'Period'), ('day', 'PeriodUnit')]\n",
            "[('apply', 'Method'), ('daily', 'DAILY')]\n",
            "[('apply', 'Method'), ('three', 'Qty'), ('drops', 'Form'), ('before', 'BEFORE'), ('bedtime', 'WHEN')]\n",
            "[('every', 'EVERY'), ('6', 'Period'), ('hours', 'PeriodUnit')]\n",
            "[('before', 'BEFORE'), ('food', 'FOOD')]\n",
            "[('after', 'AFTER'), ('food', 'FOOD')]\n",
            "[('for', 'FOR'), ('20', 'Duration'), ('days', 'DurationUnit')]\n",
            "[('for', 'FOR'), ('twenty', 'Duration'), ('days', 'DurationUnit')]\n",
            "[('with', 'WITH'), ('meals', 'FOOD')]\n"
          ]
        }
      ]
    },
    {
      "cell_type": "markdown",
      "source": [
        "### Creating the triples_maker( ) for feature extraction\n",
        "- input: tuples_maker_output\n",
        "- output:\n",
        "[[('for', 'IN', 'FOR'),\n",
        "  ('5', 'CD', 'Duration'),\n",
        "  ('to', 'TO', 'TO'),\n",
        "  ('6', 'CD', 'DurationMax'),\n",
        "  ('days', 'NNS', 'DurationUnit')], [second sentence], ... ]"
      ],
      "metadata": {
        "id": "2WTYCbSSJv8_"
      }
    },
    {
      "cell_type": "code",
      "source": [
        "import nltk\n",
        "\n",
        "# Ensure the POS tagger data is downloaded (only needs to be done once)\n",
        "nltk.download('averaged_perceptron_tagger')\n",
        "\n",
        "def triples_maker(whole_data):\n",
        "    \"\"\"\n",
        "    Create triples (word, POS, label) for feature extraction.\n",
        "\n",
        "    Parameters:\n",
        "    whole_data (list of lists): Output from tuples_maker, containing (word, label) pairs.\n",
        "\n",
        "    Returns:\n",
        "    list of lists: Each inner list contains triples (word, POS, label) for each word in a sentence.\n",
        "    \"\"\"\n",
        "    sample_data = []\n",
        "\n",
        "    for sentence in whole_data:\n",
        "        words, labels = zip(*sentence)\n",
        "        pos_tags = nltk.pos_tag(words)\n",
        "\n",
        "        # Combine word, POS, and label into a triple for each word\n",
        "        sentence_triples = [(word, pos, label) for (word, pos), label in zip(pos_tags, labels)]\n",
        "        sample_data.append(sentence_triples)\n",
        "\n",
        "    return sample_data"
      ],
      "metadata": {
        "colab": {
          "base_uri": "https://localhost:8080/"
        },
        "collapsed": true,
        "id": "NIB-5ztHTN46",
        "outputId": "757f365b-3849-40f8-a65d-f4949713311e"
      },
      "execution_count": null,
      "outputs": [
        {
          "output_type": "stream",
          "name": "stderr",
          "text": [
            "[nltk_data] Downloading package averaged_perceptron_tagger to\n",
            "[nltk_data]     /root/nltk_data...\n",
            "[nltk_data]   Package averaged_perceptron_tagger is already up-to-\n",
            "[nltk_data]       date!\n"
          ]
        }
      ]
    },
    {
      "cell_type": "code",
      "source": [
        "# Example call\n",
        "sample_data = triples_maker(output)\n",
        "sample_data\n"
      ],
      "metadata": {
        "colab": {
          "base_uri": "https://localhost:8080/"
        },
        "id": "KCJ4LAK5XXie",
        "outputId": "6305d36a-b31b-42d2-bb89-ebfa0d5fa5e9"
      },
      "execution_count": null,
      "outputs": [
        {
          "output_type": "execute_result",
          "data": {
            "text/plain": [
              "[[('for', 'IN', 'FOR'),\n",
              "  ('5', 'CD', 'Duration'),\n",
              "  ('to', 'TO', 'TO'),\n",
              "  ('6', 'CD', 'DurationMax'),\n",
              "  ('days', 'NNS', 'DurationUnit')],\n",
              " [('inject', 'JJ', 'Method'), ('2', 'CD', 'Qty'), ('units', 'NNS', 'Form')],\n",
              " [('x', 'RB', 'FOR'),\n",
              "  ('2', 'CD', 'Duration'),\n",
              "  ('weeks', 'NNS', 'DurationUnit')],\n",
              " [('x', 'RB', 'FOR'),\n",
              "  ('3', 'CD', 'Duration'),\n",
              "  ('days', 'NNS', 'DurationUnit')],\n",
              " [('every', 'DT', 'EVERY'), ('day', 'NN', 'Period')],\n",
              " [('every', 'DT', 'EVERY'),\n",
              "  ('2', 'CD', 'Period'),\n",
              "  ('weeks', 'NNS', 'PeriodUnit')],\n",
              " [('every', 'DT', 'EVERY'),\n",
              "  ('3', 'CD', 'Period'),\n",
              "  ('days', 'NNS', 'PeriodUnit')],\n",
              " [('every', 'DT', 'EVERY'),\n",
              "  ('1', 'CD', 'Period'),\n",
              "  ('to', 'TO', 'TO'),\n",
              "  ('2', 'CD', 'PeriodMax'),\n",
              "  ('months', 'NNS', 'PeriodUnit')],\n",
              " [('every', 'DT', 'EVERY'),\n",
              "  ('2', 'CD', 'Period'),\n",
              "  ('to', 'TO', 'TO'),\n",
              "  ('6', 'CD', 'PeriodMax'),\n",
              "  ('weeks', 'NNS', 'PeriodUnit')],\n",
              " [('every', 'DT', 'EVERY'),\n",
              "  ('4', 'CD', 'Period'),\n",
              "  ('to', 'TO', 'TO'),\n",
              "  ('6', 'CD', 'PeriodMax'),\n",
              "  ('days', 'NNS', 'PeriodUnit')],\n",
              " [('take', 'VB', 'Method'),\n",
              "  ('two', 'CD', 'Qty'),\n",
              "  ('to', 'TO', 'TO'),\n",
              "  ('four', 'CD', 'Qty'),\n",
              "  ('tabs', 'NNS', 'Form')],\n",
              " [('take', 'VB', 'Method'),\n",
              "  ('2', 'CD', 'Qty'),\n",
              "  ('to', 'TO', 'TO'),\n",
              "  ('4', 'CD', 'Qty'),\n",
              "  ('tabs', 'NNS', 'Form')],\n",
              " [('take', 'VB', 'Method'),\n",
              "  ('3', 'CD', 'Qty'),\n",
              "  ('tabs', 'NNS', 'Form'),\n",
              "  ('orally', 'RB', 'PO'),\n",
              "  ('bid', 'VBP', 'BID'),\n",
              "  ('for', 'IN', 'FOR'),\n",
              "  ('10', 'CD', 'Duration'),\n",
              "  ('days', 'NNS', 'DurationUnit'),\n",
              "  ('at', 'IN', 'AT'),\n",
              "  ('bedtime', 'NN', 'WHEN')],\n",
              " [('swallow', 'JJ', 'Method'),\n",
              "  ('three', 'CD', 'Qty'),\n",
              "  ('capsules', 'NNS', 'Form'),\n",
              "  ('tid', 'VBP', 'TID'),\n",
              "  ('orally', 'RB', 'PO')],\n",
              " [('take', 'VB', 'Method'),\n",
              "  ('2', 'CD', 'Qty'),\n",
              "  ('capsules', 'NNS', 'Form'),\n",
              "  ('po', 'RB', 'PO'),\n",
              "  ('every', 'DT', 'EVERY'),\n",
              "  ('6', 'CD', 'Period'),\n",
              "  ('hours', 'NNS', 'PeriodUnit')],\n",
              " [('take', 'VB', 'Method'),\n",
              "  ('2', 'CD', 'Qty'),\n",
              "  ('tabs', 'NNS', 'Form'),\n",
              "  ('po', 'NN', 'PO'),\n",
              "  ('for', 'IN', 'FOR'),\n",
              "  ('10', 'CD', 'Duration'),\n",
              "  ('days', 'NNS', 'DurationUnit')],\n",
              " [('take', 'VB', 'Method'),\n",
              "  ('100', 'CD', 'Qty'),\n",
              "  ('caps', 'NNS', 'Form'),\n",
              "  ('by', 'IN', 'BY'),\n",
              "  ('mouth', 'NN', 'PO'),\n",
              "  ('tid', 'NN', 'TID'),\n",
              "  ('for', 'IN', 'FOR'),\n",
              "  ('10', 'CD', 'Duration'),\n",
              "  ('weeks', 'NNS', 'DurationUnit')],\n",
              " [('take', 'VB', 'Method'),\n",
              "  ('2', 'CD', 'Qty'),\n",
              "  ('tabs', 'NNS', 'Form'),\n",
              "  ('after', 'IN', 'AFTER'),\n",
              "  ('an', 'DT', 'Period'),\n",
              "  ('hour', 'NN', 'PeriodUnit')],\n",
              " [('2', 'CD', 'Qty'),\n",
              "  ('tabs', 'JJ', 'Form'),\n",
              "  ('every', 'DT', 'EVERY'),\n",
              "  ('4-6', 'JJ', 'Period'),\n",
              "  ('hours', 'NNS', 'PeriodUnit')],\n",
              " [('every', 'DT', 'EVERY'),\n",
              "  ('4', 'CD', 'Period'),\n",
              "  ('to', 'TO', 'TO'),\n",
              "  ('6', 'CD', 'PeriodMax'),\n",
              "  ('hours', 'NNS', 'PeriodUnit')],\n",
              " [('q46h', 'NN', 'Q46H')],\n",
              " [('q4-6h', 'NN', 'Q4-6H')],\n",
              " [('2', 'CD', 'Qty'),\n",
              "  ('hours', 'NNS', 'PeriodUnit'),\n",
              "  ('before', 'IN', 'BEFORE'),\n",
              "  ('breakfast', 'NN', 'WHEN')],\n",
              " [('before', 'IN', 'BEFORE'),\n",
              "  ('30', 'CD', 'Qty'),\n",
              "  ('mins', 'NNS', 'M'),\n",
              "  ('at', 'IN', 'AT'),\n",
              "  ('bedtime', 'NN', 'WHEN')],\n",
              " [('30', 'CD', 'Qty'),\n",
              "  ('mins', 'NNS', 'M'),\n",
              "  ('before', 'IN', 'BEFORE'),\n",
              "  ('bed', 'NN', 'WHEN')],\n",
              " [('and', 'CC', 'AND'),\n",
              "  ('100', 'CD', 'Qty'),\n",
              "  ('tabs', 'NNS', 'Form'),\n",
              "  ('twice', 'RB', 'Frequency'),\n",
              "  ('a', 'DT', 'Period'),\n",
              "  ('month', 'NN', 'PeriodUnit')],\n",
              " [('100', 'CD', 'Qty'),\n",
              "  ('tabs', 'JJ', 'Form'),\n",
              "  ('twice', 'RB', 'Frequency'),\n",
              "  ('a', 'DT', 'Period'),\n",
              "  ('month', 'NN', 'PeriodUnit')],\n",
              " [('100', 'CD', 'Qty'),\n",
              "  ('tabs', 'NNS', 'Form'),\n",
              "  ('once', 'RB', 'Frequency'),\n",
              "  ('a', 'DT', 'Period'),\n",
              "  ('month', 'NN', 'PeriodUnit')],\n",
              " [('100', 'CD', 'Qty'),\n",
              "  ('tabs', 'JJ', 'Form'),\n",
              "  ('thrice', 'NN', 'Frequency'),\n",
              "  ('a', 'DT', 'Period'),\n",
              "  ('month', 'NN', 'PeriodUnit')],\n",
              " [('3', 'CD', 'Qty'),\n",
              "  ('tabs', 'JJ', 'Form'),\n",
              "  ('daily', 'RB', 'Frequency'),\n",
              "  ('for', 'IN', 'FOR'),\n",
              "  ('3', 'CD', 'Duration'),\n",
              "  ('days', 'NNS', 'DurationUnit'),\n",
              "  ('then', 'RB', 'THEN'),\n",
              "  ('1', 'CD', 'Qty'),\n",
              "  ('tab', 'NNS', 'Form'),\n",
              "  ('per', 'IN', 'Frequency'),\n",
              "  ('day', 'NN', 'PeriodUnit'),\n",
              "  ('at', 'IN', 'AT'),\n",
              "  ('bed', 'NN', 'WHEN')],\n",
              " [('30', 'CD', 'Qty'),\n",
              "  ('tabs', 'NNS', 'Form'),\n",
              "  ('10', 'CD', 'Duration'),\n",
              "  ('days', 'NNS', 'DurationUnit'),\n",
              "  ('tid', 'NN', 'TID')],\n",
              " [('take', 'VB', 'Method'),\n",
              "  ('30', 'CD', 'Qty'),\n",
              "  ('tabs', 'NNS', 'Form'),\n",
              "  ('for', 'IN', 'FOR'),\n",
              "  ('10', 'CD', 'Duration'),\n",
              "  ('days', 'NNS', 'DurationUnit'),\n",
              "  ('three', 'CD', 'Qty'),\n",
              "  ('times', 'NNS', 'TIMES'),\n",
              "  ('a', 'DT', 'Period'),\n",
              "  ('day', 'NN', 'PeriodUnit')],\n",
              " [('qid', 'NN', 'QID'), ('q6h', 'NN', 'Q6H')],\n",
              " [('bid', 'NN', 'BID')],\n",
              " [('qid', 'NN', 'QID')],\n",
              " [('30', 'CD', 'Qty'),\n",
              "  ('tabs', 'NNS', 'Form'),\n",
              "  ('before', 'IN', 'BEFORE'),\n",
              "  ('dinner', 'NN', 'WHEN'),\n",
              "  ('and', 'CC', 'AND'),\n",
              "  ('bedtime', 'NN', 'WHEN')],\n",
              " [('30', 'CD', 'Qty'),\n",
              "  ('tabs', 'NNS', 'Form'),\n",
              "  ('before', 'IN', 'BEFORE'),\n",
              "  ('dinner', 'NN', 'WHEN'),\n",
              "  ('&', 'CC', 'AND'),\n",
              "  ('bedtime', 'NN', 'WHEN')],\n",
              " [('take', 'VB', 'Method'),\n",
              "  ('3', 'CD', 'Qty'),\n",
              "  ('tabs', 'NNS', 'Form'),\n",
              "  ('at', 'IN', 'AT'),\n",
              "  ('bedtime', 'NN', 'WHEN')],\n",
              " [('30', 'CD', 'Qty'),\n",
              "  ('tabs', 'JJ', 'Form'),\n",
              "  ('thrice', 'JJ', 'Frequency'),\n",
              "  ('daily', 'RB', 'DAILY'),\n",
              "  ('for', 'IN', 'FOR'),\n",
              "  ('10', 'CD', 'Duration'),\n",
              "  ('days', 'NNS', 'DurationUnit')],\n",
              " [('30', 'CD', 'Qty'),\n",
              "  ('tabs', 'NNS', 'Form'),\n",
              "  ('for', 'IN', 'FOR'),\n",
              "  ('10', 'CD', 'Duration'),\n",
              "  ('days', 'NNS', 'DurationUnit'),\n",
              "  ('three', 'CD', 'Frequency'),\n",
              "  ('times', 'NNS', 'TIMES'),\n",
              "  ('a', 'DT', 'Period'),\n",
              "  ('day', 'NN', 'PeriodUnit')],\n",
              " [('take', 'VB', 'Method'),\n",
              "  ('2', 'CD', 'Qty'),\n",
              "  ('tablets', 'NNS', 'Form'),\n",
              "  ('a', 'DT', 'Period'),\n",
              "  ('day', 'NN', 'PeriodUnit')],\n",
              " [('qid', 'NN', 'QID'),\n",
              "  ('for', 'IN', 'FOR'),\n",
              "  ('10', 'CD', 'Duration'),\n",
              "  ('days', 'NNS', 'DurationUnit')],\n",
              " [('every', 'DT', 'EVERY'), ('day', 'NN', 'PeriodUnit')],\n",
              " [('take', 'VB', 'Method'),\n",
              "  ('2', 'CD', 'Qty'),\n",
              "  ('caps', 'NNS', 'Form'),\n",
              "  ('at', 'IN', 'AT'),\n",
              "  ('bedtime', 'NN', 'WHEN')],\n",
              " [('apply', 'RB', 'Method'),\n",
              "  ('3', 'CD', 'Qty'),\n",
              "  ('drops', 'NNS', 'Form'),\n",
              "  ('before', 'IN', 'BEFORE'),\n",
              "  ('bedtime', 'NN', 'WHEN')],\n",
              " [('take', 'VB', 'Method'),\n",
              "  ('three', 'CD', 'Qty'),\n",
              "  ('capsules', 'NNS', 'Form'),\n",
              "  ('daily', 'RB', 'DAILY')],\n",
              " [('swallow', 'JJ', 'Method'),\n",
              "  ('3', 'CD', 'Qty'),\n",
              "  ('pills', 'NNS', 'Form'),\n",
              "  ('once', 'RB', 'Frequency'),\n",
              "  ('a', 'DT', 'Period'),\n",
              "  ('day', 'NN', 'PeriodUnit')],\n",
              " [('swallow', 'JJ', 'Method'),\n",
              "  ('three', 'CD', 'Qty'),\n",
              "  ('pills', 'NNS', 'Form'),\n",
              "  ('thrice', 'VBP', 'Frequency'),\n",
              "  ('a', 'DT', 'Period'),\n",
              "  ('day', 'NN', 'PeriodUnit')],\n",
              " [('apply', 'VB', 'Method'), ('daily', 'JJ', 'DAILY')],\n",
              " [('apply', 'RB', 'Method'),\n",
              "  ('three', 'CD', 'Qty'),\n",
              "  ('drops', 'NNS', 'Form'),\n",
              "  ('before', 'IN', 'BEFORE'),\n",
              "  ('bedtime', 'NN', 'WHEN')],\n",
              " [('every', 'DT', 'EVERY'),\n",
              "  ('6', 'CD', 'Period'),\n",
              "  ('hours', 'NNS', 'PeriodUnit')],\n",
              " [('before', 'IN', 'BEFORE'), ('food', 'NN', 'FOOD')],\n",
              " [('after', 'IN', 'AFTER'), ('food', 'NN', 'FOOD')],\n",
              " [('for', 'IN', 'FOR'),\n",
              "  ('20', 'CD', 'Duration'),\n",
              "  ('days', 'NNS', 'DurationUnit')],\n",
              " [('for', 'IN', 'FOR'),\n",
              "  ('twenty', 'JJ', 'Duration'),\n",
              "  ('days', 'NNS', 'DurationUnit')],\n",
              " [('with', 'IN', 'WITH'), ('meals', 'NNS', 'FOOD')]]"
            ]
          },
          "metadata": {},
          "execution_count": 26
        }
      ]
    },
    {
      "cell_type": "markdown",
      "source": [
        "### Creating the features extractor method (GIVEN as a BASELINE)\n",
        "#### The features used are:\n",
        "- SOS, EOS, lowercase, uppercase, title, digit, postag, previous_tag, next_tag\n",
        "#### Feel free to include more features"
      ],
      "metadata": {
        "id": "UWfxRxZNX1bh"
      }
    },
    {
      "cell_type": "code",
      "source": [
        "def token_to_features(doc, i):\n",
        "    word = doc[i][0]\n",
        "    postag = doc[i][1]\n",
        "\n",
        "    # Common features for all words\n",
        "    features = [\n",
        "        'bias',\n",
        "        'word.lower=' + word.lower(),\n",
        "        'word[-3:]=' + word[-3:],\n",
        "        'word[-2:]=' + word[-2:],\n",
        "        'word.isupper=%s' % word.isupper(),\n",
        "        'word.istitle=%s' % word.istitle(),\n",
        "        'word.isdigit=%s' % word.isdigit(),\n",
        "        'postag=' + postag\n",
        "    ]\n",
        "\n",
        "    # Features for words that are not at the beginning of a document\n",
        "    if i > 0:\n",
        "        word1 = doc[i-1][0]\n",
        "        postag1 = doc[i-1][1]\n",
        "        features.extend([\n",
        "            '-1:word.lower=' + word1.lower(),\n",
        "            '-1:word.istitle=%s' % word1.istitle(),\n",
        "            '-1:word.isupper=%s' % word1.isupper(),\n",
        "            '-1:word.isdigit=%s' % word1.isdigit(),\n",
        "            '-1:postag=' + postag1\n",
        "        ])\n",
        "    else:\n",
        "        # Indicate that it is the 'beginning of a document'\n",
        "        features.append('BOS')\n",
        "\n",
        "    # Features for words that are not at the end of a document\n",
        "    if i < len(doc)-1:\n",
        "        word1 = doc[i+1][0]\n",
        "        postag1 = doc[i+1][1]\n",
        "        features.extend([\n",
        "            '+1:word.lower=' + word1.lower(),\n",
        "            '+1:word.istitle=%s' % word1.istitle(),\n",
        "            '+1:word.isupper=%s' % word1.isupper(),\n",
        "            '+1:word.isdigit=%s' % word1.isdigit(),\n",
        "            '+1:postag=' + postag1\n",
        "        ])\n",
        "    else:\n",
        "        # Indicate that it is the 'end of a document'\n",
        "        features.append('EOS')\n",
        "\n",
        "    return features"
      ],
      "metadata": {
        "id": "t6MiuGLUX2dX"
      },
      "execution_count": null,
      "outputs": []
    },
    {
      "cell_type": "code",
      "source": [
        "# Example document\n",
        "doc = [('for', 'IN'), ('5', 'CD'), ('days', 'NNS')]\n",
        "# Extract features for each token in the document\n",
        "features = [token_to_features(doc, i) for i in range(len(doc))]\n",
        "features\n"
      ],
      "metadata": {
        "colab": {
          "base_uri": "https://localhost:8080/"
        },
        "id": "NgFyuageYWh5",
        "outputId": "a077b5f5-1899-4f5c-804e-a2236e4aaae4"
      },
      "execution_count": null,
      "outputs": [
        {
          "output_type": "execute_result",
          "data": {
            "text/plain": [
              "[['bias',\n",
              "  'word.lower=for',\n",
              "  'word[-3:]=for',\n",
              "  'word[-2:]=or',\n",
              "  'word.isupper=False',\n",
              "  'word.istitle=False',\n",
              "  'word.isdigit=False',\n",
              "  'postag=IN',\n",
              "  'BOS',\n",
              "  '+1:word.lower=5',\n",
              "  '+1:word.istitle=False',\n",
              "  '+1:word.isupper=False',\n",
              "  '+1:word.isdigit=True',\n",
              "  '+1:postag=CD'],\n",
              " ['bias',\n",
              "  'word.lower=5',\n",
              "  'word[-3:]=5',\n",
              "  'word[-2:]=5',\n",
              "  'word.isupper=False',\n",
              "  'word.istitle=False',\n",
              "  'word.isdigit=True',\n",
              "  'postag=CD',\n",
              "  '-1:word.lower=for',\n",
              "  '-1:word.istitle=False',\n",
              "  '-1:word.isupper=False',\n",
              "  '-1:word.isdigit=False',\n",
              "  '-1:postag=IN',\n",
              "  '+1:word.lower=days',\n",
              "  '+1:word.istitle=False',\n",
              "  '+1:word.isupper=False',\n",
              "  '+1:word.isdigit=False',\n",
              "  '+1:postag=NNS'],\n",
              " ['bias',\n",
              "  'word.lower=days',\n",
              "  'word[-3:]=ays',\n",
              "  'word[-2:]=ys',\n",
              "  'word.isupper=False',\n",
              "  'word.istitle=False',\n",
              "  'word.isdigit=False',\n",
              "  'postag=NNS',\n",
              "  '-1:word.lower=5',\n",
              "  '-1:word.istitle=False',\n",
              "  '-1:word.isupper=False',\n",
              "  '-1:word.isdigit=True',\n",
              "  '-1:postag=CD',\n",
              "  'EOS']]"
            ]
          },
          "metadata": {},
          "execution_count": 28
        }
      ]
    },
    {
      "cell_type": "markdown",
      "source": [
        "### Running the feature extractor on the training data\n",
        "- Feature extraction\n",
        "- Train-test-split"
      ],
      "metadata": {
        "id": "Y06c4QBgYM8A"
      }
    },
    {
      "cell_type": "code",
      "source": [
        "#Extract features and labels\n",
        "def extract_features_and_labels(data):\n",
        "    X = []  # Features\n",
        "    y = []  # Labels\n",
        "\n",
        "    for sentence in data:\n",
        "        # Extract features for each word in the sentence\n",
        "        X.append([token_to_features(sentence, i) for i in range(len(sentence))])\n",
        "        # Collect labels for each word in the sentence\n",
        "        y.append([label for _, _, label in sentence])\n",
        "\n",
        "    return X, y\n",
        "\n",
        "# Example call to extract features and labels\n",
        "X, y = extract_features_and_labels(sample_data)\n",
        "\n",
        "# 2. Split into training and testing data\n",
        "X_train, X_test, y_train, y_test = train_test_split(X, y, test_size=0.2, random_state=42)\n",
        "\n",
        "# Displaying a small sample of training data features and labels\n",
        "print(\"Sample X_train:\", X_train[:1])\n",
        "print(\"Sample y_train:\", y_train[:1])\n"
      ],
      "metadata": {
        "colab": {
          "base_uri": "https://localhost:8080/"
        },
        "id": "BUE6jKLBYNla",
        "outputId": "e6fa92d3-68a0-4ee9-ed5f-8da489184c77"
      },
      "execution_count": null,
      "outputs": [
        {
          "output_type": "stream",
          "name": "stdout",
          "text": [
            "Sample X_train: [[['bias', 'word.lower=qid', 'word[-3:]=qid', 'word[-2:]=id', 'word.isupper=False', 'word.istitle=False', 'word.isdigit=False', 'postag=NN', 'BOS', 'EOS']]]\n",
            "Sample y_train: [['QID']]\n"
          ]
        }
      ]
    },
    {
      "cell_type": "markdown",
      "source": [
        "### Training the CRF model with the features extracted using the feature extractor method"
      ],
      "metadata": {
        "id": "H78XE_hSY4W1"
      }
    },
    {
      "cell_type": "code",
      "source": [
        "# Define the CRF model with specified parameters\n",
        "crf = CRF(\n",
        "    algorithm='lbfgs',\n",
        "    c1=0.1,\n",
        "    c2=0.01,\n",
        "    max_iterations=1000,\n",
        "    all_possible_transitions=True\n",
        ")\n",
        "\n",
        "# Submit training data to the trainer\n",
        "crf.fit(X_train, y_train)\n",
        "\n",
        "# Save the trained model to a file\n",
        "model_filename = \"trained_crf_model.joblib\"\n",
        "joblib.dump(crf, model_filename)\n",
        "print(f\"Model saved as {model_filename}\")\n",
        "\n",
        "# Predict on the test set and evaluate the model\n",
        "y_pred = crf.predict(X_test)\n",
        "\n",
        "# Print the classification report for evaluation\n",
        "print(\"Classification Report:\")\n",
        "print(metrics.flat_classification_report(y_test, y_pred, digits=3))\n",
        "\n",
        "# Additional output to show number of features, active features, and optimization summary\n",
        "print(\"\\nFeature generation\")\n",
        "print(\"type: CRF1d\")\n",
        "print(f\"feature.minfreq: {0}\")\n",
        "print(f\"feature.possible_states: {0}\")\n",
        "print(f\"feature.possible_transitions: {1}\")\n",
        "print(\"Number of features:\", len(crf.transition_features_))\n",
        "print(\"Optimization algorithm: L-BFGS\")\n",
        "print(f\"c1: {crf.c1}\")\n",
        "print(f\"c2: {crf.c2}\")\n",
        "print(\"Max iterations:\", crf.max_iterations)\n"
      ],
      "metadata": {
        "colab": {
          "base_uri": "https://localhost:8080/"
        },
        "id": "qT0nUUB0Y5Ql",
        "outputId": "5626de9e-ec9a-4b8b-e972-f3b835c91582"
      },
      "execution_count": null,
      "outputs": [
        {
          "output_type": "stream",
          "name": "stdout",
          "text": [
            "Model saved as trained_crf_model.joblib\n",
            "Classification Report:\n",
            "              precision    recall  f1-score   support\n",
            "\n",
            "         AND      0.000     0.000     0.000         1\n",
            "          AT      0.500     1.000     0.667         1\n",
            "      BEFORE      1.000     1.000     1.000         2\n",
            "         BID      0.000     0.000     0.000         2\n",
            "       DAILY      0.000     0.000     0.000         0\n",
            "    Duration      1.000     1.000     1.000         4\n",
            " DurationMax      0.000     0.000     0.000         1\n",
            "DurationUnit      1.000     0.750     0.857         4\n",
            "       EVERY      1.000     1.000     1.000         3\n",
            "         FOR      1.000     1.000     1.000         4\n",
            "        Form      1.000     1.000     1.000         5\n",
            "   Frequency      0.500     1.000     0.667         1\n",
            "      Method      1.000     1.000     1.000         3\n",
            "          PO      0.000     0.000     0.000         2\n",
            "      Period      1.000     1.000     1.000         4\n",
            "   PeriodMax      0.500     1.000     0.667         1\n",
            "  PeriodUnit      0.667     1.000     0.800         4\n",
            "         QID      0.000     0.000     0.000         0\n",
            "         Qty      1.000     1.000     1.000         5\n",
            "         TID      1.000     1.000     1.000         1\n",
            "          TO      1.000     1.000     1.000         2\n",
            "        WHEN      1.000     1.000     1.000         4\n",
            "\n",
            "    accuracy                          0.870        54\n",
            "   macro avg      0.644     0.716     0.666        54\n",
            "weighted avg      0.836     0.870     0.845        54\n",
            "\n",
            "\n",
            "Feature generation\n",
            "type: CRF1d\n",
            "feature.minfreq: 0\n",
            "feature.possible_states: 0\n",
            "feature.possible_transitions: 1\n",
            "Number of features: 39\n",
            "Optimization algorithm: L-BFGS\n",
            "c1: 0.1\n",
            "c2: 0.01\n",
            "Max iterations: 1000\n"
          ]
        },
        {
          "output_type": "stream",
          "name": "stderr",
          "text": [
            "/usr/local/lib/python3.10/dist-packages/sklearn/metrics/_classification.py:1531: UndefinedMetricWarning: Precision is ill-defined and being set to 0.0 in labels with no predicted samples. Use `zero_division` parameter to control this behavior.\n",
            "  _warn_prf(average, modifier, f\"{metric.capitalize()} is\", len(result))\n",
            "/usr/local/lib/python3.10/dist-packages/sklearn/metrics/_classification.py:1531: UndefinedMetricWarning: Recall is ill-defined and being set to 0.0 in labels with no true samples. Use `zero_division` parameter to control this behavior.\n",
            "  _warn_prf(average, modifier, f\"{metric.capitalize()} is\", len(result))\n",
            "/usr/local/lib/python3.10/dist-packages/sklearn/metrics/_classification.py:1531: UndefinedMetricWarning: Precision is ill-defined and being set to 0.0 in labels with no predicted samples. Use `zero_division` parameter to control this behavior.\n",
            "  _warn_prf(average, modifier, f\"{metric.capitalize()} is\", len(result))\n",
            "/usr/local/lib/python3.10/dist-packages/sklearn/metrics/_classification.py:1531: UndefinedMetricWarning: Recall is ill-defined and being set to 0.0 in labels with no true samples. Use `zero_division` parameter to control this behavior.\n",
            "  _warn_prf(average, modifier, f\"{metric.capitalize()} is\", len(result))\n",
            "/usr/local/lib/python3.10/dist-packages/sklearn/metrics/_classification.py:1531: UndefinedMetricWarning: Precision is ill-defined and being set to 0.0 in labels with no predicted samples. Use `zero_division` parameter to control this behavior.\n",
            "  _warn_prf(average, modifier, f\"{metric.capitalize()} is\", len(result))\n",
            "/usr/local/lib/python3.10/dist-packages/sklearn/metrics/_classification.py:1531: UndefinedMetricWarning: Recall is ill-defined and being set to 0.0 in labels with no true samples. Use `zero_division` parameter to control this behavior.\n",
            "  _warn_prf(average, modifier, f\"{metric.capitalize()} is\", len(result))\n"
          ]
        }
      ]
    },
    {
      "cell_type": "markdown",
      "source": [
        "### Predicting the test data with the built model"
      ],
      "metadata": {
        "id": "etCIom-0rtvL"
      }
    },
    {
      "cell_type": "code",
      "source": [
        "# Load the saved model (if needed)\n",
        "import joblib\n",
        "\n",
        "model_filename = \"trained_crf_model.joblib\"\n",
        "crf = joblib.load(model_filename)\n",
        "\n",
        "# Predict on the test data\n",
        "y_pred = crf.predict(X_test)\n",
        "\n",
        "for i, (sentence_features, prediction) in enumerate(zip(X_test, y_pred)):\n",
        "    print(f\"Sentence {i+1} Predictions:\")\n",
        "    for feature, label in zip(sentence_features, prediction):\n",
        "        # Find the feature that contains 'word.lower=' and extract the word\n",
        "        word_feature = next((f for f in feature if f.startswith('word.lower=')), None)\n",
        "        if word_feature:\n",
        "            word = word_feature.split('=')[1]  # Extract word from 'word.lower=word'\n",
        "            print(f\"{word}: {label}\")\n",
        "    print(\"\\n\")\n"
      ],
      "metadata": {
        "colab": {
          "base_uri": "https://localhost:8080/"
        },
        "id": "xivr-bHuruS_",
        "outputId": "37366a6d-ef46-41f0-e2c9-2392abc1ef79"
      },
      "execution_count": null,
      "outputs": [
        {
          "output_type": "stream",
          "name": "stdout",
          "text": [
            "Sentence 1 Predictions:\n",
            "for: FOR\n",
            "5: Duration\n",
            "to: TO\n",
            "6: PeriodMax\n",
            "days: PeriodUnit\n",
            "\n",
            "\n",
            "Sentence 2 Predictions:\n",
            "every: EVERY\n",
            "2: Period\n",
            "weeks: PeriodUnit\n",
            "\n",
            "\n",
            "Sentence 3 Predictions:\n",
            "bid: QID\n",
            "\n",
            "\n",
            "Sentence 4 Predictions:\n",
            "swallow: Method\n",
            "three: Qty\n",
            "capsules: Form\n",
            "tid: TID\n",
            "orally: DAILY\n",
            "\n",
            "\n",
            "Sentence 5 Predictions:\n",
            "every: EVERY\n",
            "4: Period\n",
            "to: TO\n",
            "6: PeriodMax\n",
            "hours: PeriodUnit\n",
            "\n",
            "\n",
            "Sentence 6 Predictions:\n",
            "every: EVERY\n",
            "6: Period\n",
            "hours: PeriodUnit\n",
            "\n",
            "\n",
            "Sentence 7 Predictions:\n",
            "30: Qty\n",
            "tabs: Form\n",
            "before: BEFORE\n",
            "dinner: WHEN\n",
            "&: AT\n",
            "bedtime: WHEN\n",
            "\n",
            "\n",
            "Sentence 8 Predictions:\n",
            "100: Qty\n",
            "tabs: Form\n",
            "twice: Frequency\n",
            "a: Period\n",
            "month: PeriodUnit\n",
            "\n",
            "\n",
            "Sentence 9 Predictions:\n",
            "apply: Method\n",
            "3: Qty\n",
            "drops: Form\n",
            "before: BEFORE\n",
            "bedtime: WHEN\n",
            "\n",
            "\n",
            "Sentence 10 Predictions:\n",
            "take: Method\n",
            "3: Qty\n",
            "tabs: Form\n",
            "orally: Frequency\n",
            "bid: PeriodUnit\n",
            "for: FOR\n",
            "10: Duration\n",
            "days: DurationUnit\n",
            "at: AT\n",
            "bedtime: WHEN\n",
            "\n",
            "\n",
            "Sentence 11 Predictions:\n",
            "for: FOR\n",
            "twenty: Duration\n",
            "days: DurationUnit\n",
            "\n",
            "\n",
            "Sentence 12 Predictions:\n",
            "x: FOR\n",
            "3: Duration\n",
            "days: DurationUnit\n",
            "\n",
            "\n"
          ]
        }
      ]
    },
    {
      "cell_type": "markdown",
      "source": [
        "### Putting all the prediction logic inside a predict method"
      ],
      "metadata": {
        "id": "2CXKS9-6sS1l"
      }
    },
    {
      "cell_type": "code",
      "source": [
        "# Load the trained CRF model\n",
        "crf = joblib.load(\"trained_crf_model.joblib\")\n",
        "\n",
        "def predict(sig):\n",
        "    \"\"\"\n",
        "    predict(sig)\n",
        "    Purpose: Labels the given sig into corresponding labels.\n",
        "    @param sig: A string representing a medical prescription sig written by a doctor.\n",
        "    @return: A list containing a list of predicted labels for each token in the sentence.\n",
        "    \"\"\"\n",
        "    # Tokenize the sentence and tag POS\n",
        "    tokens = nltk.word_tokenize(sig)\n",
        "    pos_tags = nltk.pos_tag(tokens)\n",
        "\n",
        "    # Convert tokens and POS tags to the format required by the model\n",
        "    doc = [(token, pos) for token, pos in pos_tags]\n",
        "\n",
        "    # Extract features for each token in the sig\n",
        "    features = [token_to_features(doc, i) for i in range(len(doc))]\n",
        "\n",
        "    # Predict labels using the CRF model\n",
        "    predictions = crf.predict([features])[0]\n",
        "\n",
        "    return [predictions]\n",
        "\n",
        "\n"
      ],
      "metadata": {
        "id": "99d3AVXBsrLb"
      },
      "execution_count": null,
      "outputs": []
    },
    {
      "cell_type": "markdown",
      "source": [
        "### Sample predictions"
      ],
      "metadata": {
        "id": "gq8PeTtgtYMV"
      }
    },
    {
      "cell_type": "code",
      "source": [
        "predictions = predict(\"take 2 tabs every 6 hours x 10 days\")\n",
        "print(predictions)"
      ],
      "metadata": {
        "colab": {
          "base_uri": "https://localhost:8080/"
        },
        "id": "du4XsXJ8tad3",
        "outputId": "e8c99c73-dc19-4bea-cd2f-bd0452b85ddb"
      },
      "execution_count": null,
      "outputs": [
        {
          "output_type": "stream",
          "name": "stdout",
          "text": [
            "[array(['Method', 'Qty', 'Form', 'EVERY', 'Period', 'PeriodUnit', 'FOR',\n",
            "       'Duration', 'DurationUnit'], dtype=object)]\n"
          ]
        }
      ]
    },
    {
      "cell_type": "code",
      "source": [
        "predictions = predict(\"2 capsu for 10 day at bed\")\n",
        "print(predictions)"
      ],
      "metadata": {
        "colab": {
          "base_uri": "https://localhost:8080/"
        },
        "id": "jto3GGaMvYPj",
        "outputId": "b667faf5-e0e3-4e9a-c934-508b54eeb88e"
      },
      "execution_count": null,
      "outputs": [
        {
          "output_type": "stream",
          "name": "stdout",
          "text": [
            "[array(['Qty', 'Form', 'FOR', 'Duration', 'DurationUnit', 'AT', 'WHEN'],\n",
            "      dtype=object)]\n"
          ]
        }
      ]
    },
    {
      "cell_type": "code",
      "source": [
        "predictions = predict(\"2 capsu for 10 days at bed\")\n",
        "print(predictions)"
      ],
      "metadata": {
        "colab": {
          "base_uri": "https://localhost:8080/"
        },
        "id": "4lu5vrNMveVa",
        "outputId": "de4adacc-15f2-4baa-debc-a4bd58a59f73"
      },
      "execution_count": null,
      "outputs": [
        {
          "output_type": "stream",
          "name": "stdout",
          "text": [
            "[array(['Qty', 'Form', 'FOR', 'Duration', 'DurationUnit', 'AT', 'WHEN'],\n",
            "      dtype=object)]\n"
          ]
        }
      ]
    },
    {
      "cell_type": "code",
      "source": [
        "predictions = predict(\"5 days 2 tabs at bed\")\n",
        "print(predictions)"
      ],
      "metadata": {
        "colab": {
          "base_uri": "https://localhost:8080/"
        },
        "id": "BT9XU1wMvoOU",
        "outputId": "10e3aa65-260f-49b2-96da-f8d02a9c2bef"
      },
      "execution_count": null,
      "outputs": [
        {
          "output_type": "stream",
          "name": "stdout",
          "text": [
            "[array(['Duration', 'DurationUnit', 'Qty', 'Form', 'AT', 'WHEN'],\n",
            "      dtype=object)]\n"
          ]
        }
      ]
    },
    {
      "cell_type": "code",
      "source": [
        "predictions = predict(\"3 tabs qid x 10 weeks\")\n",
        "print(predictions)"
      ],
      "metadata": {
        "colab": {
          "base_uri": "https://localhost:8080/"
        },
        "id": "byxekRRRvpbt",
        "outputId": "096fd5dd-7467-4ebb-d77e-c99a3ad25579"
      },
      "execution_count": null,
      "outputs": [
        {
          "output_type": "stream",
          "name": "stdout",
          "text": [
            "[array(['Qty', 'Form', 'QID', 'FOR', 'Duration', 'DurationUnit'],\n",
            "      dtype=object)]\n"
          ]
        }
      ]
    },
    {
      "cell_type": "code",
      "source": [
        "predictions = predict(\"x 30 days\")\n",
        "print(predictions)"
      ],
      "metadata": {
        "colab": {
          "base_uri": "https://localhost:8080/"
        },
        "id": "SORxmahOvwdb",
        "outputId": "a7930148-7f67-4b2a-fe26-bbb51656a032"
      },
      "execution_count": null,
      "outputs": [
        {
          "output_type": "stream",
          "name": "stdout",
          "text": [
            "[array(['FOR', 'Duration', 'DurationUnit'], dtype=object)]\n"
          ]
        }
      ]
    },
    {
      "cell_type": "code",
      "source": [
        "predictions = predict(\"x 20 months\")\n",
        "print(predictions)"
      ],
      "metadata": {
        "colab": {
          "base_uri": "https://localhost:8080/"
        },
        "id": "JEzMMOSCv4R_",
        "outputId": "fb57e624-8137-4a24-c9b7-8b2267f440e5"
      },
      "execution_count": null,
      "outputs": [
        {
          "output_type": "stream",
          "name": "stdout",
          "text": [
            "[array(['FOR', 'Duration', 'DurationUnit'], dtype=object)]\n"
          ]
        }
      ]
    },
    {
      "cell_type": "code",
      "source": [
        "predictions = predict(\"take 2 tabs po tid for 10 days\")\n",
        "print(predictions)"
      ],
      "metadata": {
        "colab": {
          "base_uri": "https://localhost:8080/"
        },
        "id": "95o_adDzv64f",
        "outputId": "305b2d64-9e45-4587-cc7e-95c4de2112ed"
      },
      "execution_count": null,
      "outputs": [
        {
          "output_type": "stream",
          "name": "stdout",
          "text": [
            "[array(['Method', 'Qty', 'Form', 'PO', 'TID', 'FOR', 'Duration',\n",
            "       'DurationUnit'], dtype=object)]\n"
          ]
        }
      ]
    },
    {
      "cell_type": "code",
      "source": [
        "predictions = predict(\"take 2 capsules po every 6 hours\")\n",
        "print(predictions)"
      ],
      "metadata": {
        "colab": {
          "base_uri": "https://localhost:8080/"
        },
        "id": "WgiuykLnwCCV",
        "outputId": "743ec578-4d19-44f9-993b-a13cae3767b9"
      },
      "execution_count": null,
      "outputs": [
        {
          "output_type": "stream",
          "name": "stdout",
          "text": [
            "[array(['Method', 'Qty', 'Form', 'PO', 'EVERY', 'Period', 'PeriodUnit'],\n",
            "      dtype=object)]\n"
          ]
        }
      ]
    },
    {
      "cell_type": "code",
      "source": [
        "predictions = predict(\"inject 2 units pu tid\")\n",
        "print(predictions)"
      ],
      "metadata": {
        "colab": {
          "base_uri": "https://localhost:8080/"
        },
        "id": "A8TFs10PwED8",
        "outputId": "c7c794c7-6b74-46cf-c81c-d17bfd6dbd4e"
      },
      "execution_count": null,
      "outputs": [
        {
          "output_type": "stream",
          "name": "stdout",
          "text": [
            "[array(['Method', 'Qty', 'Form', 'Frequency', 'TID'], dtype=object)]\n"
          ]
        }
      ]
    },
    {
      "cell_type": "code",
      "source": [
        "predictions = predict(\"swallow 3 caps tid by mouth\")\n",
        "print(predictions)"
      ],
      "metadata": {
        "colab": {
          "base_uri": "https://localhost:8080/"
        },
        "id": "nHzyOPBbwKFw",
        "outputId": "e5336d30-aa6d-4ab4-dbad-9c584678525e"
      },
      "execution_count": null,
      "outputs": [
        {
          "output_type": "stream",
          "name": "stdout",
          "text": [
            "[array(['Method', 'Qty', 'Form', 'TID', 'BY', 'PO'], dtype=object)]\n"
          ]
        }
      ]
    },
    {
      "cell_type": "code",
      "source": [
        "predictions = predict(\"inject 3 units orally\")\n",
        "print(predictions)"
      ],
      "metadata": {
        "colab": {
          "base_uri": "https://localhost:8080/"
        },
        "id": "7q3kEzvWwNoe",
        "outputId": "04c98780-214f-4c3f-d154-64f23d54829b"
      },
      "execution_count": null,
      "outputs": [
        {
          "output_type": "stream",
          "name": "stdout",
          "text": [
            "[array(['Method', 'Qty', 'Form', 'Frequency'], dtype=object)]\n"
          ]
        }
      ]
    },
    {
      "cell_type": "code",
      "source": [
        "predictions = predict(\"orally take 3 tabs tid\")\n",
        "print(predictions)"
      ],
      "metadata": {
        "colab": {
          "base_uri": "https://localhost:8080/"
        },
        "id": "Ba2l_fHvwUNy",
        "outputId": "b093ea41-1264-4bcc-fc13-4f5908e12eea"
      },
      "execution_count": null,
      "outputs": [
        {
          "output_type": "stream",
          "name": "stdout",
          "text": [
            "[array(['Method', 'Method', 'Qty', 'Form', 'TID'], dtype=object)]\n"
          ]
        }
      ]
    },
    {
      "cell_type": "code",
      "source": [
        "predictions = predict(\"by mouth take three caps\")\n",
        "print(predictions)"
      ],
      "metadata": {
        "colab": {
          "base_uri": "https://localhost:8080/"
        },
        "id": "ARR215d5wa7l",
        "outputId": "f1e7ea7c-e19b-4aba-e7ce-50d1534e4bc3"
      },
      "execution_count": null,
      "outputs": [
        {
          "output_type": "stream",
          "name": "stdout",
          "text": [
            "[array(['BY', 'PO', 'Method', 'Qty', 'Form'], dtype=object)]\n"
          ]
        }
      ]
    },
    {
      "cell_type": "code",
      "source": [
        "predictions = predict(\"take 3 tabs orally three times a day for 10 days at bedtime\")\n",
        "print(predictions)"
      ],
      "metadata": {
        "colab": {
          "base_uri": "https://localhost:8080/"
        },
        "id": "5SsrbUN6wh_9",
        "outputId": "3d3cd963-a184-43ce-fcd9-09fc0f0fa277"
      },
      "execution_count": null,
      "outputs": [
        {
          "output_type": "stream",
          "name": "stdout",
          "text": [
            "[array(['Method', 'Qty', 'Form', 'Frequency', 'Qty', 'TIMES', 'Period',\n",
            "       'PeriodUnit', 'FOR', 'Duration', 'DurationUnit', 'AT', 'WHEN'],\n",
            "      dtype=object)]\n"
          ]
        }
      ]
    },
    {
      "cell_type": "code",
      "source": [
        "predictions = predict(\"take 3 tabs orally bid for 10 days at bedtime\")\n",
        "print(predictions)"
      ],
      "metadata": {
        "colab": {
          "base_uri": "https://localhost:8080/"
        },
        "id": "RapApCDCwpU5",
        "outputId": "3f3af065-ea48-478d-8b3f-469466f9e5d8"
      },
      "execution_count": null,
      "outputs": [
        {
          "output_type": "stream",
          "name": "stdout",
          "text": [
            "[array(['Method', 'Qty', 'Form', 'Frequency', 'PeriodUnit', 'FOR',\n",
            "       'Duration', 'DurationUnit', 'AT', 'WHEN'], dtype=object)]\n"
          ]
        }
      ]
    },
    {
      "cell_type": "code",
      "source": [
        "predictions = predict(\"take 3 tabs bid orally at bed\")\n",
        "print(predictions)"
      ],
      "metadata": {
        "colab": {
          "base_uri": "https://localhost:8080/"
        },
        "id": "1-Cv6a1CwuZJ",
        "outputId": "82f23759-5692-413d-f7cc-458d60b10afa"
      },
      "execution_count": null,
      "outputs": [
        {
          "output_type": "stream",
          "name": "stdout",
          "text": [
            "[array(['Method', 'Qty', 'Form', 'Frequency', 'PeriodUnit', 'AT', 'WHEN'],\n",
            "      dtype=object)]\n"
          ]
        }
      ]
    },
    {
      "cell_type": "code",
      "source": [
        "predictions = predict(\"take 10 capsules by mouth qid\")\n",
        "print(predictions)"
      ],
      "metadata": {
        "colab": {
          "base_uri": "https://localhost:8080/"
        },
        "id": "PMwzxB33wzv6",
        "outputId": "77ec96db-b32a-491b-eff1-9e15117bfaee"
      },
      "execution_count": null,
      "outputs": [
        {
          "output_type": "stream",
          "name": "stdout",
          "text": [
            "[array(['Method', 'Qty', 'Form', 'BY', 'PO', 'QID'], dtype=object)]\n"
          ]
        }
      ]
    },
    {
      "cell_type": "code",
      "source": [
        "predictions = predict(\"inject 10 units orally qid x 3 months\")\n",
        "print(predictions)"
      ],
      "metadata": {
        "colab": {
          "base_uri": "https://localhost:8080/"
        },
        "id": "SxYLk9v_w4b_",
        "outputId": "fbbb94ad-c459-450a-8cde-544e576e42ec"
      },
      "execution_count": null,
      "outputs": [
        {
          "output_type": "stream",
          "name": "stdout",
          "text": [
            "[array(['Method', 'Qty', 'Form', 'Frequency', 'QID', 'FOR', 'Duration',\n",
            "       'DurationUnit'], dtype=object)]\n"
          ]
        }
      ]
    },
    {
      "cell_type": "code",
      "source": [
        "predictions = predict(\"please take 2 tablets per day for a month in the morning and evening each day\")\n",
        "print(predictions)"
      ],
      "metadata": {
        "colab": {
          "base_uri": "https://localhost:8080/"
        },
        "id": "AiD8Gh2mw9Rw",
        "outputId": "8114181d-50a2-4aea-fc11-d740b09be052"
      },
      "execution_count": null,
      "outputs": [
        {
          "output_type": "stream",
          "name": "stdout",
          "text": [
            "[array(['Method', 'Method', 'Qty', 'Form', 'Frequency', 'PeriodUnit',\n",
            "       'FOR', 'Period', 'PeriodUnit', 'EVERY', 'Period', 'PeriodUnit',\n",
            "       'AND', 'EVERY', 'Period', 'PeriodUnit'], dtype=object)]\n"
          ]
        }
      ]
    },
    {
      "cell_type": "code",
      "source": [
        "predictions = predict(\"Amoxcicillin QID 30 tablets\")\n",
        "print(predictions)"
      ],
      "metadata": {
        "colab": {
          "base_uri": "https://localhost:8080/"
        },
        "id": "Oy7Bl-m5xCQb",
        "outputId": "a0e1d513-a441-40fc-b0fb-c95a500b07aa"
      },
      "execution_count": null,
      "outputs": [
        {
          "output_type": "stream",
          "name": "stdout",
          "text": [
            "[array(['Duration', 'DurationUnit', 'Qty', 'Form'], dtype=object)]\n"
          ]
        }
      ]
    },
    {
      "cell_type": "code",
      "source": [
        "prediction = predict(\"take 3 tabs TID for 90 days with food\")\n",
        "print(predictions)"
      ],
      "metadata": {
        "colab": {
          "base_uri": "https://localhost:8080/"
        },
        "id": "fudHZFq82PZn",
        "outputId": "34082d09-91bc-4bba-8653-2f6ef899f718"
      },
      "execution_count": null,
      "outputs": [
        {
          "output_type": "stream",
          "name": "stdout",
          "text": [
            "[array(['Duration', 'DurationUnit', 'Qty', 'Form'], dtype=object)]\n"
          ]
        }
      ]
    },
    {
      "cell_type": "code",
      "source": [
        "prediction = predict(\"with food take 3 tablets per day for 90 days\")\n",
        "print(predictions)"
      ],
      "metadata": {
        "colab": {
          "base_uri": "https://localhost:8080/"
        },
        "id": "hK4KKnM02SuG",
        "outputId": "ce325323-ee27-4fed-e52d-64a56f411123"
      },
      "execution_count": null,
      "outputs": [
        {
          "output_type": "stream",
          "name": "stdout",
          "text": [
            "[array(['Duration', 'DurationUnit', 'Qty', 'Form'], dtype=object)]\n"
          ]
        }
      ]
    },
    {
      "cell_type": "code",
      "source": [
        "prediction = predict(\"with food take 3 tablets per week for 90 weeks\")\n",
        "print(predictions)"
      ],
      "metadata": {
        "colab": {
          "base_uri": "https://localhost:8080/"
        },
        "id": "DpNveAGS2XN5",
        "outputId": "c29add4c-1b3e-4014-e538-d8b01d3ee9b9"
      },
      "execution_count": null,
      "outputs": [
        {
          "output_type": "stream",
          "name": "stdout",
          "text": [
            "[array(['Duration', 'DurationUnit', 'Qty', 'Form'], dtype=object)]\n"
          ]
        }
      ]
    },
    {
      "cell_type": "code",
      "source": [
        "prediction = predict(\"take 2-4 tabs\")\n",
        "print(predictions)"
      ],
      "metadata": {
        "colab": {
          "base_uri": "https://localhost:8080/"
        },
        "id": "t_jqi6Hb2cM4",
        "outputId": "aee3c051-4db5-4302-e675-2b913afedb3b"
      },
      "execution_count": null,
      "outputs": [
        {
          "output_type": "stream",
          "name": "stdout",
          "text": [
            "[array(['Duration', 'DurationUnit', 'Qty', 'Form'], dtype=object)]\n"
          ]
        }
      ]
    },
    {
      "cell_type": "code",
      "source": [
        "prediction = predict(\"take 2 to 4 tabs\")\n",
        "print(predictions)"
      ],
      "metadata": {
        "colab": {
          "base_uri": "https://localhost:8080/"
        },
        "id": "lRxtQuch2mFw",
        "outputId": "578d28f2-a76f-4891-9773-49961945d92f"
      },
      "execution_count": null,
      "outputs": [
        {
          "output_type": "stream",
          "name": "stdout",
          "text": [
            "[array(['Duration', 'DurationUnit', 'Qty', 'Form'], dtype=object)]\n"
          ]
        }
      ]
    },
    {
      "cell_type": "code",
      "source": [
        "prediction = predict(\"take two to four tabs\")\n",
        "print(predictions)"
      ],
      "metadata": {
        "colab": {
          "base_uri": "https://localhost:8080/"
        },
        "id": "v8Ax9m4x2sBP",
        "outputId": "e0412475-f89f-47ad-9545-0e371fb5c08a"
      },
      "execution_count": null,
      "outputs": [
        {
          "output_type": "stream",
          "name": "stdout",
          "text": [
            "[array(['Method', 'Qty', 'Form', 'EVERY', 'Period', 'TO', 'PeriodMax',\n",
            "       'PeriodUnit'], dtype=object)]\n"
          ]
        }
      ]
    },
    {
      "cell_type": "code",
      "source": [
        "prediction = predict(\"take 2-4 tabs for 8 to 9 days\")\n",
        "print(predictions)"
      ],
      "metadata": {
        "colab": {
          "base_uri": "https://localhost:8080/"
        },
        "id": "AtcticSB2x19",
        "outputId": "918e1fbd-902e-4f73-ee50-dd5dabef2e70"
      },
      "execution_count": null,
      "outputs": [
        {
          "output_type": "stream",
          "name": "stdout",
          "text": [
            "[array(['Method', 'Qty', 'Form', 'EVERY', 'Period', 'TO', 'PeriodMax',\n",
            "       'PeriodUnit'], dtype=object)]\n"
          ]
        }
      ]
    },
    {
      "cell_type": "code",
      "source": [
        "prediction = predict(\"take 20 tabs every 6 to 8 days\")\n",
        "print(predictions)"
      ],
      "metadata": {
        "colab": {
          "base_uri": "https://localhost:8080/"
        },
        "id": "Wllc9ATY23AN",
        "outputId": "3e251dae-669c-4a9f-fc9b-7705f77bb3bc"
      },
      "execution_count": null,
      "outputs": [
        {
          "output_type": "stream",
          "name": "stdout",
          "text": [
            "[array(['Method', 'Qty', 'Form', 'EVERY', 'Period', 'TO', 'PeriodMax',\n",
            "       'PeriodUnit'], dtype=object)]\n"
          ]
        }
      ]
    },
    {
      "cell_type": "code",
      "source": [
        "prediction = predict(\"take 2 tabs every 4 to 6 days\")\n",
        "print(predictions)"
      ],
      "metadata": {
        "colab": {
          "base_uri": "https://localhost:8080/"
        },
        "id": "PX6mX4Mh29_B",
        "outputId": "2a8c45d4-31b3-4359-b5d8-f8b783236c91"
      },
      "execution_count": null,
      "outputs": [
        {
          "output_type": "stream",
          "name": "stdout",
          "text": [
            "[array(['Method', 'Qty', 'Form', 'EVERY', 'Period', 'TO', 'PeriodMax',\n",
            "       'PeriodUnit'], dtype=object)]\n"
          ]
        }
      ]
    },
    {
      "cell_type": "code",
      "source": [
        "predictions = predict(\"take 2 tabs every 2 to 10 weeks\")\n",
        "print(predictions)"
      ],
      "metadata": {
        "colab": {
          "base_uri": "https://localhost:8080/"
        },
        "id": "gOo7FSb_3J2c",
        "outputId": "cfe2eccb-8a46-4482-8649-be014f4baa65"
      },
      "execution_count": null,
      "outputs": [
        {
          "output_type": "stream",
          "name": "stdout",
          "text": [
            "[array(['Method', 'Qty', 'Form', 'EVERY', 'Period', 'TO', 'PeriodMax',\n",
            "       'PeriodUnit'], dtype=object)]\n"
          ]
        }
      ]
    },
    {
      "cell_type": "code",
      "source": [
        "prediction = predict(\"take 2 tabs every 4 to 6 days\")\n",
        "print(predictions)"
      ],
      "metadata": {
        "id": "Au7LHxkR3lGN",
        "outputId": "6bfb5517-9e38-483c-b8c8-244f33471c09",
        "colab": {
          "base_uri": "https://localhost:8080/"
        }
      },
      "execution_count": null,
      "outputs": [
        {
          "output_type": "stream",
          "name": "stdout",
          "text": [
            "[array(['Method', 'Qty', 'Form', 'EVERY', 'Period', 'TO', 'PeriodMax',\n",
            "       'PeriodUnit'], dtype=object)]\n"
          ]
        }
      ]
    }
  ]
}