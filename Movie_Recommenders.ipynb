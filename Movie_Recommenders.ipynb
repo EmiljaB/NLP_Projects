{
  "nbformat": 4,
  "nbformat_minor": 0,
  "metadata": {
    "colab": {
      "provenance": [],
      "gpuType": "T4",
      "authorship_tag": "ABX9TyNjPRW+Dq8fVEEVX91pLeS3",
      "include_colab_link": true
    },
    "kernelspec": {
      "name": "python3",
      "display_name": "Python 3"
    },
    "language_info": {
      "name": "python"
    },
    "accelerator": "GPU"
  },
  "cells": [
    {
      "cell_type": "markdown",
      "metadata": {
        "id": "view-in-github",
        "colab_type": "text"
      },
      "source": [
        "<a href=\"https://colab.research.google.com/github/EmiljaB/NLP_Projects/blob/Movies_Recomender/Movie_Recommenders.ipynb\" target=\"_parent\"><img src=\"https://colab.research.google.com/assets/colab-badge.svg\" alt=\"Open In Colab\"/></a>"
      ]
    },
    {
      "cell_type": "markdown",
      "source": [
        "# Build a Movie Recommender system with the following methods:\n",
        "### Emilja Beneja\n",
        "#### Popularity\n",
        "#### Content Filter\n",
        "#### Collaborative Filter\n",
        "#### Matrix Factorization\n",
        "*NOTE: I used the 1M dataset because the runtime would disconnect even when switched to GPU, it reached the RAM limit.*"
      ],
      "metadata": {
        "id": "FQsLA8WwACD5"
      }
    },
    {
      "cell_type": "code",
      "source": [
        "import pandas as pd\n",
        "import numpy as np\n",
        "from matplotlib import pyplot as plt"
      ],
      "metadata": {
        "id": "c2sVb1sQxjcc"
      },
      "execution_count": null,
      "outputs": []
    },
    {
      "cell_type": "markdown",
      "source": [
        "### Load and Preprocess Data"
      ],
      "metadata": {
        "id": "YBigYTcNzYJQ"
      }
    },
    {
      "cell_type": "code",
      "source": [
        "!wget https://files.grouplens.org/datasets/movielens/ml-1m.zip\n",
        "!unzip ml-1m.zip -d ./ml-1m/"
      ],
      "metadata": {
        "colab": {
          "base_uri": "https://localhost:8080/"
        },
        "id": "GWxIgTfqx7y5",
        "outputId": "4104e890-194e-4c94-9469-14b3aae08516"
      },
      "execution_count": null,
      "outputs": [
        {
          "output_type": "stream",
          "name": "stdout",
          "text": [
            "--2024-11-16 21:30:29--  https://files.grouplens.org/datasets/movielens/ml-1m.zip\n",
            "Resolving files.grouplens.org (files.grouplens.org)... 128.101.65.152\n",
            "Connecting to files.grouplens.org (files.grouplens.org)|128.101.65.152|:443... connected.\n",
            "HTTP request sent, awaiting response... 200 OK\n",
            "Length: 5917549 (5.6M) [application/zip]\n",
            "Saving to: ‘ml-1m.zip’\n",
            "\n",
            "ml-1m.zip           100%[===================>]   5.64M  18.8MB/s    in 0.3s    \n",
            "\n",
            "2024-11-16 21:30:29 (18.8 MB/s) - ‘ml-1m.zip’ saved [5917549/5917549]\n",
            "\n",
            "Archive:  ml-1m.zip\n",
            "   creating: ./ml-1m/ml-1m/\n",
            "  inflating: ./ml-1m/ml-1m/movies.dat  \n",
            "  inflating: ./ml-1m/ml-1m/ratings.dat  \n",
            "  inflating: ./ml-1m/ml-1m/README    \n",
            "  inflating: ./ml-1m/ml-1m/users.dat  \n"
          ]
        }
      ]
    },
    {
      "cell_type": "code",
      "source": [
        "import pandas as pd\n",
        "\n",
        "# Load datasets\n",
        "ratings_file = './ml-1m/ml-1m/ratings.dat'\n",
        "movies_file = './ml-1m/ml-1m/movies.dat'\n",
        "ratings = pd.read_csv(ratings_file, sep='::', engine='python', names=['userId', 'movieId', 'rating', 'timestamp'], encoding='latin1')\n",
        "movies = pd.read_csv(movies_file, sep='::', engine='python', names=['movieId', 'title', 'genres'], encoding='latin1')\n",
        "\n",
        "# Create user-movie rating matrix\n",
        "user_movie_matrix = ratings.pivot(index='userId', columns='movieId', values='rating').fillna(0)\n",
        "\n",
        "# Align movies in both datasets\n",
        "common_movie_ids = user_movie_matrix.columns.intersection(movies['movieId'])\n",
        "\n",
        "# Filter movies and user_movie_matrix\n",
        "movies_filtered = movies[movies['movieId'].isin(common_movie_ids)].reset_index(drop=True)\n",
        "user_movie_matrix = user_movie_matrix[common_movie_ids]\n",
        "\n",
        "print(f\"Number of common movies: {len(common_movie_ids)}\")\n"
      ],
      "metadata": {
        "colab": {
          "base_uri": "https://localhost:8080/"
        },
        "id": "swPI1OQFyAwb",
        "outputId": "d3467ab1-5600-4911-c72e-db3e185002a9"
      },
      "execution_count": null,
      "outputs": [
        {
          "output_type": "stream",
          "name": "stdout",
          "text": [
            "Number of common movies: 3706\n"
          ]
        }
      ]
    },
    {
      "cell_type": "markdown",
      "source": [
        "### Create Metadata for Content Filtering"
      ],
      "metadata": {
        "id": "EoRYdiR7zb5g"
      }
    },
    {
      "cell_type": "code",
      "source": [
        "# Create metadata by merging movies and tags (simulated since 1M dataset lacks tags.csv)\n",
        "movies['metadata'] = movies['genres']  # Use genres as metadata\n",
        "\n",
        "print(\"\\nMetadata for Content Filtering:\")\n",
        "print(movies.head())\n"
      ],
      "metadata": {
        "colab": {
          "base_uri": "https://localhost:8080/"
        },
        "id": "gjeRTAMazeq8",
        "outputId": "77c05020-a873-4952-d41d-ba570a5ea918"
      },
      "execution_count": null,
      "outputs": [
        {
          "output_type": "stream",
          "name": "stdout",
          "text": [
            "\n",
            "Metadata for Content Filtering:\n",
            "   movieId                               title                        genres  \\\n",
            "0        1                    Toy Story (1995)   Animation|Children's|Comedy   \n",
            "1        2                      Jumanji (1995)  Adventure|Children's|Fantasy   \n",
            "2        3             Grumpier Old Men (1995)                Comedy|Romance   \n",
            "3        4            Waiting to Exhale (1995)                  Comedy|Drama   \n",
            "4        5  Father of the Bride Part II (1995)                        Comedy   \n",
            "\n",
            "                       metadata  \n",
            "0   Animation|Children's|Comedy  \n",
            "1  Adventure|Children's|Fantasy  \n",
            "2                Comedy|Romance  \n",
            "3                  Comedy|Drama  \n",
            "4                        Comedy  \n"
          ]
        }
      ]
    },
    {
      "cell_type": "markdown",
      "source": [
        "### Popularity-Based Recommender"
      ],
      "metadata": {
        "id": "Rrpu1ao5zj5V"
      }
    },
    {
      "cell_type": "code",
      "source": [
        "# Popularity model: top movies by average rating\n",
        "popularity_model = ratings.groupby('movieId')['rating'].mean().sort_values(ascending=False).reset_index()\n",
        "\n",
        "# Merge with movie titles\n",
        "popularity_model = pd.merge(popularity_model, movies[['movieId', 'title']], on='movieId')\n",
        "popularity_model.columns = ['movieId', 'avg_rating', 'title']\n",
        "\n",
        "# Top 10 popular movies\n",
        "print(\"\\nTop 10 Popular Movies:\")\n",
        "print(popularity_model.head(10))\n"
      ],
      "metadata": {
        "colab": {
          "base_uri": "https://localhost:8080/"
        },
        "id": "P8PfXoqDzmk8",
        "outputId": "edfa2b5d-2021-4d38-a460-9c5ca5d74f61"
      },
      "execution_count": null,
      "outputs": [
        {
          "output_type": "stream",
          "name": "stdout",
          "text": [
            "\n",
            "Top 10 Popular Movies:\n",
            "   movieId  avg_rating                                      title\n",
            "0      989         5.0  Schlafes Bruder (Brother of Sleep) (1995)\n",
            "1     3881         5.0                   Bittersweet Motel (2000)\n",
            "2     1830         5.0                    Follow the Bitch (1998)\n",
            "3     3382         5.0                     Song of Freedom (1936)\n",
            "4      787         5.0         Gate of Heavenly Peace, The (1995)\n",
            "5     3280         5.0                           Baby, The (1973)\n",
            "6     3607         5.0                   One Little Indian (1973)\n",
            "7     3233         5.0                       Smashing Time (1967)\n",
            "8     3172         5.0                    Ulysses (Ulisse) (1954)\n",
            "9     3656         5.0                               Lured (1947)\n"
          ]
        }
      ]
    },
    {
      "cell_type": "markdown",
      "source": [
        "### Content-Based Filtering with TF-IDF and Truncated SVD"
      ],
      "metadata": {
        "id": "UyDfHAybzqmQ"
      }
    },
    {
      "cell_type": "code",
      "source": [
        "from sklearn.feature_extraction.text import TfidfVectorizer\n",
        "from sklearn.decomposition import TruncatedSVD\n",
        "\n",
        "# Fill missing metadata with empty strings\n",
        "movies['metadata'] = movies['metadata'].fillna('')\n",
        "\n",
        "# TF-IDF Vectorization\n",
        "tfidf = TfidfVectorizer(stop_words='english')\n",
        "tfidf_matrix = tfidf.fit_transform(movies['metadata'])\n",
        "\n",
        "# Dimensionality reduction using Truncated SVD\n",
        "svd = TruncatedSVD(n_components=10, random_state=42)\n",
        "latent_matrix_1 = svd.fit_transform(tfidf_matrix)\n",
        "\n",
        "print(\"\\nLatent Matrix 1 Shape (Content-Based):\", latent_matrix_1.shape)\n",
        "\n"
      ],
      "metadata": {
        "colab": {
          "base_uri": "https://localhost:8080/"
        },
        "id": "njGkkbA_zuFK",
        "outputId": "25b8999a-381b-46f3-9f7b-ebcbe0801421"
      },
      "execution_count": null,
      "outputs": [
        {
          "output_type": "stream",
          "name": "stdout",
          "text": [
            "\n",
            "Latent Matrix 1 Shape (Content-Based): (3883, 10)\n"
          ]
        }
      ]
    },
    {
      "cell_type": "markdown",
      "source": [
        "### Collaborative Filtering on User-Movie Matrix"
      ],
      "metadata": {
        "id": "B3mLcswAz2AG"
      }
    },
    {
      "cell_type": "code",
      "source": [
        "from scipy.sparse import csr_matrix\n",
        "from sklearn.decomposition import TruncatedSVD\n",
        "\n",
        "# Create user-movie matrix\n",
        "user_movie_matrix = ratings.pivot(index='userId', columns='movieId', values='rating').fillna(0)\n",
        "\n",
        "# Convert to sparse matrix to save memory\n",
        "sparse_matrix = csr_matrix(user_movie_matrix.values)\n",
        "\n",
        "# Dimensionality reduction using Truncated SVD\n",
        "svd = TruncatedSVD(n_components=50, random_state=42)\n",
        "latent_matrix_2 = svd.fit_transform(sparse_matrix)\n",
        "\n",
        "print(\"\\nLatent Matrix 2 Shape (Collaborative-Based):\", latent_matrix_2.shape)\n"
      ],
      "metadata": {
        "colab": {
          "base_uri": "https://localhost:8080/"
        },
        "id": "_64hDwAvz3CN",
        "outputId": "c7e78ab2-a3ca-4028-ce88-08aa65d8e470"
      },
      "execution_count": null,
      "outputs": [
        {
          "output_type": "stream",
          "name": "stdout",
          "text": [
            "\n",
            "Latent Matrix 2 Shape (Collaborative-Based): (6040, 50)\n"
          ]
        }
      ]
    },
    {
      "cell_type": "markdown",
      "source": [
        "### Matrix Factorization with scikit-learn"
      ],
      "metadata": {
        "id": "yiNSJCPM5sNX"
      }
    },
    {
      "cell_type": "code",
      "source": [
        "!pip install scikit-learn\n"
      ],
      "metadata": {
        "colab": {
          "base_uri": "https://localhost:8080/"
        },
        "id": "FMVN7BU45y6y",
        "outputId": "4db3cc91-2ac4-40e2-e6a0-1e78b57fbdf8"
      },
      "execution_count": null,
      "outputs": [
        {
          "output_type": "stream",
          "name": "stdout",
          "text": [
            "Requirement already satisfied: scikit-learn in /usr/local/lib/python3.10/dist-packages (1.5.2)\n",
            "Requirement already satisfied: numpy>=1.19.5 in /usr/local/lib/python3.10/dist-packages (from scikit-learn) (1.26.4)\n",
            "Requirement already satisfied: scipy>=1.6.0 in /usr/local/lib/python3.10/dist-packages (from scikit-learn) (1.13.1)\n",
            "Requirement already satisfied: joblib>=1.2.0 in /usr/local/lib/python3.10/dist-packages (from scikit-learn) (1.4.2)\n",
            "Requirement already satisfied: threadpoolctl>=3.1.0 in /usr/local/lib/python3.10/dist-packages (from scikit-learn) (3.5.0)\n"
          ]
        }
      ]
    },
    {
      "cell_type": "code",
      "source": [
        "from sklearn.decomposition import TruncatedSVD\n",
        "import numpy as np\n",
        "\n",
        "# Create user-movie rating matrix\n",
        "user_movie_matrix = ratings.pivot(index='userId', columns='movieId', values='rating').fillna(0)\n",
        "\n",
        "# Convert the DataFrame to a numpy array\n",
        "X = user_movie_matrix.values\n",
        "\n",
        "# Apply Truncated SVD\n",
        "svd = TruncatedSVD(n_components=50, random_state=42)\n",
        "matrix_factorization = svd.fit_transform(X)\n",
        "\n",
        "print(\"\\nMatrix Factorization Shape:\", matrix_factorization.shape)\n"
      ],
      "metadata": {
        "colab": {
          "base_uri": "https://localhost:8080/"
        },
        "id": "LxrERJ0j5uw6",
        "outputId": "e3b89736-9101-4be6-9fd0-82405f14188b"
      },
      "execution_count": null,
      "outputs": [
        {
          "output_type": "stream",
          "name": "stdout",
          "text": [
            "\n",
            "Matrix Factorization Shape: (6040, 50)\n"
          ]
        }
      ]
    },
    {
      "cell_type": "markdown",
      "source": [
        "### Recommending Movies using Matrix Factorization"
      ],
      "metadata": {
        "id": "3jTgoK0k7WQY"
      }
    },
    {
      "cell_type": "code",
      "source": [
        "import numpy as np\n",
        "\n",
        "# Function to recommend movies to a user based on predicted ratings\n",
        "def recommend_movies(user_id, n_recommendations=5):\n",
        "    user_index = user_movie_matrix.index.get_loc(user_id)\n",
        "    user_ratings = X_reconstructed[user_index]\n",
        "\n",
        "    # Get indices of movies the user hasn't rated yet\n",
        "    rated_movies = np.where(user_movie_matrix.iloc[user_index].values > 0)[0]  # Use numpy where\n",
        "    unrated_movies = np.setdiff1d(np.arange(user_movie_matrix.shape[1]), rated_movies)\n",
        "\n",
        "    # Get predicted ratings for unrated movies\n",
        "    predicted_ratings = user_ratings[unrated_movies]\n",
        "\n",
        "    # Get top N recommendations\n",
        "    top_indices = predicted_ratings.argsort()[::-1][:n_recommendations]\n",
        "    movie_indices = unrated_movies[top_indices]\n",
        "\n",
        "    # Get movie IDs and titles\n",
        "    recommended_movie_ids = user_movie_matrix.columns[movie_indices]\n",
        "    recommended_movies = movies[movies['movieId'].isin(recommended_movie_ids)]\n",
        "\n",
        "    return recommended_movies['title'].values\n",
        "\n",
        "# Example usage\n",
        "print(\"\\nRecommendations for User 1:\")\n",
        "print(recommend_movies(1))\n"
      ],
      "metadata": {
        "colab": {
          "base_uri": "https://localhost:8080/"
        },
        "id": "KNUdcISx7ZM3",
        "outputId": "44ccf80e-1ade-4719-b526-37d7c0c85caf"
      },
      "execution_count": null,
      "outputs": [
        {
          "output_type": "stream",
          "name": "stdout",
          "text": [
            "\n",
            "Recommendations for User 1:\n",
            "['Babe (1995)' 'Shawshank Redemption, The (1994)' 'Lion King, The (1994)'\n",
            " 'Fantasia (1940)' 'Little Mermaid, The (1989)']\n"
          ]
        }
      ]
    },
    {
      "cell_type": "markdown",
      "source": [
        "### Hybrid Model\n",
        "Combine the latent features from both content-based filtering and collaborative filtering to create a hybrid model."
      ],
      "metadata": {
        "id": "grUC3wht7tWY"
      }
    },
    {
      "cell_type": "markdown",
      "source": [
        "##### Content-Based Latent Matrix"
      ],
      "metadata": {
        "id": "p26ToC5B74ux"
      }
    },
    {
      "cell_type": "code",
      "source": [
        "# Use metadata for aligned movies\n",
        "movies_filtered['metadata'] = movies_filtered['title'] + ' ' + movies_filtered['genres']\n",
        "movies_filtered['metadata'] = movies_filtered['metadata'].fillna('')\n",
        "\n",
        "# TF-IDF and SVD\n",
        "tfidf = TfidfVectorizer(stop_words='english')\n",
        "tfidf_matrix = tfidf.fit_transform(movies_filtered['metadata'])\n",
        "\n",
        "svd_content = TruncatedSVD(n_components=50, random_state=42)\n",
        "latent_matrix_1 = svd_content.fit_transform(tfidf_matrix)\n",
        "\n",
        "print(\"\\nContent-Based Latent Matrix Shape:\", latent_matrix_1.shape)\n",
        "\n"
      ],
      "metadata": {
        "colab": {
          "base_uri": "https://localhost:8080/"
        },
        "id": "lzoEC2UU78Mn",
        "outputId": "861d0021-332c-4480-b286-a31b4a1728cf"
      },
      "execution_count": null,
      "outputs": [
        {
          "output_type": "stream",
          "name": "stdout",
          "text": [
            "\n",
            "Content-Based Latent Matrix Shape: (3706, 50)\n"
          ]
        }
      ]
    },
    {
      "cell_type": "markdown",
      "source": [
        "##### Collaborative Filtering Latent Matrix"
      ],
      "metadata": {
        "id": "OOi1VWZp8E2b"
      }
    },
    {
      "cell_type": "code",
      "source": [
        "from scipy.sparse import csr_matrix\n",
        "\n",
        "# Sparse matrix for efficiency\n",
        "sparse_matrix = csr_matrix(user_movie_matrix.values)\n",
        "\n",
        "# SVD for collaborative filtering\n",
        "svd_collab = TruncatedSVD(n_components=50, random_state=42)\n",
        "movie_latent_features = svd_collab.fit_transform(sparse_matrix.T)\n",
        "\n",
        "print(\"\\nCollaborative Latent Matrix Shape:\", movie_latent_features.shape)\n",
        "\n"
      ],
      "metadata": {
        "colab": {
          "base_uri": "https://localhost:8080/"
        },
        "id": "ThgPLcmd8H_u",
        "outputId": "648e9f7f-96a4-4ee7-ede9-c570131aaae0"
      },
      "execution_count": null,
      "outputs": [
        {
          "output_type": "stream",
          "name": "stdout",
          "text": [
            "\n",
            "Collaborative Latent Matrix Shape: (3706, 50)\n"
          ]
        }
      ]
    },
    {
      "cell_type": "markdown",
      "source": [
        "##### Combine Latent Matrices\n",
        "*Here are some extra steps to align the matrix sizes.*"
      ],
      "metadata": {
        "id": "_gRMhoRc8LfZ"
      }
    },
    {
      "cell_type": "code",
      "source": [
        "# Align movies\n",
        "common_movie_ids = user_movie_matrix.columns.intersection(movies['movieId'])\n",
        "movies_filtered = movies[movies['movieId'].isin(common_movie_ids)].reset_index(drop=True)\n",
        "user_movie_matrix = user_movie_matrix[common_movie_ids]"
      ],
      "metadata": {
        "id": "jf218fD8_G8g"
      },
      "execution_count": null,
      "outputs": []
    },
    {
      "cell_type": "code",
      "source": [
        "# Reindex movies_filtered to match the order of movie IDs in user_movie_matrix\n",
        "movies_filtered = movies_filtered.set_index('movieId').loc[user_movie_matrix.columns].reset_index()\n",
        "\n",
        "# Verify the alignment\n",
        "assert all(movies_filtered['movieId'] == user_movie_matrix.columns), \"Movies are not aligned!\"\n"
      ],
      "metadata": {
        "id": "N4sFMZQW_aZS"
      },
      "execution_count": null,
      "outputs": []
    },
    {
      "cell_type": "code",
      "source": [
        "# Combine content-based and collaborative filtering features\n",
        "hybrid_matrix = np.hstack([latent_matrix_1, movie_latent_features])\n",
        "\n",
        "print(\"\\nHybrid Matrix Shape:\", hybrid_matrix.shape)\n"
      ],
      "metadata": {
        "colab": {
          "base_uri": "https://localhost:8080/"
        },
        "id": "T3VOxSNA8Pb6",
        "outputId": "4011dd3f-4df0-4837-c57c-f4365f373021"
      },
      "execution_count": null,
      "outputs": [
        {
          "output_type": "stream",
          "name": "stdout",
          "text": [
            "\n",
            "Hybrid Matrix Shape: (3706, 100)\n"
          ]
        }
      ]
    },
    {
      "cell_type": "markdown",
      "source": [
        "###  Implementing Hybrid Recommendations"
      ],
      "metadata": {
        "id": "jQx1oXD48hKg"
      }
    },
    {
      "cell_type": "code",
      "source": [
        "from sklearn.metrics.pairwise import cosine_similarity\n",
        "\n",
        "# Compute cosine similarity between movies using the hybrid matrix\n",
        "cosine_sim = cosine_similarity(hybrid_matrix)\n",
        "\n",
        "# Build a reverse mapping of movie titles to indices\n",
        "indices = pd.Series(movies.index, index=movies['title']).drop_duplicates()\n",
        "\n",
        "# Function to get hybrid recommendations based on movie title\n",
        "def hybrid_recommendations(title, n_recommendations=5):\n",
        "    idx = indices[title]\n",
        "\n",
        "    # Compute similarity scores\n",
        "    sim_scores = list(enumerate(cosine_sim[idx]))\n",
        "\n",
        "    # Sort movies based on similarity scores\n",
        "    sim_scores = sorted(sim_scores, key=lambda x: x[1], reverse=True)\n",
        "\n",
        "    # Get the indices of the most similar movies\n",
        "    sim_scores = sim_scores[1:n_recommendations+1]\n",
        "    movie_indices = [i[0] for i in sim_scores]\n",
        "\n",
        "    # Return the top n most similar movies\n",
        "    return movies['title'].iloc[movie_indices].values\n",
        "\n",
        "# Example usage\n",
        "print(\"\\nHybrid Recommendations for 'Toy Story (1995)':\")\n",
        "print(hybrid_recommendations('Toy Story (1995)'))\n"
      ],
      "metadata": {
        "colab": {
          "base_uri": "https://localhost:8080/"
        },
        "id": "Vq6pRGcT8iFn",
        "outputId": "494e07b2-721d-48e1-9003-06d42179e1ba"
      },
      "execution_count": null,
      "outputs": [
        {
          "output_type": "stream",
          "name": "stdout",
          "text": [
            "\n",
            "Hybrid Recommendations for 'Toy Story (1995)':\n",
            "['Bad Seed, The (1956)' 'Babe (1995)' 'Rounders (1998)'\n",
            " 'Hour of the Pig, The (1993)' 'Tie Me Up! Tie Me Down! (1990)']\n"
          ]
        }
      ]
    },
    {
      "cell_type": "markdown",
      "source": [
        "### Collaborative Filtering with Cosine Similarity"
      ],
      "metadata": {
        "id": "hYfW5DDr8kAn"
      }
    },
    {
      "cell_type": "code",
      "source": [
        "from sklearn.metrics.pairwise import cosine_similarity\n",
        "\n",
        "# Compute cosine similarity between users\n",
        "user_similarity = cosine_similarity(user_movie_matrix)\n",
        "\n",
        "# Convert to DataFrame for ease of use\n",
        "user_similarity_df = pd.DataFrame(user_similarity, index=user_movie_matrix.index, columns=user_movie_matrix.index)\n",
        "\n",
        "# Function to recommend movies based on similar users\n",
        "def collaborative_recommendations(user_id, n_recommendations=5):\n",
        "    # Find similar users\n",
        "    similar_users = user_similarity_df[user_id].sort_values(ascending=False).index[1:]\n",
        "\n",
        "    # Get ratings from similar users\n",
        "    similar_users_ratings = ratings[ratings['userId'].isin(similar_users)]\n",
        "\n",
        "    # Aggregate ratings\n",
        "    movie_scores = similar_users_ratings.groupby('movieId')['rating'].mean()\n",
        "\n",
        "    # Exclude movies already rated by the user\n",
        "    user_rated_movies = ratings[ratings['userId'] == user_id]['movieId']\n",
        "    movie_scores = movie_scores[~movie_scores.index.isin(user_rated_movies)]\n",
        "\n",
        "    # Get top N recommendations\n",
        "    top_movies = movie_scores.sort_values(ascending=False).head(n_recommendations)\n",
        "\n",
        "    # Return movie titles\n",
        "    recommended_movies = movies[movies['movieId'].isin(top_movies.index)]\n",
        "    return recommended_movies['title'].values\n",
        "\n",
        "# Example usage\n",
        "print(\"\\nCollaborative Recommendations for User 1:\")\n",
        "print(collaborative_recommendations(1))\n"
      ],
      "metadata": {
        "colab": {
          "base_uri": "https://localhost:8080/"
        },
        "id": "_hkyM-Sm8m7s",
        "outputId": "16a64242-93ba-4510-e8a7-130c97cbe466"
      },
      "execution_count": null,
      "outputs": [
        {
          "output_type": "stream",
          "name": "stdout",
          "text": [
            "\n",
            "Collaborative Recommendations for User 1:\n",
            "['Gate of Heavenly Peace, The (1995)'\n",
            " 'Schlafes Bruder (Brother of Sleep) (1995)' 'Follow the Bitch (1998)'\n",
            " 'Ulysses (Ulisse) (1954)' 'Smashing Time (1967)']\n"
          ]
        }
      ]
    },
    {
      "cell_type": "markdown",
      "source": [
        "### Content-Based Filtering with Cosine Similarity"
      ],
      "metadata": {
        "id": "GJ7D1Y9e8ogD"
      }
    },
    {
      "cell_type": "code",
      "source": [
        "from sklearn.feature_extraction.text import TfidfVectorizer\n",
        "from sklearn.metrics.pairwise import cosine_similarity\n",
        "\n",
        "# Prepare metadata (combine title and genres)\n",
        "movies['metadata'] = movies['title'] + ' ' + movies['genres']\n",
        "\n",
        "# Fill missing values\n",
        "movies['metadata'] = movies['metadata'].fillna('')\n",
        "\n",
        "# Apply TF-IDF Vectorizer\n",
        "tfidf = TfidfVectorizer(stop_words='english')\n",
        "tfidf_matrix = tfidf.fit_transform(movies['metadata'])\n",
        "\n",
        "# Compute cosine similarity\n",
        "cosine_sim = cosine_similarity(tfidf_matrix, tfidf_matrix)\n",
        "\n",
        "# Build a reverse mapping of movie titles to indices\n",
        "indices = pd.Series(movies.index, index=movies['title']).drop_duplicates()\n",
        "\n",
        "# Function to get content-based recommendations\n",
        "def content_recommendations(title, n_recommendations=5):\n",
        "    idx = indices[title]\n",
        "\n",
        "    # Compute similarity scores\n",
        "    sim_scores = list(enumerate(cosine_sim[idx]))\n",
        "\n",
        "    # Sort movies based on similarity scores\n",
        "    sim_scores = sorted(sim_scores, key=lambda x: x[1], reverse=True)\n",
        "\n",
        "    # Get the indices of the most similar movies\n",
        "    sim_scores = sim_scores[1:n_recommendations+1]\n",
        "    movie_indices = [i[0] for i in sim_scores]\n",
        "\n",
        "    # Return the top n most similar movies\n",
        "    return movies['title'].iloc[movie_indices].values\n",
        "\n",
        "# Example usage\n",
        "print(\"\\nContent-Based Recommendations for 'Toy Story (1995)':\")\n",
        "print(content_recommendations('Toy Story (1995)'))\n"
      ],
      "metadata": {
        "colab": {
          "base_uri": "https://localhost:8080/"
        },
        "id": "0h9BkIZx8rlh",
        "outputId": "c9679f05-effa-48c7-ae14-925b7ac7d6f0"
      },
      "execution_count": null,
      "outputs": [
        {
          "output_type": "stream",
          "name": "stdout",
          "text": [
            "\n",
            "Content-Based Recommendations for 'Toy Story (1995)':\n",
            "['Toy Story 2 (1999)' \"We're Back! A Dinosaur's Story (1993)\"\n",
            " 'Story of Us, The (1999)' 'L.A. Story (1991)' 'Balto (1995)']\n"
          ]
        }
      ]
    },
    {
      "cell_type": "markdown",
      "source": [
        "### Popularity-Based Recommender"
      ],
      "metadata": {
        "id": "j5N8EpFZ8tK1"
      }
    },
    {
      "cell_type": "code",
      "source": [
        "# Calculate average ratings and number of ratings for each movie\n",
        "movie_ratings = ratings.groupby('movieId').agg({'rating': ['mean', 'count']})\n",
        "movie_ratings.columns = ['mean_rating', 'rating_count']\n",
        "\n",
        "# Merge with movies DataFrame\n",
        "popularity_df = movies.merge(movie_ratings, on='movieId')\n",
        "\n",
        "# Recommend top N popular movies\n",
        "def popularity_recommendations(n_recommendations=10):\n",
        "    top_movies = popularity_df.sort_values(by=['mean_rating', 'rating_count'], ascending=False).head(n_recommendations)\n",
        "    return top_movies['title'].values\n",
        "\n",
        "# Example usage\n",
        "print(\"\\nTop 10 Popular Movies:\")\n",
        "print(popularity_recommendations())\n"
      ],
      "metadata": {
        "colab": {
          "base_uri": "https://localhost:8080/"
        },
        "id": "grbyqFgl8wJU",
        "outputId": "bee53c76-3d99-4963-ab1f-fb8f1ed5cdcb"
      },
      "execution_count": null,
      "outputs": [
        {
          "output_type": "stream",
          "name": "stdout",
          "text": [
            "\n",
            "Top 10 Popular Movies:\n",
            "['Gate of Heavenly Peace, The (1995)' 'Smashing Time (1967)'\n",
            " 'Schlafes Bruder (Brother of Sleep) (1995)' 'Follow the Bitch (1998)'\n",
            " 'Ulysses (Ulisse) (1954)' 'Baby, The (1973)' 'Song of Freedom (1936)'\n",
            " 'One Little Indian (1973)' 'Lured (1947)' 'Bittersweet Motel (2000)']\n"
          ]
        }
      ]
    }
  ]
}