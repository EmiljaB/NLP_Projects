{
  "nbformat": 4,
  "nbformat_minor": 0,
  "metadata": {
    "colab": {
      "provenance": [],
      "authorship_tag": "ABX9TyOLVNrHKHbLqjcAlZmtj98g",
      "include_colab_link": true
    },
    "kernelspec": {
      "name": "python3",
      "display_name": "Python 3"
    },
    "language_info": {
      "name": "python"
    }
  },
  "cells": [
    {
      "cell_type": "markdown",
      "metadata": {
        "id": "view-in-github",
        "colab_type": "text"
      },
      "source": [
        "<a href=\"https://colab.research.google.com/github/EmiljaB/NLP_Projects/blob/News_Modeling/News_Modeling.ipynb\" target=\"_parent\"><img src=\"https://colab.research.google.com/assets/colab-badge.svg\" alt=\"Open In Colab\"/></a>"
      ]
    },
    {
      "cell_type": "markdown",
      "source": [
        "# News Modeling\n",
        "#### Emilja Beneja\n",
        "\n",
        "Topic modeling involves **extracting features from document terms** and using\n",
        "mathematical structures and frameworks like matrix factorization and SVD to generate **clusters or groups of terms** that are distinguishable from each other and these clusters of words form topics or concepts\n",
        "\n",
        "Topic modeling is a method for **unsupervised classification** of documents, similar to clustering on numeric data\n",
        "\n",
        "These concepts can be used to interpret the main **themes** of a corpus and also make **semantic connections among words that co-occur together** frequently in various documents\n",
        "\n",
        "Topic modeling can help in the following areas:\n",
        "- discovering the **hidden themes** in the collection\n",
        "- **classifying** the documents into the discovered themes\n",
        "- using the classification to **organize/summarize/search** the documents\n",
        "\n",
        "Frameworks and algorithms to build topic models:\n",
        "- Latent semantic indexing\n",
        "- Latent Dirichlet allocation\n",
        "- Non-negative matrix factorization"
      ],
      "metadata": {
        "id": "1Nhc723rBdz5"
      }
    },
    {
      "cell_type": "markdown",
      "source": [
        "## Latent Dirichlet Allocation (LDA)\n",
        "The latent Dirichlet allocation (LDA) technique is a **generative probabilistic model** where each **document is assumed to have a combination of topics** similar to a probabilistic latent semantic indexing model\n",
        "\n",
        "In simple words, the idea behind LDA is that of two folds:\n",
        "- each **document** can be described by a **distribution of topics**\n",
        "- each **topic** can be described by a **distribution of words**"
      ],
      "metadata": {
        "id": "j63KZND3BiOw"
      }
    },
    {
      "cell_type": "markdown",
      "source": [
        "### LDA Algorithm\n",
        "\n",
        "- 1. For each document, **randomly initialize each word to one of the K topics** (k is chosen beforehand)\n",
        "- 2. For each document D, go through each word w and compute:\n",
        "    - **P(T |D)** , which is a proportion of words in D assigned to topic T\n",
        "    - **P(W |T )** , which is a proportion of assignments to topic T over all documents having the word W\n",
        "- **Reassign word W with topic T** with probability P(T |D)´ P(W |T ) considering all other words and their topic assignments\n",
        "\n",
        "![LDA](https://raw.githubusercontent.com/subashgandyer/datasets/main/images/LDA.png)"
      ],
      "metadata": {
        "id": "ioNRlsjsBkis"
      }
    },
    {
      "cell_type": "markdown",
      "source": [
        "### Steps\n",
        "- Install the necessary library\n",
        "- Import the necessary libraries\n",
        "- Download the dataset\n",
        "- Load the dataset\n",
        "- Pre-process the dataset\n",
        "    - Stop words removal\n",
        "    - Email removal\n",
        "    - Non-alphabetic words removal\n",
        "    - Tokenize\n",
        "    - Lowercase\n",
        "    - BiGrams & TriGrams\n",
        "    - Lemmatization\n",
        "- Create a dictionary for the document\n",
        "- Filter low frequency words\n",
        "- Create an Index to word dictionary\n",
        "- Train the Topic Model\n",
        "- Predict on the dataset\n",
        "- Evaluate the Topic Model\n",
        "    - Model Perplexity\n",
        "    - Topic Coherence\n",
        "- Visualize the topics"
      ],
      "metadata": {
        "id": "hqI-dyOPBq1v"
      }
    },
    {
      "cell_type": "markdown",
      "source": [
        "### Install the necessary library"
      ],
      "metadata": {
        "id": "gvxnWRDlBrji"
      }
    },
    {
      "cell_type": "code",
      "execution_count": null,
      "metadata": {
        "colab": {
          "base_uri": "https://localhost:8080/"
        },
        "collapsed": true,
        "id": "Z7kN2XXPBZbN",
        "outputId": "5235436c-c99b-4c0a-9456-e2cbe4362417"
      },
      "outputs": [
        {
          "output_type": "stream",
          "name": "stdout",
          "text": [
            "Requirement already satisfied: gensim in /usr/local/lib/python3.10/dist-packages (4.3.3)\n",
            "Requirement already satisfied: nltk in /usr/local/lib/python3.10/dist-packages (3.9.1)\n",
            "Requirement already satisfied: numpy<2.0,>=1.18.5 in /usr/local/lib/python3.10/dist-packages (from gensim) (1.26.4)\n",
            "Requirement already satisfied: scipy<1.14.0,>=1.7.0 in /usr/local/lib/python3.10/dist-packages (from gensim) (1.13.1)\n",
            "Requirement already satisfied: smart-open>=1.8.1 in /usr/local/lib/python3.10/dist-packages (from gensim) (7.0.5)\n",
            "Requirement already satisfied: click in /usr/local/lib/python3.10/dist-packages (from nltk) (8.1.7)\n",
            "Requirement already satisfied: joblib in /usr/local/lib/python3.10/dist-packages (from nltk) (1.4.2)\n",
            "Requirement already satisfied: regex>=2021.8.3 in /usr/local/lib/python3.10/dist-packages (from nltk) (2024.9.11)\n",
            "Requirement already satisfied: tqdm in /usr/local/lib/python3.10/dist-packages (from nltk) (4.66.6)\n",
            "Requirement already satisfied: wrapt in /usr/local/lib/python3.10/dist-packages (from smart-open>=1.8.1->gensim) (1.16.0)\n"
          ]
        }
      ],
      "source": [
        "!pip install gensim nltk\n"
      ]
    },
    {
      "cell_type": "code",
      "source": [
        "!pip install pyLDAvis gensim spacy\n",
        "\n",
        "# Install spaCy's English language model\n",
        "!python -m spacy download en_core_web_sm\n"
      ],
      "metadata": {
        "colab": {
          "base_uri": "https://localhost:8080/"
        },
        "collapsed": true,
        "id": "626B_AMNDEkx",
        "outputId": "266be6e3-f815-4b6c-e98f-5c714aef6e86"
      },
      "execution_count": null,
      "outputs": [
        {
          "output_type": "stream",
          "name": "stdout",
          "text": [
            "Collecting pyLDAvis\n",
            "  Downloading pyLDAvis-3.4.1-py3-none-any.whl.metadata (4.2 kB)\n",
            "Requirement already satisfied: gensim in /usr/local/lib/python3.10/dist-packages (4.3.3)\n",
            "Requirement already satisfied: spacy in /usr/local/lib/python3.10/dist-packages (3.7.5)\n",
            "Requirement already satisfied: numpy>=1.24.2 in /usr/local/lib/python3.10/dist-packages (from pyLDAvis) (1.26.4)\n",
            "Requirement already satisfied: scipy in /usr/local/lib/python3.10/dist-packages (from pyLDAvis) (1.13.1)\n",
            "Requirement already satisfied: pandas>=2.0.0 in /usr/local/lib/python3.10/dist-packages (from pyLDAvis) (2.2.2)\n",
            "Requirement already satisfied: joblib>=1.2.0 in /usr/local/lib/python3.10/dist-packages (from pyLDAvis) (1.4.2)\n",
            "Requirement already satisfied: jinja2 in /usr/local/lib/python3.10/dist-packages (from pyLDAvis) (3.1.4)\n",
            "Requirement already satisfied: numexpr in /usr/local/lib/python3.10/dist-packages (from pyLDAvis) (2.10.1)\n",
            "Collecting funcy (from pyLDAvis)\n",
            "  Downloading funcy-2.0-py2.py3-none-any.whl.metadata (5.9 kB)\n",
            "Requirement already satisfied: scikit-learn>=1.0.0 in /usr/local/lib/python3.10/dist-packages (from pyLDAvis) (1.5.2)\n",
            "Requirement already satisfied: setuptools in /usr/local/lib/python3.10/dist-packages (from pyLDAvis) (75.1.0)\n",
            "Requirement already satisfied: smart-open>=1.8.1 in /usr/local/lib/python3.10/dist-packages (from gensim) (7.0.5)\n",
            "Requirement already satisfied: spacy-legacy<3.1.0,>=3.0.11 in /usr/local/lib/python3.10/dist-packages (from spacy) (3.0.12)\n",
            "Requirement already satisfied: spacy-loggers<2.0.0,>=1.0.0 in /usr/local/lib/python3.10/dist-packages (from spacy) (1.0.5)\n",
            "Requirement already satisfied: murmurhash<1.1.0,>=0.28.0 in /usr/local/lib/python3.10/dist-packages (from spacy) (1.0.10)\n",
            "Requirement already satisfied: cymem<2.1.0,>=2.0.2 in /usr/local/lib/python3.10/dist-packages (from spacy) (2.0.8)\n",
            "Requirement already satisfied: preshed<3.1.0,>=3.0.2 in /usr/local/lib/python3.10/dist-packages (from spacy) (3.0.9)\n",
            "Requirement already satisfied: thinc<8.3.0,>=8.2.2 in /usr/local/lib/python3.10/dist-packages (from spacy) (8.2.5)\n",
            "Requirement already satisfied: wasabi<1.2.0,>=0.9.1 in /usr/local/lib/python3.10/dist-packages (from spacy) (1.1.3)\n",
            "Requirement already satisfied: srsly<3.0.0,>=2.4.3 in /usr/local/lib/python3.10/dist-packages (from spacy) (2.4.8)\n",
            "Requirement already satisfied: catalogue<2.1.0,>=2.0.6 in /usr/local/lib/python3.10/dist-packages (from spacy) (2.0.10)\n",
            "Requirement already satisfied: weasel<0.5.0,>=0.1.0 in /usr/local/lib/python3.10/dist-packages (from spacy) (0.4.1)\n",
            "Requirement already satisfied: typer<1.0.0,>=0.3.0 in /usr/local/lib/python3.10/dist-packages (from spacy) (0.13.0)\n",
            "Requirement already satisfied: tqdm<5.0.0,>=4.38.0 in /usr/local/lib/python3.10/dist-packages (from spacy) (4.66.6)\n",
            "Requirement already satisfied: requests<3.0.0,>=2.13.0 in /usr/local/lib/python3.10/dist-packages (from spacy) (2.32.3)\n",
            "Requirement already satisfied: pydantic!=1.8,!=1.8.1,<3.0.0,>=1.7.4 in /usr/local/lib/python3.10/dist-packages (from spacy) (2.9.2)\n",
            "Requirement already satisfied: packaging>=20.0 in /usr/local/lib/python3.10/dist-packages (from spacy) (24.2)\n",
            "Requirement already satisfied: langcodes<4.0.0,>=3.2.0 in /usr/local/lib/python3.10/dist-packages (from spacy) (3.4.1)\n",
            "Requirement already satisfied: language-data>=1.2 in /usr/local/lib/python3.10/dist-packages (from langcodes<4.0.0,>=3.2.0->spacy) (1.2.0)\n",
            "Requirement already satisfied: python-dateutil>=2.8.2 in /usr/local/lib/python3.10/dist-packages (from pandas>=2.0.0->pyLDAvis) (2.8.2)\n",
            "Requirement already satisfied: pytz>=2020.1 in /usr/local/lib/python3.10/dist-packages (from pandas>=2.0.0->pyLDAvis) (2024.2)\n",
            "Requirement already satisfied: tzdata>=2022.7 in /usr/local/lib/python3.10/dist-packages (from pandas>=2.0.0->pyLDAvis) (2024.2)\n",
            "Requirement already satisfied: annotated-types>=0.6.0 in /usr/local/lib/python3.10/dist-packages (from pydantic!=1.8,!=1.8.1,<3.0.0,>=1.7.4->spacy) (0.7.0)\n",
            "Requirement already satisfied: pydantic-core==2.23.4 in /usr/local/lib/python3.10/dist-packages (from pydantic!=1.8,!=1.8.1,<3.0.0,>=1.7.4->spacy) (2.23.4)\n",
            "Requirement already satisfied: typing-extensions>=4.6.1 in /usr/local/lib/python3.10/dist-packages (from pydantic!=1.8,!=1.8.1,<3.0.0,>=1.7.4->spacy) (4.12.2)\n",
            "Requirement already satisfied: charset-normalizer<4,>=2 in /usr/local/lib/python3.10/dist-packages (from requests<3.0.0,>=2.13.0->spacy) (3.4.0)\n",
            "Requirement already satisfied: idna<4,>=2.5 in /usr/local/lib/python3.10/dist-packages (from requests<3.0.0,>=2.13.0->spacy) (3.10)\n",
            "Requirement already satisfied: urllib3<3,>=1.21.1 in /usr/local/lib/python3.10/dist-packages (from requests<3.0.0,>=2.13.0->spacy) (2.2.3)\n",
            "Requirement already satisfied: certifi>=2017.4.17 in /usr/local/lib/python3.10/dist-packages (from requests<3.0.0,>=2.13.0->spacy) (2024.8.30)\n",
            "Requirement already satisfied: threadpoolctl>=3.1.0 in /usr/local/lib/python3.10/dist-packages (from scikit-learn>=1.0.0->pyLDAvis) (3.5.0)\n",
            "Requirement already satisfied: wrapt in /usr/local/lib/python3.10/dist-packages (from smart-open>=1.8.1->gensim) (1.16.0)\n",
            "Requirement already satisfied: blis<0.8.0,>=0.7.8 in /usr/local/lib/python3.10/dist-packages (from thinc<8.3.0,>=8.2.2->spacy) (0.7.11)\n",
            "Requirement already satisfied: confection<1.0.0,>=0.0.1 in /usr/local/lib/python3.10/dist-packages (from thinc<8.3.0,>=8.2.2->spacy) (0.1.5)\n",
            "Requirement already satisfied: click>=8.0.0 in /usr/local/lib/python3.10/dist-packages (from typer<1.0.0,>=0.3.0->spacy) (8.1.7)\n",
            "Requirement already satisfied: shellingham>=1.3.0 in /usr/local/lib/python3.10/dist-packages (from typer<1.0.0,>=0.3.0->spacy) (1.5.4)\n",
            "Requirement already satisfied: rich>=10.11.0 in /usr/local/lib/python3.10/dist-packages (from typer<1.0.0,>=0.3.0->spacy) (13.9.4)\n",
            "Requirement already satisfied: cloudpathlib<1.0.0,>=0.7.0 in /usr/local/lib/python3.10/dist-packages (from weasel<0.5.0,>=0.1.0->spacy) (0.20.0)\n",
            "Requirement already satisfied: MarkupSafe>=2.0 in /usr/local/lib/python3.10/dist-packages (from jinja2->pyLDAvis) (3.0.2)\n",
            "Requirement already satisfied: marisa-trie>=0.7.7 in /usr/local/lib/python3.10/dist-packages (from language-data>=1.2->langcodes<4.0.0,>=3.2.0->spacy) (1.2.1)\n",
            "Requirement already satisfied: six>=1.5 in /usr/local/lib/python3.10/dist-packages (from python-dateutil>=2.8.2->pandas>=2.0.0->pyLDAvis) (1.16.0)\n",
            "Requirement already satisfied: markdown-it-py>=2.2.0 in /usr/local/lib/python3.10/dist-packages (from rich>=10.11.0->typer<1.0.0,>=0.3.0->spacy) (3.0.0)\n",
            "Requirement already satisfied: pygments<3.0.0,>=2.13.0 in /usr/local/lib/python3.10/dist-packages (from rich>=10.11.0->typer<1.0.0,>=0.3.0->spacy) (2.18.0)\n",
            "Requirement already satisfied: mdurl~=0.1 in /usr/local/lib/python3.10/dist-packages (from markdown-it-py>=2.2.0->rich>=10.11.0->typer<1.0.0,>=0.3.0->spacy) (0.1.2)\n",
            "Downloading pyLDAvis-3.4.1-py3-none-any.whl (2.6 MB)\n",
            "\u001b[2K   \u001b[90m━━━━━━━━━━━━━━━━━━━━━━━━━━━━━━━━━━━━━━━━\u001b[0m \u001b[32m2.6/2.6 MB\u001b[0m \u001b[31m36.0 MB/s\u001b[0m eta \u001b[36m0:00:00\u001b[0m\n",
            "\u001b[?25hDownloading funcy-2.0-py2.py3-none-any.whl (30 kB)\n",
            "Installing collected packages: funcy, pyLDAvis\n",
            "Successfully installed funcy-2.0 pyLDAvis-3.4.1\n",
            "Collecting en-core-web-sm==3.7.1\n",
            "  Downloading https://github.com/explosion/spacy-models/releases/download/en_core_web_sm-3.7.1/en_core_web_sm-3.7.1-py3-none-any.whl (12.8 MB)\n",
            "\u001b[2K     \u001b[90m━━━━━━━━━━━━━━━━━━━━━━━━━━━━━━━━━━━━━━━━\u001b[0m \u001b[32m12.8/12.8 MB\u001b[0m \u001b[31m70.3 MB/s\u001b[0m eta \u001b[36m0:00:00\u001b[0m\n",
            "\u001b[?25hRequirement already satisfied: spacy<3.8.0,>=3.7.2 in /usr/local/lib/python3.10/dist-packages (from en-core-web-sm==3.7.1) (3.7.5)\n",
            "Requirement already satisfied: spacy-legacy<3.1.0,>=3.0.11 in /usr/local/lib/python3.10/dist-packages (from spacy<3.8.0,>=3.7.2->en-core-web-sm==3.7.1) (3.0.12)\n",
            "Requirement already satisfied: spacy-loggers<2.0.0,>=1.0.0 in /usr/local/lib/python3.10/dist-packages (from spacy<3.8.0,>=3.7.2->en-core-web-sm==3.7.1) (1.0.5)\n",
            "Requirement already satisfied: murmurhash<1.1.0,>=0.28.0 in /usr/local/lib/python3.10/dist-packages (from spacy<3.8.0,>=3.7.2->en-core-web-sm==3.7.1) (1.0.10)\n",
            "Requirement already satisfied: cymem<2.1.0,>=2.0.2 in /usr/local/lib/python3.10/dist-packages (from spacy<3.8.0,>=3.7.2->en-core-web-sm==3.7.1) (2.0.8)\n",
            "Requirement already satisfied: preshed<3.1.0,>=3.0.2 in /usr/local/lib/python3.10/dist-packages (from spacy<3.8.0,>=3.7.2->en-core-web-sm==3.7.1) (3.0.9)\n",
            "Requirement already satisfied: thinc<8.3.0,>=8.2.2 in /usr/local/lib/python3.10/dist-packages (from spacy<3.8.0,>=3.7.2->en-core-web-sm==3.7.1) (8.2.5)\n",
            "Requirement already satisfied: wasabi<1.2.0,>=0.9.1 in /usr/local/lib/python3.10/dist-packages (from spacy<3.8.0,>=3.7.2->en-core-web-sm==3.7.1) (1.1.3)\n",
            "Requirement already satisfied: srsly<3.0.0,>=2.4.3 in /usr/local/lib/python3.10/dist-packages (from spacy<3.8.0,>=3.7.2->en-core-web-sm==3.7.1) (2.4.8)\n",
            "Requirement already satisfied: catalogue<2.1.0,>=2.0.6 in /usr/local/lib/python3.10/dist-packages (from spacy<3.8.0,>=3.7.2->en-core-web-sm==3.7.1) (2.0.10)\n",
            "Requirement already satisfied: weasel<0.5.0,>=0.1.0 in /usr/local/lib/python3.10/dist-packages (from spacy<3.8.0,>=3.7.2->en-core-web-sm==3.7.1) (0.4.1)\n",
            "Requirement already satisfied: typer<1.0.0,>=0.3.0 in /usr/local/lib/python3.10/dist-packages (from spacy<3.8.0,>=3.7.2->en-core-web-sm==3.7.1) (0.13.0)\n",
            "Requirement already satisfied: tqdm<5.0.0,>=4.38.0 in /usr/local/lib/python3.10/dist-packages (from spacy<3.8.0,>=3.7.2->en-core-web-sm==3.7.1) (4.66.6)\n",
            "Requirement already satisfied: requests<3.0.0,>=2.13.0 in /usr/local/lib/python3.10/dist-packages (from spacy<3.8.0,>=3.7.2->en-core-web-sm==3.7.1) (2.32.3)\n",
            "Requirement already satisfied: pydantic!=1.8,!=1.8.1,<3.0.0,>=1.7.4 in /usr/local/lib/python3.10/dist-packages (from spacy<3.8.0,>=3.7.2->en-core-web-sm==3.7.1) (2.9.2)\n",
            "Requirement already satisfied: jinja2 in /usr/local/lib/python3.10/dist-packages (from spacy<3.8.0,>=3.7.2->en-core-web-sm==3.7.1) (3.1.4)\n",
            "Requirement already satisfied: setuptools in /usr/local/lib/python3.10/dist-packages (from spacy<3.8.0,>=3.7.2->en-core-web-sm==3.7.1) (75.1.0)\n",
            "Requirement already satisfied: packaging>=20.0 in /usr/local/lib/python3.10/dist-packages (from spacy<3.8.0,>=3.7.2->en-core-web-sm==3.7.1) (24.2)\n",
            "Requirement already satisfied: langcodes<4.0.0,>=3.2.0 in /usr/local/lib/python3.10/dist-packages (from spacy<3.8.0,>=3.7.2->en-core-web-sm==3.7.1) (3.4.1)\n",
            "Requirement already satisfied: numpy>=1.19.0 in /usr/local/lib/python3.10/dist-packages (from spacy<3.8.0,>=3.7.2->en-core-web-sm==3.7.1) (1.26.4)\n",
            "Requirement already satisfied: language-data>=1.2 in /usr/local/lib/python3.10/dist-packages (from langcodes<4.0.0,>=3.2.0->spacy<3.8.0,>=3.7.2->en-core-web-sm==3.7.1) (1.2.0)\n",
            "Requirement already satisfied: annotated-types>=0.6.0 in /usr/local/lib/python3.10/dist-packages (from pydantic!=1.8,!=1.8.1,<3.0.0,>=1.7.4->spacy<3.8.0,>=3.7.2->en-core-web-sm==3.7.1) (0.7.0)\n",
            "Requirement already satisfied: pydantic-core==2.23.4 in /usr/local/lib/python3.10/dist-packages (from pydantic!=1.8,!=1.8.1,<3.0.0,>=1.7.4->spacy<3.8.0,>=3.7.2->en-core-web-sm==3.7.1) (2.23.4)\n",
            "Requirement already satisfied: typing-extensions>=4.6.1 in /usr/local/lib/python3.10/dist-packages (from pydantic!=1.8,!=1.8.1,<3.0.0,>=1.7.4->spacy<3.8.0,>=3.7.2->en-core-web-sm==3.7.1) (4.12.2)\n",
            "Requirement already satisfied: charset-normalizer<4,>=2 in /usr/local/lib/python3.10/dist-packages (from requests<3.0.0,>=2.13.0->spacy<3.8.0,>=3.7.2->en-core-web-sm==3.7.1) (3.4.0)\n",
            "Requirement already satisfied: idna<4,>=2.5 in /usr/local/lib/python3.10/dist-packages (from requests<3.0.0,>=2.13.0->spacy<3.8.0,>=3.7.2->en-core-web-sm==3.7.1) (3.10)\n",
            "Requirement already satisfied: urllib3<3,>=1.21.1 in /usr/local/lib/python3.10/dist-packages (from requests<3.0.0,>=2.13.0->spacy<3.8.0,>=3.7.2->en-core-web-sm==3.7.1) (2.2.3)\n",
            "Requirement already satisfied: certifi>=2017.4.17 in /usr/local/lib/python3.10/dist-packages (from requests<3.0.0,>=2.13.0->spacy<3.8.0,>=3.7.2->en-core-web-sm==3.7.1) (2024.8.30)\n",
            "Requirement already satisfied: blis<0.8.0,>=0.7.8 in /usr/local/lib/python3.10/dist-packages (from thinc<8.3.0,>=8.2.2->spacy<3.8.0,>=3.7.2->en-core-web-sm==3.7.1) (0.7.11)\n",
            "Requirement already satisfied: confection<1.0.0,>=0.0.1 in /usr/local/lib/python3.10/dist-packages (from thinc<8.3.0,>=8.2.2->spacy<3.8.0,>=3.7.2->en-core-web-sm==3.7.1) (0.1.5)\n",
            "Requirement already satisfied: click>=8.0.0 in /usr/local/lib/python3.10/dist-packages (from typer<1.0.0,>=0.3.0->spacy<3.8.0,>=3.7.2->en-core-web-sm==3.7.1) (8.1.7)\n",
            "Requirement already satisfied: shellingham>=1.3.0 in /usr/local/lib/python3.10/dist-packages (from typer<1.0.0,>=0.3.0->spacy<3.8.0,>=3.7.2->en-core-web-sm==3.7.1) (1.5.4)\n",
            "Requirement already satisfied: rich>=10.11.0 in /usr/local/lib/python3.10/dist-packages (from typer<1.0.0,>=0.3.0->spacy<3.8.0,>=3.7.2->en-core-web-sm==3.7.1) (13.9.4)\n",
            "Requirement already satisfied: cloudpathlib<1.0.0,>=0.7.0 in /usr/local/lib/python3.10/dist-packages (from weasel<0.5.0,>=0.1.0->spacy<3.8.0,>=3.7.2->en-core-web-sm==3.7.1) (0.20.0)\n",
            "Requirement already satisfied: smart-open<8.0.0,>=5.2.1 in /usr/local/lib/python3.10/dist-packages (from weasel<0.5.0,>=0.1.0->spacy<3.8.0,>=3.7.2->en-core-web-sm==3.7.1) (7.0.5)\n",
            "Requirement already satisfied: MarkupSafe>=2.0 in /usr/local/lib/python3.10/dist-packages (from jinja2->spacy<3.8.0,>=3.7.2->en-core-web-sm==3.7.1) (3.0.2)\n",
            "Requirement already satisfied: marisa-trie>=0.7.7 in /usr/local/lib/python3.10/dist-packages (from language-data>=1.2->langcodes<4.0.0,>=3.2.0->spacy<3.8.0,>=3.7.2->en-core-web-sm==3.7.1) (1.2.1)\n",
            "Requirement already satisfied: markdown-it-py>=2.2.0 in /usr/local/lib/python3.10/dist-packages (from rich>=10.11.0->typer<1.0.0,>=0.3.0->spacy<3.8.0,>=3.7.2->en-core-web-sm==3.7.1) (3.0.0)\n",
            "Requirement already satisfied: pygments<3.0.0,>=2.13.0 in /usr/local/lib/python3.10/dist-packages (from rich>=10.11.0->typer<1.0.0,>=0.3.0->spacy<3.8.0,>=3.7.2->en-core-web-sm==3.7.1) (2.18.0)\n",
            "Requirement already satisfied: wrapt in /usr/local/lib/python3.10/dist-packages (from smart-open<8.0.0,>=5.2.1->weasel<0.5.0,>=0.1.0->spacy<3.8.0,>=3.7.2->en-core-web-sm==3.7.1) (1.16.0)\n",
            "Requirement already satisfied: mdurl~=0.1 in /usr/local/lib/python3.10/dist-packages (from markdown-it-py>=2.2.0->rich>=10.11.0->typer<1.0.0,>=0.3.0->spacy<3.8.0,>=3.7.2->en-core-web-sm==3.7.1) (0.1.2)\n",
            "\u001b[38;5;2m✔ Download and installation successful\u001b[0m\n",
            "You can now load the package via spacy.load('en_core_web_sm')\n",
            "\u001b[38;5;3m⚠ Restart to reload dependencies\u001b[0m\n",
            "If you are in a Jupyter or Colab notebook, you may need to restart Python in\n",
            "order to load all the package's dependencies. You can do this by selecting the\n",
            "'Restart kernel' or 'Restart runtime' option.\n"
          ]
        }
      ]
    },
    {
      "cell_type": "markdown",
      "source": [
        "### Import the libraries\n",
        "\n"
      ],
      "metadata": {
        "id": "nxfBU4csCNbP"
      }
    },
    {
      "cell_type": "code",
      "source": [
        "import gensim\n",
        "from gensim import corpora\n",
        "from gensim.models import LdaModel\n",
        "import spacy\n",
        "import pyLDAvis\n",
        "import pyLDAvis.gensim_models as gensimvis\n",
        "import pandas as pd\n",
        "\n",
        "# Load spaCy's English language model\n",
        "nlp = spacy.load('en_core_web_sm')\n"
      ],
      "metadata": {
        "id": "Lp0x-7o0CShm"
      },
      "execution_count": null,
      "outputs": []
    },
    {
      "cell_type": "markdown",
      "source": [
        "### Upload and load the data"
      ],
      "metadata": {
        "id": "ORdQX2STDk6q"
      }
    },
    {
      "cell_type": "code",
      "source": [
        "df = pd.read_json(\"newsgroups.json\")\n",
        "df.head()\n"
      ],
      "metadata": {
        "colab": {
          "base_uri": "https://localhost:8080/",
          "height": 261
        },
        "id": "mPsZ6BHgDqN3",
        "outputId": "2633c4c6-1a48-41be-b597-b145ff689c86"
      },
      "execution_count": null,
      "outputs": [
        {
          "output_type": "stream",
          "name": "stderr",
          "text": [
            "/usr/local/lib/python3.10/dist-packages/ipykernel/ipkernel.py:283: DeprecationWarning: `should_run_async` will not call `transform_cell` automatically in the future. Please pass the result to `transformed_cell` argument and any exception that happen during thetransform in `preprocessing_exc_tuple` in IPython 7.17 and above.\n",
            "  and should_run_async(code)\n"
          ]
        },
        {
          "output_type": "execute_result",
          "data": {
            "text/plain": [
              "                                             content  target  \\\n",
              "0  From: lerxst@wam.umd.edu (where's my thing)\\nS...       7   \n",
              "1  From: guykuo@carson.u.washington.edu (Guy Kuo)...       4   \n",
              "2  From: twillis@ec.ecn.purdue.edu (Thomas E Will...       4   \n",
              "3  From: jgreen@amber (Joe Green)\\nSubject: Re: W...       1   \n",
              "4  From: jcm@head-cfa.harvard.edu (Jonathan McDow...      14   \n",
              "\n",
              "            target_names  \n",
              "0              rec.autos  \n",
              "1  comp.sys.mac.hardware  \n",
              "2  comp.sys.mac.hardware  \n",
              "3          comp.graphics  \n",
              "4              sci.space  "
            ],
            "text/html": [
              "\n",
              "  <div id=\"df-2e908636-a6eb-4240-96a2-d8dbb935825b\" class=\"colab-df-container\">\n",
              "    <div>\n",
              "<style scoped>\n",
              "    .dataframe tbody tr th:only-of-type {\n",
              "        vertical-align: middle;\n",
              "    }\n",
              "\n",
              "    .dataframe tbody tr th {\n",
              "        vertical-align: top;\n",
              "    }\n",
              "\n",
              "    .dataframe thead th {\n",
              "        text-align: right;\n",
              "    }\n",
              "</style>\n",
              "<table border=\"1\" class=\"dataframe\">\n",
              "  <thead>\n",
              "    <tr style=\"text-align: right;\">\n",
              "      <th></th>\n",
              "      <th>content</th>\n",
              "      <th>target</th>\n",
              "      <th>target_names</th>\n",
              "    </tr>\n",
              "  </thead>\n",
              "  <tbody>\n",
              "    <tr>\n",
              "      <th>0</th>\n",
              "      <td>From: lerxst@wam.umd.edu (where's my thing)\\nS...</td>\n",
              "      <td>7</td>\n",
              "      <td>rec.autos</td>\n",
              "    </tr>\n",
              "    <tr>\n",
              "      <th>1</th>\n",
              "      <td>From: guykuo@carson.u.washington.edu (Guy Kuo)...</td>\n",
              "      <td>4</td>\n",
              "      <td>comp.sys.mac.hardware</td>\n",
              "    </tr>\n",
              "    <tr>\n",
              "      <th>2</th>\n",
              "      <td>From: twillis@ec.ecn.purdue.edu (Thomas E Will...</td>\n",
              "      <td>4</td>\n",
              "      <td>comp.sys.mac.hardware</td>\n",
              "    </tr>\n",
              "    <tr>\n",
              "      <th>3</th>\n",
              "      <td>From: jgreen@amber (Joe Green)\\nSubject: Re: W...</td>\n",
              "      <td>1</td>\n",
              "      <td>comp.graphics</td>\n",
              "    </tr>\n",
              "    <tr>\n",
              "      <th>4</th>\n",
              "      <td>From: jcm@head-cfa.harvard.edu (Jonathan McDow...</td>\n",
              "      <td>14</td>\n",
              "      <td>sci.space</td>\n",
              "    </tr>\n",
              "  </tbody>\n",
              "</table>\n",
              "</div>\n",
              "    <div class=\"colab-df-buttons\">\n",
              "\n",
              "  <div class=\"colab-df-container\">\n",
              "    <button class=\"colab-df-convert\" onclick=\"convertToInteractive('df-2e908636-a6eb-4240-96a2-d8dbb935825b')\"\n",
              "            title=\"Convert this dataframe to an interactive table.\"\n",
              "            style=\"display:none;\">\n",
              "\n",
              "  <svg xmlns=\"http://www.w3.org/2000/svg\" height=\"24px\" viewBox=\"0 -960 960 960\">\n",
              "    <path d=\"M120-120v-720h720v720H120Zm60-500h600v-160H180v160Zm220 220h160v-160H400v160Zm0 220h160v-160H400v160ZM180-400h160v-160H180v160Zm440 0h160v-160H620v160ZM180-180h160v-160H180v160Zm440 0h160v-160H620v160Z\"/>\n",
              "  </svg>\n",
              "    </button>\n",
              "\n",
              "  <style>\n",
              "    .colab-df-container {\n",
              "      display:flex;\n",
              "      gap: 12px;\n",
              "    }\n",
              "\n",
              "    .colab-df-convert {\n",
              "      background-color: #E8F0FE;\n",
              "      border: none;\n",
              "      border-radius: 50%;\n",
              "      cursor: pointer;\n",
              "      display: none;\n",
              "      fill: #1967D2;\n",
              "      height: 32px;\n",
              "      padding: 0 0 0 0;\n",
              "      width: 32px;\n",
              "    }\n",
              "\n",
              "    .colab-df-convert:hover {\n",
              "      background-color: #E2EBFA;\n",
              "      box-shadow: 0px 1px 2px rgba(60, 64, 67, 0.3), 0px 1px 3px 1px rgba(60, 64, 67, 0.15);\n",
              "      fill: #174EA6;\n",
              "    }\n",
              "\n",
              "    .colab-df-buttons div {\n",
              "      margin-bottom: 4px;\n",
              "    }\n",
              "\n",
              "    [theme=dark] .colab-df-convert {\n",
              "      background-color: #3B4455;\n",
              "      fill: #D2E3FC;\n",
              "    }\n",
              "\n",
              "    [theme=dark] .colab-df-convert:hover {\n",
              "      background-color: #434B5C;\n",
              "      box-shadow: 0px 1px 3px 1px rgba(0, 0, 0, 0.15);\n",
              "      filter: drop-shadow(0px 1px 2px rgba(0, 0, 0, 0.3));\n",
              "      fill: #FFFFFF;\n",
              "    }\n",
              "  </style>\n",
              "\n",
              "    <script>\n",
              "      const buttonEl =\n",
              "        document.querySelector('#df-2e908636-a6eb-4240-96a2-d8dbb935825b button.colab-df-convert');\n",
              "      buttonEl.style.display =\n",
              "        google.colab.kernel.accessAllowed ? 'block' : 'none';\n",
              "\n",
              "      async function convertToInteractive(key) {\n",
              "        const element = document.querySelector('#df-2e908636-a6eb-4240-96a2-d8dbb935825b');\n",
              "        const dataTable =\n",
              "          await google.colab.kernel.invokeFunction('convertToInteractive',\n",
              "                                                    [key], {});\n",
              "        if (!dataTable) return;\n",
              "\n",
              "        const docLinkHtml = 'Like what you see? Visit the ' +\n",
              "          '<a target=\"_blank\" href=https://colab.research.google.com/notebooks/data_table.ipynb>data table notebook</a>'\n",
              "          + ' to learn more about interactive tables.';\n",
              "        element.innerHTML = '';\n",
              "        dataTable['output_type'] = 'display_data';\n",
              "        await google.colab.output.renderOutput(dataTable, element);\n",
              "        const docLink = document.createElement('div');\n",
              "        docLink.innerHTML = docLinkHtml;\n",
              "        element.appendChild(docLink);\n",
              "      }\n",
              "    </script>\n",
              "  </div>\n",
              "\n",
              "\n",
              "<div id=\"df-d1c2f4b3-b93e-49ea-a85b-8dfea47d73fe\">\n",
              "  <button class=\"colab-df-quickchart\" onclick=\"quickchart('df-d1c2f4b3-b93e-49ea-a85b-8dfea47d73fe')\"\n",
              "            title=\"Suggest charts\"\n",
              "            style=\"display:none;\">\n",
              "\n",
              "<svg xmlns=\"http://www.w3.org/2000/svg\" height=\"24px\"viewBox=\"0 0 24 24\"\n",
              "     width=\"24px\">\n",
              "    <g>\n",
              "        <path d=\"M19 3H5c-1.1 0-2 .9-2 2v14c0 1.1.9 2 2 2h14c1.1 0 2-.9 2-2V5c0-1.1-.9-2-2-2zM9 17H7v-7h2v7zm4 0h-2V7h2v10zm4 0h-2v-4h2v4z\"/>\n",
              "    </g>\n",
              "</svg>\n",
              "  </button>\n",
              "\n",
              "<style>\n",
              "  .colab-df-quickchart {\n",
              "      --bg-color: #E8F0FE;\n",
              "      --fill-color: #1967D2;\n",
              "      --hover-bg-color: #E2EBFA;\n",
              "      --hover-fill-color: #174EA6;\n",
              "      --disabled-fill-color: #AAA;\n",
              "      --disabled-bg-color: #DDD;\n",
              "  }\n",
              "\n",
              "  [theme=dark] .colab-df-quickchart {\n",
              "      --bg-color: #3B4455;\n",
              "      --fill-color: #D2E3FC;\n",
              "      --hover-bg-color: #434B5C;\n",
              "      --hover-fill-color: #FFFFFF;\n",
              "      --disabled-bg-color: #3B4455;\n",
              "      --disabled-fill-color: #666;\n",
              "  }\n",
              "\n",
              "  .colab-df-quickchart {\n",
              "    background-color: var(--bg-color);\n",
              "    border: none;\n",
              "    border-radius: 50%;\n",
              "    cursor: pointer;\n",
              "    display: none;\n",
              "    fill: var(--fill-color);\n",
              "    height: 32px;\n",
              "    padding: 0;\n",
              "    width: 32px;\n",
              "  }\n",
              "\n",
              "  .colab-df-quickchart:hover {\n",
              "    background-color: var(--hover-bg-color);\n",
              "    box-shadow: 0 1px 2px rgba(60, 64, 67, 0.3), 0 1px 3px 1px rgba(60, 64, 67, 0.15);\n",
              "    fill: var(--button-hover-fill-color);\n",
              "  }\n",
              "\n",
              "  .colab-df-quickchart-complete:disabled,\n",
              "  .colab-df-quickchart-complete:disabled:hover {\n",
              "    background-color: var(--disabled-bg-color);\n",
              "    fill: var(--disabled-fill-color);\n",
              "    box-shadow: none;\n",
              "  }\n",
              "\n",
              "  .colab-df-spinner {\n",
              "    border: 2px solid var(--fill-color);\n",
              "    border-color: transparent;\n",
              "    border-bottom-color: var(--fill-color);\n",
              "    animation:\n",
              "      spin 1s steps(1) infinite;\n",
              "  }\n",
              "\n",
              "  @keyframes spin {\n",
              "    0% {\n",
              "      border-color: transparent;\n",
              "      border-bottom-color: var(--fill-color);\n",
              "      border-left-color: var(--fill-color);\n",
              "    }\n",
              "    20% {\n",
              "      border-color: transparent;\n",
              "      border-left-color: var(--fill-color);\n",
              "      border-top-color: var(--fill-color);\n",
              "    }\n",
              "    30% {\n",
              "      border-color: transparent;\n",
              "      border-left-color: var(--fill-color);\n",
              "      border-top-color: var(--fill-color);\n",
              "      border-right-color: var(--fill-color);\n",
              "    }\n",
              "    40% {\n",
              "      border-color: transparent;\n",
              "      border-right-color: var(--fill-color);\n",
              "      border-top-color: var(--fill-color);\n",
              "    }\n",
              "    60% {\n",
              "      border-color: transparent;\n",
              "      border-right-color: var(--fill-color);\n",
              "    }\n",
              "    80% {\n",
              "      border-color: transparent;\n",
              "      border-right-color: var(--fill-color);\n",
              "      border-bottom-color: var(--fill-color);\n",
              "    }\n",
              "    90% {\n",
              "      border-color: transparent;\n",
              "      border-bottom-color: var(--fill-color);\n",
              "    }\n",
              "  }\n",
              "</style>\n",
              "\n",
              "  <script>\n",
              "    async function quickchart(key) {\n",
              "      const quickchartButtonEl =\n",
              "        document.querySelector('#' + key + ' button');\n",
              "      quickchartButtonEl.disabled = true;  // To prevent multiple clicks.\n",
              "      quickchartButtonEl.classList.add('colab-df-spinner');\n",
              "      try {\n",
              "        const charts = await google.colab.kernel.invokeFunction(\n",
              "            'suggestCharts', [key], {});\n",
              "      } catch (error) {\n",
              "        console.error('Error during call to suggestCharts:', error);\n",
              "      }\n",
              "      quickchartButtonEl.classList.remove('colab-df-spinner');\n",
              "      quickchartButtonEl.classList.add('colab-df-quickchart-complete');\n",
              "    }\n",
              "    (() => {\n",
              "      let quickchartButtonEl =\n",
              "        document.querySelector('#df-d1c2f4b3-b93e-49ea-a85b-8dfea47d73fe button');\n",
              "      quickchartButtonEl.style.display =\n",
              "        google.colab.kernel.accessAllowed ? 'block' : 'none';\n",
              "    })();\n",
              "  </script>\n",
              "</div>\n",
              "\n",
              "    </div>\n",
              "  </div>\n"
            ],
            "application/vnd.google.colaboratory.intrinsic+json": {
              "type": "dataframe",
              "variable_name": "df",
              "summary": "{\n  \"name\": \"df\",\n  \"rows\": 11314,\n  \"fields\": [\n    {\n      \"column\": \"content\",\n      \"properties\": {\n        \"dtype\": \"string\",\n        \"num_unique_values\": 11314,\n        \"samples\": [\n          \"From: rrn@po.CWRU.Edu (Robert R. Novitskey)\\nSubject: CYCLONE AND TEMPEST?????\\nArticle-I.D.: usenet.1pskav$qtu\\nReply-To: rrn@po.CWRU.Edu (Robert R. Novitskey)\\nOrganization: Case Western Reserve University, Cleveland, OH (USA)\\nLines: 10\\nNNTP-Posting-Host: thor.ins.cwru.edu\\n\\n\\nCould someone please post any info on these systems.\\n\\nThanks.\\nBoB\\n-- \\n---------------------------------------------------------------------- \\nRobert Novitskey | \\\"Pursuing women is similar to banging one's head\\nrrn@po.cwru.edu  |  against a wall...with less opportunity for reward\\\" \\n---------------------------------------------------------------------- \\n\",\n          \"From: ardie@ux1.cso.uiuc.edu (Ardie Mack)\\nSubject: Re: does dos6 defragment??\\nArticle-I.D.: ux1.ardie.272.734097933\\nOrganization: Department of Plant Pathology\\nLines: 30\\n\\nIn article <1993Apr6.040254.8443@cs.brown.edu> ksl@engin1.NoSubdomain.NoDomain (Kiseok Lee  ) writes:\\n>From: ksl@engin1.NoSubdomain.NoDomain (Kiseok Lee  )\\n>Subject: Re: does dos6 defragment??\\n>Date: Tue, 6 Apr 1993 04:02:54 GMT\\n>In article <C51H9M.46p@news.cso.uiuc.edu>, rhc52134@uxa.cso.uiuc.edu (Richard) writes:\\n>|> Geoffrey S. Elbo writes:\\n>|> \\n>|> >Yes, and it is the fastest defrag I've ever watched.  It did a 170MB \\n>|> >hard disk in 20 minutes.\\n>|> \\n>|> \\tI found the MS defrag looks very much like Norton Speedisk.\\n>|> Is it just a strip-down version of the later?\\n>|> \\n>|> \\tI have both Norton Speedisk and Backup, so I was wondering \\n>|> if I need to install MS Backup?\\n>|> \\n>|> Richard\\n>|> \\n>\\n>Yes, defragger IS come from Norton.\\n>If you have Norton Utility, don't bother.\\n\\n\\n     Don't bother if you have CPBackup or Fastback.  They all offer options \\nnot available in the stripped-down MS version (FROM CPS!).  Examples - no \\nproprietary format (to save space), probably no direct DMA access, and no \\ntape drive!\\n\\n     You NEED MS Defrag if you use doublespace to work on the compressed \\nvolume.\\n\",\n          \"From: tsa@cellar.org (The Silent Assassin)\\nSubject: For Sale:  Misc IBM stuff\\nOrganization: The Cellar BBS and public access system\\nLines: 10\\n\\n5.25\\\" Internal Low density disk drive.\\n\\nMonochrome monitor\\n\\n8088 motherboard, built in parallel and serial ports, built in mono and\\ncolor output, 7Mhz.\\n\\nLibertarian, atheist, semi-anarchal Techno-Rat.\\n\\nI define myself--tsa@cellar.org\\n\"\n        ],\n        \"semantic_type\": \"\",\n        \"description\": \"\"\n      }\n    },\n    {\n      \"column\": \"target\",\n      \"properties\": {\n        \"dtype\": \"number\",\n        \"std\": 5,\n        \"min\": 0,\n        \"max\": 19,\n        \"num_unique_values\": 20,\n        \"samples\": [\n          7,\n          17,\n          9\n        ],\n        \"semantic_type\": \"\",\n        \"description\": \"\"\n      }\n    },\n    {\n      \"column\": \"target_names\",\n      \"properties\": {\n        \"dtype\": \"category\",\n        \"num_unique_values\": 20,\n        \"samples\": [\n          \"rec.autos\",\n          \"talk.politics.mideast\",\n          \"rec.sport.baseball\"\n        ],\n        \"semantic_type\": \"\",\n        \"description\": \"\"\n      }\n    }\n  ]\n}"
            }
          },
          "metadata": {},
          "execution_count": 25
        }
      ]
    },
    {
      "cell_type": "markdown",
      "source": [
        "### Preprocess the data"
      ],
      "metadata": {
        "id": "OIodzb5VDpe_"
      }
    },
    {
      "cell_type": "code",
      "source": [
        "# Initialize 'processed' column by copying 'content' column\n",
        "df['processed'] = df['content']\n"
      ],
      "metadata": {
        "colab": {
          "base_uri": "https://localhost:8080/"
        },
        "id": "3w_7YW4lGif1",
        "outputId": "8c2ed9dd-fe5a-4c6a-a783-0dc6792f8d83"
      },
      "execution_count": null,
      "outputs": [
        {
          "output_type": "stream",
          "name": "stderr",
          "text": [
            "/usr/local/lib/python3.10/dist-packages/ipykernel/ipkernel.py:283: DeprecationWarning: `should_run_async` will not call `transform_cell` automatically in the future. Please pass the result to `transformed_cell` argument and any exception that happen during thetransform in `preprocessing_exc_tuple` in IPython 7.17 and above.\n",
            "  and should_run_async(code)\n"
          ]
        }
      ]
    },
    {
      "cell_type": "markdown",
      "source": [
        "### Stop words removal"
      ],
      "metadata": {
        "id": "x1EKRDA6EuCI"
      }
    },
    {
      "cell_type": "code",
      "source": [
        "def remove_stop_words(text):\n",
        "    doc = nlp(text)\n",
        "    return ' '.join([token.text for token in doc if not token.is_stop])\n",
        "\n",
        "df['processed'] = df['content'].apply(remove_stop_words)\n",
        "df['processed'].head()\n"
      ],
      "metadata": {
        "colab": {
          "base_uri": "https://localhost:8080/",
          "height": 295
        },
        "id": "bZM93wwGEsNY",
        "outputId": "7b5873b4-db36-415e-d85a-82ffbdc0c256"
      },
      "execution_count": null,
      "outputs": [
        {
          "output_type": "stream",
          "name": "stderr",
          "text": [
            "/usr/local/lib/python3.10/dist-packages/ipykernel/ipkernel.py:283: DeprecationWarning: `should_run_async` will not call `transform_cell` automatically in the future. Please pass the result to `transformed_cell` argument and any exception that happen during thetransform in `preprocessing_exc_tuple` in IPython 7.17 and above.\n",
            "  and should_run_async(code)\n"
          ]
        },
        {
          "output_type": "execute_result",
          "data": {
            "text/plain": [
              "0    : lerxst@wam.umd.edu ( thing ) \\n Subject : ca...\n",
              "1    : guykuo@carson.u.washington.edu ( Guy Kuo ) \\...\n",
              "2    : twillis@ec.ecn.purdue.edu ( Thomas E Willis ...\n",
              "3    : jgreen@amber ( Joe Green ) \\n Subject : : We...\n",
              "4    : jcm@head-cfa.harvard.edu ( Jonathan McDowell...\n",
              "Name: processed, dtype: object"
            ],
            "text/html": [
              "<div>\n",
              "<style scoped>\n",
              "    .dataframe tbody tr th:only-of-type {\n",
              "        vertical-align: middle;\n",
              "    }\n",
              "\n",
              "    .dataframe tbody tr th {\n",
              "        vertical-align: top;\n",
              "    }\n",
              "\n",
              "    .dataframe thead th {\n",
              "        text-align: right;\n",
              "    }\n",
              "</style>\n",
              "<table border=\"1\" class=\"dataframe\">\n",
              "  <thead>\n",
              "    <tr style=\"text-align: right;\">\n",
              "      <th></th>\n",
              "      <th>processed</th>\n",
              "    </tr>\n",
              "  </thead>\n",
              "  <tbody>\n",
              "    <tr>\n",
              "      <th>0</th>\n",
              "      <td>: lerxst@wam.umd.edu ( thing ) \\n Subject : ca...</td>\n",
              "    </tr>\n",
              "    <tr>\n",
              "      <th>1</th>\n",
              "      <td>: guykuo@carson.u.washington.edu ( Guy Kuo ) \\...</td>\n",
              "    </tr>\n",
              "    <tr>\n",
              "      <th>2</th>\n",
              "      <td>: twillis@ec.ecn.purdue.edu ( Thomas E Willis ...</td>\n",
              "    </tr>\n",
              "    <tr>\n",
              "      <th>3</th>\n",
              "      <td>: jgreen@amber ( Joe Green ) \\n Subject : : We...</td>\n",
              "    </tr>\n",
              "    <tr>\n",
              "      <th>4</th>\n",
              "      <td>: jcm@head-cfa.harvard.edu ( Jonathan McDowell...</td>\n",
              "    </tr>\n",
              "  </tbody>\n",
              "</table>\n",
              "</div><br><label><b>dtype:</b> object</label>"
            ]
          },
          "metadata": {},
          "execution_count": 27
        }
      ]
    },
    {
      "cell_type": "markdown",
      "source": [
        "### Email Removal"
      ],
      "metadata": {
        "id": "18aqo-xLERD9"
      }
    },
    {
      "cell_type": "code",
      "source": [
        "import re\n",
        "\n",
        "def remove_emails(text):\n",
        "    return re.sub(r'\\S+@\\S+', '', text)\n",
        "\n",
        "df['processed'] = df['processed'].apply(remove_emails)\n",
        "df['processed'].head()\n"
      ],
      "metadata": {
        "colab": {
          "base_uri": "https://localhost:8080/",
          "height": 295
        },
        "id": "PCmrJlEfERwC",
        "outputId": "0bbc675c-0822-413a-a6b2-01cb332cfc5a"
      },
      "execution_count": null,
      "outputs": [
        {
          "output_type": "stream",
          "name": "stderr",
          "text": [
            "/usr/local/lib/python3.10/dist-packages/ipykernel/ipkernel.py:283: DeprecationWarning: `should_run_async` will not call `transform_cell` automatically in the future. Please pass the result to `transformed_cell` argument and any exception that happen during thetransform in `preprocessing_exc_tuple` in IPython 7.17 and above.\n",
            "  and should_run_async(code)\n"
          ]
        },
        {
          "output_type": "execute_result",
          "data": {
            "text/plain": [
              "0    :  ( thing ) \\n Subject : car ! ? \\n Nntp - Po...\n",
              "1    :  ( Guy Kuo ) \\n Subject : SI Clock Poll - Fi...\n",
              "2    :  ( Thomas E Willis ) \\n Subject : PB questio...\n",
              "3    :  ( Joe Green ) \\n Subject : : Weitek P9000 ?...\n",
              "4    :  ( Jonathan McDowell ) \\n Subject : : Shuttl...\n",
              "Name: processed, dtype: object"
            ],
            "text/html": [
              "<div>\n",
              "<style scoped>\n",
              "    .dataframe tbody tr th:only-of-type {\n",
              "        vertical-align: middle;\n",
              "    }\n",
              "\n",
              "    .dataframe tbody tr th {\n",
              "        vertical-align: top;\n",
              "    }\n",
              "\n",
              "    .dataframe thead th {\n",
              "        text-align: right;\n",
              "    }\n",
              "</style>\n",
              "<table border=\"1\" class=\"dataframe\">\n",
              "  <thead>\n",
              "    <tr style=\"text-align: right;\">\n",
              "      <th></th>\n",
              "      <th>processed</th>\n",
              "    </tr>\n",
              "  </thead>\n",
              "  <tbody>\n",
              "    <tr>\n",
              "      <th>0</th>\n",
              "      <td>:  ( thing ) \\n Subject : car ! ? \\n Nntp - Po...</td>\n",
              "    </tr>\n",
              "    <tr>\n",
              "      <th>1</th>\n",
              "      <td>:  ( Guy Kuo ) \\n Subject : SI Clock Poll - Fi...</td>\n",
              "    </tr>\n",
              "    <tr>\n",
              "      <th>2</th>\n",
              "      <td>:  ( Thomas E Willis ) \\n Subject : PB questio...</td>\n",
              "    </tr>\n",
              "    <tr>\n",
              "      <th>3</th>\n",
              "      <td>:  ( Joe Green ) \\n Subject : : Weitek P9000 ?...</td>\n",
              "    </tr>\n",
              "    <tr>\n",
              "      <th>4</th>\n",
              "      <td>:  ( Jonathan McDowell ) \\n Subject : : Shuttl...</td>\n",
              "    </tr>\n",
              "  </tbody>\n",
              "</table>\n",
              "</div><br><label><b>dtype:</b> object</label>"
            ]
          },
          "metadata": {},
          "execution_count": 28
        }
      ]
    },
    {
      "cell_type": "markdown",
      "source": [
        "### Non-Alphabetic Words Removal"
      ],
      "metadata": {
        "id": "oa3Lj9JCHWKM"
      }
    },
    {
      "cell_type": "code",
      "source": [
        "import re\n",
        "\n",
        "def clean_text(text):\n",
        "    # Check if the input is a string; if not, return an empty string\n",
        "    if not isinstance(text, str):\n",
        "        return ''\n",
        "\n",
        "    # Remove non-alphabetic characters (keeps spaces between words)\n",
        "    text = re.sub(r'[^a-zA-Z\\s]', '', text)\n",
        "\n",
        "    # Remove specific unwanted terms that appear frequently\n",
        "    unwanted_terms = [\"subject\", \"organization\", \"nntp\", \"posting\"]\n",
        "    text = ' '.join([word for word in text.split() if word.lower() not in unwanted_terms])\n",
        "\n",
        "    return text\n",
        "\n",
        "df['processed'] = df['processed'].apply(clean_text)\n",
        "df['processed'].head()\n"
      ],
      "metadata": {
        "colab": {
          "base_uri": "https://localhost:8080/",
          "height": 295
        },
        "id": "U40aaD8JHZnG",
        "outputId": "76b19868-d7e6-4a9f-e5ac-30ecc9d27a67"
      },
      "execution_count": null,
      "outputs": [
        {
          "output_type": "stream",
          "name": "stderr",
          "text": [
            "/usr/local/lib/python3.10/dist-packages/ipykernel/ipkernel.py:283: DeprecationWarning: `should_run_async` will not call `transform_cell` automatically in the future. Please pass the result to `transformed_cell` argument and any exception that happen during thetransform in `preprocessing_exc_tuple` in IPython 7.17 and above.\n",
            "  and should_run_async(code)\n"
          ]
        },
        {
          "output_type": "execute_result",
          "data": {
            "text/plain": [
              "0    thing car Host racwamumdedu University Marylan...\n",
              "1    Guy Kuo SI Clock Poll Final Summary Final SI c...\n",
              "2    Thomas E Willis PB questions Purdue University...\n",
              "3    Joe Green Weitek P Harris Computer Systems Div...\n",
              "4    Jonathan McDowell Shuttle Launch Question Smit...\n",
              "Name: processed, dtype: object"
            ],
            "text/html": [
              "<div>\n",
              "<style scoped>\n",
              "    .dataframe tbody tr th:only-of-type {\n",
              "        vertical-align: middle;\n",
              "    }\n",
              "\n",
              "    .dataframe tbody tr th {\n",
              "        vertical-align: top;\n",
              "    }\n",
              "\n",
              "    .dataframe thead th {\n",
              "        text-align: right;\n",
              "    }\n",
              "</style>\n",
              "<table border=\"1\" class=\"dataframe\">\n",
              "  <thead>\n",
              "    <tr style=\"text-align: right;\">\n",
              "      <th></th>\n",
              "      <th>processed</th>\n",
              "    </tr>\n",
              "  </thead>\n",
              "  <tbody>\n",
              "    <tr>\n",
              "      <th>0</th>\n",
              "      <td>thing car Host racwamumdedu University Marylan...</td>\n",
              "    </tr>\n",
              "    <tr>\n",
              "      <th>1</th>\n",
              "      <td>Guy Kuo SI Clock Poll Final Summary Final SI c...</td>\n",
              "    </tr>\n",
              "    <tr>\n",
              "      <th>2</th>\n",
              "      <td>Thomas E Willis PB questions Purdue University...</td>\n",
              "    </tr>\n",
              "    <tr>\n",
              "      <th>3</th>\n",
              "      <td>Joe Green Weitek P Harris Computer Systems Div...</td>\n",
              "    </tr>\n",
              "    <tr>\n",
              "      <th>4</th>\n",
              "      <td>Jonathan McDowell Shuttle Launch Question Smit...</td>\n",
              "    </tr>\n",
              "  </tbody>\n",
              "</table>\n",
              "</div><br><label><b>dtype:</b> object</label>"
            ]
          },
          "metadata": {},
          "execution_count": 29
        }
      ]
    },
    {
      "cell_type": "markdown",
      "source": [
        "### Tokenize"
      ],
      "metadata": {
        "id": "u301pDlgHecl"
      }
    },
    {
      "cell_type": "code",
      "source": [
        "def tokenize_text(text):\n",
        "    doc = nlp(text)\n",
        "    tokens = []\n",
        "    for token in doc:\n",
        "        # Filter out tokens that are whitespace, punctuation, or unwanted terms\n",
        "        if not token.is_space and not token.is_punct and token.text.lower() not in [\"subject\", \"re\", \"fw\"]:\n",
        "            tokens.append(token.text.lower())\n",
        "    return tokens\n",
        "\n",
        "df['processed'] = df['processed'].apply(tokenize_text)\n",
        "df['processed'].head()\n"
      ],
      "metadata": {
        "colab": {
          "base_uri": "https://localhost:8080/",
          "height": 295
        },
        "id": "s7rMaUPHHhA4",
        "outputId": "14726ea5-5e4f-4272-f4c9-cd0987a0c286"
      },
      "execution_count": null,
      "outputs": [
        {
          "output_type": "stream",
          "name": "stderr",
          "text": [
            "/usr/local/lib/python3.10/dist-packages/ipykernel/ipkernel.py:283: DeprecationWarning: `should_run_async` will not call `transform_cell` automatically in the future. Please pass the result to `transformed_cell` argument and any exception that happen during thetransform in `preprocessing_exc_tuple` in IPython 7.17 and above.\n",
            "  and should_run_async(code)\n"
          ]
        },
        {
          "output_type": "execute_result",
          "data": {
            "text/plain": [
              "0    [thing, car, host, racwamumdedu, university, m...\n",
              "1    [guy, kuo, si, clock, poll, final, summary, fi...\n",
              "2    [thomas, e, willis, pb, questions, purdue, uni...\n",
              "3    [joe, green, weitek, p, harris, computer, syst...\n",
              "4    [jonathan, mcdowell, shuttle, launch, question...\n",
              "Name: processed, dtype: object"
            ],
            "text/html": [
              "<div>\n",
              "<style scoped>\n",
              "    .dataframe tbody tr th:only-of-type {\n",
              "        vertical-align: middle;\n",
              "    }\n",
              "\n",
              "    .dataframe tbody tr th {\n",
              "        vertical-align: top;\n",
              "    }\n",
              "\n",
              "    .dataframe thead th {\n",
              "        text-align: right;\n",
              "    }\n",
              "</style>\n",
              "<table border=\"1\" class=\"dataframe\">\n",
              "  <thead>\n",
              "    <tr style=\"text-align: right;\">\n",
              "      <th></th>\n",
              "      <th>processed</th>\n",
              "    </tr>\n",
              "  </thead>\n",
              "  <tbody>\n",
              "    <tr>\n",
              "      <th>0</th>\n",
              "      <td>[thing, car, host, racwamumdedu, university, m...</td>\n",
              "    </tr>\n",
              "    <tr>\n",
              "      <th>1</th>\n",
              "      <td>[guy, kuo, si, clock, poll, final, summary, fi...</td>\n",
              "    </tr>\n",
              "    <tr>\n",
              "      <th>2</th>\n",
              "      <td>[thomas, e, willis, pb, questions, purdue, uni...</td>\n",
              "    </tr>\n",
              "    <tr>\n",
              "      <th>3</th>\n",
              "      <td>[joe, green, weitek, p, harris, computer, syst...</td>\n",
              "    </tr>\n",
              "    <tr>\n",
              "      <th>4</th>\n",
              "      <td>[jonathan, mcdowell, shuttle, launch, question...</td>\n",
              "    </tr>\n",
              "  </tbody>\n",
              "</table>\n",
              "</div><br><label><b>dtype:</b> object</label>"
            ]
          },
          "metadata": {},
          "execution_count": 30
        }
      ]
    },
    {
      "cell_type": "markdown",
      "source": [
        "### Lowercase"
      ],
      "metadata": {
        "id": "KoDyJ3_CHjgY"
      }
    },
    {
      "cell_type": "code",
      "source": [
        "df['processed'] = df['processed'].apply(lambda x: [token.lower() for token in x])\n",
        "df['processed'].head()\n"
      ],
      "metadata": {
        "colab": {
          "base_uri": "https://localhost:8080/",
          "height": 295
        },
        "id": "2fqv62sCHo31",
        "outputId": "0a19b65a-88f5-4b33-8f14-2305eff33ff8"
      },
      "execution_count": null,
      "outputs": [
        {
          "output_type": "stream",
          "name": "stderr",
          "text": [
            "/usr/local/lib/python3.10/dist-packages/ipykernel/ipkernel.py:283: DeprecationWarning: `should_run_async` will not call `transform_cell` automatically in the future. Please pass the result to `transformed_cell` argument and any exception that happen during thetransform in `preprocessing_exc_tuple` in IPython 7.17 and above.\n",
            "  and should_run_async(code)\n"
          ]
        },
        {
          "output_type": "execute_result",
          "data": {
            "text/plain": [
              "0    [thing, car, host, racwamumdedu, university, m...\n",
              "1    [guy, kuo, si, clock, poll, final, summary, fi...\n",
              "2    [thomas, e, willis, pb, questions, purdue, uni...\n",
              "3    [joe, green, weitek, p, harris, computer, syst...\n",
              "4    [jonathan, mcdowell, shuttle, launch, question...\n",
              "Name: processed, dtype: object"
            ],
            "text/html": [
              "<div>\n",
              "<style scoped>\n",
              "    .dataframe tbody tr th:only-of-type {\n",
              "        vertical-align: middle;\n",
              "    }\n",
              "\n",
              "    .dataframe tbody tr th {\n",
              "        vertical-align: top;\n",
              "    }\n",
              "\n",
              "    .dataframe thead th {\n",
              "        text-align: right;\n",
              "    }\n",
              "</style>\n",
              "<table border=\"1\" class=\"dataframe\">\n",
              "  <thead>\n",
              "    <tr style=\"text-align: right;\">\n",
              "      <th></th>\n",
              "      <th>processed</th>\n",
              "    </tr>\n",
              "  </thead>\n",
              "  <tbody>\n",
              "    <tr>\n",
              "      <th>0</th>\n",
              "      <td>[thing, car, host, racwamumdedu, university, m...</td>\n",
              "    </tr>\n",
              "    <tr>\n",
              "      <th>1</th>\n",
              "      <td>[guy, kuo, si, clock, poll, final, summary, fi...</td>\n",
              "    </tr>\n",
              "    <tr>\n",
              "      <th>2</th>\n",
              "      <td>[thomas, e, willis, pb, questions, purdue, uni...</td>\n",
              "    </tr>\n",
              "    <tr>\n",
              "      <th>3</th>\n",
              "      <td>[joe, green, weitek, p, harris, computer, syst...</td>\n",
              "    </tr>\n",
              "    <tr>\n",
              "      <th>4</th>\n",
              "      <td>[jonathan, mcdowell, shuttle, launch, question...</td>\n",
              "    </tr>\n",
              "  </tbody>\n",
              "</table>\n",
              "</div><br><label><b>dtype:</b> object</label>"
            ]
          },
          "metadata": {},
          "execution_count": 31
        }
      ]
    },
    {
      "cell_type": "markdown",
      "source": [
        "### BiGrams & TriGrams"
      ],
      "metadata": {
        "id": "hxfkXzSVHqqV"
      }
    },
    {
      "cell_type": "code",
      "source": [
        "from gensim.models import Phrases\n",
        "\n",
        "# Create bigram and trigram models\n",
        "bigram = Phrases(df['processed'], min_count=5, threshold=100)\n",
        "trigram = Phrases(bigram[df['processed']], threshold=100)\n",
        "\n",
        "# Apply the bigram and trigram models\n",
        "bigram_mod = gensim.models.phrases.Phraser(bigram)\n",
        "trigram_mod = gensim.models.phrases.Phraser(trigram)\n",
        "\n",
        "df['processed'] = df['processed'].apply(lambda x: trigram_mod[bigram_mod[x]])\n",
        "df['processed'].head()\n"
      ],
      "metadata": {
        "colab": {
          "base_uri": "https://localhost:8080/",
          "height": 295
        },
        "id": "NSn0WuZvHtnA",
        "outputId": "88343aba-4bcc-4b58-d16e-cd1ee66048ec"
      },
      "execution_count": null,
      "outputs": [
        {
          "output_type": "stream",
          "name": "stderr",
          "text": [
            "/usr/local/lib/python3.10/dist-packages/ipykernel/ipkernel.py:283: DeprecationWarning: `should_run_async` will not call `transform_cell` automatically in the future. Please pass the result to `transformed_cell` argument and any exception that happen during thetransform in `preprocessing_exc_tuple` in IPython 7.17 and above.\n",
            "  and should_run_async(code)\n"
          ]
        },
        {
          "output_type": "execute_result",
          "data": {
            "text/plain": [
              "0    [thing, car, host_racwamumdedu, university, ma...\n",
              "1    [guy_kuo, si, clock, poll, final, summary, fin...\n",
              "2    [thomas, e, willis, pb, questions, purdue_univ...\n",
              "3    [joe, green, weitek_p, harris, computer, syste...\n",
              "4    [jonathan, mcdowell, shuttle_launch, question,...\n",
              "Name: processed, dtype: object"
            ],
            "text/html": [
              "<div>\n",
              "<style scoped>\n",
              "    .dataframe tbody tr th:only-of-type {\n",
              "        vertical-align: middle;\n",
              "    }\n",
              "\n",
              "    .dataframe tbody tr th {\n",
              "        vertical-align: top;\n",
              "    }\n",
              "\n",
              "    .dataframe thead th {\n",
              "        text-align: right;\n",
              "    }\n",
              "</style>\n",
              "<table border=\"1\" class=\"dataframe\">\n",
              "  <thead>\n",
              "    <tr style=\"text-align: right;\">\n",
              "      <th></th>\n",
              "      <th>processed</th>\n",
              "    </tr>\n",
              "  </thead>\n",
              "  <tbody>\n",
              "    <tr>\n",
              "      <th>0</th>\n",
              "      <td>[thing, car, host_racwamumdedu, university, ma...</td>\n",
              "    </tr>\n",
              "    <tr>\n",
              "      <th>1</th>\n",
              "      <td>[guy_kuo, si, clock, poll, final, summary, fin...</td>\n",
              "    </tr>\n",
              "    <tr>\n",
              "      <th>2</th>\n",
              "      <td>[thomas, e, willis, pb, questions, purdue_univ...</td>\n",
              "    </tr>\n",
              "    <tr>\n",
              "      <th>3</th>\n",
              "      <td>[joe, green, weitek_p, harris, computer, syste...</td>\n",
              "    </tr>\n",
              "    <tr>\n",
              "      <th>4</th>\n",
              "      <td>[jonathan, mcdowell, shuttle_launch, question,...</td>\n",
              "    </tr>\n",
              "  </tbody>\n",
              "</table>\n",
              "</div><br><label><b>dtype:</b> object</label>"
            ]
          },
          "metadata": {},
          "execution_count": 32
        }
      ]
    },
    {
      "cell_type": "markdown",
      "source": [
        "### Lemmatization"
      ],
      "metadata": {
        "id": "lCkP5gf1Hv03"
      }
    },
    {
      "cell_type": "code",
      "source": [
        "def lemmatize_text(text):\n",
        "    doc = nlp(' '.join(text))\n",
        "    return [token.lemma_ for token in doc if token.lemma_ != '-PRON-']  # Exclude pronouns\n",
        "\n",
        "df['processed'] = df['processed'].apply(lemmatize_text)\n",
        "df['processed'].head()\n"
      ],
      "metadata": {
        "colab": {
          "base_uri": "https://localhost:8080/",
          "height": 295
        },
        "id": "RA7geevjH1Qz",
        "outputId": "b7dbf946-4d36-4520-9adb-51abd8a9463c"
      },
      "execution_count": null,
      "outputs": [
        {
          "output_type": "stream",
          "name": "stderr",
          "text": [
            "/usr/local/lib/python3.10/dist-packages/ipykernel/ipkernel.py:283: DeprecationWarning: `should_run_async` will not call `transform_cell` automatically in the future. Please pass the result to `transformed_cell` argument and any exception that happen during thetransform in `preprocessing_exc_tuple` in IPython 7.17 and above.\n",
            "  and should_run_async(code)\n"
          ]
        },
        {
          "output_type": "execute_result",
          "data": {
            "text/plain": [
              "0    [thing, car, host_racwamumdedu, university, ma...\n",
              "1    [guy_kuo, si, clock, poll, final, summary, fin...\n",
              "2    [thomas, e, willis, pb, question, purdue_unive...\n",
              "3    [joe, green, weitek_p, harris, computer, syste...\n",
              "4    [jonathan, mcdowell, shuttle_launch, question,...\n",
              "Name: processed, dtype: object"
            ],
            "text/html": [
              "<div>\n",
              "<style scoped>\n",
              "    .dataframe tbody tr th:only-of-type {\n",
              "        vertical-align: middle;\n",
              "    }\n",
              "\n",
              "    .dataframe tbody tr th {\n",
              "        vertical-align: top;\n",
              "    }\n",
              "\n",
              "    .dataframe thead th {\n",
              "        text-align: right;\n",
              "    }\n",
              "</style>\n",
              "<table border=\"1\" class=\"dataframe\">\n",
              "  <thead>\n",
              "    <tr style=\"text-align: right;\">\n",
              "      <th></th>\n",
              "      <th>processed</th>\n",
              "    </tr>\n",
              "  </thead>\n",
              "  <tbody>\n",
              "    <tr>\n",
              "      <th>0</th>\n",
              "      <td>[thing, car, host_racwamumdedu, university, ma...</td>\n",
              "    </tr>\n",
              "    <tr>\n",
              "      <th>1</th>\n",
              "      <td>[guy_kuo, si, clock, poll, final, summary, fin...</td>\n",
              "    </tr>\n",
              "    <tr>\n",
              "      <th>2</th>\n",
              "      <td>[thomas, e, willis, pb, question, purdue_unive...</td>\n",
              "    </tr>\n",
              "    <tr>\n",
              "      <th>3</th>\n",
              "      <td>[joe, green, weitek_p, harris, computer, syste...</td>\n",
              "    </tr>\n",
              "    <tr>\n",
              "      <th>4</th>\n",
              "      <td>[jonathan, mcdowell, shuttle_launch, question,...</td>\n",
              "    </tr>\n",
              "  </tbody>\n",
              "</table>\n",
              "</div><br><label><b>dtype:</b> object</label>"
            ]
          },
          "metadata": {},
          "execution_count": 33
        }
      ]
    },
    {
      "cell_type": "markdown",
      "source": [
        "### Create a Dictionary for the Document"
      ],
      "metadata": {
        "id": "JxhUOPHBHy7e"
      }
    },
    {
      "cell_type": "code",
      "source": [
        "from gensim import corpora\n",
        "\n",
        "# Create a dictionary for the 'processed' text data\n",
        "dictionary = corpora.Dictionary(df['processed'])\n"
      ],
      "metadata": {
        "colab": {
          "base_uri": "https://localhost:8080/"
        },
        "id": "nrwTEXtVIDG9",
        "outputId": "b87097f6-e7e9-496a-9acf-7343804c53e2"
      },
      "execution_count": null,
      "outputs": [
        {
          "output_type": "stream",
          "name": "stderr",
          "text": [
            "/usr/local/lib/python3.10/dist-packages/ipykernel/ipkernel.py:283: DeprecationWarning: `should_run_async` will not call `transform_cell` automatically in the future. Please pass the result to `transformed_cell` argument and any exception that happen during thetransform in `preprocessing_exc_tuple` in IPython 7.17 and above.\n",
            "  and should_run_async(code)\n"
          ]
        }
      ]
    },
    {
      "cell_type": "markdown",
      "source": [
        "### Filter Low-Frequency Words"
      ],
      "metadata": {
        "id": "dWbtDjh0IK2u"
      }
    },
    {
      "cell_type": "code",
      "source": [
        "# Filter words that are too rare or too common\n",
        "dictionary.filter_extremes(no_below=5, no_above=0.5)\n"
      ],
      "metadata": {
        "colab": {
          "base_uri": "https://localhost:8080/"
        },
        "id": "uKugs6TQIOED",
        "outputId": "239ba142-d6b8-40fa-919d-19f40b404ec1"
      },
      "execution_count": null,
      "outputs": [
        {
          "output_type": "stream",
          "name": "stderr",
          "text": [
            "/usr/local/lib/python3.10/dist-packages/ipykernel/ipkernel.py:283: DeprecationWarning: `should_run_async` will not call `transform_cell` automatically in the future. Please pass the result to `transformed_cell` argument and any exception that happen during thetransform in `preprocessing_exc_tuple` in IPython 7.17 and above.\n",
            "  and should_run_async(code)\n"
          ]
        }
      ]
    },
    {
      "cell_type": "markdown",
      "source": [
        "### Create an Index-to-Word Dictionary"
      ],
      "metadata": {
        "id": "8rDbPtLlIQEG"
      }
    },
    {
      "cell_type": "code",
      "source": [
        "# Create a mapping from index to word\n",
        "index_to_word = {id: word for word, id in dictionary.token2id.items()}\n"
      ],
      "metadata": {
        "colab": {
          "base_uri": "https://localhost:8080/"
        },
        "id": "e79krixTISut",
        "outputId": "a35e5d4a-62ac-4aea-b482-8b7717d6841a"
      },
      "execution_count": null,
      "outputs": [
        {
          "output_type": "stream",
          "name": "stderr",
          "text": [
            "/usr/local/lib/python3.10/dist-packages/ipykernel/ipkernel.py:283: DeprecationWarning: `should_run_async` will not call `transform_cell` automatically in the future. Please pass the result to `transformed_cell` argument and any exception that happen during thetransform in `preprocessing_exc_tuple` in IPython 7.17 and above.\n",
            "  and should_run_async(code)\n"
          ]
        }
      ]
    },
    {
      "cell_type": "markdown",
      "source": [
        "### Train the Topic Model"
      ],
      "metadata": {
        "id": "ko8GFuiKIUMJ"
      }
    },
    {
      "cell_type": "code",
      "source": [
        "from gensim.models import LdaModel\n",
        "\n",
        "# Create a bag-of-words representation for each document\n",
        "corpus = [dictionary.doc2bow(text) for text in df['processed']]\n",
        "\n",
        "# Train the LDA model\n",
        "lda_model = LdaModel(corpus=corpus, id2word=dictionary, num_topics=10, random_state=42, passes=10)\n"
      ],
      "metadata": {
        "colab": {
          "base_uri": "https://localhost:8080/"
        },
        "id": "Z46NHWlXIWzh",
        "outputId": "74f9e18e-be78-4829-e9b5-3c9eaf21e09e"
      },
      "execution_count": null,
      "outputs": [
        {
          "output_type": "stream",
          "name": "stderr",
          "text": [
            "/usr/local/lib/python3.10/dist-packages/ipykernel/ipkernel.py:283: DeprecationWarning: `should_run_async` will not call `transform_cell` automatically in the future. Please pass the result to `transformed_cell` argument and any exception that happen during thetransform in `preprocessing_exc_tuple` in IPython 7.17 and above.\n",
            "  and should_run_async(code)\n"
          ]
        }
      ]
    },
    {
      "cell_type": "markdown",
      "source": [
        "### Predict on the Dataset"
      ],
      "metadata": {
        "id": "AkkvyoZ1IY5r"
      }
    },
    {
      "cell_type": "code",
      "source": [
        "# Predict topics for each document\n",
        "df['topics'] = df['processed'].apply(lambda x: lda_model[dictionary.doc2bow(x)])\n",
        "df[['content', 'topics']].head()\n"
      ],
      "metadata": {
        "colab": {
          "base_uri": "https://localhost:8080/",
          "height": 261
        },
        "id": "sE8zxiiwIb-v",
        "outputId": "1ece1bb5-4354-4fca-c4ab-a6470030b324"
      },
      "execution_count": null,
      "outputs": [
        {
          "output_type": "stream",
          "name": "stderr",
          "text": [
            "/usr/local/lib/python3.10/dist-packages/ipykernel/ipkernel.py:283: DeprecationWarning: `should_run_async` will not call `transform_cell` automatically in the future. Please pass the result to `transformed_cell` argument and any exception that happen during thetransform in `preprocessing_exc_tuple` in IPython 7.17 and above.\n",
            "  and should_run_async(code)\n"
          ]
        },
        {
          "output_type": "execute_result",
          "data": {
            "text/plain": [
              "                                             content  \\\n",
              "0  From: lerxst@wam.umd.edu (where's my thing)\\nS...   \n",
              "1  From: guykuo@carson.u.washington.edu (Guy Kuo)...   \n",
              "2  From: twillis@ec.ecn.purdue.edu (Thomas E Will...   \n",
              "3  From: jgreen@amber (Joe Green)\\nSubject: Re: W...   \n",
              "4  From: jcm@head-cfa.harvard.edu (Jonathan McDow...   \n",
              "\n",
              "                                              topics  \n",
              "0  [(0, 0.52360725), (5, 0.06840608), (7, 0.39204...  \n",
              "1  [(2, 0.7212475), (3, 0.047728073), (6, 0.16559...  \n",
              "2  [(0, 0.5383933), (2, 0.29267898), (3, 0.046087...  \n",
              "3  [(0, 0.3160432), (2, 0.5339909), (5, 0.13594544)]  \n",
              "4  [(0, 0.7124134), (2, 0.061207075), (3, 0.14005...  "
            ],
            "text/html": [
              "\n",
              "  <div id=\"df-a0abbf9a-19bf-4e80-838e-5d6fd81cee9c\" class=\"colab-df-container\">\n",
              "    <div>\n",
              "<style scoped>\n",
              "    .dataframe tbody tr th:only-of-type {\n",
              "        vertical-align: middle;\n",
              "    }\n",
              "\n",
              "    .dataframe tbody tr th {\n",
              "        vertical-align: top;\n",
              "    }\n",
              "\n",
              "    .dataframe thead th {\n",
              "        text-align: right;\n",
              "    }\n",
              "</style>\n",
              "<table border=\"1\" class=\"dataframe\">\n",
              "  <thead>\n",
              "    <tr style=\"text-align: right;\">\n",
              "      <th></th>\n",
              "      <th>content</th>\n",
              "      <th>topics</th>\n",
              "    </tr>\n",
              "  </thead>\n",
              "  <tbody>\n",
              "    <tr>\n",
              "      <th>0</th>\n",
              "      <td>From: lerxst@wam.umd.edu (where's my thing)\\nS...</td>\n",
              "      <td>[(0, 0.52360725), (5, 0.06840608), (7, 0.39204...</td>\n",
              "    </tr>\n",
              "    <tr>\n",
              "      <th>1</th>\n",
              "      <td>From: guykuo@carson.u.washington.edu (Guy Kuo)...</td>\n",
              "      <td>[(2, 0.7212475), (3, 0.047728073), (6, 0.16559...</td>\n",
              "    </tr>\n",
              "    <tr>\n",
              "      <th>2</th>\n",
              "      <td>From: twillis@ec.ecn.purdue.edu (Thomas E Will...</td>\n",
              "      <td>[(0, 0.5383933), (2, 0.29267898), (3, 0.046087...</td>\n",
              "    </tr>\n",
              "    <tr>\n",
              "      <th>3</th>\n",
              "      <td>From: jgreen@amber (Joe Green)\\nSubject: Re: W...</td>\n",
              "      <td>[(0, 0.3160432), (2, 0.5339909), (5, 0.13594544)]</td>\n",
              "    </tr>\n",
              "    <tr>\n",
              "      <th>4</th>\n",
              "      <td>From: jcm@head-cfa.harvard.edu (Jonathan McDow...</td>\n",
              "      <td>[(0, 0.7124134), (2, 0.061207075), (3, 0.14005...</td>\n",
              "    </tr>\n",
              "  </tbody>\n",
              "</table>\n",
              "</div>\n",
              "    <div class=\"colab-df-buttons\">\n",
              "\n",
              "  <div class=\"colab-df-container\">\n",
              "    <button class=\"colab-df-convert\" onclick=\"convertToInteractive('df-a0abbf9a-19bf-4e80-838e-5d6fd81cee9c')\"\n",
              "            title=\"Convert this dataframe to an interactive table.\"\n",
              "            style=\"display:none;\">\n",
              "\n",
              "  <svg xmlns=\"http://www.w3.org/2000/svg\" height=\"24px\" viewBox=\"0 -960 960 960\">\n",
              "    <path d=\"M120-120v-720h720v720H120Zm60-500h600v-160H180v160Zm220 220h160v-160H400v160Zm0 220h160v-160H400v160ZM180-400h160v-160H180v160Zm440 0h160v-160H620v160ZM180-180h160v-160H180v160Zm440 0h160v-160H620v160Z\"/>\n",
              "  </svg>\n",
              "    </button>\n",
              "\n",
              "  <style>\n",
              "    .colab-df-container {\n",
              "      display:flex;\n",
              "      gap: 12px;\n",
              "    }\n",
              "\n",
              "    .colab-df-convert {\n",
              "      background-color: #E8F0FE;\n",
              "      border: none;\n",
              "      border-radius: 50%;\n",
              "      cursor: pointer;\n",
              "      display: none;\n",
              "      fill: #1967D2;\n",
              "      height: 32px;\n",
              "      padding: 0 0 0 0;\n",
              "      width: 32px;\n",
              "    }\n",
              "\n",
              "    .colab-df-convert:hover {\n",
              "      background-color: #E2EBFA;\n",
              "      box-shadow: 0px 1px 2px rgba(60, 64, 67, 0.3), 0px 1px 3px 1px rgba(60, 64, 67, 0.15);\n",
              "      fill: #174EA6;\n",
              "    }\n",
              "\n",
              "    .colab-df-buttons div {\n",
              "      margin-bottom: 4px;\n",
              "    }\n",
              "\n",
              "    [theme=dark] .colab-df-convert {\n",
              "      background-color: #3B4455;\n",
              "      fill: #D2E3FC;\n",
              "    }\n",
              "\n",
              "    [theme=dark] .colab-df-convert:hover {\n",
              "      background-color: #434B5C;\n",
              "      box-shadow: 0px 1px 3px 1px rgba(0, 0, 0, 0.15);\n",
              "      filter: drop-shadow(0px 1px 2px rgba(0, 0, 0, 0.3));\n",
              "      fill: #FFFFFF;\n",
              "    }\n",
              "  </style>\n",
              "\n",
              "    <script>\n",
              "      const buttonEl =\n",
              "        document.querySelector('#df-a0abbf9a-19bf-4e80-838e-5d6fd81cee9c button.colab-df-convert');\n",
              "      buttonEl.style.display =\n",
              "        google.colab.kernel.accessAllowed ? 'block' : 'none';\n",
              "\n",
              "      async function convertToInteractive(key) {\n",
              "        const element = document.querySelector('#df-a0abbf9a-19bf-4e80-838e-5d6fd81cee9c');\n",
              "        const dataTable =\n",
              "          await google.colab.kernel.invokeFunction('convertToInteractive',\n",
              "                                                    [key], {});\n",
              "        if (!dataTable) return;\n",
              "\n",
              "        const docLinkHtml = 'Like what you see? Visit the ' +\n",
              "          '<a target=\"_blank\" href=https://colab.research.google.com/notebooks/data_table.ipynb>data table notebook</a>'\n",
              "          + ' to learn more about interactive tables.';\n",
              "        element.innerHTML = '';\n",
              "        dataTable['output_type'] = 'display_data';\n",
              "        await google.colab.output.renderOutput(dataTable, element);\n",
              "        const docLink = document.createElement('div');\n",
              "        docLink.innerHTML = docLinkHtml;\n",
              "        element.appendChild(docLink);\n",
              "      }\n",
              "    </script>\n",
              "  </div>\n",
              "\n",
              "\n",
              "<div id=\"df-c3541b95-2688-40c1-8df3-ec6d376415cb\">\n",
              "  <button class=\"colab-df-quickchart\" onclick=\"quickchart('df-c3541b95-2688-40c1-8df3-ec6d376415cb')\"\n",
              "            title=\"Suggest charts\"\n",
              "            style=\"display:none;\">\n",
              "\n",
              "<svg xmlns=\"http://www.w3.org/2000/svg\" height=\"24px\"viewBox=\"0 0 24 24\"\n",
              "     width=\"24px\">\n",
              "    <g>\n",
              "        <path d=\"M19 3H5c-1.1 0-2 .9-2 2v14c0 1.1.9 2 2 2h14c1.1 0 2-.9 2-2V5c0-1.1-.9-2-2-2zM9 17H7v-7h2v7zm4 0h-2V7h2v10zm4 0h-2v-4h2v4z\"/>\n",
              "    </g>\n",
              "</svg>\n",
              "  </button>\n",
              "\n",
              "<style>\n",
              "  .colab-df-quickchart {\n",
              "      --bg-color: #E8F0FE;\n",
              "      --fill-color: #1967D2;\n",
              "      --hover-bg-color: #E2EBFA;\n",
              "      --hover-fill-color: #174EA6;\n",
              "      --disabled-fill-color: #AAA;\n",
              "      --disabled-bg-color: #DDD;\n",
              "  }\n",
              "\n",
              "  [theme=dark] .colab-df-quickchart {\n",
              "      --bg-color: #3B4455;\n",
              "      --fill-color: #D2E3FC;\n",
              "      --hover-bg-color: #434B5C;\n",
              "      --hover-fill-color: #FFFFFF;\n",
              "      --disabled-bg-color: #3B4455;\n",
              "      --disabled-fill-color: #666;\n",
              "  }\n",
              "\n",
              "  .colab-df-quickchart {\n",
              "    background-color: var(--bg-color);\n",
              "    border: none;\n",
              "    border-radius: 50%;\n",
              "    cursor: pointer;\n",
              "    display: none;\n",
              "    fill: var(--fill-color);\n",
              "    height: 32px;\n",
              "    padding: 0;\n",
              "    width: 32px;\n",
              "  }\n",
              "\n",
              "  .colab-df-quickchart:hover {\n",
              "    background-color: var(--hover-bg-color);\n",
              "    box-shadow: 0 1px 2px rgba(60, 64, 67, 0.3), 0 1px 3px 1px rgba(60, 64, 67, 0.15);\n",
              "    fill: var(--button-hover-fill-color);\n",
              "  }\n",
              "\n",
              "  .colab-df-quickchart-complete:disabled,\n",
              "  .colab-df-quickchart-complete:disabled:hover {\n",
              "    background-color: var(--disabled-bg-color);\n",
              "    fill: var(--disabled-fill-color);\n",
              "    box-shadow: none;\n",
              "  }\n",
              "\n",
              "  .colab-df-spinner {\n",
              "    border: 2px solid var(--fill-color);\n",
              "    border-color: transparent;\n",
              "    border-bottom-color: var(--fill-color);\n",
              "    animation:\n",
              "      spin 1s steps(1) infinite;\n",
              "  }\n",
              "\n",
              "  @keyframes spin {\n",
              "    0% {\n",
              "      border-color: transparent;\n",
              "      border-bottom-color: var(--fill-color);\n",
              "      border-left-color: var(--fill-color);\n",
              "    }\n",
              "    20% {\n",
              "      border-color: transparent;\n",
              "      border-left-color: var(--fill-color);\n",
              "      border-top-color: var(--fill-color);\n",
              "    }\n",
              "    30% {\n",
              "      border-color: transparent;\n",
              "      border-left-color: var(--fill-color);\n",
              "      border-top-color: var(--fill-color);\n",
              "      border-right-color: var(--fill-color);\n",
              "    }\n",
              "    40% {\n",
              "      border-color: transparent;\n",
              "      border-right-color: var(--fill-color);\n",
              "      border-top-color: var(--fill-color);\n",
              "    }\n",
              "    60% {\n",
              "      border-color: transparent;\n",
              "      border-right-color: var(--fill-color);\n",
              "    }\n",
              "    80% {\n",
              "      border-color: transparent;\n",
              "      border-right-color: var(--fill-color);\n",
              "      border-bottom-color: var(--fill-color);\n",
              "    }\n",
              "    90% {\n",
              "      border-color: transparent;\n",
              "      border-bottom-color: var(--fill-color);\n",
              "    }\n",
              "  }\n",
              "</style>\n",
              "\n",
              "  <script>\n",
              "    async function quickchart(key) {\n",
              "      const quickchartButtonEl =\n",
              "        document.querySelector('#' + key + ' button');\n",
              "      quickchartButtonEl.disabled = true;  // To prevent multiple clicks.\n",
              "      quickchartButtonEl.classList.add('colab-df-spinner');\n",
              "      try {\n",
              "        const charts = await google.colab.kernel.invokeFunction(\n",
              "            'suggestCharts', [key], {});\n",
              "      } catch (error) {\n",
              "        console.error('Error during call to suggestCharts:', error);\n",
              "      }\n",
              "      quickchartButtonEl.classList.remove('colab-df-spinner');\n",
              "      quickchartButtonEl.classList.add('colab-df-quickchart-complete');\n",
              "    }\n",
              "    (() => {\n",
              "      let quickchartButtonEl =\n",
              "        document.querySelector('#df-c3541b95-2688-40c1-8df3-ec6d376415cb button');\n",
              "      quickchartButtonEl.style.display =\n",
              "        google.colab.kernel.accessAllowed ? 'block' : 'none';\n",
              "    })();\n",
              "  </script>\n",
              "</div>\n",
              "\n",
              "    </div>\n",
              "  </div>\n"
            ],
            "application/vnd.google.colaboratory.intrinsic+json": {
              "type": "dataframe",
              "summary": "{\n  \"name\": \"df[['content', 'topics']]\",\n  \"rows\": 5,\n  \"fields\": [\n    {\n      \"column\": \"content\",\n      \"properties\": {\n        \"dtype\": \"string\",\n        \"num_unique_values\": 5,\n        \"samples\": [\n          \"From: guykuo@carson.u.washington.edu (Guy Kuo)\\nSubject: SI Clock Poll - Final Call\\nSummary: Final call for SI clock reports\\nKeywords: SI,acceleration,clock,upgrade\\nArticle-I.D.: shelley.1qvfo9INNc3s\\nOrganization: University of Washington\\nLines: 11\\nNNTP-Posting-Host: carson.u.washington.edu\\n\\nA fair number of brave souls who upgraded their SI clock oscillator have\\nshared their experiences for this poll. Please send a brief message detailing\\nyour experiences with the procedure. Top speed attained, CPU rated speed,\\nadd on cards and adapters, heat sinks, hour of usage per day, floppy disk\\nfunctionality with 800 and 1.4 m floppies are especially requested.\\n\\nI will be summarizing in the next two days, so please add to the network\\nknowledge base if you have done the clock upgrade and haven't answered this\\npoll. Thanks.\\n\\nGuy Kuo <guykuo@u.washington.edu>\\n\",\n          \"From: jcm@head-cfa.harvard.edu (Jonathan McDowell)\\nSubject: Re: Shuttle Launch Question\\nOrganization: Smithsonian Astrophysical Observatory, Cambridge, MA,  USA\\nDistribution: sci\\nLines: 23\\n\\nFrom article <C5owCB.n3p@world.std.com>, by tombaker@world.std.com (Tom A Baker):\\n>>In article <C5JLwx.4H9.1@cs.cmu.edu>, ETRAT@ttacs1.ttu.edu (Pack Rat) writes...\\n>>>\\\"Clear caution & warning memory.  Verify no unexpected\\n>>>errors. ...\\\".  I am wondering what an \\\"expected error\\\" might\\n>>>be.  Sorry if this is a really dumb question, but\\n> \\n> Parity errors in memory or previously known conditions that were waivered.\\n>    \\\"Yes that is an error, but we already knew about it\\\"\\n> I'd be curious as to what the real meaning of the quote is.\\n> \\n> tom\\n\\n\\nMy understanding is that the 'expected errors' are basically\\nknown bugs in the warning system software - things are checked\\nthat don't have the right values in yet because they aren't\\nset till after launch, and suchlike. Rather than fix the code\\nand possibly introduce new bugs, they just tell the crew\\n'ok, if you see a warning no. 213 before liftoff, ignore it'.\\n\\n - Jonathan\\n\\n\\n\",\n          \"From: twillis@ec.ecn.purdue.edu (Thomas E Willis)\\nSubject: PB questions...\\nOrganization: Purdue University Engineering Computer Network\\nDistribution: usa\\nLines: 36\\n\\nwell folks, my mac plus finally gave up the ghost this weekend after\\nstarting life as a 512k way back in 1985.  sooo, i'm in the market for a\\nnew machine a bit sooner than i intended to be...\\n\\ni'm looking into picking up a powerbook 160 or maybe 180 and have a bunch\\nof questions that (hopefully) somebody can answer:\\n\\n* does anybody know any dirt on when the next round of powerbook\\nintroductions are expected?  i'd heard the 185c was supposed to make an\\nappearence \\\"this summer\\\" but haven't heard anymore on it - and since i\\ndon't have access to macleak, i was wondering if anybody out there had\\nmore info...\\n\\n* has anybody heard rumors about price drops to the powerbook line like the\\nones the duo's just went through recently?\\n\\n* what's the impression of the display on the 180?  i could probably swing\\na 180 if i got the 80Mb disk rather than the 120, but i don't really have\\na feel for how much \\\"better\\\" the display is (yea, it looks great in the\\nstore, but is that all \\\"wow\\\" or is it really that good?).  could i solicit\\nsome opinions of people who use the 160 and 180 day-to-day on if its worth\\ntaking the disk size and money hit to get the active display?  (i realize\\nthis is a real subjective question, but i've only played around with the\\nmachines in a computer store breifly and figured the opinions of somebody\\nwho actually uses the machine daily might prove helpful).\\n\\n* how well does hellcats perform?  ;)\\n\\nthanks a bunch in advance for any info - if you could email, i'll post a\\nsummary (news reading time is at a premium with finals just around the\\ncorner... :( )\\n--\\nTom Willis  \\\\  twillis@ecn.purdue.edu    \\\\    Purdue Electrical Engineering\\n---------------------------------------------------------------------------\\n\\\"Convictions are more dangerous enemies of truth than lies.\\\"  - F. W.\\nNietzsche\\n\"\n        ],\n        \"semantic_type\": \"\",\n        \"description\": \"\"\n      }\n    },\n    {\n      \"column\": \"topics\",\n      \"properties\": {\n        \"dtype\": \"object\",\n        \"semantic_type\": \"\",\n        \"description\": \"\"\n      }\n    }\n  ]\n}"
            }
          },
          "metadata": {},
          "execution_count": 38
        }
      ]
    },
    {
      "cell_type": "markdown",
      "source": [
        "### Evaluate the Topic Model"
      ],
      "metadata": {
        "id": "Lus-E-YWIdeX"
      }
    },
    {
      "cell_type": "markdown",
      "source": [
        "#### a. Model Perplexity"
      ],
      "metadata": {
        "id": "usbZjPSpIksQ"
      }
    },
    {
      "cell_type": "code",
      "source": [
        "# Model Perplexity\n",
        "print('\\nPerplexity: ', lda_model.log_perplexity(corpus))\n"
      ],
      "metadata": {
        "colab": {
          "base_uri": "https://localhost:8080/"
        },
        "id": "1b_s4aMhIhvK",
        "outputId": "5ec9754d-6497-494a-d93d-69b82249847e"
      },
      "execution_count": null,
      "outputs": [
        {
          "output_type": "stream",
          "name": "stderr",
          "text": [
            "/usr/local/lib/python3.10/dist-packages/ipykernel/ipkernel.py:283: DeprecationWarning: `should_run_async` will not call `transform_cell` automatically in the future. Please pass the result to `transformed_cell` argument and any exception that happen during thetransform in `preprocessing_exc_tuple` in IPython 7.17 and above.\n",
            "  and should_run_async(code)\n"
          ]
        },
        {
          "output_type": "stream",
          "name": "stdout",
          "text": [
            "\n",
            "Perplexity:  -8.231719920928807\n"
          ]
        }
      ]
    },
    {
      "cell_type": "markdown",
      "source": [
        "#### b.Topic Coherence"
      ],
      "metadata": {
        "id": "D0CRJHQ6Ipwa"
      }
    },
    {
      "cell_type": "markdown",
      "source": [
        "Lower perplexity values imply better generalization in topic models"
      ],
      "metadata": {
        "id": "b2hHKfTMUImt"
      }
    },
    {
      "cell_type": "code",
      "source": [
        "from gensim.models import CoherenceModel\n",
        "\n",
        "# Coherence Score\n",
        "coherence_model_lda = CoherenceModel(model=lda_model, texts=df['processed'], dictionary=dictionary, coherence='c_v')\n",
        "coherence_lda = coherence_model_lda.get_coherence()\n",
        "print('\\nCoherence Score: ', coherence_lda)\n"
      ],
      "metadata": {
        "colab": {
          "base_uri": "https://localhost:8080/"
        },
        "id": "ybhAXE4aIvzd",
        "outputId": "7cda9f2d-a91d-4451-ffea-e1d8a90aba83"
      },
      "execution_count": null,
      "outputs": [
        {
          "output_type": "stream",
          "name": "stderr",
          "text": [
            "/usr/local/lib/python3.10/dist-packages/ipykernel/ipkernel.py:283: DeprecationWarning: `should_run_async` will not call `transform_cell` automatically in the future. Please pass the result to `transformed_cell` argument and any exception that happen during thetransform in `preprocessing_exc_tuple` in IPython 7.17 and above.\n",
            "  and should_run_async(code)\n"
          ]
        },
        {
          "output_type": "stream",
          "name": "stdout",
          "text": [
            "\n",
            "Coherence Score:  0.565726383475668\n"
          ]
        }
      ]
    },
    {
      "cell_type": "markdown",
      "source": [
        "Overall, a coherence score of 0.57 suggests the model has a fair balance of meaningful topics."
      ],
      "metadata": {
        "id": "R0iNjV_TUV3y"
      }
    },
    {
      "cell_type": "markdown",
      "source": [
        "### Visualize the Topics with pyLDAvis"
      ],
      "metadata": {
        "id": "Vqcuf_l5IvZi"
      }
    },
    {
      "cell_type": "code",
      "source": [
        "import pyLDAvis\n",
        "import pyLDAvis.gensim_models as gensimvis\n",
        "\n",
        "pyLDAvis.enable_notebook()\n",
        "vis = gensimvis.prepare(lda_model, corpus, dictionary)\n",
        "vis\n"
      ],
      "metadata": {
        "colab": {
          "base_uri": "https://localhost:8080/",
          "height": 916
        },
        "id": "qOHP8YCEI8Dh",
        "outputId": "89283f89-5dd6-4b0b-ad72-940972ce893c"
      },
      "execution_count": null,
      "outputs": [
        {
          "output_type": "stream",
          "name": "stderr",
          "text": [
            "/usr/local/lib/python3.10/dist-packages/ipykernel/ipkernel.py:283: DeprecationWarning: `should_run_async` will not call `transform_cell` automatically in the future. Please pass the result to `transformed_cell` argument and any exception that happen during thetransform in `preprocessing_exc_tuple` in IPython 7.17 and above.\n",
            "  and should_run_async(code)\n"
          ]
        },
        {
          "output_type": "execute_result",
          "data": {
            "text/plain": [
              "PreparedData(topic_coordinates=              x         y  topics  cluster       Freq\n",
              "topic                                                \n",
              "9     -0.128751 -0.051753       1        1  15.949292\n",
              "1     -0.123900 -0.134454       2        1  12.463132\n",
              "3      0.107488  0.173067       3        1  11.127635\n",
              "0     -0.034794  0.075241       4        1  10.694652\n",
              "6      0.021129  0.007236       5        1   9.935457\n",
              "4     -0.154887 -0.073562       6        1   9.686546\n",
              "2      0.083420  0.184147       7        1   9.496472\n",
              "5     -0.077343 -0.052194       8        1   9.173186\n",
              "7     -0.075860  0.046300       9        1   6.894843\n",
              "8      0.383498 -0.174028      10        1   4.578785, topic_info=        Term         Freq        Total Category  logprob  loglift\n",
              "906        x  7633.000000  7633.000000  Default  30.0000  30.0000\n",
              "62         m  2648.000000  2648.000000  Default  29.0000  29.0000\n",
              "588      god  3266.000000  3266.000000  Default  28.0000  28.0000\n",
              "350     file  2554.000000  2554.000000  Default  27.0000  27.0000\n",
              "750      key  1636.000000  1636.000000  Default  26.0000  26.0000\n",
              "...      ...          ...          ...      ...      ...      ...\n",
              "88       bit   387.899074  1776.626803  Topic10  -4.9947   1.5620\n",
              "460        a   309.867911   839.823185  Topic10  -5.2193   2.0867\n",
              "172      use   351.207074  4711.228835  Topic10  -5.0941   0.4874\n",
              "4959       q   307.684290  1148.796642  Topic10  -5.2264   1.7663\n",
              "209   system   291.944382  3514.597464  Topic10  -5.2789   0.5956\n",
              "\n",
              "[741 rows x 6 columns], token_table=      Topic      Freq  Term\n",
              "term                       \n",
              "460       1  0.055964     a\n",
              "460       2  0.051201     a\n",
              "460       3  0.064299     a\n",
              "460       4  0.113119     a\n",
              "460       5  0.098830     a\n",
              "...     ...       ...   ...\n",
              "35        5  0.199708  year\n",
              "35        6  0.185916  year\n",
              "35        7  0.007471  year\n",
              "35        8  0.326142  year\n",
              "35        9  0.008333  year\n",
              "\n",
              "[2110 rows x 3 columns], R=30, lambda_step=0.01, plot_opts={'xlab': 'PC1', 'ylab': 'PC2'}, topic_order=[10, 2, 4, 1, 7, 5, 3, 6, 8, 9])"
            ],
            "text/html": [
              "\n",
              "<link rel=\"stylesheet\" type=\"text/css\" href=\"https://cdn.jsdelivr.net/gh/bmabey/pyLDAvis@3.4.0/pyLDAvis/js/ldavis.v1.0.0.css\">\n",
              "\n",
              "\n",
              "<div id=\"ldavis_el6051373722993892801047540493\" style=\"background-color:white;\"></div>\n",
              "<script type=\"text/javascript\">\n",
              "\n",
              "var ldavis_el6051373722993892801047540493_data = {\"mdsDat\": {\"x\": [-0.1287508524845509, -0.123900308065905, 0.10748805761191735, -0.03479406385908388, 0.021129121017377683, -0.1548873642904117, 0.08341959567966827, -0.07734253632497026, -0.07585951867950928, 0.3834978693954673], \"y\": [-0.05175307089727825, -0.13445392837601122, 0.1730667935394904, 0.07524144020816705, 0.007235848438545974, -0.07356188476745149, 0.18414748424706526, -0.052194416265702794, 0.04630017183095154, -0.17402843795777592], \"topics\": [1, 2, 3, 4, 5, 6, 7, 8, 9, 10], \"cluster\": [1, 1, 1, 1, 1, 1, 1, 1, 1, 1], \"Freq\": [15.949292190379019, 12.463131991002253, 11.127634709797023, 10.69465165566835, 9.93545721341891, 9.686545985550252, 9.496472467512298, 9.173185637644726, 6.894843256605332, 4.5787848924218295]}, \"tinfo\": {\"Term\": [\"x\", \"m\", \"god\", \"file\", \"key\", \"w\", \"game\", \"car\", \"team\", \"people\", \"c\", \"window\", \"drive\", \"program\", \"s\", \"t\", \"space\", \"k\", \"card\", \"g\", \"gun\", \"d\", \"player\", \"system\", \"article\", \"year\", \"israel\", \"play\", \"jesus\", \"think\", \"god\", \"jesus\", \"bible\", \"church\", \"christians\", \"atheist\", \"faith\", \"belief\", \"christianity\", \"scripture\", \"atheism\", \"doctrine\", \"islam\", \"morality\", \"revelation\", \"worship\", \"catholic\", \"prayer\", \"prophet\", \"pope\", \"gospel\", \"lord\", \"eternal\", \"biblical\", \"believer\", \"salvation\", \"jesus_christ\", \"resurrection\", \"quran\", \"clh\", \"christian\", \"christ\", \"sin\", \"religion\", \"heaven\", \"moral\", \"existence\", \"interpretation\", \"truth\", \"evidence\", \"religious\", \"believe\", \"argument\", \"exist\", \"word\", \"claim\", \"mean\", \"people\", \"true\", \"reason\", \"human\", \"think\", \"say\", \"life\", \"know\", \"law\", \"fact\", \"question\", \"thing\", \"way\", \"come\", \"point\", \"good\", \"like\", \"article\", \"time\", \"right\", \"find\", \"armenian\", \"israeli\", \"arab\", \"turkish\", \"soldier\", \"turk\", \"israel\", \"village\", \"massacre\", \"greece\", \"palestinian\", \"terrorist\", \"troop\", \"militia\", \"apartment\", \"israelis\", \"arabs\", \"palestine\", \"occupy\", \"azerbaijani\", \"batf\", \"armenians\", \"ethnic\", \"palestinians\", \"nra\", \"senate\", \"azerbaijan\", \"nazi\", \"lebanon\", \"center_policy\", \"turkey\", \"firearm\", \"armenia\", \"president\", \"territory\", \"war\", \"fbi\", \"civilian\", \"citizen\", \"army\", \"jews\", \"government\", \"attack\", \"weapon\", \"kill\", \"q\", \"military\", \"greek\", \"clinton\", \"state\", \"say\", \"country\", \"fire\", \"people\", \"american\", \"land\", \"right\", \"go\", \"come\", \"know\", \"tell\", \"law\", \"article\", \"time\", \"want\", \"think\", \"happen\", \"like\", \"year\", \"start\", \"motif\", \"font\", \"client\", \"widget\", \"directory\", \"ftp\", \"pub\", \"jpeg\", \"gif\", \"xterm\", \"visual\", \"binary\", \"pixel\", \"xlib\", \"icon\", \"window_manag\", \"menu\", \"toolkit\", \"cursor\", \"polygon\", \"pixmap\", \"xfree\", \"anonymous_ftp\", \"char\", \"openwindow\", \"contrib\", \"filename\", \"ascii\", \"xview\", \"login\", \"x\", \"server\", \"entry\", \"xr\", \"file\", \"compile\", \"postscript\", \"int\", \"format\", \"image\", \"display\", \"window\", \"unix\", \"program\", \"graphic\", \"application\", \"version\", \"user\", \"code\", \"function\", \"color\", \"character\", \"available\", \"software\", \"use\", \"run\", \"set\", \"include\", \"information\", \"package\", \"source\", \"send\", \"system\", \"problem\", \"need\", \"c\", \"r\", \"find\", \"d\", \"work\", \"fpu\", \"vat\", \"lciii\", \"egg\", \"sticker\", \"deskjet\", \"loser\", \"uart\", \"ink\", \"pentium\", \"powerpc\", \"beep\", \"dram\", \"rsaref\", \"mazda\", \"fps\", \"nissan\", \"ihl\", \"laserwriter\", \"chrysler\", \"kermit\", \"news_gateway\", \"fleet\", \"nickname\", \"pregnancy\", \"cview\", \"lemon\", \"toyota\", \"pds\", \"winbench\", \"maryland_college_park\", \"architecture\", \"public_access_unix\", \"opinions_expresse\", \"university_illinois\", \"scott\", \"new_zealand\", \"x_newsread\", \"battery\", \"e_mail\", \"company\", \"host\", \"price\", \"thank\", \"reply\", \"post\", \"university\", \"music\", \"distribution_usa\", \"printer\", \"buy\", \"dealer\", \"article\", \"engineering\", \"mail\", \"interested\", \"tom\", \"know\", \"info\", \"computer\", \"sell\", \"like\", \"look\", \"good\", \"newsgroup\", \"michael\", \"phone\", \"want\", \"email\", \"book\", \"question\", \"think\", \"get\", \"read\", \"new\", \"group\", \"tell\", \"time\", \"need\", \"find\", \"ask\", \"go\", \"work\", \"help\", \"nasa\", \"satellite\", \"orbit\", \"flight\", \"spacecraft\", \"outlet\", \"shuttle\", \"lunar\", \"astronomy\", \"solar\", \"space_station\", \"jpl\", \"comet\", \"venus\", \"planetary\", \"payload\", \"researcher\", \"adl\", \"atmosphere\", \"space_shuttle\", \"newsletter\", \"orbital\", \"aerospace\", \"gfci\", \"cdc\", \"breaker\", \"ether\", \"phd\", \"ozone\", \"exploration\", \"probe\", \"mission\", \"hiv\", \"launch\", \"moon\", \"space\", \"billion\", \"pat\", \"journal\", \"research\", \"science\", \"project\", \"earth\", \"dr\", \"scientific\", \"fund\", \"development\", \"material\", \"center\", \"study\", \"commercial\", \"national\", \"design\", \"technology\", \"report\", \"program\", \"year\", \"information\", \"system\", \"april\", \"new\", \"include\", \"datum\", \"service\", \"provide\", \"use\", \"work\", \"cost\", \"university\", \"high\", \"homosexual\", \"det\", \"gay\", \"chi\", \"motto\", \"alomar\", \"homosexuality\", \"stl\", \"nyi\", \"abortion\", \"sexual\", \"nyr\", \"henrik\", \"revolver\", \"lopez\", \"bos\", \"phi\", \"glock\", \"edm\", \"deficit\", \"david_veal\", \"baerga\", \"death_penalty\", \"semi_auto\", \"keith_keller\", \"finnish\", \"drug\", \"onur_yalcin\", \"rushdie\", \"health_insurance\", \"sex\", \"hudson\", \"gun\", \"tb\", \"cop\", \"marry\", \"crime\", \"parent\", \"people\", \"criminal\", \"child\", \"woman\", \"marriage\", \"black\", \"think\", \"kid\", \"money\", \"thing\", \"shoot\", \"rate\", \"like\", \"bad\", \"article\", \"year\", \"safety\", \"know\", \"time\", \"man\", \"point\", \"right\", \"good\", \"get\", \"go\", \"problem\", \"person\", \"want\", \"law\", \"way\", \"case\", \"well\", \"live\", \"try\", \"say\", \"mean\", \"scsi\", \"mhz\", \"controller\", \"ide\", \"hard_drive\", \"motherboard\", \"cpu\", \"jumper\", \"quadra\", \"hard_disk\", \"amp\", \"connector\", \"bio\", \"floppy\", \"video_card\", \"centris\", \"upgrade\", \"adapter\", \"duo\", \"sony\", \"stereo\", \"best_offer\", \"simms\", \"vlb\", \"irq\", \"dma\", \"local_bus\", \"serial_port\", \"forsale\", \"vram\", \"ram\", \"voltage\", \"hd\", \"vga\", \"mb\", \"apple\", \"pin\", \"monitor\", \"card\", \"dx\", \"modem\", \"video\", \"mac\", \"disk\", \"cable\", \"drive\", \"board\", \"driver\", \"mode\", \"pc\", \"do\", \"memory\", \"sale\", \"mouse\", \"instal\", \"chip\", \"speed\", \"machine\", \"system\", \"problem\", \"device\", \"bit\", \"use\", \"work\", \"need\", \"computer\", \"run\", \"like\", \"new\", \"know\", \"university\", \"player\", \"season\", \"hockey\", \"score\", \"nhl\", \"playoff\", \"detroit\", \"coach\", \"games\", \"montreal\", \"espn\", \"ranger\", \"pitcher\", \"cub\", \"flyer\", \"leafs\", \"baseball\", \"puck\", \"hitter\", \"penguin\", \"scoring\", \"defenseman\", \"phillie\", \"stanley_cup\", \"islander\", \"starter\", \"lemieux\", \"bruin\", \"met\", \"jagr\", \"team\", \"game\", \"toronto\", \"fan\", \"league\", \"pitch\", \"minnesota\", \"pen\", \"play\", \"ice\", \"pittsburgh\", \"win\", \"gm\", \"hit\", \"year\", \"division\", \"lose\", \"vs\", \"series\", \"goal\", \"good\", \"la\", \"run\", \"get\", \"think\", \"st\", \"article\", \"second\", \"time\", \"university\", \"well\", \"come\", \"go\", \"like\", \"host\", \"look\", \"point\", \"start\", \"bike\", \"motorcycle\", \"tire\", \"bmw\", \"brake\", \"rider\", \"diet\", \"radar_detector\", \"mph\", \"seizure\", \"steve_dyer\", \"exhaust\", \"biker\", \"msg_sensitivity_superstition\", \"mileage\", \"msg\", \"sho\", \"harley\", \"porsche\", \"ride\", \"odometer\", \"u_toronto_zoology\", \"attendance\", \"utzoohenry\", \"organism\", \"vitamin\", \"carb\", \"cooling_tower\", \"throttle\", \"needle\", \"wheel\", \"rear\", \"oil\", \"helmet\", \"car\", \"engine\", \"honda\", \"pain\", \"dod\", \"metal\", \"eat\", \"food\", \"temperature\", \"drink\", \"dog\", \"water\", \"gas\", \"taste\", \"light\", \"hot\", \"road\", \"mile\", \"foot\", \"cause\", \"article\", \"like\", \"drive\", \"go\", \"time\", \"thing\", \"turn\", \"problem\", \"good\", \"look\", \"know\", \"get\", \"work\", \"see\", \"try\", \"day\", \"way\", \"use\", \"find\", \"long\", \"maxaxaxaxaxaxaxaxaxaxaxaxaxaxax_maxaxaxaxaxaxaxaxaxaxaxaxaxaxax_maxaxaxaxaxaxaxaxaxaxaxaxaxaxax_maxaxaxaxaxaxaxaxaxaxaxaxaxaxax\", \"ripem\", \"des\", \"encrypt\", \"gr\", \"nsa\", \"rsa\", \"clipper_chip\", \"public_key\", \"serial_number\", \"crypto\", \"encryption\", \"gv_gv_gv_gv\", \"maxaxaxaxaxaxaxaxaxaxaxaxaxaxax\", \"gv\", \"maxaxaxaxaxaxaxaxaxaxaxaxaxaxax_maxaxaxaxaxaxaxaxaxaxaxaxaxaxax_maxaxaxaxaxaxaxaxaxaxaxaxaxaxax\", \"uw\", \"maxaxaxaxaxaxaxaxaxaxaxaxaxaxax_maxaxaxaxaxaxaxaxaxaxaxaxaxaxax\", \"mw\", \"mv\", \"cryptography\", \"cipher\", \"decrypt\", \"colormap\", \"giz\", \"key_escrow\", \"pgp\", \"cryptographic\", \"eff\", \"tw\", \"clipper\", \"key\", \"wiretap\", \"m\", \"p_p\", \"w\", \"t\", \"patent\", \"g\", \"u\", \"secure\", \"ww\", \"f\", \"n\", \"p\", \"e\", \"security\", \"k\", \"s\", \"c\", \"l\", \"r\", \"d\", \"h\", \"b\", \"j\", \"chip\", \"bit\", \"a\", \"use\", \"q\", \"system\"], \"Freq\": [7633.0, 2648.0, 3266.0, 2554.0, 1636.0, 1722.0, 1692.0, 1732.0, 1591.0, 5936.0, 2091.0, 2091.0, 2004.0, 2271.0, 1905.0, 1025.0, 1407.0, 1253.0, 1279.0, 901.0, 1319.0, 1789.0, 898.0, 3514.0, 6443.0, 3480.0, 1008.0, 1173.0, 1121.0, 5796.0, 3265.495054955373, 1120.3928526569794, 792.6588459855645, 610.8589362553095, 595.5054628155561, 554.1184708092209, 547.8103364984227, 515.6159590342669, 330.8946689415027, 248.91625547150832, 211.13177519716868, 203.01964479666398, 263.1313052937126, 191.8421445666527, 190.25412687188359, 179.66526385007322, 164.2614097718793, 163.39290980075296, 141.64611128176662, 131.15753348102362, 129.06603451313617, 297.6462110166617, 129.78155801239, 127.07175543131991, 125.1846585743124, 121.54201882054895, 117.56323721777541, 115.12456583933864, 112.66758372874683, 106.80647743822112, 778.4817180728203, 441.3636991998448, 365.7256292803431, 734.5843560380436, 219.07670550697404, 391.81390587662906, 372.11204574471736, 237.77092964783927, 494.4425291040878, 703.9672792072877, 343.2285551876958, 1481.2102768303741, 580.7765746035041, 722.6640113495134, 783.9955590638574, 806.477561926107, 1105.2469395520413, 2014.1827663909723, 726.8838165274769, 763.3558689787662, 498.4615083953336, 1692.1264103550102, 1337.5653349087665, 662.4466200173323, 1531.8960554364828, 746.4753942662315, 733.9118401176751, 910.5650988338566, 980.2117392810264, 946.1834554887168, 898.0077217997621, 763.7693640919596, 849.2257948930829, 895.5275871210554, 901.0339505524806, 832.0693006974856, 724.8854038878629, 714.7865184096235, 835.178826170406, 484.41280833328034, 356.3360465003631, 383.90023929797957, 240.3370375832485, 274.89144849929363, 1003.7915691367793, 183.94303332335525, 174.76697590647754, 176.24652214211332, 157.47332076289308, 155.01866112035805, 150.75017186372224, 164.37757952058627, 148.36255398986722, 139.93490736353488, 138.41996663072482, 132.2059413972654, 127.89185938279809, 124.67058813932763, 124.43378706735852, 121.11562327445866, 117.92096368446478, 117.70382420577347, 115.47697410824017, 114.58091536780579, 111.84719175459932, 241.5640044770905, 104.10510596189714, 101.06758487396974, 313.4899597179584, 412.4800482031838, 184.94758014446455, 670.5188709663904, 132.5769621043791, 554.9662264899283, 296.70362267614337, 203.0941147380316, 357.43353903514924, 190.6106452532352, 572.9682978217654, 1149.6903540057308, 499.12389006320365, 356.8612387778397, 693.9272543998107, 698.1515118764607, 332.29370144003656, 335.8317720332474, 312.9219782970126, 921.1008053810575, 1385.336953834243, 453.482463663924, 390.09824128560206, 1428.9124884492096, 412.25579534695225, 319.2453717101538, 867.2115991875355, 762.000607994137, 688.0780982536024, 873.8552760537021, 572.5904540790518, 497.811544492507, 675.0600366710083, 591.2753733620133, 510.8499300109304, 558.3471858006296, 410.7412992002384, 437.2278153005024, 408.80874695206296, 401.4089470875586, 422.8766639976116, 398.1849961962643, 372.9346875118524, 369.58462442045834, 388.50670491598765, 315.80089013567033, 289.7908104080324, 259.70529314074975, 244.97809045719563, 229.56899917603303, 159.8970029570478, 153.67768381735198, 150.1741727038145, 147.35843147096412, 135.74910271130994, 132.65313373154873, 125.18882959369604, 122.79735893753859, 118.81754490403783, 135.52177410834358, 102.15872147336283, 92.59041666740995, 87.7221805485726, 82.28363819180386, 79.3980020410434, 76.8404782987337, 73.50708694367005, 72.70433230813636, 72.2580838788368, 70.68023932087361, 7402.195455470997, 792.6285242415906, 701.0494614373669, 303.4490939425092, 2420.130812876958, 223.182347001526, 176.77822961863427, 137.4450346844766, 563.0035961697241, 934.312036001857, 657.9085812615205, 1567.7242793485216, 352.95174020248015, 1534.1885875624534, 525.162221902328, 670.6529166459486, 776.0175125639877, 602.7632732374348, 608.3803360283696, 382.41567227606293, 558.5798991816606, 295.0500708421924, 684.7276209454059, 648.3043649846478, 1337.000928500894, 828.7788757059931, 636.4536605905419, 713.0127365059371, 614.872624471948, 407.9299420180992, 490.80477067342235, 514.519529812204, 639.599936413166, 609.563267819388, 599.8353339734005, 527.6806748067748, 482.84760529244824, 545.4061491230809, 504.660846780418, 539.9320517367912, 123.36134621924498, 85.30982137201025, 67.55522313402928, 67.4428361456043, 65.90606573089805, 65.06697443172772, 64.14678309342135, 61.37954060218871, 59.74503983263629, 59.2693162602953, 58.57060942861998, 57.31884338511457, 56.94506224664558, 48.65315257637016, 46.192745638572084, 45.84228275644758, 45.40676857806022, 44.978619698671835, 43.25355923006399, 42.963669314336876, 42.6988611224207, 42.60364945068888, 42.105798838437686, 43.887052801258015, 40.55977119274859, 40.493927288272666, 46.034426745871876, 57.108247219551224, 39.825016438911334, 38.8013177353389, 41.422760785023904, 76.86676735768954, 56.97625966005873, 67.37165901722322, 89.03435808989973, 206.7412490388623, 75.9640900152586, 182.2345012649904, 162.9853312598448, 481.6835162337073, 432.035546113, 1278.397656683297, 529.2632854811753, 736.6772681620083, 931.7219085324492, 826.7513557701093, 1248.8857600245724, 119.36297765030635, 388.08445569623836, 218.55079748242, 562.7176881080801, 181.3336769259017, 1837.4438444548628, 222.92189222363908, 411.923857552143, 331.4768541654083, 177.67452475451674, 1441.1285970557294, 406.63850030473986, 521.9623900269484, 386.1540933573307, 1353.4688949452755, 886.9251323046228, 1069.8329433554802, 239.51209586141945, 232.75065795163238, 322.4417967261573, 851.0223984045577, 387.11366880238785, 449.66081561771273, 640.0381921413103, 983.7899321610269, 683.1617219225565, 544.9319080281426, 626.1697545555946, 482.08133580839115, 495.72464127375383, 612.139311534815, 543.8742324061437, 526.6058606880191, 429.9637326618163, 457.61247338856674, 457.3187645730944, 434.14905992511234, 368.27552808341636, 321.213247737031, 291.8636820501179, 208.80288469682344, 157.2624743581633, 156.34055194413938, 143.0975480262755, 133.25270991083917, 128.5788395736067, 111.40599128052646, 95.13463208262803, 92.49992016944134, 84.59913332426136, 82.31023272924887, 79.73609023623348, 79.70566086548345, 79.76277289577635, 81.37001074118224, 71.53571115514522, 69.2438594825796, 74.21269291446056, 68.04154130280912, 66.74143974695839, 64.87672761807525, 63.42168725765205, 58.185983832143066, 56.65544507098566, 55.77152863000807, 53.08074985982853, 52.8510359578437, 186.51291855785072, 314.77130582774714, 74.01337945109289, 370.491555868753, 317.082404601707, 1209.1246376218362, 189.65380536869796, 204.3206318756142, 117.68806145658287, 570.9209026692383, 493.8001615162658, 335.54631315911496, 407.0934235746125, 256.09161684721215, 258.6646092879458, 212.99487589497616, 233.60832619637665, 217.54873574504808, 367.6535740230281, 360.02200067423894, 223.8786379697781, 356.1753000158687, 372.9990748927932, 359.6100071021159, 375.7817095683305, 576.6645675516129, 694.6601052503121, 511.0818452601841, 638.0840137867661, 281.5629458509225, 520.2697648326541, 414.3193394883779, 329.27987356784365, 297.09027185377164, 331.66628268367407, 447.34762587019594, 392.3618469543246, 299.09171000958315, 366.2751314843883, 299.8228539394372, 209.55534188864706, 183.44184032236473, 178.39453865028352, 130.70522998019075, 130.76666548250327, 125.45923607748998, 124.53663166535138, 114.96865863715531, 109.05269196491766, 107.2589967247076, 96.66953858953522, 93.95342228464527, 93.62936270323233, 91.87990356334441, 80.19230697981176, 154.80712785160748, 77.49899627805297, 76.3393659127775, 74.07939692963745, 72.90708033058557, 70.34805048684272, 67.28356695861245, 56.004278113761764, 52.941874874005116, 51.94503589657223, 50.84964766009234, 487.6443278129199, 46.23723558229076, 45.44304490948997, 42.69501204313692, 208.94145228599393, 75.57750080730919, 943.7021760029959, 90.7949520283593, 186.7609088488143, 119.57602513393019, 335.54742799204826, 176.33264133713362, 1683.95930394032, 232.02857838815262, 464.38678729973225, 322.2961737625361, 129.98458984562683, 252.80266346970524, 1293.383972414823, 180.3870883130958, 366.0692794405205, 756.083398498612, 216.42135162539913, 288.26984719592457, 1042.6714981815087, 445.0964626831214, 1000.8002415888867, 647.0118570045757, 196.6429278664486, 761.268521045027, 651.6732827943634, 391.0800165610233, 469.97358181718965, 522.7495554483797, 598.4246112073638, 499.33275651184204, 512.3627808769661, 504.0966312200866, 341.1482979528729, 498.7378081120369, 371.6197429538555, 439.69383363609495, 362.80456638374784, 364.86987678035956, 326.51418077530235, 375.30161379010474, 385.974748884694, 344.42722748951957, 691.6066920482929, 343.86686062660704, 294.97728273281353, 269.2140018111277, 269.04597728772995, 234.29609443722384, 241.16311512100373, 229.67582102396898, 166.59306562667552, 152.70401085129714, 149.57955944184516, 148.60138902683127, 145.3995207883385, 129.89770989177947, 128.08156002971825, 128.16934703589436, 305.23651279967913, 124.59115198261257, 120.35232133820011, 120.59763824851302, 117.74386228919548, 104.83482382036107, 99.56530127047009, 97.06046103140149, 96.66717552027055, 93.82255297063777, 93.51601744796942, 92.35542179024257, 88.786746559571, 88.05779224147291, 292.7033932519997, 123.14307427434066, 175.99325787345768, 177.18719710740027, 667.2599496694847, 519.0140917955604, 340.93174099784017, 569.7214926066597, 1109.9295163938368, 184.2207213552647, 257.69043974792504, 473.6289424283595, 684.9266940524226, 570.7837858985952, 317.41165383264763, 1404.133819949887, 460.8210270134972, 746.650541437905, 438.868606439301, 543.5977719815561, 488.62399733557305, 461.1506880311773, 575.9988511916229, 297.35539940728864, 294.9191267794387, 573.5658140590392, 454.2102188394737, 512.6213062256297, 1109.1862927120005, 960.7197574686368, 398.0229122382138, 672.0739794723357, 1010.2836734142825, 866.9625711812087, 785.7708870479277, 510.1844528678602, 582.837913877846, 688.2882906726048, 550.4048115607853, 643.8075866744372, 457.9049885106593, 896.9008230768011, 580.5457533528722, 543.7242705825835, 337.9351829707325, 329.0016509332592, 294.07912538326485, 176.43504061157847, 163.1586746971001, 159.96018632838468, 157.04571746542655, 140.8783228117899, 138.1345194200082, 135.59191376322428, 126.17632990342358, 118.90987816927068, 115.76912863541952, 323.8965656001961, 106.43971895154858, 111.28922011991989, 102.4585241127583, 101.98217538607906, 93.67529602581591, 90.71549623398215, 88.8317049741292, 88.41372950161936, 87.9973701288131, 85.95620281270159, 80.90893645167813, 79.99493857593225, 77.02023994757498, 1562.3816179288465, 1646.5188137098953, 255.39015259021585, 469.7625193583278, 291.1738055144964, 203.38108569732054, 142.87121415783042, 203.5284045380684, 975.9860644720665, 196.25523463737912, 229.40890567131524, 954.9272969759203, 216.83850820338347, 381.2265940204435, 1135.1802729657377, 313.31143309044745, 388.81545096736266, 327.7715185787209, 276.0109437104959, 286.5868871574671, 881.1735818589618, 244.3678985011385, 571.3063644293494, 567.5631035423726, 673.3670942815988, 280.59032917303904, 648.0033577238166, 353.0613419484071, 543.8844380837845, 473.6148736533942, 406.4918954144622, 437.5386933265697, 423.8453603323718, 444.48268642317277, 355.3795768703113, 355.02924385192364, 343.686280786959, 327.7246917559047, 682.7537790414234, 238.52514193616915, 194.01415658544803, 182.07671613170427, 148.35704781049998, 143.08621322763875, 130.02928260455974, 93.72498388845595, 161.1086346413492, 67.92682158055892, 62.86229182417775, 62.1818387648333, 61.73802312889889, 61.690729776545055, 56.23671000007807, 221.89251865305044, 51.32619735509842, 50.24681267136149, 49.14733508914521, 437.7924043716708, 45.0155264140358, 43.00081052981419, 42.975301633968066, 42.649031712894846, 51.460523124822586, 41.17798860234139, 41.11508472931036, 39.9362294062616, 39.49444916136726, 39.465102888332154, 134.0167316093554, 118.88169434140136, 208.60747364968356, 161.5262135597339, 1360.1062978507007, 346.87661148070464, 106.57458069574979, 260.5234475187781, 256.88610585071353, 127.35730356630836, 266.2394479723204, 295.24168721731974, 83.22050390205736, 114.5893934514584, 192.36654894906155, 253.63572439488226, 157.03595520533216, 113.0949596571893, 354.92959221044197, 205.47978787469896, 287.3549710814445, 183.0626987032994, 179.60987238574717, 371.72410311828116, 731.214778264075, 701.1498992539815, 391.13949496131903, 460.6717858113561, 517.0104460639983, 445.0721473235049, 276.26491586909054, 386.2557209798916, 404.5913667380708, 362.12147453400166, 409.86461066174394, 327.51818047002837, 338.1700569000557, 284.5002636204496, 288.2375126208481, 270.29057384699087, 277.93974905665164, 282.81276131578585, 269.3804051996106, 261.3784422615655, 481.37803575372493, 289.26790294773906, 281.1482529950738, 270.4722855869348, 259.24465963985523, 254.99651288646461, 202.27073535099507, 230.63574967802413, 189.50104151918995, 183.86746835918743, 175.68631115945556, 550.4099404917931, 147.0512942846055, 133.32233806759368, 120.45030993679963, 116.41423185121607, 115.52819682367027, 113.65525915009638, 112.95597255142867, 112.18784530316096, 124.8032176787448, 92.23051698012084, 88.84091832823488, 88.73159729665046, 85.987898072989, 81.28454035743127, 146.0774717620052, 73.49050681070857, 71.69239650989377, 65.70672669407347, 291.64304536026003, 1505.799062482607, 87.15416241152514, 2185.143392969398, 164.69434076942235, 1389.3392968683881, 850.2546899123378, 135.6302265121537, 711.223564641667, 502.25017937588973, 271.92739265107326, 200.07192793575473, 422.01832895194076, 536.3008473543676, 498.0046459804928, 551.4002965037415, 371.3363840359919, 646.4896737942166, 854.2747278465619, 813.1944468679848, 378.6515463972829, 494.122316012387, 561.0881212541512, 327.8724538979551, 453.0562751681839, 360.84415169496276, 374.67201551196155, 387.89907365958675, 309.86791066861855, 351.2070740900842, 307.6842900633519, 291.94438153708745], \"Total\": [7633.0, 2648.0, 3266.0, 2554.0, 1636.0, 1722.0, 1692.0, 1732.0, 1591.0, 5936.0, 2091.0, 2091.0, 2004.0, 2271.0, 1905.0, 1025.0, 1407.0, 1253.0, 1279.0, 901.0, 1319.0, 1789.0, 898.0, 3514.0, 6443.0, 3480.0, 1008.0, 1173.0, 1121.0, 5796.0, 3266.4083573101534, 1121.3025129199086, 793.5685881200493, 611.7690022648382, 596.4151248696608, 555.0281190968858, 548.720010703069, 516.5256885121496, 331.80432311080324, 249.82589957270247, 212.0414283492804, 203.9293057667197, 264.34815864810486, 192.75931594347207, 191.16377101189485, 180.57495126121466, 165.1710809639557, 164.30262441344036, 142.55579211418242, 132.0672395979033, 129.97604862931874, 299.7627855962811, 130.7045081006031, 127.98145921150478, 126.09433598093902, 122.45167306989752, 118.47291302640394, 116.03421681240627, 113.57728106931455, 107.71613325423681, 787.0909134068227, 446.37733988665605, 370.25238465100347, 758.7385947093679, 227.48648674370253, 430.88170940019324, 408.0754034602474, 253.18204481968593, 581.2681011352978, 884.3093310627894, 399.41132483916203, 2351.38508150732, 764.4274377483218, 1090.4657665710663, 1250.5437260396786, 1298.6281951740084, 2405.8926764206462, 5936.913047683401, 1344.2283048747338, 1469.3968896971608, 773.7164486176011, 5796.7423677136485, 4238.186657172604, 1264.4625965487242, 6522.38698004737, 1660.98753010122, 1633.2591734402702, 2606.8574672718923, 3223.218182435225, 3266.8195610383873, 3227.5520192423614, 2434.3339039786183, 4477.323997005158, 6095.2570654983865, 6443.609889296222, 4787.347927956227, 3142.228398775257, 3054.719435836916, 836.0805032653086, 485.31428807055454, 357.2375352879314, 384.9157097176737, 241.23864611471015, 276.0183634986381, 1008.0883430740915, 184.84459804517763, 175.66850444333224, 177.20693989203878, 158.37479865265993, 155.92030998301976, 151.65170330039825, 165.37338726837115, 149.2759056473584, 140.8363828166152, 139.3214509527257, 133.10746948707174, 128.79393326497254, 125.57208419957536, 125.33528923956628, 122.01825637053568, 118.82259302742106, 118.60530274161614, 116.37866302494834, 115.48242735801804, 112.74867258979006, 243.5172394826547, 105.00659158312428, 101.96906961514706, 318.71491563809974, 428.8986014814678, 189.04692958032484, 741.3387885766682, 135.10741481425245, 647.0810898642807, 330.55889111161116, 217.66173579990303, 414.2856970773387, 206.2682321014682, 764.9486966339169, 1759.9360183833383, 704.8073977445669, 466.18906845038936, 1135.6847819230748, 1148.796642165676, 436.2369256482397, 453.15832387321905, 423.096031906404, 2224.8922750019465, 4238.186657172604, 808.9969782300261, 642.363921655018, 5936.913047683401, 741.1180300429755, 484.94973308919595, 3142.228398775257, 3247.8995673072745, 3227.5520192423614, 6522.38698004737, 2417.48512679531, 1660.98753010122, 6443.609889296222, 4787.347927956227, 3566.661731419685, 5796.7423677136485, 1310.6463960730755, 6095.2570654983865, 3480.0749228194954, 1834.7020416882704, 423.77868440880303, 399.0890886610513, 373.8367921676434, 370.4866220697031, 389.5821535534148, 316.72426706608576, 290.693112842299, 260.6073090918605, 245.88240896739617, 230.4709895379102, 160.8023746421728, 154.5797452310362, 151.0762440394679, 148.26042028192464, 136.6553315840482, 133.55525951927203, 126.09106825929042, 123.69936687940637, 119.72026326398775, 136.56999340790577, 103.06070757867296, 93.49244742793168, 88.62422233209817, 83.18565307531044, 80.29999271023102, 77.74246789700896, 74.40907849538152, 73.60641455712276, 73.16007499796322, 71.58229544673772, 7633.0888605067485, 805.6156735944712, 711.931651180114, 308.0819041374787, 2554.9175109164794, 230.7308721874067, 184.60241201667682, 142.8033150837206, 643.8686425669131, 1115.1174020499382, 777.2665387248558, 2091.351801131781, 412.22596665242594, 2271.7978758223603, 656.7006700117249, 902.3152271723973, 1151.5431376795627, 859.6258328042187, 906.9572587167958, 540.3094529708831, 916.1618994961126, 380.01555217392036, 1353.820507936286, 1367.5096338011535, 4711.228835396712, 2539.6199506642347, 1590.511380545641, 2021.6657671714809, 1904.7614765923379, 678.3565895021384, 1188.8404867952108, 1557.866293829923, 3514.5974638828343, 3205.2590289246846, 3422.402907520273, 2091.2988528493597, 1278.2975983834447, 3054.719435836916, 1789.9954341287973, 3651.8985740842813, 124.26849093170439, 86.21717394640878, 68.46229641864257, 68.35149684521714, 66.81355943405816, 65.97406563133639, 65.05786792183792, 62.286720278963266, 60.65216853098697, 60.17655898291936, 59.477803385131295, 58.22602362460954, 57.852221511049535, 49.56119748051552, 47.10517515496841, 46.74943486799493, 46.315291922193175, 45.88689107370535, 44.16061720983474, 43.870809040892766, 43.60617906473363, 43.510779126560855, 43.01309622714423, 44.83408086809466, 41.4675433661142, 41.40094451264295, 47.07513198591859, 58.404751282334566, 40.73288564162226, 39.7084152282188, 42.42588145063227, 79.97620510209711, 60.06065180206708, 72.55088966866546, 101.41947217798241, 289.37110675944785, 87.24061864672032, 252.16330293879554, 221.19963179987246, 829.7872514880786, 731.8494109131508, 2912.742810217333, 1015.6354390330029, 1545.2025464878272, 2095.5588827744386, 1812.6245887345312, 3219.17102927347, 156.66099219402096, 743.2674249910785, 350.38897718134893, 1247.4460146773486, 273.35532985816087, 6443.609889296222, 368.3799497805924, 875.2751743837777, 719.2241846603773, 293.33932334498525, 6522.38698004737, 991.765253888752, 1445.5594535093887, 926.0678112794257, 6095.2570654983865, 3269.862565093668, 4477.323997005158, 456.3760623542047, 442.7475758255144, 742.397665903507, 3566.661731419685, 1029.0959561562827, 1336.3646305096195, 2606.8574672718923, 5796.7423677136485, 2957.691129871138, 1998.625077248808, 2962.854013336798, 1854.4860897044907, 2417.48512679531, 4787.347927956227, 3422.402907520273, 3054.719435836916, 1644.6097041186745, 3247.8995673072745, 3651.8985740842813, 2074.817732262133, 369.1846097958188, 322.120504390574, 292.7709290493481, 209.71024274157904, 158.16970454899908, 157.24796545635297, 144.00478949087116, 134.1599483882793, 129.51331945582285, 112.31332177683177, 96.04188407498559, 93.40716274353345, 85.50640294529954, 83.21746798306519, 80.64335102650739, 80.61290097686386, 80.71426317622735, 82.38854147441913, 72.44303236053982, 70.15109682854894, 75.19238574636815, 68.94882231107881, 67.64906299163384, 65.78406921089335, 64.3289440846438, 59.09338012855196, 57.56312449058735, 56.67932493635776, 53.988049361616355, 53.75828785723634, 191.38994230927761, 325.24499840198087, 75.4165133651963, 385.69019164996826, 329.11665932511033, 1407.3453095669047, 215.26133124572735, 242.38885987768796, 131.32967669745798, 876.8925520602924, 801.8816183373025, 497.9854634565718, 652.4196611823751, 361.0815769814849, 374.5352252902975, 309.54203503442733, 364.90702259640597, 332.75220854628964, 715.5416133290843, 725.7094370849699, 353.567094341847, 744.6855740853224, 822.6736162337279, 817.2603561986714, 947.6650178054012, 2271.7978758223603, 3480.0749228194954, 1904.7614765923379, 3514.5974638828343, 615.0152216902767, 2962.854013336798, 2021.6657671714809, 1098.7931020961882, 797.1125550004673, 1221.5057333444347, 4711.228835396712, 3651.8985740842813, 894.6527760194953, 3219.17102927347, 1325.5438091514295, 210.4635829943264, 184.3567945810603, 179.30297022530914, 131.61355508839657, 131.6762074744865, 126.36839817657464, 125.44490536666599, 115.87695518540859, 109.96098602543687, 108.19538828666776, 97.57806627984361, 94.86174831743169, 94.53763274593754, 92.78813304334632, 81.10058291939947, 156.59265973700892, 78.40734249783911, 77.24757993960075, 74.98768430729824, 73.81821210551865, 71.25637878596032, 68.1918148829062, 56.91255121480687, 53.850117449558375, 52.853345644860774, 51.763983225024305, 496.43682441649264, 47.1454504188376, 46.35131232218527, 43.603225175555366, 228.2301880478118, 80.61669932742358, 1319.1187712646338, 101.68814740770831, 242.65012637387485, 142.61359885439813, 527.0521188808212, 249.54614424147297, 5936.913047683401, 379.1390168731767, 1030.3526156291714, 611.8455128777395, 173.2580293933935, 469.43217021551936, 5796.7423677136485, 285.72802619684734, 852.5575809696575, 3223.218182435225, 393.12827866212126, 646.3091678594749, 6095.2570654983865, 1458.3592687721564, 6443.609889296222, 3480.0749228194954, 348.73179854722986, 6522.38698004737, 4787.347927956227, 1541.4934008139894, 2434.3339039786183, 3142.228398775257, 4477.323997005158, 2957.691129871138, 3247.8995673072745, 3205.2590289246846, 1217.7800488573525, 3566.661731419685, 1660.98753010122, 3266.8195610383873, 1888.6894905835122, 1953.3288898595813, 1300.5052999567552, 2786.7098591784375, 4238.186657172604, 2405.8926764206462, 692.5166542662013, 344.7769219015255, 295.88732695105625, 270.1239654247256, 269.9560018748279, 235.2060621231566, 242.1034029446078, 230.585810174962, 167.50304364166465, 153.61400260284697, 150.48959583144156, 149.51136528313384, 146.3095613261397, 130.80786153888624, 128.99160647381999, 129.0880982173711, 307.4570426741622, 125.50113391249582, 121.26233171135173, 121.52479249032233, 118.72730534648548, 105.74484311038523, 100.47527105596085, 97.97043041183183, 97.57713489166507, 94.73251071440633, 94.42599441619151, 93.26540880778207, 89.69680924541122, 88.96776716668585, 297.75506327876167, 125.0179889884504, 180.13545265917148, 181.47745605267346, 712.2048007712435, 552.3337627781939, 359.5853201529498, 621.2549793287084, 1279.4571487112512, 191.65761199537548, 274.3836407263013, 547.2143311010376, 831.7873031901053, 687.5198558735693, 357.06241209634294, 2004.2992655002872, 595.9845300705597, 1079.704619894144, 572.6401126272312, 755.0426899011984, 685.1893308483493, 638.8304435683443, 889.2276442332925, 367.7950833482754, 373.9410283250248, 986.8385325292627, 711.7377650820619, 910.5587282057724, 3514.5974638828343, 3205.2590289246846, 623.9321034412608, 1776.626803071633, 4711.228835396712, 3651.8985740842813, 3422.402907520273, 1445.5594535093887, 2539.6199506642347, 6095.2570654983865, 2962.854013336798, 6522.38698004737, 3219.17102927347, 898.0437399608857, 581.4555425838281, 544.6328893508158, 338.8438767236325, 329.91025041100096, 294.98772306088694, 177.34503467430673, 164.06731581232134, 160.86886114194442, 157.9543678292735, 141.78692206094914, 139.04324400894674, 136.50052878390488, 127.08508070923371, 119.81851119379108, 116.6777163904743, 326.47599776705846, 107.34830672318154, 112.25208332374378, 103.36724834869251, 102.89078048688037, 94.58388837626252, 91.62408714226903, 89.74029651979198, 89.3223272202219, 88.90626227070474, 86.86480207320602, 81.81752821427936, 80.90357462466145, 77.92888092613615, 1591.383143288249, 1692.0106484983296, 259.8103638540669, 483.6931982544738, 303.63329762041883, 215.87584306728604, 148.65611574922195, 217.07968798607362, 1173.54701873796, 209.34952656604696, 251.55975381384863, 1374.7813944583352, 260.9838426682988, 610.6380156426509, 3480.0749228194954, 531.129445585936, 766.9955038660861, 588.2784440359502, 457.6071464674951, 499.8425531732304, 4477.323997005158, 386.42173883475266, 2539.6199506642347, 2957.691129871138, 5796.7423677136485, 566.9487905991651, 6443.609889296222, 1178.508061614399, 4787.347927956227, 3219.17102927347, 1953.3288898595813, 3227.5520192423614, 3247.8995673072745, 6095.2570654983865, 2912.742810217333, 3269.862565093668, 2434.3339039786183, 1834.7020416882704, 683.661202963958, 239.43256403996813, 194.92101983098604, 182.98357337255948, 149.26380743589414, 143.9930704443171, 130.93616799400124, 94.63173931152458, 163.0510576912623, 68.83411369781142, 63.76921357164414, 63.08904696903039, 62.6448536112704, 62.597463298813054, 57.14350244179667, 225.55698679587798, 52.23300168194919, 51.15368573846748, 50.054097838239, 446.48987774251253, 45.92226988982267, 43.907584744100475, 43.88321485211818, 43.55580282764706, 52.57062153742637, 42.08473499908405, 42.02197591869739, 40.84295248634759, 40.401206156595144, 40.37187796437533, 139.5434143257033, 124.48874788300274, 222.63585095442616, 176.94587537066857, 1732.586039608854, 406.6002199231187, 116.65824261153072, 313.6227103201404, 312.6489677208807, 144.19649219725153, 336.38255702702287, 380.29703158909575, 90.35393284794576, 131.83634961969275, 244.98136138251763, 347.7540937670728, 202.10410535183556, 134.81256850244802, 615.4136165141596, 298.92554389128514, 478.96044019038186, 278.57961199716846, 278.2405018875916, 1127.8538745783912, 6443.609889296222, 6095.2570654983865, 2004.2992655002872, 3247.8995673072745, 4787.347927956227, 3223.218182435225, 965.815668353729, 3205.2590289246846, 4477.323997005158, 3269.862565093668, 6522.38698004737, 2957.691129871138, 3651.8985740842813, 1683.5415566273628, 2786.7098591784375, 1968.2223719370372, 3266.8195610383873, 4711.228835396712, 3054.719435836916, 1791.8715719954305, 482.29142295186375, 290.18135905547206, 282.0626102200698, 271.38585222319557, 260.15814086175624, 256.10169419904537, 203.18469984185006, 231.6859937368954, 190.41534266942105, 184.78094187032033, 176.64727281442683, 553.5079756671719, 147.9646814894539, 134.23572525884595, 121.3637130668613, 117.32761903540484, 116.44166264551015, 114.56864633428515, 113.86942701395155, 113.10132482140462, 125.94162526250875, 93.14409696639252, 89.75434600758811, 89.64521492697199, 86.90128525717776, 82.20705445559877, 147.79983380849762, 74.40481683280689, 72.63602470742718, 66.62027355044077, 300.8332305405485, 1636.713323284137, 88.69812670562543, 2648.0587094463585, 174.19699048663696, 1722.7378942871592, 1025.3986475576896, 142.11363054986433, 901.0456574366087, 631.1773417937796, 317.8528012663747, 229.19313419615438, 646.9040478832726, 916.7009072497003, 833.7913668513672, 971.1774345921501, 573.3485488920956, 1253.6007803012321, 1905.2699990920632, 2091.2988528493597, 710.5872909676942, 1278.2975983834447, 1789.9954341287973, 613.0588530987693, 1262.6530984220926, 809.0248836635485, 986.8385325292627, 1776.626803071633, 839.8231846245751, 4711.228835396712, 1148.796642165676, 3514.5974638828343], \"Category\": [\"Default\", \"Default\", \"Default\", \"Default\", \"Default\", \"Default\", \"Default\", \"Default\", \"Default\", \"Default\", \"Default\", \"Default\", \"Default\", \"Default\", \"Default\", \"Default\", \"Default\", \"Default\", \"Default\", \"Default\", \"Default\", \"Default\", \"Default\", \"Default\", \"Default\", \"Default\", \"Default\", \"Default\", \"Default\", \"Default\", \"Topic1\", \"Topic1\", \"Topic1\", \"Topic1\", \"Topic1\", \"Topic1\", \"Topic1\", \"Topic1\", \"Topic1\", \"Topic1\", \"Topic1\", \"Topic1\", \"Topic1\", \"Topic1\", \"Topic1\", \"Topic1\", \"Topic1\", \"Topic1\", \"Topic1\", \"Topic1\", \"Topic1\", \"Topic1\", \"Topic1\", \"Topic1\", \"Topic1\", \"Topic1\", \"Topic1\", \"Topic1\", \"Topic1\", \"Topic1\", \"Topic1\", \"Topic1\", \"Topic1\", \"Topic1\", \"Topic1\", \"Topic1\", \"Topic1\", \"Topic1\", \"Topic1\", \"Topic1\", \"Topic1\", \"Topic1\", \"Topic1\", \"Topic1\", \"Topic1\", \"Topic1\", \"Topic1\", \"Topic1\", \"Topic1\", \"Topic1\", \"Topic1\", \"Topic1\", \"Topic1\", \"Topic1\", \"Topic1\", \"Topic1\", \"Topic1\", \"Topic1\", \"Topic1\", \"Topic1\", \"Topic1\", \"Topic1\", \"Topic1\", \"Topic1\", \"Topic1\", \"Topic1\", \"Topic1\", \"Topic1\", \"Topic2\", \"Topic2\", \"Topic2\", \"Topic2\", \"Topic2\", \"Topic2\", \"Topic2\", \"Topic2\", \"Topic2\", \"Topic2\", \"Topic2\", \"Topic2\", \"Topic2\", \"Topic2\", \"Topic2\", \"Topic2\", \"Topic2\", \"Topic2\", \"Topic2\", \"Topic2\", \"Topic2\", \"Topic2\", \"Topic2\", \"Topic2\", \"Topic2\", \"Topic2\", \"Topic2\", \"Topic2\", \"Topic2\", \"Topic2\", \"Topic2\", \"Topic2\", \"Topic2\", \"Topic2\", \"Topic2\", \"Topic2\", \"Topic2\", \"Topic2\", \"Topic2\", \"Topic2\", \"Topic2\", \"Topic2\", \"Topic2\", \"Topic2\", \"Topic2\", \"Topic2\", \"Topic2\", \"Topic2\", \"Topic2\", \"Topic2\", \"Topic2\", \"Topic2\", \"Topic2\", \"Topic2\", \"Topic2\", \"Topic2\", \"Topic2\", \"Topic2\", \"Topic2\", \"Topic2\", \"Topic2\", \"Topic2\", \"Topic2\", \"Topic2\", \"Topic2\", \"Topic2\", \"Topic2\", \"Topic2\", \"Topic2\", \"Topic2\", \"Topic3\", \"Topic3\", \"Topic3\", \"Topic3\", \"Topic3\", \"Topic3\", \"Topic3\", \"Topic3\", \"Topic3\", \"Topic3\", \"Topic3\", \"Topic3\", \"Topic3\", \"Topic3\", \"Topic3\", \"Topic3\", \"Topic3\", \"Topic3\", \"Topic3\", \"Topic3\", \"Topic3\", \"Topic3\", \"Topic3\", \"Topic3\", \"Topic3\", \"Topic3\", \"Topic3\", \"Topic3\", \"Topic3\", \"Topic3\", \"Topic3\", \"Topic3\", \"Topic3\", \"Topic3\", \"Topic3\", \"Topic3\", \"Topic3\", \"Topic3\", \"Topic3\", \"Topic3\", \"Topic3\", \"Topic3\", \"Topic3\", \"Topic3\", \"Topic3\", \"Topic3\", \"Topic3\", \"Topic3\", \"Topic3\", \"Topic3\", \"Topic3\", \"Topic3\", \"Topic3\", \"Topic3\", \"Topic3\", \"Topic3\", \"Topic3\", \"Topic3\", \"Topic3\", \"Topic3\", \"Topic3\", \"Topic3\", \"Topic3\", \"Topic3\", \"Topic3\", \"Topic3\", \"Topic3\", \"Topic3\", \"Topic3\", \"Topic3\", \"Topic4\", \"Topic4\", \"Topic4\", \"Topic4\", \"Topic4\", \"Topic4\", \"Topic4\", \"Topic4\", \"Topic4\", \"Topic4\", \"Topic4\", \"Topic4\", \"Topic4\", \"Topic4\", \"Topic4\", \"Topic4\", \"Topic4\", \"Topic4\", \"Topic4\", \"Topic4\", \"Topic4\", \"Topic4\", \"Topic4\", \"Topic4\", \"Topic4\", \"Topic4\", \"Topic4\", \"Topic4\", \"Topic4\", \"Topic4\", \"Topic4\", \"Topic4\", \"Topic4\", \"Topic4\", \"Topic4\", \"Topic4\", \"Topic4\", \"Topic4\", \"Topic4\", \"Topic4\", \"Topic4\", \"Topic4\", \"Topic4\", \"Topic4\", \"Topic4\", \"Topic4\", \"Topic4\", \"Topic4\", \"Topic4\", \"Topic4\", \"Topic4\", \"Topic4\", \"Topic4\", \"Topic4\", \"Topic4\", \"Topic4\", \"Topic4\", \"Topic4\", \"Topic4\", \"Topic4\", \"Topic4\", \"Topic4\", \"Topic4\", \"Topic4\", \"Topic4\", \"Topic4\", \"Topic4\", \"Topic4\", \"Topic4\", \"Topic4\", \"Topic4\", \"Topic4\", \"Topic4\", \"Topic4\", \"Topic4\", \"Topic4\", \"Topic4\", \"Topic4\", \"Topic4\", \"Topic4\", \"Topic4\", \"Topic4\", \"Topic4\", \"Topic4\", \"Topic5\", \"Topic5\", \"Topic5\", \"Topic5\", \"Topic5\", \"Topic5\", \"Topic5\", \"Topic5\", \"Topic5\", \"Topic5\", \"Topic5\", \"Topic5\", \"Topic5\", \"Topic5\", \"Topic5\", \"Topic5\", \"Topic5\", \"Topic5\", \"Topic5\", \"Topic5\", \"Topic5\", \"Topic5\", \"Topic5\", \"Topic5\", \"Topic5\", \"Topic5\", \"Topic5\", \"Topic5\", \"Topic5\", \"Topic5\", \"Topic5\", \"Topic5\", \"Topic5\", \"Topic5\", \"Topic5\", \"Topic5\", \"Topic5\", \"Topic5\", \"Topic5\", \"Topic5\", \"Topic5\", \"Topic5\", \"Topic5\", \"Topic5\", \"Topic5\", \"Topic5\", \"Topic5\", \"Topic5\", \"Topic5\", \"Topic5\", \"Topic5\", \"Topic5\", \"Topic5\", \"Topic5\", \"Topic5\", \"Topic5\", \"Topic5\", \"Topic5\", \"Topic5\", \"Topic5\", \"Topic5\", \"Topic5\", \"Topic5\", \"Topic5\", \"Topic5\", \"Topic5\", \"Topic5\", \"Topic5\", \"Topic5\", \"Topic5\", \"Topic6\", \"Topic6\", \"Topic6\", \"Topic6\", \"Topic6\", \"Topic6\", \"Topic6\", \"Topic6\", \"Topic6\", \"Topic6\", \"Topic6\", \"Topic6\", \"Topic6\", \"Topic6\", \"Topic6\", \"Topic6\", \"Topic6\", \"Topic6\", \"Topic6\", \"Topic6\", \"Topic6\", \"Topic6\", \"Topic6\", \"Topic6\", \"Topic6\", \"Topic6\", \"Topic6\", \"Topic6\", \"Topic6\", \"Topic6\", \"Topic6\", \"Topic6\", \"Topic6\", \"Topic6\", \"Topic6\", \"Topic6\", \"Topic6\", \"Topic6\", \"Topic6\", \"Topic6\", \"Topic6\", \"Topic6\", \"Topic6\", \"Topic6\", \"Topic6\", \"Topic6\", \"Topic6\", \"Topic6\", \"Topic6\", \"Topic6\", \"Topic6\", \"Topic6\", \"Topic6\", \"Topic6\", \"Topic6\", \"Topic6\", \"Topic6\", \"Topic6\", \"Topic6\", \"Topic6\", \"Topic6\", \"Topic6\", \"Topic6\", \"Topic6\", \"Topic6\", \"Topic6\", \"Topic6\", \"Topic6\", \"Topic6\", \"Topic6\", \"Topic6\", \"Topic6\", \"Topic6\", \"Topic6\", \"Topic7\", \"Topic7\", \"Topic7\", \"Topic7\", \"Topic7\", \"Topic7\", \"Topic7\", \"Topic7\", \"Topic7\", \"Topic7\", \"Topic7\", \"Topic7\", \"Topic7\", \"Topic7\", \"Topic7\", \"Topic7\", \"Topic7\", \"Topic7\", \"Topic7\", \"Topic7\", \"Topic7\", \"Topic7\", \"Topic7\", \"Topic7\", \"Topic7\", \"Topic7\", \"Topic7\", \"Topic7\", \"Topic7\", \"Topic7\", \"Topic7\", \"Topic7\", \"Topic7\", \"Topic7\", \"Topic7\", \"Topic7\", \"Topic7\", \"Topic7\", \"Topic7\", \"Topic7\", \"Topic7\", \"Topic7\", \"Topic7\", \"Topic7\", \"Topic7\", \"Topic7\", \"Topic7\", \"Topic7\", \"Topic7\", \"Topic7\", \"Topic7\", \"Topic7\", \"Topic7\", \"Topic7\", \"Topic7\", \"Topic7\", \"Topic7\", \"Topic7\", \"Topic7\", \"Topic7\", \"Topic7\", \"Topic7\", \"Topic7\", \"Topic7\", \"Topic7\", \"Topic7\", \"Topic7\", \"Topic7\", \"Topic7\", \"Topic7\", \"Topic7\", \"Topic8\", \"Topic8\", \"Topic8\", \"Topic8\", \"Topic8\", \"Topic8\", \"Topic8\", \"Topic8\", \"Topic8\", \"Topic8\", \"Topic8\", \"Topic8\", \"Topic8\", \"Topic8\", \"Topic8\", \"Topic8\", \"Topic8\", \"Topic8\", \"Topic8\", \"Topic8\", \"Topic8\", \"Topic8\", \"Topic8\", \"Topic8\", \"Topic8\", \"Topic8\", \"Topic8\", \"Topic8\", \"Topic8\", \"Topic8\", \"Topic8\", \"Topic8\", \"Topic8\", \"Topic8\", \"Topic8\", \"Topic8\", \"Topic8\", \"Topic8\", \"Topic8\", \"Topic8\", \"Topic8\", \"Topic8\", \"Topic8\", \"Topic8\", \"Topic8\", \"Topic8\", \"Topic8\", \"Topic8\", \"Topic8\", \"Topic8\", \"Topic8\", \"Topic8\", \"Topic8\", \"Topic8\", \"Topic8\", \"Topic8\", \"Topic8\", \"Topic8\", \"Topic8\", \"Topic8\", \"Topic8\", \"Topic8\", \"Topic8\", \"Topic8\", \"Topic8\", \"Topic8\", \"Topic8\", \"Topic8\", \"Topic9\", \"Topic9\", \"Topic9\", \"Topic9\", \"Topic9\", \"Topic9\", \"Topic9\", \"Topic9\", \"Topic9\", \"Topic9\", \"Topic9\", \"Topic9\", \"Topic9\", \"Topic9\", \"Topic9\", \"Topic9\", \"Topic9\", \"Topic9\", \"Topic9\", \"Topic9\", \"Topic9\", \"Topic9\", \"Topic9\", \"Topic9\", \"Topic9\", \"Topic9\", \"Topic9\", \"Topic9\", \"Topic9\", \"Topic9\", \"Topic9\", \"Topic9\", \"Topic9\", \"Topic9\", \"Topic9\", \"Topic9\", \"Topic9\", \"Topic9\", \"Topic9\", \"Topic9\", \"Topic9\", \"Topic9\", \"Topic9\", \"Topic9\", \"Topic9\", \"Topic9\", \"Topic9\", \"Topic9\", \"Topic9\", \"Topic9\", \"Topic9\", \"Topic9\", \"Topic9\", \"Topic9\", \"Topic9\", \"Topic9\", \"Topic9\", \"Topic9\", \"Topic9\", \"Topic9\", \"Topic9\", \"Topic9\", \"Topic9\", \"Topic9\", \"Topic9\", \"Topic9\", \"Topic9\", \"Topic9\", \"Topic9\", \"Topic9\", \"Topic9\", \"Topic9\", \"Topic9\", \"Topic9\", \"Topic10\", \"Topic10\", \"Topic10\", \"Topic10\", \"Topic10\", \"Topic10\", \"Topic10\", \"Topic10\", \"Topic10\", \"Topic10\", \"Topic10\", \"Topic10\", \"Topic10\", \"Topic10\", \"Topic10\", \"Topic10\", \"Topic10\", \"Topic10\", \"Topic10\", \"Topic10\", \"Topic10\", \"Topic10\", \"Topic10\", \"Topic10\", \"Topic10\", \"Topic10\", \"Topic10\", \"Topic10\", \"Topic10\", \"Topic10\", \"Topic10\", \"Topic10\", \"Topic10\", \"Topic10\", \"Topic10\", \"Topic10\", \"Topic10\", \"Topic10\", \"Topic10\", \"Topic10\", \"Topic10\", \"Topic10\", \"Topic10\", \"Topic10\", \"Topic10\", \"Topic10\", \"Topic10\", \"Topic10\", \"Topic10\", \"Topic10\", \"Topic10\", \"Topic10\", \"Topic10\", \"Topic10\", \"Topic10\", \"Topic10\", \"Topic10\", \"Topic10\", \"Topic10\", \"Topic10\", \"Topic10\", \"Topic10\"], \"logprob\": [30.0, 29.0, 28.0, 27.0, 26.0, 25.0, 24.0, 23.0, 22.0, 21.0, 20.0, 19.0, 18.0, 17.0, 16.0, 15.0, 14.0, 13.0, 12.0, 11.0, 10.0, 9.0, 8.0, 7.0, 6.0, 5.0, 4.0, 3.0, 2.0, 1.0, -4.1123, -5.182, -5.5281, -5.7886, -5.814, -5.8861, -5.8975, -5.9581, -6.4017, -6.6863, -6.851, -6.8902, -6.6308, -6.9468, -6.9551, -7.0124, -7.102, -7.1073, -7.2501, -7.3271, -7.3431, -6.5076, -7.3376, -7.3587, -7.3737, -7.4032, -7.4365, -7.4574, -7.479, -7.5324, -5.5461, -6.1136, -6.3016, -5.6042, -6.814, -6.2327, -6.2843, -6.7321, -6.0, -5.6467, -6.3651, -4.9028, -5.8391, -5.6205, -5.5391, -5.5108, -5.1956, -4.5955, -5.6147, -5.5657, -5.9919, -4.7697, -5.0049, -5.7075, -4.8692, -5.5881, -5.6051, -5.3894, -5.3157, -5.351, -5.4033, -5.5652, -5.4591, -5.406, -5.3999, -5.4795, -5.6174, -5.6315, -5.2292, -5.7739, -6.0809, -6.0064, -6.4748, -6.3404, -5.0453, -6.7422, -6.7934, -6.7849, -6.8976, -6.9133, -6.9412, -6.8547, -6.9572, -7.0156, -7.0265, -7.0725, -7.1056, -7.1311, -7.133, -7.1601, -7.1868, -7.1886, -7.2077, -7.2155, -7.2397, -6.4697, -7.3114, -7.341, -6.209, -5.9346, -6.7367, -5.4488, -7.0697, -5.6379, -6.2641, -6.6431, -6.0779, -6.7066, -5.606, -4.9096, -5.744, -6.0795, -5.4144, -5.4084, -6.1508, -6.1402, -6.2109, -5.1312, -4.7231, -5.8399, -5.9904, -4.6921, -5.9352, -6.1909, -5.1915, -5.3209, -5.4229, -5.1839, -5.6066, -5.7466, -5.442, -5.5745, -5.7207, -5.6318, -5.9389, -5.8764, -5.9436, -5.9618, -5.7964, -5.8566, -5.9221, -5.9311, -5.8812, -6.0884, -6.1743, -6.2839, -6.3423, -6.4073, -6.7689, -6.8086, -6.8317, -6.8506, -6.9327, -6.9557, -7.0137, -7.0329, -7.0659, -6.9343, -7.2169, -7.3153, -7.3693, -7.4333, -7.469, -7.5017, -7.5461, -7.5571, -7.5632, -7.5853, -2.9339, -5.1681, -5.2909, -6.1283, -4.0519, -6.4355, -6.6686, -6.9202, -5.5102, -5.0037, -5.3544, -4.4861, -5.9771, -4.5077, -5.5798, -5.3352, -5.1893, -5.4419, -5.4327, -5.897, -5.5181, -6.1563, -5.3145, -5.3691, -4.6453, -5.1235, -5.3876, -5.274, -5.4221, -5.8324, -5.6474, -5.6002, -5.3826, -5.4307, -5.4468, -5.575, -5.6638, -5.5419, -5.6196, -5.552, -6.9887, -7.3575, -7.5908, -7.5925, -7.6156, -7.6284, -7.6426, -7.6867, -7.7137, -7.7217, -7.7336, -7.7552, -7.7617, -7.9191, -7.971, -7.9786, -7.9881, -7.9976, -8.0367, -8.0434, -8.0496, -8.0518, -8.0636, -8.0222, -8.101, -8.1026, -7.9744, -7.7588, -8.1193, -8.1453, -8.08, -7.4617, -7.7612, -7.5936, -7.3148, -6.4723, -7.4735, -6.5985, -6.7101, -5.6265, -5.7353, -4.6504, -5.5323, -5.2016, -4.9668, -5.0863, -4.6738, -7.0216, -5.8426, -6.4168, -5.471, -6.6034, -4.2877, -6.397, -5.7829, -6.0002, -6.6238, -4.5306, -5.7959, -5.5462, -5.8475, -4.5934, -5.016, -4.8285, -6.3252, -6.3538, -6.0279, -5.0573, -5.8451, -5.6953, -5.3423, -4.9124, -5.2771, -5.5031, -5.3642, -5.6257, -5.5978, -5.3868, -5.5051, -5.5373, -5.7401, -5.6778, -5.6784, -5.7304, -5.8213, -5.958, -6.0539, -6.3888, -6.6722, -6.6781, -6.7666, -6.8379, -6.8736, -7.017, -7.1749, -7.2029, -7.2922, -7.3197, -7.3514, -7.3518, -7.3511, -7.3311, -7.46, -7.4925, -7.4232, -7.51, -7.5293, -7.5577, -7.5803, -7.6665, -7.6932, -7.7089, -7.7583, -7.7627, -6.5017, -5.9783, -7.4259, -5.8153, -5.971, -4.6325, -6.485, -6.4105, -6.9621, -5.3829, -5.528, -5.9144, -5.7211, -6.1846, -6.1746, -6.3689, -6.2765, -6.3477, -5.823, -5.844, -6.319, -5.8547, -5.8086, -5.8451, -5.8011, -5.3729, -5.1867, -5.4936, -5.2717, -6.0898, -5.4758, -5.7035, -5.9332, -6.0361, -5.926, -5.6268, -5.758, -6.0294, -5.8268, -6.027, -6.3598, -6.4929, -6.5208, -6.8318, -6.8314, -6.8728, -6.8802, -6.9601, -7.0129, -7.0295, -7.1335, -7.162, -7.1654, -7.1843, -7.3204, -6.6626, -7.3545, -7.3696, -7.3996, -7.4156, -7.4513, -7.4959, -7.6794, -7.7356, -7.7546, -7.7759, -5.5152, -7.871, -7.8883, -7.9507, -6.3627, -7.3796, -4.855, -7.1962, -6.475, -6.9208, -5.889, -6.5324, -4.2759, -6.2579, -5.5641, -5.9293, -6.8374, -6.1722, -4.5398, -6.5097, -5.802, -5.0766, -6.3276, -6.0409, -4.7552, -5.6065, -4.7962, -5.2324, -6.4234, -5.0698, -5.2252, -5.7359, -5.5521, -5.4457, -5.3105, -5.4915, -5.4657, -5.482, -5.8725, -5.4927, -5.7869, -5.6187, -5.8109, -5.8052, -5.9163, -5.7771, -5.749, -5.8629, -5.1459, -5.8447, -5.9981, -6.0895, -6.0901, -6.2284, -6.1995, -6.2483, -6.5694, -6.6565, -6.6771, -6.6837, -6.7055, -6.8182, -6.8323, -6.8316, -5.9639, -6.8599, -6.8945, -6.8925, -6.9165, -7.0326, -7.0841, -7.1096, -7.1137, -7.1436, -7.1468, -7.1593, -7.1987, -7.207, -6.0058, -6.8716, -6.5145, -6.5078, -5.1818, -5.433, -5.8533, -5.3398, -4.6729, -6.4688, -6.1332, -5.5245, -5.1557, -5.338, -5.9248, -4.4378, -5.552, -5.0694, -5.6008, -5.3868, -5.4934, -5.5512, -5.3289, -5.99, -5.9983, -5.3331, -5.5664, -5.4454, -4.6736, -4.8173, -5.6985, -5.1746, -4.767, -4.92, -5.0183, -5.4502, -5.3171, -5.1508, -5.3743, -5.2176, -5.5583, -4.8514, -5.2864, -5.3519, -5.8275, -5.8543, -5.9665, -6.4774, -6.5556, -6.5754, -6.5938, -6.7024, -6.7221, -6.7407, -6.8126, -6.872, -6.8987, -5.8699, -6.9827, -6.9382, -7.0209, -7.0255, -7.1105, -7.1426, -7.1636, -7.1683, -7.173, -7.1965, -7.257, -7.2684, -7.3063, -4.2964, -4.2439, -6.1075, -5.4981, -5.9764, -6.3352, -6.6884, -6.3345, -4.7669, -6.3709, -6.2148, -4.7887, -6.2712, -5.7069, -4.6158, -5.9031, -5.6872, -5.858, -6.0299, -5.9923, -4.8691, -6.1517, -5.3024, -5.309, -5.138, -6.0134, -5.1764, -5.7837, -5.3516, -5.4899, -5.6428, -5.5692, -5.601, -5.5534, -5.7771, -5.7781, -5.8106, -5.8582, -4.8387, -5.8903, -6.0969, -6.1604, -6.3652, -6.4014, -6.4971, -6.8245, -6.2827, -7.1464, -7.2239, -7.2348, -7.2419, -7.2427, -7.3352, -5.9626, -7.4266, -7.4479, -7.47, -5.2831, -7.5578, -7.6036, -7.6042, -7.6118, -7.424, -7.6469, -7.6484, -7.6775, -7.6887, -7.6894, -6.4669, -6.5867, -6.0244, -6.2801, -4.1495, -5.5158, -6.696, -5.8021, -5.8162, -6.5178, -5.7804, -5.677, -6.9433, -6.6235, -6.1054, -5.8289, -6.3083, -6.6366, -5.4929, -6.0395, -5.7041, -6.155, -6.174, -5.4467, -4.7701, -4.8121, -5.3958, -5.2321, -5.1168, -5.2666, -5.7435, -5.4083, -5.3619, -5.4728, -5.349, -5.5733, -5.5413, -5.7141, -5.701, -5.7653, -5.7374, -5.72, -5.7687, -5.7988, -4.7788, -5.2881, -5.3166, -5.3553, -5.3977, -5.4142, -5.6459, -5.5146, -5.7111, -5.7413, -5.7868, -4.6448, -5.9647, -6.0627, -6.1642, -6.1983, -6.206, -6.2223, -6.2285, -6.2353, -6.1287, -6.4312, -6.4686, -6.4699, -6.5013, -6.5575, -5.9713, -6.6583, -6.6831, -6.7703, -5.2799, -3.6384, -6.4878, -3.266, -5.8514, -3.7189, -4.2099, -6.0455, -4.3885, -4.7364, -5.3499, -5.6568, -4.9104, -4.6708, -4.7449, -4.643, -5.0384, -4.4839, -4.2052, -4.2545, -5.0189, -4.7527, -4.6256, -5.1629, -4.8395, -5.067, -5.0294, -4.9947, -5.2193, -5.0941, -5.2264, -5.2789], \"loglift\": [30.0, 29.0, 28.0, 27.0, 26.0, 25.0, 24.0, 23.0, 22.0, 21.0, 20.0, 19.0, 18.0, 17.0, 16.0, 15.0, 14.0, 13.0, 12.0, 11.0, 10.0, 9.0, 8.0, 7.0, 6.0, 5.0, 4.0, 3.0, 2.0, 1.0, 1.8355, 1.8349, 1.8346, 1.8343, 1.8342, 1.8341, 1.8341, 1.834, 1.833, 1.8321, 1.8315, 1.8313, 1.8311, 1.831, 1.831, 1.8307, 1.8302, 1.8302, 1.8294, 1.8288, 1.8287, 1.8287, 1.8287, 1.8286, 1.8285, 1.8283, 1.828, 1.8279, 1.8277, 1.8273, 1.8248, 1.8245, 1.8235, 1.8034, 1.7981, 1.7407, 1.7435, 1.773, 1.674, 1.6077, 1.6842, 1.3736, 1.561, 1.4243, 1.3688, 1.3594, 1.0579, 0.7548, 1.2209, 1.1809, 1.3961, 0.6044, 0.6825, 1.1893, 0.387, 1.036, 1.0358, 0.7839, 0.6454, 0.5966, 0.5565, 0.6766, 0.1733, -0.0821, -0.1315, 0.0859, 0.3691, 0.3833, 2.0813, 2.0805, 2.0799, 2.0798, 2.0787, 2.0783, 2.0781, 2.0775, 2.0773, 2.077, 2.0767, 2.0766, 2.0764, 2.0764, 2.0763, 2.076, 2.0759, 2.0756, 2.0754, 2.0752, 2.0752, 2.075, 2.0748, 2.0748, 2.0746, 2.0746, 2.0744, 2.0743, 2.0738, 2.0735, 2.0659, 2.0434, 2.0605, 1.982, 2.0635, 1.9288, 1.9743, 2.0131, 1.9348, 2.0035, 1.7934, 1.6566, 1.7373, 1.8152, 1.5898, 1.5844, 1.8102, 1.7828, 1.7808, 1.2005, 0.9642, 1.5036, 1.5836, 0.6581, 1.4959, 1.6643, 0.795, 0.6326, 0.5368, 0.0723, 0.6421, 0.8774, -0.1736, -0.0091, 0.1391, -0.2577, 0.9221, -0.5524, -0.0592, 0.5627, 2.1936, 2.1935, 2.1933, 2.1933, 2.193, 2.1928, 2.1926, 2.1923, 2.1921, 2.1918, 2.1901, 2.1899, 2.1897, 2.1896, 2.1891, 2.189, 2.1886, 2.1884, 2.1882, 2.188, 2.1869, 2.186, 2.1855, 2.1848, 2.1844, 2.1841, 2.1835, 2.1834, 2.1833, 2.1831, 2.165, 2.1795, 2.1803, 2.1806, 2.1415, 2.1625, 2.1524, 2.1575, 2.0615, 2.0188, 2.029, 1.9076, 2.0405, 1.8032, 1.9722, 1.899, 1.8011, 1.8408, 1.7964, 1.8501, 1.7009, 1.9427, 1.5141, 1.4494, 0.9362, 1.0759, 1.2798, 1.1536, 1.065, 1.6872, 1.3111, 1.0879, 0.4919, 0.5359, 0.4543, 0.8187, 1.2222, 0.4728, 0.9297, 0.2842, 2.2281, 2.2248, 2.2221, 2.222, 2.2218, 2.2216, 2.2213, 2.2208, 2.2204, 2.2202, 2.2201, 2.2197, 2.2196, 2.2169, 2.2159, 2.2158, 2.2156, 2.2154, 2.2147, 2.2145, 2.2144, 2.2144, 2.2141, 2.2141, 2.2133, 2.2133, 2.2131, 2.213, 2.2129, 2.2123, 2.2115, 2.1958, 2.1827, 2.1614, 2.1052, 1.8992, 2.097, 1.9106, 1.93, 1.6915, 1.7084, 1.4119, 1.5836, 1.4947, 1.4249, 1.4504, 1.2886, 1.9635, 1.5856, 1.7634, 1.4394, 1.825, 0.9807, 1.7331, 1.4817, 1.4608, 1.734, 0.7256, 1.3439, 1.2168, 1.3607, 0.7306, 0.9307, 0.8039, 1.5907, 1.5924, 1.4015, 0.8025, 1.2577, 1.1462, 0.8311, 0.4618, 0.77, 0.9359, 0.6811, 0.8882, 0.651, 0.1787, 0.396, 0.4774, 0.8939, 0.2757, 0.1578, 0.6712, 2.3066, 2.3062, 2.306, 2.3047, 2.3033, 2.3033, 2.3027, 2.3023, 2.3018, 2.3009, 2.2996, 2.2993, 2.2984, 2.2981, 2.2977, 2.2977, 2.2972, 2.2966, 2.2965, 2.296, 2.2959, 2.2958, 2.2956, 2.2952, 2.2949, 2.2936, 2.2932, 2.2929, 2.2921, 2.292, 2.2832, 2.2763, 2.2903, 2.2689, 2.2718, 2.1573, 2.1824, 2.1382, 2.1994, 1.8799, 1.8242, 1.9142, 1.8374, 1.9655, 1.9389, 1.9352, 1.8631, 1.8841, 1.6432, 1.6081, 1.8521, 1.5715, 1.5181, 1.4881, 1.3841, 0.938, 0.6977, 0.9935, 0.6028, 1.5278, 0.5695, 0.724, 1.104, 1.3221, 1.0054, -0.0453, 0.0782, 1.2134, 0.1356, 0.8227, 2.3301, 2.3295, 2.3294, 2.3275, 2.3275, 2.3272, 2.3272, 2.3266, 2.3261, 2.3257, 2.3251, 2.3248, 2.3248, 2.3246, 2.3232, 2.323, 2.3228, 2.3226, 2.3222, 2.322, 2.3216, 2.321, 2.3183, 2.3174, 2.3171, 2.3166, 2.3166, 2.315, 2.3146, 2.3134, 2.2461, 2.2699, 1.9995, 2.2211, 2.0726, 2.1582, 1.8829, 1.9872, 1.0744, 1.8434, 1.5375, 1.6934, 2.0471, 1.7155, 0.8344, 1.8745, 1.489, 0.8844, 1.7375, 1.5271, 0.5687, 1.1477, 0.4721, 0.652, 1.7615, 0.1864, 0.3402, 0.9628, 0.6897, 0.5408, 0.322, 0.5555, 0.4877, 0.4847, 1.062, 0.3671, 0.8371, 0.3289, 0.6847, 0.6567, 0.9524, 0.3295, -0.0617, 0.3906, 2.3529, 2.3516, 2.3512, 2.3509, 2.3509, 2.3504, 2.3504, 2.3503, 2.3488, 2.3483, 2.3482, 2.3481, 2.348, 2.3473, 2.3472, 2.3471, 2.347, 2.347, 2.3467, 2.3466, 2.3459, 2.3456, 2.3452, 2.3449, 2.3449, 2.3446, 2.3446, 2.3444, 2.3441, 2.344, 2.3371, 2.3391, 2.331, 2.3303, 2.2891, 2.292, 2.301, 2.2677, 2.2121, 2.3147, 2.2915, 2.2098, 2.16, 2.1682, 2.2365, 1.9984, 2.097, 1.9854, 2.0882, 2.0257, 2.0161, 2.0283, 1.92, 2.1417, 2.1169, 1.8116, 1.9051, 1.7797, 1.201, 1.1494, 1.9047, 1.3821, 0.8145, 0.9162, 0.8828, 1.3128, 0.8824, 0.1732, 0.671, 0.0387, 0.404, 2.3876, 2.3873, 2.3872, 2.3862, 2.3861, 2.3858, 2.3837, 2.3833, 2.3832, 2.3831, 2.3825, 2.3823, 2.3822, 2.3817, 2.3813, 2.3811, 2.381, 2.3804, 2.3803, 2.3801, 2.38, 2.3792, 2.3789, 2.3787, 2.3787, 2.3786, 2.3784, 2.3777, 2.3776, 2.3772, 2.3705, 2.3616, 2.3717, 2.3597, 2.347, 2.3293, 2.3492, 2.3244, 2.2045, 2.3243, 2.2967, 2.0245, 2.2036, 1.9178, 1.2686, 1.8611, 1.7095, 1.804, 1.8833, 1.8326, 0.7634, 1.9306, 0.897, 0.7381, 0.2361, 1.6855, 0.0919, 1.1835, 0.2139, 0.4724, 0.8192, 0.3906, 0.3525, -0.2295, 0.2852, 0.1686, 0.4312, 0.6664, 2.6731, 2.6706, 2.6697, 2.6694, 2.6683, 2.6681, 2.6674, 2.6648, 2.6624, 2.6611, 2.6601, 2.6599, 2.6598, 2.6598, 2.6584, 2.658, 2.6569, 2.6565, 2.6561, 2.6547, 2.6545, 2.6535, 2.6535, 2.6534, 2.6531, 2.6526, 2.6526, 2.6519, 2.6517, 2.6517, 2.634, 2.6283, 2.6093, 2.5832, 2.4323, 2.5155, 2.584, 2.4889, 2.4779, 2.5502, 2.4405, 2.4212, 2.5922, 2.5342, 2.4326, 2.3588, 2.4221, 2.4987, 2.124, 2.2995, 2.1635, 2.2545, 2.2367, 1.5645, 0.4983, 0.5119, 1.0404, 0.7213, 0.4487, 0.6945, 1.4228, 0.5583, 0.2705, 0.4739, -0.0928, 0.4738, 0.2949, 0.8965, 0.4056, 0.689, 0.2102, -0.1385, 0.2461, 0.7493, 3.0818, 3.0806, 3.0805, 3.0804, 3.0802, 3.0794, 3.0792, 3.0792, 3.0789, 3.0788, 3.0783, 3.0781, 3.0775, 3.0769, 3.0762, 3.0759, 3.0759, 3.0757, 3.0757, 3.0756, 3.0747, 3.0739, 3.0735, 3.0735, 3.0732, 3.0725, 3.072, 3.0714, 3.0707, 3.0699, 3.0527, 3.0004, 3.0662, 2.8916, 3.0276, 2.8687, 2.8964, 3.037, 2.8472, 2.8552, 2.9277, 2.9478, 2.6566, 2.5477, 2.5684, 2.5177, 2.6494, 2.4215, 2.2816, 2.1392, 2.4543, 2.1332, 1.9236, 2.4579, 2.0588, 2.2764, 2.1153, 1.562, 2.0867, 0.4874, 1.7663, 0.5956]}, \"token.table\": {\"Topic\": [1, 2, 3, 4, 5, 6, 7, 8, 10, 6, 7, 5, 5, 6, 1, 2, 5, 6, 8, 9, 7, 3, 2, 4, 7, 1, 3, 4, 5, 7, 10, 2, 5, 6, 7, 8, 10, 2, 2, 4, 10, 1, 2, 3, 6, 2, 6, 2, 2, 2, 4, 5, 8, 1, 2, 3, 4, 5, 6, 7, 8, 9, 10, 3, 1, 2, 3, 4, 5, 6, 7, 8, 9, 5, 1, 1, 5, 1, 2, 6, 9, 10, 9, 1, 2, 3, 4, 5, 7, 8, 9, 10, 2, 2, 1, 2, 3, 4, 5, 6, 7, 8, 9, 10, 1, 2, 3, 4, 6, 7, 8, 9, 6, 6, 8, 2, 4, 7, 4, 1, 1, 2, 3, 4, 5, 6, 7, 8, 9, 1, 7, 1, 1, 9, 9, 1, 2, 5, 3, 7, 1, 2, 3, 4, 5, 6, 7, 8, 9, 10, 1, 2, 3, 4, 5, 6, 7, 8, 9, 10, 9, 2, 3, 4, 5, 7, 8, 9, 1, 2, 3, 4, 5, 6, 7, 8, 9, 10, 4, 6, 9, 5, 8, 1, 2, 4, 6, 7, 9, 1, 3, 4, 5, 7, 8, 10, 2, 5, 7, 8, 4, 6, 9, 9, 2, 4, 6, 7, 8, 1, 2, 3, 4, 5, 6, 7, 8, 9, 1, 1, 2, 3, 4, 5, 6, 7, 9, 5, 1, 2, 3, 4, 5, 6, 7, 8, 9, 10, 2, 7, 3, 1, 2, 3, 4, 6, 9, 6, 1, 2, 3, 5, 6, 1, 7, 8, 9, 10, 1, 4, 1, 2, 4, 6, 1, 1, 4, 1, 10, 1, 2, 5, 6, 2, 5, 1, 2, 3, 4, 5, 6, 7, 8, 9, 1, 3, 1, 2, 4, 6, 1, 8, 10, 10, 8, 1, 3, 4, 5, 7, 9, 10, 2, 3, 4, 6, 7, 8, 9, 10, 1, 2, 3, 4, 5, 6, 7, 8, 9, 10, 5, 1, 3, 5, 8, 1, 3, 4, 5, 7, 9, 10, 2, 3, 8, 1, 3, 4, 5, 6, 7, 9, 10, 7, 3, 7, 9, 1, 6, 9, 4, 5, 6, 7, 8, 9, 1, 2, 3, 4, 5, 6, 9, 7, 2, 6, 1, 2, 6, 10, 10, 10, 8, 3, 4, 1, 2, 3, 4, 5, 6, 7, 8, 9, 10, 1, 3, 5, 6, 7, 10, 6, 1, 2, 3, 4, 5, 6, 7, 8, 9, 2, 4, 7, 9, 6, 10, 8, 6, 10, 1, 2, 3, 4, 5, 7, 8, 9, 10, 4, 6, 8, 1, 3, 4, 5, 7, 8, 10, 1, 3, 5, 7, 9, 10, 9, 3, 3, 7, 10, 1, 2, 3, 4, 7, 2, 4, 6, 7, 8, 9, 10, 2, 3, 4, 5, 6, 7, 8, 7, 3, 4, 7, 10, 1, 4, 9, 2, 6, 8, 9, 1, 2, 3, 4, 5, 8, 9, 10, 4, 1, 2, 9, 1, 2, 4, 6, 7, 8, 9, 3, 4, 6, 7, 9, 2, 6, 9, 7, 7, 10, 1, 3, 4, 5, 6, 7, 8, 9, 10, 1, 3, 4, 5, 7, 8, 10, 1, 4, 5, 1, 3, 6, 8, 9, 6, 10, 4, 3, 4, 5, 7, 8, 10, 10, 1, 10, 4, 5, 9, 10, 2, 3, 4, 5, 7, 8, 3, 5, 8, 1, 5, 2, 1, 2, 5, 6, 9, 1, 2, 3, 4, 5, 6, 7, 8, 9, 1, 2, 5, 1, 2, 3, 4, 5, 7, 8, 9, 10, 1, 2, 3, 4, 5, 6, 7, 8, 9, 1, 6, 8, 2, 10, 1, 2, 3, 4, 10, 3, 1, 2, 3, 4, 5, 6, 7, 8, 9, 10, 6, 1, 2, 5, 6, 8, 9, 2, 6, 4, 5, 7, 8, 3, 1, 2, 5, 6, 9, 1, 5, 6, 8, 9, 3, 7, 7, 4, 4, 3, 1, 2, 3, 5, 6, 7, 9, 10, 2, 5, 6, 1, 2, 4, 5, 7, 8, 10, 1, 3, 6, 7, 8, 8, 2, 5, 8, 9, 6, 1, 2, 3, 4, 5, 6, 7, 8, 9, 5, 3, 10, 6, 6, 8, 10, 1, 2, 3, 4, 5, 6, 7, 8, 9, 1, 2, 3, 5, 6, 8, 9, 1, 1, 2, 3, 4, 5, 6, 7, 8, 9, 1, 1, 2, 5, 6, 10, 10, 3, 4, 7, 2, 1, 2, 6, 1, 2, 3, 4, 5, 6, 7, 8, 9, 10, 2, 6, 10, 10, 1, 2, 3, 4, 5, 6, 7, 8, 9, 10, 1, 2, 3, 4, 6, 7, 8, 9, 10, 7, 7, 9, 7, 10, 6, 1, 8, 7, 8, 9, 1, 2, 3, 4, 5, 6, 7, 8, 9, 10, 6, 1, 2, 3, 4, 5, 6, 7, 8, 9, 1, 2, 3, 4, 6, 8, 9, 8, 5, 6, 8, 6, 6, 4, 9, 1, 2, 3, 4, 5, 6, 7, 8, 9, 10, 2, 4, 5, 6, 8, 9, 6, 7, 1, 2, 3, 4, 5, 6, 9, 5, 8, 3, 7, 4, 1, 2, 3, 5, 1, 2, 3, 4, 5, 6, 7, 8, 9, 10, 1, 3, 4, 5, 6, 7, 8, 9, 1, 2, 3, 4, 5, 6, 7, 8, 9, 10, 4, 3, 7, 10, 3, 7, 1, 2, 3, 4, 5, 7, 8, 9, 1, 2, 3, 7, 1, 8, 1, 2, 2, 2, 1, 2, 3, 4, 5, 6, 7, 8, 9, 10, 8, 1, 1, 1, 2, 2, 3, 5, 3, 5, 7, 2, 3, 4, 5, 7, 9, 10, 6, 4, 1, 3, 5, 8, 10, 10, 1, 2, 4, 6, 8, 9, 1, 2, 3, 6, 8, 9, 1, 2, 3, 4, 5, 6, 7, 8, 9, 10, 2, 3, 4, 5, 7, 8, 9, 10, 2, 5, 6, 8, 10, 1, 2, 4, 5, 6, 7, 8, 4, 2, 4, 5, 1, 2, 4, 5, 6, 9, 10, 4, 8, 2, 8, 2, 8, 4, 1, 2, 3, 4, 5, 6, 9, 1, 2, 4, 5, 7, 8, 9, 1, 2, 3, 4, 5, 6, 7, 8, 9, 10, 1, 2, 4, 5, 6, 7, 8, 9, 7, 3, 1, 2, 3, 4, 5, 6, 7, 8, 9, 10, 1, 2, 3, 4, 5, 6, 7, 8, 9, 10, 6, 1, 4, 1, 2, 3, 4, 5, 6, 7, 8, 4, 5, 1, 2, 4, 5, 6, 7, 8, 9, 10, 3, 4, 7, 1, 2, 3, 4, 5, 7, 8, 9, 10, 1, 3, 4, 5, 7, 10, 1, 2, 3, 4, 5, 6, 8, 9, 1, 6, 1, 6, 4, 2, 1, 2, 3, 4, 5, 6, 10, 10, 10, 10, 4, 7, 10, 1, 2, 3, 4, 5, 6, 7, 8, 9, 10, 1, 2, 3, 4, 7, 8, 3, 8, 4, 5, 9, 7, 1, 3, 4, 5, 6, 7, 8, 9, 10, 2, 4, 5, 8, 9, 9, 2, 5, 2, 4, 7, 8, 1, 5, 1, 3, 7, 9, 10, 3, 5, 7, 1, 2, 4, 5, 6, 7, 8, 3, 5, 7, 8, 1, 5, 1, 2, 6, 9, 1, 7, 3, 9, 6, 3, 7, 9, 10, 9, 10, 9, 2, 4, 5, 7, 10, 10, 2, 3, 5, 6, 7, 8, 9, 10, 5, 2, 3, 4, 5, 6, 7, 8, 10, 2, 6, 1, 2, 3, 4, 5, 6, 7, 8, 9, 10, 9, 1, 2, 3, 4, 5, 6, 7, 8, 9, 10, 2, 4, 4, 1, 2, 3, 4, 9, 5, 8, 4, 4, 2, 10, 6, 6, 2, 9, 2, 9, 6, 3, 1, 4, 5, 5, 9, 5, 5, 1, 2, 3, 4, 5, 7, 8, 10, 3, 10, 2, 3, 4, 5, 7, 9, 1, 2, 6, 9, 2, 2, 2, 1, 2, 3, 6, 5, 8, 4, 10, 5, 3, 4, 7, 10, 4, 1, 8, 8, 4, 1, 2, 3, 4, 5, 6, 7, 8, 9, 1, 2, 3, 4, 5, 6, 7, 8, 9, 1, 10, 5, 6, 8, 1, 2, 3, 4, 5, 7, 10, 1, 2, 6, 7, 7, 8, 8, 5, 6, 8, 3, 3, 5, 1, 2, 4, 6, 7, 8, 8, 8, 1, 2, 3, 4, 5, 6, 7, 8, 9, 10, 3, 1, 9, 1, 2, 3, 4, 5, 6, 7, 8, 9, 10, 3, 4, 4, 1, 4, 1, 2, 5, 8, 10, 2, 4, 5, 6, 7, 3, 4, 7, 5, 8, 1, 2, 3, 4, 5, 6, 7, 8, 9, 2, 3, 4, 5, 6, 7, 10, 2, 3, 4, 5, 8, 1, 1, 2, 3, 4, 5, 6, 7, 8, 9, 10, 3, 4, 9, 10, 8, 1, 2, 3, 4, 7, 9, 10, 7, 1, 2, 3, 4, 5, 6, 7, 8, 9, 10, 1, 1, 2, 3, 4, 5, 6, 7, 8, 9, 10, 9, 7, 8, 8, 2, 4, 5, 6, 7, 9, 1, 2, 3, 4, 5, 6, 7, 8, 9, 10, 2, 9, 1, 2, 3, 4, 5, 6, 7, 8, 9, 1, 2, 1, 2, 1, 2, 3, 4, 5, 6, 7, 8, 9, 10, 2, 3, 4, 5, 6, 7, 8, 9, 1, 2, 3, 4, 5, 6, 7, 9, 5, 1, 1, 6, 8, 9, 9, 1, 2, 3, 4, 5, 6, 7, 8, 9, 10, 10, 2, 3, 4, 5, 6, 7, 8, 9, 10, 4, 1, 2, 3, 4, 5, 6, 7, 8, 9, 10, 6, 1, 2, 3, 4, 5, 6, 7, 8, 9, 10, 1, 2, 5, 6, 9, 2, 4, 5, 7, 8, 1, 5, 1, 2, 3, 4, 5, 6, 7, 8, 9, 10, 1, 4, 5, 6, 8, 9, 1, 5, 10, 8, 8, 1, 3, 4, 7, 8, 1, 7, 8, 1, 2, 3, 4, 5, 6, 7, 8, 9, 10, 1, 2, 10, 1, 2, 5, 10, 1, 2, 3, 4, 5, 6, 7, 8, 9, 9, 1, 2, 3, 4, 5, 6, 7, 8, 9, 10, 6, 2, 1, 2, 3, 4, 5, 6, 7, 8, 9, 10, 10, 7, 1, 3, 4, 5, 7, 8, 1, 3, 9, 1, 2, 3, 4, 5, 6, 7, 9, 1, 2, 3, 4, 5, 6, 7, 8, 9, 1, 6, 6, 9, 2, 4, 6, 8, 9, 5, 7, 1, 3, 3, 4, 5, 7, 8, 5, 2, 7, 1, 2, 3, 4, 5, 6, 7, 9, 10, 1, 3, 5, 7, 9, 5, 5, 5, 3, 4, 7, 8, 9, 1, 3, 4, 5, 7, 8, 9, 10, 8, 1, 2, 3, 4, 5, 6, 7, 8, 9, 10, 8, 1, 2, 3, 4, 5, 6, 7, 8, 9, 7, 9, 4, 6, 1, 2, 4, 5, 6, 9, 1, 2, 3, 4, 5, 6, 7, 9, 10, 3, 4, 5, 7, 8, 9, 10, 1, 4, 8, 9, 3, 6, 10, 5, 8, 1, 3, 4, 5, 7, 9, 10, 1, 2, 3, 4, 5, 6, 7, 8, 9, 10, 5, 9, 2, 3, 2, 1, 2, 3, 4, 5, 6, 7, 8, 9, 1, 2, 3, 4, 5, 6, 7, 8, 9, 1, 2, 3, 4, 5, 6, 7, 8, 9, 10, 9, 1, 2, 3, 4, 5, 6, 7, 8, 9, 10, 9, 3, 4, 5, 8, 3, 6, 8, 4, 2, 1, 2, 3, 4, 5, 6, 7, 8, 9, 1, 2, 4, 6, 8, 1, 2, 3, 4, 5, 6, 7, 8, 9, 10, 2, 2, 6, 2, 1, 2, 3, 4, 5, 6, 7, 8, 9, 10, 3, 4, 5, 7, 8, 10, 9, 4, 1, 2, 3, 4, 5, 6, 7, 8, 9, 10, 1, 4, 6, 8, 10, 2, 3, 4, 7, 9, 10, 3, 7, 1, 2, 3, 4, 5, 6, 7, 8, 9, 10, 1, 3, 4, 5, 6, 7, 10, 9, 10, 4, 5, 1, 3, 4, 5, 7, 10, 3, 7, 2, 3, 4, 7, 8, 10, 7, 2, 3, 9, 7, 4, 7, 7, 1, 2, 3, 4, 6, 7, 8, 10, 3, 4, 7, 8, 9, 10, 1, 2, 3, 4, 5, 6, 7, 8, 9, 1, 2, 4, 6, 9, 1, 2, 4, 5, 6, 7, 9, 1, 2, 3, 4, 5, 6, 7, 8, 9, 10, 2, 6, 1, 2, 3, 4, 5, 6, 7, 8, 9, 4, 9, 3, 3, 4, 6, 7, 8, 10, 4, 2, 3, 4, 7, 9, 10, 3, 1, 10, 1, 2, 4, 6, 1, 2, 3, 4, 5, 6, 7, 8, 9, 1, 2, 3, 4, 5, 6, 7, 8, 9, 10, 1, 2, 6, 10, 2, 3, 7, 10, 2, 3, 4, 7, 8, 9, 10, 3, 3, 3, 10, 3, 3, 1, 2, 3, 4, 5, 6, 7, 8, 9], \"Freq\": [0.055964161100184845, 0.05120125377250954, 0.06429924892361663, 0.11311904903228852, 0.09883032704926259, 0.04286616594907775, 0.1940884736027687, 0.009525814655350611, 0.3691253178948362, 0.988951578199428, 0.9960069371736097, 0.9831464248599393, 0.9904054400322719, 0.9891713577419682, 0.05802044783272448, 0.5559168490019183, 0.16731477979669387, 0.06881494975509184, 0.13358196128929592, 0.0148424401432551, 0.9967466466453273, 0.992956526831242, 0.9914527020162749, 0.05974648341975816, 0.9396492392380148, 0.0011082601400108467, 0.7436425539472782, 0.02438172308023863, 0.151831639181486, 0.06760386854066165, 0.011082601400108468, 0.16259760160921718, 0.4585252365379925, 0.0520312325149495, 0.001625976016092172, 0.265034090623024, 0.058535136579318185, 0.9965358195438955, 0.9905150933780176, 0.9627863675414743, 0.02500743811796037, 0.7600459786103164, 0.00261633727576701, 0.06933293780782576, 0.16744558564908865, 0.9785929896385578, 0.015869075507652288, 0.9987076564265179, 0.9916548850899531, 0.9259787513282347, 0.03878445031741297, 0.029088337738059727, 0.009696112579353242, 0.13982845260336021, 0.10475494506911005, 0.029331384619350812, 0.28508864309919285, 0.015674443632563134, 0.15534770372470988, 0.053541416368656246, 0.10056474726634565, 0.11344572569706585, 0.0023278876682024455, 0.9917613898085995, 0.2772694328982843, 0.2012635576520441, 0.05472423017729295, 0.26146021084706633, 0.012768987041368356, 0.06566907621275155, 0.07418173424033045, 0.015201175049248042, 0.0364828201181953, 0.9960365508506795, 0.9950885619032667, 0.9981476270093149, 0.9938844034256477, 0.11208735925985673, 0.7079948388692217, 0.0014188273324032498, 0.04540247463690399, 0.13195094191350223, 0.9798735153043249, 0.02659141281208472, 0.01329570640604236, 0.5059754937855009, 0.04653497242114826, 0.21790185498791645, 0.10784295196012136, 0.0192049092531723, 0.02733006316797596, 0.03619386743867087, 0.9933598101636733, 0.9954441769186045, 0.05385485537158066, 0.018215612846269928, 0.09741392956918267, 0.058606754374955425, 0.058606754374955425, 0.04593502369928939, 0.12909325625834775, 0.12038144141882735, 0.058606754374955425, 0.35876837475479467, 0.1535972683799606, 0.046627742186773756, 0.035656508731062284, 0.11314084501202455, 0.3051374304869753, 0.06719880491623276, 0.1597685871987983, 0.11862646173988028, 0.9825226108888186, 0.006126024619509719, 0.9924159883605744, 0.9893462627511554, 0.7368909191832298, 0.25768578155487176, 0.9789437171166991, 0.9989822606622647, 0.6298415396301771, 0.11567650153910072, 0.005528656323559961, 0.04635565686677198, 0.010632031391461464, 0.10164222010237159, 0.03189609417438439, 0.0399764380318951, 0.018712375248972176, 0.9913212915360097, 0.99295622284287, 0.9992835047548992, 0.9923312390907905, 0.9990328499539078, 0.9897061997259679, 0.060391710507262934, 0.05110067812153018, 0.8826480766446122, 0.996249539484169, 0.9910493797242647, 0.0827410684933098, 0.02420316969532191, 0.17505083198244453, 0.02645462734139837, 0.016885932345573427, 0.028143220575955714, 0.37824488454084476, 0.028706084987474827, 0.020825983226207226, 0.21839139166941632, 0.008520932849922863, 0.07029769601186361, 0.03408373139969145, 0.14272562523620796, 0.04899536388705646, 0.5389490027576211, 0.05112559709953718, 0.038344197824652884, 0.05964652994946004, 0.008520932849922863, 0.9946247996230957, 0.02181264671158647, 0.0050336877026738005, 0.10235164995436727, 0.038591605720499134, 0.773510010310874, 0.053692668828520536, 0.006711583603565067, 0.37489768029025494, 0.05312921217686248, 0.05238091341380808, 0.3367344433744805, 0.15414954518920662, 0.00673468886748961, 0.010476182682761615, 0.0007482987630544011, 0.010476182682761615, 0.0014965975261088023, 0.006385995369639036, 0.9898292822940505, 0.9915330617809885, 0.9814974177111985, 0.990007908670398, 0.009619654765664384, 0.015231120045635276, 0.4513221360890874, 0.11784077087938871, 0.340696106283947, 0.0657343075653733, 0.021517728056269076, 0.2524746758602238, 0.1362789443563708, 0.016257838975847747, 0.14010431823304087, 0.04446997131628942, 0.38875362021659465, 0.005601261662513942, 0.05321198579388244, 0.8877999735084597, 0.047610724131368506, 0.19392976297780562, 0.020201016976854752, 0.7849538025292132, 0.975679965152646, 0.019539536767746817, 0.04220539941833312, 0.05549228442040096, 0.8675554324879586, 0.015631629414197455, 0.21390493356066903, 0.15301615296790433, 0.11489448164026034, 0.04341634790092787, 0.07730227796994474, 0.19219675961020508, 0.09265684003246802, 0.01217775611855294, 0.10059885489239384, 0.992909891022562, 0.2101336044871896, 0.10994332049118781, 0.07270445387320484, 0.014186234902088748, 0.021279352353133125, 0.18885425213405646, 0.05231174120145226, 0.3298299614735634, 0.9793414285971308, 0.018168055858438493, 0.08664765101716819, 0.026553312408487028, 0.10900833515063095, 0.5142957350696434, 0.013975427583414225, 0.01118034206673138, 0.17050021651765354, 0.02795085516682845, 0.020963141375121338, 0.9904964356465688, 0.9915708866084706, 0.9857469042860427, 0.10262737873988644, 0.05789236749429492, 0.7762840186734999, 0.04999795374507288, 0.002631471249740678, 0.007894413749222035, 0.9953382074666665, 0.22031292642605213, 0.2775748764663036, 0.020381372048225085, 0.031057328835390606, 0.4503312681131638, 0.005066685009942835, 0.5816554391414375, 0.005066685009942835, 0.028373436055679876, 0.38000137574571263, 0.9879533761995591, 0.008961028355551558, 0.9884499830299478, 0.006352506317673186, 0.0012705012635346373, 0.0025410025270692746, 0.997575911298375, 0.9993039665622976, 0.9801506044695673, 0.9987429858950172, 0.9877169138608394, 0.026551725240822215, 0.8617241737248664, 0.004827586407422221, 0.10379310775957776, 0.9326398103643646, 0.06431998692168032, 0.6206549364901174, 0.17788001281540586, 0.016940953601467225, 0.08239463797077241, 0.008470476800733612, 0.05390303418648663, 0.014630823564903512, 0.016940953601467225, 0.008470476800733612, 0.993351662071395, 0.9977616109886045, 0.033089414563682404, 0.7397847684594709, 0.09217765485597242, 0.13235765825472962, 0.009972302576445716, 0.01662050429407619, 0.9706374507740496, 0.9970391229705736, 0.9934946469561173, 0.07056561859436475, 0.6703733766464651, 0.07938632091866034, 0.08820702324295593, 0.016538816858054237, 0.006615526743221695, 0.0672578552227539, 0.012006611501798952, 0.6101541663186921, 0.009823591228744596, 0.017464162184434837, 0.32417851054857166, 0.012006611501798952, 0.014189631774853306, 0.9928025725913245, 0.27822944282422357, 0.21316465107245638, 0.01951943752553016, 0.11370846939475508, 0.0074359762002019665, 0.08489406161897245, 0.09635785826095049, 0.13570656565368588, 0.05081250403471344, 0.00030983234167508196, 0.9940776020525212, 0.04525307998410726, 0.2998016548947106, 0.6335431197775017, 0.016969904994040223, 0.03142723032502301, 0.02732802636958523, 0.5902853695830409, 0.24185303337082928, 0.060121658013087505, 0.008198407910875569, 0.04099203955437784, 0.013002161226016204, 0.9664939844672045, 0.017336214968021606, 0.0034588684594476457, 0.08370461671863302, 0.3611058671663342, 0.08993057994563879, 0.0034588684594476457, 0.35280458286365984, 0.004842415843226704, 0.0996154116320922, 0.9965797564475085, 0.9904496484727939, 0.9970011322884301, 0.9793611275622309, 0.01236348006420407, 0.7706569240020537, 0.2184214811342719, 0.2950865487441881, 0.3342078714943646, 0.12183497656483525, 0.1609562993150117, 0.00111775207857647, 0.08494915797181173, 0.0679854208112525, 0.5599526477726796, 0.007416591361227545, 0.009888788481636726, 0.025958069764296408, 0.3114968371715569, 0.01606928128265968, 0.9954424310803254, 0.36239300281266784, 0.6375081096599812, 0.015825329847302477, 0.3718952514116082, 0.6119127540956958, 0.996335789372153, 0.9811192757054478, 0.99252331974797, 0.9914617773921367, 0.9939837814890238, 0.9661615325656366, 0.004469285143117504, 0.017877140572470016, 0.2821236246592924, 0.13798917879375291, 0.04134088757383691, 0.010614552214904071, 0.13743051815086324, 0.05363142171741004, 0.000558660642889688, 0.3134086206611149, 0.0027302683228324276, 0.2921387105430697, 0.2994194260706229, 0.025482504346435987, 0.2611956695509689, 0.11831162732273852, 0.9823681920500867, 0.22761655714699466, 0.19509990612599543, 0.02286327024914009, 0.15292987433313704, 0.085356208930123, 0.04217003179285839, 0.007621090083046696, 0.12803431339518448, 0.13717962149484053, 0.04755714844391534, 0.6621418360268213, 0.13535496095575905, 0.1536461718957265, 0.9839657299606445, 0.991595437534308, 0.9938267670500099, 0.9889158504089876, 0.9962327150725835, 0.02552652666331983, 0.004862195554918063, 0.0692862866575824, 0.057130797770287234, 0.45339973549610935, 0.17017684442213218, 0.006077744443647578, 0.16409909997848462, 0.04983750443791014, 0.9852356282424752, 0.9926403874392395, 0.9924157184508894, 0.06302975436413684, 0.1315403569338508, 0.07673187487807963, 0.6412592400525227, 0.038365937439039814, 0.030144665130674143, 0.019182968719519907, 0.0016027384942761541, 0.022438338919866158, 0.011219169459933079, 0.6378899207219094, 0.04327393934545616, 0.2836847134868793, 0.9928501955697671, 0.9985056975836677, 0.11345126883774499, 0.8305214680301588, 0.05527113097223474, 0.02058495921649836, 0.02058495921649836, 0.8465564477784951, 0.009005919657218033, 0.1029247960824918, 0.04305314470142977, 0.5220193795048359, 0.1224323802446909, 0.16548552494612068, 0.06054348473638561, 0.08341546785902017, 0.0026908215438393606, 0.06778008694337255, 0.024476142507328977, 0.08472510867921569, 0.20710582121586057, 0.0037655603857429196, 0.022593362314457518, 0.5893102003687669, 0.992267588931379, 0.15470176669090696, 0.10362099467032448, 0.7136713576589954, 0.027729561954030493, 0.9954430003906218, 0.17591614135474, 0.8220081514212397, 0.053065261482083126, 0.07347497743673048, 0.08980275020044837, 0.7837330926584585, 0.04985023093804363, 0.07477534640706544, 0.013847286371678785, 0.013847286371678785, 0.7089810622299538, 0.022155658194686057, 0.0387724018407006, 0.0775448036814012, 0.9852689924640705, 0.10619226063514112, 0.015170322947877303, 0.8722935695029449, 0.012972114717364933, 0.043905619043389, 0.012972114717364933, 0.028438866880376966, 0.7004941947377064, 0.005488202380423625, 0.19508064824960342, 0.0055570754162265696, 0.09354410283981393, 0.057423112634341224, 0.6918558893202079, 0.15096721547415515, 0.00604306500333889, 0.9830052405431261, 0.010071775005564816, 0.9895900755532514, 0.9600453542353421, 0.03652346456330106, 0.023682593088315464, 0.04530583025590785, 0.08443359274964644, 0.09370069439290032, 0.03500905065229243, 0.0710477792649464, 0.06486971150277715, 0.013385813484700046, 0.5673525561592097, 0.01566666633728919, 0.1663076888112237, 0.5808717826594915, 0.00964102543833181, 0.19041025240705323, 0.01928205087666362, 0.016871794517080665, 0.32034595588555825, 0.05517920771234496, 0.6238315983034556, 0.1486402875401869, 0.01486402875401869, 0.03270086325884112, 0.011891223003214952, 0.7907663297137943, 0.9868287130557236, 0.9912436740585812, 0.9802272531313012, 0.4227011071200236, 0.37605822633436586, 0.008745540147310833, 0.18948670319173475, 0.0009717266830345371, 0.0019434533660690743, 0.9948934249451743, 0.0036133174008726727, 0.993662285239985, 0.05656661967460056, 0.06640429266148762, 0.853418131612452, 0.022134764220495873, 0.010858354268147343, 0.03257506280444203, 0.6053532504492144, 0.23074002819813105, 0.09501059984628926, 0.024431297103331525, 0.984645083327882, 0.014046292201538973, 0.9944499672500764, 0.9946099173560192, 0.990217270247736, 0.9930771328375974, 0.7961015170493697, 0.09612021157556311, 0.0033924780556081097, 0.10403599370531537, 0.9827379391296719, 0.6630194382657694, 0.04585196668504629, 0.09904024803969999, 0.011921511338112036, 0.07519722536347592, 0.0018340786674018517, 0.08528465803418611, 0.004585196668504629, 0.014672629339214814, 0.9115962315926212, 0.08576846264984339, 0.9858944939011062, 0.00154582430465861, 0.00309164860931722, 0.06956209370963745, 0.09893275549815105, 0.06801626940497883, 0.05719549927236857, 0.02009571596056193, 0.0309164860931722, 0.6523378565659335, 0.4494081600374021, 0.22531635271629968, 0.018368180927959214, 0.04959408850548988, 0.02693999869434018, 0.13225090268130635, 0.020817271718353774, 0.032450452972727944, 0.0453081796222994, 0.9986878358925777, 0.02687654084637474, 0.9716903229073944, 0.8984783286307667, 0.09983092540341852, 0.002739814483282091, 0.012916268278329857, 0.9471930070775229, 0.0003914020690402987, 0.03679179448978808, 0.9945023039707861, 0.23406404909461284, 0.09297089502499307, 0.1784124570021874, 0.17251993548651884, 0.06907344665589274, 0.07660277970369148, 0.06776399743018861, 0.019641738385561918, 0.08806046042860259, 0.0009820869192780958, 0.9852410271113956, 0.023351249181855143, 0.6071324787282337, 0.014010749509113086, 0.13855074514567386, 0.07939424721830748, 0.13543724525475984, 0.9606000079666897, 0.037304854678318046, 0.9764467960689401, 0.9966132186378027, 0.993824059736302, 0.993168741744193, 0.9972710638000523, 0.07099713581033949, 0.12358760678096134, 0.013147617742655462, 0.013147617742655462, 0.7757094468166723, 0.0790682875093718, 0.17970065343039043, 0.02875210454886247, 0.06469223523494055, 0.6469223523494056, 0.8744019552738058, 0.1242489456872193, 0.9922315046513557, 0.9839691138489463, 0.9897923365593815, 0.9977132567933779, 0.08143481436067182, 0.031463451002986836, 0.707002251949469, 0.04997136335768498, 0.003701582470939628, 0.03331424223845665, 0.057374528299564236, 0.03701582470939628, 0.20675705641362055, 0.6881133283765809, 0.10337852820681027, 0.001109821674125712, 0.023306255156639956, 0.08767591225593126, 0.07879733886292556, 0.017757146786011393, 0.001109821674125712, 0.7890832103033814, 0.010047218092325607, 0.0059101282896032985, 0.0005910128289603298, 0.010047218092325607, 0.9733981292976632, 0.994598947641099, 0.153386295375016, 0.03958356009677832, 0.02968767007258374, 0.7768273668992746, 0.9927331364133464, 0.04564371128430904, 0.08080627405148044, 0.038205476852792006, 0.23092336894209683, 0.00405721878082747, 0.16871268096940895, 0.1284785947262032, 0.1920416889591669, 0.11089731334261752, 0.9880811688863492, 0.9964112562134806, 0.9896286314464685, 0.9838495919150319, 0.06513813202454222, 0.8314690970191565, 0.09962302544929985, 0.10037256178776358, 0.23461316589655168, 0.014470890809892294, 0.14101421257299301, 0.012931434340754817, 0.15764034243967776, 0.06650451946673906, 0.13054590858285814, 0.1419378864544755, 0.22407055839678414, 0.03601133974234031, 0.00800251994274229, 0.13804346901230452, 0.0020006299856855725, 0.5741808058917593, 0.018005669871170155, 0.9995688361171984, 0.1896221940980569, 0.016304381824685694, 0.05784705332319992, 0.23898203496457113, 0.012954166381257126, 0.13356192234468553, 0.0634307457289142, 0.19676932037737116, 0.09045581697257131, 0.9924905500697105, 0.16307411008249928, 0.6534328452783073, 0.07272991669184638, 0.032387541026837836, 0.07784373895924182, 0.9955483197338358, 0.7994509888205634, 0.021318693035215025, 0.1781633632228684, 0.993189093537905, 0.20743302075214348, 0.7414627124757469, 0.048548153793054855, 0.19789849168320311, 0.1849569009464269, 0.13966133336771008, 0.25991028063025584, 0.10946428831523224, 0.07711031147329167, 0.009166960105216492, 0.003774630631559732, 0.002156931789462704, 0.01617698842097028, 0.28428069417925805, 0.7156292674805856, 0.9887634200338778, 0.9934803259822333, 0.001631164764924928, 0.02283630670894899, 0.021205141944024064, 0.06850892012684698, 0.10113221542534553, 0.01631164764924928, 0.08482056777609626, 0.06687775536192204, 0.07992707348132147, 0.5350220428953764, 0.1686190880028011, 0.3135857247472907, 0.037386132634105215, 0.08469103515072815, 0.18540469857321568, 0.05264577860720939, 0.060275601593761476, 0.09613576963055627, 0.0007629822986552085, 0.9960029516030878, 0.996458675235266, 0.9774466742364195, 0.9770425388332854, 0.016654134184658276, 0.9861655835519814, 0.9626945456621174, 0.03516692404245178, 0.005651445663286509, 0.07912023928601113, 0.9155341974524145, 0.07325944714877551, 0.12483024218113721, 0.22315213177554646, 0.20917500041163534, 0.016868951646099625, 0.05976428583189581, 0.19086013862444146, 0.027954262727822234, 0.07229550705471267, 0.0019278801881256714, 0.9943130293162471, 0.028667479518708912, 0.015088147115109954, 0.03621155307626389, 0.07393192086403877, 0.2263222067266493, 0.1931282830734074, 0.19840913456369588, 0.08223040177734925, 0.14635502701656655, 0.009825788513486911, 0.02456447128371728, 0.03602789121611868, 0.04094078547286213, 0.168676036148192, 0.6239375706064189, 0.09498262229704015, 0.9888457898805079, 0.981217464160177, 0.013259695461624013, 0.9988379523837236, 0.9977973244219694, 0.996453380347607, 0.07714842773664776, 0.9172090853134789, 0.02300237417631831, 0.02300237417631831, 0.1297745886365421, 0.4387617044378328, 0.014762717754950555, 0.02918211649234412, 0.15483687691820233, 0.12187825123273133, 0.05836423298468824, 0.006523061333582804, 0.02341720252099231, 0.06356097827126485, 0.0301078318127044, 0.07359692220883297, 0.1204313272508176, 0.6857895024004891, 0.9427327170928579, 0.04961751142593989, 0.6436466497381261, 0.059453304995891174, 0.023264336737522633, 0.002584926304169181, 0.12924631520845906, 0.10598197847093643, 0.03489650510628395, 0.057320406675073904, 0.9362333090262072, 0.9952044931108659, 0.9958390755038771, 0.9806722344235352, 0.04842539440307445, 0.006277365941139281, 0.837579969860584, 0.10761198756238767, 0.10585330348616828, 0.10733722830139494, 0.3526794644188691, 0.03215170432991093, 0.20478162450127885, 0.00544105765583108, 0.1286068173196437, 0.04402310285172419, 0.016817814572568795, 0.001978566420302211, 0.0010083031201980099, 0.31559887662197705, 0.41037936992059, 0.024199274884752237, 0.04739024664930646, 0.18451947099623578, 0.004033212480792039, 0.013107940562574126, 0.04777501073929797, 0.05827501309958324, 0.322875072578772, 0.16747503764655003, 0.2682750603052886, 0.007875001770213951, 0.02310000519262759, 0.0047250010621283705, 0.004200000944114107, 0.09502502136058168, 0.9892473996102253, 0.20056638431985846, 0.7888944449914433, 0.008022655372794339, 0.9593614820473998, 0.03501319277545255, 0.09454632011868466, 0.03197890239308451, 0.043101998877635654, 0.46021811704830323, 0.11540212602721804, 0.21829076850931603, 0.02085580590853338, 0.015294257666257811, 0.9400350651623086, 0.027648090151832606, 0.031597817316380124, 0.9940853470200183, 0.9949000641615987, 0.9851960057314479, 0.0029759296599459924, 0.9959444595285921, 0.9972918825947208, 0.9940613156920944, 0.050678292878134495, 0.013596615162426329, 0.03584562179185123, 0.13102192792883552, 0.09394025021312737, 0.003708167771570817, 0.1557430464059743, 0.06180279619284695, 0.009888447390855511, 0.44621618851235495, 0.9880804020910223, 0.9988383929359822, 0.9960082603329037, 0.24968994762717697, 0.7490698428815309, 0.015228850403761878, 0.08375867722069033, 0.8985021738219509, 0.9976696390673893, 0.9849351730402403, 0.9974594699712115, 0.007179319079426034, 0.0031908084797449042, 0.1802806791055871, 0.00797702119936226, 0.2712187207783168, 0.014358638158852069, 0.515315569478802, 0.9838544630533952, 0.9860987805459003, 0.02077333856596066, 0.015274513651441661, 0.013441572013268663, 0.030549027302883322, 0.9201367023628457, 0.985316899339208, 0.06299697036929522, 0.09449545555394283, 0.05249747530774602, 0.6299697036929522, 0.06649680205647829, 0.09099562386675976, 0.06956155551034851, 0.6110850572681248, 0.0026415780573550065, 0.25183044146784395, 0.006163682133828349, 0.05723419124269181, 0.2348833340748625, 0.13400002218108997, 0.06132724127281005, 0.22093138668529821, 0.013491993080018212, 0.11667507652152112, 0.09873685844922418, 0.04906179301824804, 0.0628604223046303, 0.008125859468647332, 0.030960306044933467, 0.03518216596015167, 0.12384122417973387, 0.030960306044933467, 0.014072866384060667, 0.16183796341669768, 0.06895704528189726, 0.5333616359558992, 0.05175692252798617, 0.03881769189598963, 0.2639603048927295, 0.6314344548414313, 0.012939230631996543, 0.08866898374411743, 0.6578001352179874, 0.05361380412435007, 0.15671727359425405, 0.00412413877879616, 0.030931040840971195, 0.00824827755759232, 0.9737182747170421, 0.02592754551838711, 0.012963772759193555, 0.959319184180323, 0.44913040373911717, 0.2998216368124402, 0.0030102573977152628, 0.012643081070404103, 0.22396315039001555, 0.00963282367268884, 0.001204102959086105, 0.9932474304423613, 0.9941915524965688, 0.03952135715695307, 0.9583929110561118, 0.9904140152732465, 0.990044275096866, 0.9771613601372336, 0.5235425720040195, 0.09252942737835392, 0.003954249033262988, 0.09173857757170131, 0.04507843897919806, 0.17794120649683445, 0.064849684145513, 0.16249234225011525, 0.043872932407531116, 0.017874157647512677, 0.07799632428005532, 0.11861940984258414, 0.0016249234225011527, 0.5768478149879092, 0.14699954249209954, 0.07169508936277623, 0.0662810437129556, 0.22197587164264584, 0.01952337673723197, 0.17111665493220962, 0.11287464869929072, 0.07284352328849575, 0.11500745456134127, 0.0014765579044965355, 0.24298247766503353, 0.2891183911457361, 0.07689318913450428, 0.01384077404421077, 0.251440728469829, 0.0023067956740351284, 0.023067956740351284, 0.10073007776620062, 0.9954885895687378, 0.9918653705765696, 0.17691000011065994, 0.11384744486616602, 0.06473678237487872, 0.11607974770667907, 0.11328936915603775, 0.13058971617001397, 0.05748179814321127, 0.08036290225847013, 0.1456577603434771, 0.0011161514202565296, 0.08777127303874273, 0.07859657550856057, 0.14710098373392075, 0.2712652236423861, 0.02721826933954043, 0.08838291954075488, 0.07951404526157878, 0.10856725410715565, 0.11070801686419815, 0.0009174697530182168, 0.9864294080291227, 0.9941193981341793, 0.003335971134678454, 0.08996141392250857, 0.08735383670736341, 0.04041744683475023, 0.10299929999823446, 0.031290926581742116, 0.12255612911182329, 0.016949251898443644, 0.5071737683457368, 0.983739585147351, 0.9913539890092814, 0.002265810791353054, 0.005664526978382635, 0.02756736462812882, 0.047959661750306304, 0.001132905395676527, 0.06382033728977768, 0.023035743045422715, 0.0033987161870295806, 0.8251327631844038, 0.14066095929966319, 0.03486468221957464, 0.8235278386347802, 0.007687587613149656, 0.056009566895804636, 0.32068222614852854, 0.013178721622542267, 0.0010982268018785222, 0.5633903493636819, 0.01866985563193488, 0.016473402028177833, 0.0021964536037570445, 0.029704943954688135, 0.3861642714109458, 0.47070911189736586, 0.017137467666166233, 0.05940988790937627, 0.03655993102115463, 0.3665276800417377, 0.11482371569449128, 0.01751548205509189, 0.08303635937228747, 0.08368508092988347, 0.25365012902003437, 0.05838494018363963, 0.021407811400667866, 0.24241300762249982, 0.7503259759744042, 0.1542629887803405, 0.8414344842564028, 0.9663912356825997, 0.9961945116715678, 0.19834579096660945, 0.00300523925706984, 0.03305763182776824, 0.11119385251158409, 0.6551421580412251, 0.00300523925706984, 0.9907943637473325, 0.9950366321635156, 0.9886845139591198, 0.997322318228345, 0.9765381372358226, 0.9365283683537496, 0.06177998232018738, 0.4592889827670774, 0.10349588842443645, 0.043642844516328626, 0.10931493435994694, 0.015794553253528455, 0.1429822715582576, 0.039902029272071884, 0.03449862947481215, 0.04655236748408387, 0.003740815244256739, 0.023480408848729588, 0.023480408848729588, 0.14870925604195406, 0.05165689946720509, 0.721631231950956, 0.02974185120839081, 0.9913469821903105, 0.9888314622826813, 0.04160988876062523, 0.06934981460104205, 0.880742645433234, 0.9977465954007577, 0.04291384309575045, 0.018068986566631768, 0.5262592337531503, 0.022586233208289713, 0.06775869962486913, 0.18294848898714666, 0.10389667275813268, 0.0316207264916056, 0.004517246641657942, 0.13281661114660492, 0.06461348650375374, 0.10409950603382548, 0.039486019530071734, 0.6569037794548298, 0.9799889332481609, 0.7610543273168688, 0.23611022805312495, 0.9916952340938485, 0.013453869623325388, 0.02018080443498808, 0.9619516780677653, 0.030746053126513188, 0.9685006734851653, 0.020955570061176595, 0.20082421308627568, 0.7666246047380437, 0.003492595010196099, 0.006985190020392198, 0.03644532149777485, 0.021867192898664914, 0.9402892946425913, 0.01642117824355873, 0.09266236294579569, 0.2850247366560551, 0.13488824985780387, 0.42929651693874965, 0.023458826062226757, 0.01759411954667007, 0.0016096450463552682, 0.08048225231776342, 0.9174976764225029, 0.9939579522719812, 0.03342279914531431, 0.9631843026422398, 0.9097624509187955, 0.02552904836761926, 0.06034138705073643, 0.002320822578874478, 0.9960608080613093, 0.9948723170131342, 0.9981625210576852, 0.9981933784082272, 0.9948646191483187, 0.19032337072791985, 0.8075148729456028, 0.9874207642667, 0.006133048225259006, 0.9842302078671722, 0.013300408214421246, 0.9904554710793787, 0.08936493892915812, 0.759601980897844, 0.08298172900564682, 0.06383209923511295, 0.990262494067654, 0.9923647019507262, 0.0021817366866150813, 0.20508324854181761, 0.03708952367245638, 0.01963563017953573, 0.09272380918114095, 0.05454341716537703, 0.004363473373230163, 0.5847054320128418, 0.9967912806645056, 0.252455541697468, 0.006714243130251808, 0.0026856972521007235, 0.47805411087392874, 0.11011358733612965, 0.021485578016805788, 0.08862800931932387, 0.04028545878151085, 0.9937694781450462, 0.0041064854468803565, 0.1148315994988302, 0.04791954788246349, 0.1753154190821835, 0.15895264663451306, 0.05785408829712056, 0.07421686074479102, 0.2296631989976604, 0.039738161658628264, 0.07421686074479102, 0.027466082322875417, 0.9660189707898679, 0.11306665751739804, 0.04252656372296165, 0.09889113627641082, 0.21128276897280948, 0.17550645345984173, 0.049276811932955564, 0.1856318257748326, 0.05872715942694704, 0.040501489259963476, 0.02396338114547839, 0.11462550535656861, 0.8711538407099215, 0.988260860025624, 0.25417634615105983, 0.013147052387123786, 0.18844108421544092, 0.5258820954849514, 0.017529403182831714, 0.9841422009086107, 0.9972409150371443, 0.9813962759591618, 0.9716013466048582, 0.9881536444128698, 0.9956982158884544, 0.9912606638029368, 0.9909157449370629, 0.9938356315018414, 0.979916718140558, 0.058391314535685974, 0.9387526721506437, 0.9757039033743133, 0.9838107991501052, 0.05513371398018279, 0.9234897091680617, 0.9973667841549316, 0.9862387452131093, 0.9701235882039515, 0.9920637099963028, 0.9816987393821488, 0.007196044764360781, 0.06836242526142741, 0.10434264908323132, 0.06716308446736728, 0.0875518779663895, 0.045574950174284944, 0.02158813429308234, 0.5972717154419448, 0.05166564574311868, 0.9472035052905091, 0.08697490510603202, 0.6014535810722214, 0.17394981021206404, 0.061914339228022794, 0.07370754670002713, 0.0029483018680010855, 0.11478760566558413, 0.0031885446018217814, 0.04782816902732672, 0.832210141075485, 0.9916798847477203, 0.9913193344878368, 0.9948964951176357, 0.12021824697467792, 0.05610184858818303, 0.116210972075522, 0.7052803822514438, 0.841622837381803, 0.1526472793290525, 0.04221973625460748, 0.9569806884377695, 0.9923969864694516, 0.2556146858732652, 0.014568712666351902, 0.7204890627723122, 0.009270998969496664, 0.9820075197207886, 0.0598858424784266, 0.9397470665845404, 0.9867729056298343, 0.9804482176647336, 0.3392335349741846, 0.24069747839032266, 0.017349083466902192, 0.07175446171747897, 0.008927198288794333, 0.28364909279867273, 0.008758760585232176, 0.0028634409605566725, 0.02644471945925868, 0.3670613592490875, 0.1913317599665266, 0.023813824201842367, 0.04187948394117105, 0.06240864273586275, 0.28001772595959473, 0.00739049716608901, 0.0008211663517876678, 0.0254561569054177, 0.0067659074725056004, 0.9878224909858178, 0.9880145902033848, 0.9820508838457584, 0.9931886127138163, 0.0026939739870625477, 0.025592752877094203, 0.04175659679946949, 0.43372981191707016, 0.051185505754188405, 0.17780228314612814, 0.26670342471919223, 0.008342943473676702, 0.030590792736814573, 0.01390490578946117, 0.9483145748412518, 0.05558750728889909, 0.9403553316372097, 0.9963331366672046, 0.07950397349649091, 0.003975198674824545, 0.9103204965348209, 0.9928761530556272, 0.9897079342496921, 0.9920222681929981, 0.038345289350565005, 0.046014347220678, 0.003408470164494667, 0.036641054268317666, 0.042605877056183336, 0.8316667201366987, 0.9988377626674051, 0.9966516468867314, 0.3138435523373915, 0.06613718838523563, 0.07846088808434787, 0.020539499498520384, 0.060796918515620336, 0.1930712952860916, 0.043132948946892805, 0.14131175654982026, 0.07969325805425909, 0.0028755299297928538, 0.9958263642423756, 0.9919189679351772, 0.978940828348449, 0.19584860660410675, 0.043031524831324865, 0.10702712586252594, 0.4562445004552008, 0.04799670077340081, 0.06123716995227, 0.022619134847234865, 0.05075513185233189, 0.012688782963082972, 0.003310117294717297, 0.9588173744122583, 0.03791933119144524, 0.9919666941625699, 0.9920717978906867, 0.9887250768152266, 0.010791287496718717, 0.9051192387872824, 0.012140198433808556, 0.059352081231952944, 0.012140198433808556, 0.03839960531224896, 0.5208561848764025, 0.06498394745149824, 0.03544578951899904, 0.3377196056949075, 0.11130487127115012, 0.6250196617533814, 0.2625653373575849, 0.9770628369688118, 0.020899739828209876, 0.10389175944750911, 0.03400661195128677, 0.19031223202096265, 0.06458136398088404, 0.025894943045475245, 0.15724158186650028, 0.2998197622494182, 0.004367821718513897, 0.1204270845247403, 0.008363420092169184, 0.6752361274414488, 0.017167020189189378, 0.25398386279903257, 0.012325040135828271, 0.027291160300762597, 0.005282160058212116, 0.00602427223312237, 0.08032362977496493, 0.20281716518178644, 0.6747184901097054, 0.038153724143108345, 0.9961012309220151, 0.1882921984903575, 0.1187059512221819, 0.23577457897923026, 0.0040933086628338585, 0.27179569521216823, 0.07204223246587592, 0.05075702741913985, 0.0057306321279674026, 0.015554572918768663, 0.038477101430638275, 0.9976156544077637, 0.9490406495728083, 0.03329967191483538, 0.997818754184414, 0.9874398883006287, 0.012186665146938131, 0.6075923051830582, 0.03307809111311778, 0.01131618906501398, 0.06093332573469065, 0.006963808655393217, 0.2681066332326389, 0.9969968089490912, 0.349462911354863, 0.11738271226628769, 0.0824747814942871, 0.24550632630857555, 0.023016218091428956, 0.03260630896285769, 0.07365189789257266, 0.007288469062285837, 0.06828144700457257, 0.00038360363485714927, 0.9949172839508084, 0.013298937603808745, 0.014081228051091611, 0.37784628603762493, 0.09231027277937834, 0.007822904472828672, 0.019557261182071684, 0.005476033130980071, 0.029727036996748956, 0.05319575041523498, 0.38645148095773646, 0.9933242343835094, 0.9840302857442598, 0.01343386055623563, 0.9924969816665122, 0.004641741366497653, 0.0990238158186166, 0.2599375165238686, 0.4456071711837747, 0.1887641489042379, 0.0015472471221658845, 0.3412345855976158, 0.05303646051810452, 0.18312589197760615, 0.27268746209780154, 0.021014446620381034, 0.03652510960209085, 0.04403026910936979, 0.01601100694886174, 0.03302270183202734, 0.0005003439671519294, 0.04016427255497107, 0.9559096868083115, 0.5192606608533468, 0.07077733778341817, 0.03947197684075244, 0.05512465731208531, 0.01973598842037622, 0.15244349676428529, 0.03470811756686853, 0.044916387439476915, 0.06329127321017201, 0.9687130786875803, 0.030313470489543328, 0.8587638323428156, 0.13770265533193837, 0.11643671862703923, 0.030063578989768327, 0.11691391829354349, 0.4447500891819695, 0.01192999166260648, 0.04581116798440888, 0.11405072029451793, 0.06823955231010906, 0.0443795689848961, 0.007157994997563887, 0.3134018819094867, 0.05170603438910724, 0.035877656514890735, 0.396764672047027, 0.05276125958072167, 0.055926935155564975, 0.07703143898785364, 0.016883603065830935, 0.038773279485742815, 0.13798725934632003, 0.057019528655504144, 0.053598356936173895, 0.6511630172458573, 0.011403905731100828, 0.03649249833952265, 0.014825077450431077, 0.9911507192394501, 0.9910869669239178, 0.9939121779941115, 0.9915061008612153, 0.017917539453410725, 0.9809852850742372, 0.9931033455898064, 0.23072797645218357, 0.2759188352883354, 0.026414375235215497, 0.08338031700754772, 0.00763789163427918, 0.1664423885303338, 0.048691559168529776, 0.0763789163427918, 0.0782883892513616, 0.0060466642104710176, 0.9959288940567467, 0.10230490013021326, 0.043844957198662826, 0.0020878551046982297, 0.04802066740805929, 0.033405681675171675, 0.022966406151680527, 0.15032556753827256, 0.599214415048392, 0.9941693452175672, 0.9886766763305881, 0.013387829935383575, 0.03976973010216885, 0.3264267946009701, 0.037407171878277634, 0.018506706087147884, 0.040951009214114466, 0.22956190742143012, 0.2248367909736477, 0.06221403322913544, 0.006693914967691787, 0.9708462985299665, 0.01679551980309839, 0.03778991955697138, 0.0745301191262491, 0.08397759901549195, 0.03359103960619678, 0.01679551980309839, 0.182651277858695, 0.05143627939698882, 0.054060579366222945, 0.4482304347451883, 0.005735066341330882, 0.0688207960959706, 0.2007273219465809, 0.564904034621092, 0.15771432438659927, 0.0022491428521933038, 0.2530285708717467, 0.09446399979211877, 0.6477531414316715, 0.0022491428521933038, 0.9963114177326128, 0.9965214744938578, 0.3157010552462576, 0.3267907036741904, 0.009673948628622243, 0.07786348896208146, 0.02335904668862444, 0.09107668708898013, 0.02831399598621144, 0.0757399392631156, 0.051201142741732354, 0.00047189993310352404, 0.28682538013142617, 0.043647340454782246, 0.616051033847498, 0.013717735571502992, 0.0386590729742357, 0.0012470668701366357, 0.29903729325643597, 0.6915237406555081, 0.008009927497940248, 0.9975095411733801, 0.9913424654505953, 0.08639425089797345, 0.03455770035918938, 0.7153443974352202, 0.0034557700359189383, 0.15896542165227115, 0.9966940994744137, 0.9992539467996641, 0.9992165478691565, 0.13831046669015715, 0.12303691822130544, 0.04582064540655513, 0.07891333375573384, 0.06024566340491508, 0.032244157878686945, 0.13321928386720658, 0.2995312560835919, 0.05939713293442332, 0.028850035996719897, 0.06292220776509412, 0.07865275970636765, 0.85574202560528, 0.020929677110351257, 0.32440999521044445, 0.005232419277587814, 0.647075850661693, 0.1496844547780759, 0.1342408205549411, 0.02554139506133835, 0.23046654148370418, 0.0035639155899541883, 0.12117313005844241, 0.06533845248249345, 0.10157159431369436, 0.16928599052282395, 0.9878822628344827, 0.003239503590838878, 0.08530692789209046, 0.002159669060559252, 0.41681612868793566, 0.05831106463509981, 0.09070610054348859, 0.3088326756599731, 0.029155532317549904, 0.001079834530279626, 0.005399172651398131, 0.9842132665661373, 0.9958225041761338, 0.06098084307764825, 0.1200359753212655, 0.3305803598419879, 0.26125476981687196, 0.07767033697258356, 0.010912361392842318, 0.06611607196839758, 0.06354845752302292, 0.0019257108340309974, 0.006419036113436658, 0.9957736882255509, 0.9864321743296055, 0.0021852805571755474, 0.06774369727244196, 0.006555841671526642, 0.17263716401686824, 0.1442285167735861, 0.603137433780451, 0.00868900671801433, 0.9843403324836234, 0.006206433370010236, 0.03763583926987878, 0.060217342831806055, 0.04641753509951717, 0.31112293796433127, 0.37259480877179996, 0.09910771007734746, 0.06523545473445656, 0.0062726398783131306, 0.12888936382817498, 0.09493801921002157, 0.3998713921693624, 0.025777872765634997, 0.06853141784034669, 0.016975672309076706, 0.21502518258163827, 0.028921515785834385, 0.019490586725236216, 0.07886774380709528, 0.9157421364268286, 0.9940758584189835, 0.9763942020897625, 0.2670883925148602, 0.015262193857992015, 0.5494389788877125, 0.13481604574559614, 0.03052438771598403, 0.9930225272754913, 0.9952697708504201, 0.9885149027331405, 0.010803441559925032, 0.47385406580194095, 0.11992602899925667, 0.08190070273119968, 0.3232152732784844, 0.0007312562743857113, 0.9883066251086282, 0.9948654739418444, 0.9956816014282508, 0.13710838570059425, 0.13290260699812204, 0.41300746858277165, 0.039534319803238835, 0.18168963994679976, 0.026916983695822187, 0.02775813943631663, 0.040375475543733275, 0.0008411557404944433, 0.004263346002727955, 0.09166193905865104, 0.859064219549683, 0.02913286435197436, 0.014921711009547844, 0.9835911784620809, 0.9891517738846926, 0.9926047497380466, 0.011240094867071747, 0.00843007115030381, 0.6378753837063216, 0.022480189734143494, 0.3189376918531608, 0.164035979160861, 0.04762334878863707, 0.07584459251523681, 0.08642755891271171, 0.08995521437853668, 0.495635592948408, 0.014110621863299871, 0.02645741599368726, 0.9917506789201581, 0.07739676349263412, 0.2185640997221569, 0.12972133599469662, 0.09047790661814974, 0.03106771492309961, 0.14280247912021224, 0.022892000469652344, 0.17877562271538022, 0.10083381159251628, 0.007630666823217448, 0.9898065417715421, 0.16135612678132288, 0.4139526260880178, 0.021574078232600276, 0.104274711457568, 0.07865549355635518, 0.11416283064750979, 0.050788975839246485, 0.026068677864392, 0.028315977680287863, 0.9938741526697421, 0.9879375402555352, 0.9878234382219808, 0.9924320139064284, 0.2452772292930219, 0.01791350551016452, 0.0013779619623203478, 0.4960663064353252, 0.17500116921468417, 0.063386250266736, 0.13913399899280804, 0.012519214633299702, 0.1820976673934502, 0.01820976673934502, 0.1815286121828457, 0.01678712871283369, 0.3155411142802129, 0.050930441349105605, 0.08308206074826166, 0.016578917907187476, 0.043885370930790375, 0.03608352720976098, 0.04193491000053303, 0.0068266132559007256, 0.02535599209334555, 0.8289458953593738, 0.066759354116427, 0.066759354116427, 0.022253118038809, 0.8382007794618057, 0.019667975580095906, 0.8948928888943638, 0.07867190232038362, 0.017594757188482, 0.9815360974431745, 0.024472005583417916, 0.03181360725844329, 0.12358362819626047, 0.4404961005015225, 0.11134762540455151, 0.0036708008375126873, 0.2642976603009135, 0.22957742070402082, 0.23702317488901609, 0.0330922408222012, 0.20517189309764744, 0.001240959030832545, 0.11789110792909177, 0.07859407195272786, 0.03185128179136865, 0.06246160455190476, 0.00330922408222012, 0.06640552116416716, 0.9186097094376456, 0.9844019307367419, 0.01480303655243221, 0.9940975618691369, 0.020062094817576856, 0.02782806700502596, 0.1488478002594412, 0.4769601251791659, 0.005824479140586829, 0.02718090265607187, 0.22456602908706996, 0.05565613401005192, 0.013590451328035935, 0.30404395375419, 0.040642610144692747, 0.0384708676178771, 0.13371728986536316, 0.018614935944134083, 0.23454819289608944, 0.07197775231731846, 0.020166180606145258, 0.13806077491899446, 0.29188808000576344, 0.0962609625550922, 0.00552034193864328, 0.16975051461328086, 0.007072938108886703, 0.22305631645830504, 0.05123567361803295, 0.11609969139709149, 0.03881490425608557, 0.0001725106855826025, 0.9653177147443552, 0.17379142116273763, 0.12345039652305041, 0.07603374675869772, 0.1278369588360522, 0.059740801024691065, 0.13619231562272227, 0.07854035379469874, 0.11363285229871307, 0.10799298646771076, 0.0027154909556677755, 0.9952749075918819, 0.030681191656719824, 0.6068057905440143, 0.15340595828359913, 0.2079502990066566, 0.9943462371954727, 0.015395844648625192, 0.981485096349856, 0.975947996498712, 0.9957026311857023, 0.5408307482914875, 0.0766238886850388, 0.06472114869512986, 0.09299015617116359, 0.002975684997477235, 0.10117328991422599, 0.06025762119891401, 0.045379196211527834, 0.014878424987386174, 0.8498660068136356, 0.10322259192068448, 0.02752602451218253, 0.010322259192068448, 0.00860188266005704, 0.19090613192032893, 0.10585960322649818, 0.16112190457185654, 0.1521507517560516, 0.0061003839147473525, 0.13456729223707395, 0.12128998606968265, 0.02440153565898941, 0.1033476804380728, 0.0003588461126321972, 0.9963105226560655, 0.9820688792469662, 0.012550401012740782, 0.9976210123552886, 0.17394623581367513, 0.0849023293852462, 0.036238799127848983, 0.060052867126149746, 0.01553091391193528, 0.1397782252074175, 0.1408136194682132, 0.0631590499085368, 0.2857688159796091, 0.990689417539375, 0.006337363107224615, 0.10298215049239999, 0.0015843407768061537, 0.023765111652092306, 0.07129533495627692, 0.7953390699566891, 0.9793296591149341, 0.9793419805505823, 0.04783840268180968, 0.053740543272422565, 0.04908095859562292, 0.3879880840881837, 0.11369386611391132, 0.046285207789543134, 0.1422726521316158, 0.14724287578686876, 0.0027957508060797863, 0.009629808332052597, 0.009860039482803522, 0.8775435139695136, 0.07888031586242818, 0.019720078965607044, 0.009860039482803522, 0.004851707950960614, 0.8563264533445485, 0.012129269877401537, 0.09460830504373198, 0.014555123852881843, 0.01698097782836215, 0.003252486888257047, 0.9920085009183994, 0.09636551648456927, 0.03778207474505139, 0.28379007828165004, 0.07386607871504429, 0.0948797045563931, 0.06367765406469335, 0.2143814353511343, 0.00042451769376462237, 0.06006925366769406, 0.07450285525569122, 0.03257231103520949, 0.70146798407969, 0.0023265936453721065, 0.11051319815517505, 0.04536857608475607, 0.05816484113430266, 0.048858466552814235, 0.98723929323846, 0.9962070049888009, 0.9858824652827828, 0.9853700429420306, 0.0807611950928745, 0.6738783590545226, 0.059919596359229464, 0.012157599261292935, 0.17107478960533629, 0.0026051998417056287, 0.01653097891745439, 0.9753277561298088, 0.034721312875286965, 0.08223468838883755, 0.0054823125592558366, 0.8662053843624221, 0.009137187598759727, 0.0018274375197519454, 0.9923126279226452, 0.9954307669571647, 0.9950101816347036, 0.9742249773199794, 0.9900946601157871, 0.007998848870400432, 0.983858411059253, 0.9891222720598047, 0.04419675795295861, 0.03909713203530954, 0.008499376529415117, 0.14108965038829097, 0.07649438876473606, 0.11899127141181165, 0.5575591003296317, 0.011899127141181165, 0.002902356775560985, 0.005224242196009772, 0.12073804186333696, 0.025540739624936665, 0.0388915807925172, 0.8062747122508416, 0.16093480212700834, 0.14327122628380012, 0.08635525967790691, 0.23859846099317789, 0.007570103932803529, 0.13990673564699854, 0.12504690200112495, 0.029158918852280256, 0.06869168383469869, 0.06799766009114654, 0.8576977579678711, 0.035544231411281144, 0.035544231411281144, 0.0030908027314157514, 0.0345071423027953, 0.1782869018977757, 0.011502380767598432, 0.03738273749469491, 0.005751190383799216, 0.002875595191899608, 0.7304011787425004, 0.28957828319703877, 0.11938216749137961, 0.1031584370374229, 0.0704048680077367, 0.037651298978050494, 0.13468757358001804, 0.08111865226978358, 0.07744535480851036, 0.08509805785282958, 0.0018366487306366096, 0.7657837220136169, 0.23381071624505392, 0.14692866188070947, 0.023037595068403922, 0.06962473176228741, 0.14078530319580176, 0.04044377800897578, 0.1868604933326096, 0.08703091470285927, 0.20785030217271094, 0.09726984584437212, 0.03583114276055822, 0.9602746259829602, 0.9986865326823824, 0.12802035342451235, 0.05964584648187508, 0.10110698367049556, 0.015275155806333861, 0.6946558950023256, 0.0007273883717301839, 0.9821595693470194, 0.02103902364785706, 0.749754297269088, 0.01482294847917202, 0.20513048056660635, 0.0076505540537662045, 0.0014344788850811634, 0.995842473585311, 0.011274195263659135, 0.9808549879383447, 0.1438271559533107, 0.2909231109055603, 0.03759118848779711, 0.5262766388291595, 0.6269272986421943, 0.06717078199737796, 0.05197739083130437, 0.1015558251627024, 0.035184695331959885, 0.05517599949784618, 0.021590608499157202, 0.039182956165137145, 0.0015993043332709039, 0.09501906829025522, 0.10788908618547711, 0.14786829071106, 0.12514038676843411, 0.10734142584951022, 0.07092201350771211, 0.23741075564164635, 0.0060242636956357775, 0.09255459677840422, 0.009857886047404, 0.9968159965864648, 0.08726264890152882, 0.03926819200568797, 0.8726264890152883, 0.003930256878734718, 0.9697253805464795, 0.00655042813122453, 0.019651284393673592, 0.023794104574591114, 0.03172547276612148, 0.7217545054292638, 0.15069599563907707, 0.01586273638306074, 0.0277597886703563, 0.0277597886703563, 0.99473275712125, 0.9914986057672851, 0.9835046977143748, 0.012983560365866334, 0.9979564042361491, 0.98414333230255, 0.020114509472482056, 0.11752620534635944, 0.03735551759175239, 0.09769904600919856, 0.1997083440482147, 0.18591553755279844, 0.007471103518350478, 0.32614240358953045, 0.008333153924313995], \"Term\": [\"a\", \"a\", \"a\", \"a\", \"a\", \"a\", \"a\", \"a\", \"a\", \"abortion\", \"adapter\", \"adl\", \"aerospace\", \"alomar\", \"american\", \"american\", \"american\", \"american\", \"american\", \"american\", \"amp\", \"anonymous_ftp\", \"apartment\", \"apple\", \"apple\", \"application\", \"application\", \"application\", \"application\", \"application\", \"application\", \"april\", \"april\", \"april\", \"april\", \"april\", \"april\", \"arab\", \"arabs\", \"architecture\", \"architecture\", \"argument\", \"argument\", \"argument\", \"argument\", \"armenia\", \"armenia\", \"armenian\", \"armenians\", \"army\", \"army\", \"army\", \"army\", \"article\", \"article\", \"article\", \"article\", \"article\", \"article\", \"article\", \"article\", \"article\", \"article\", \"ascii\", \"ask\", \"ask\", \"ask\", \"ask\", \"ask\", \"ask\", \"ask\", \"ask\", \"ask\", \"astronomy\", \"atheism\", \"atheist\", \"atmosphere\", \"attack\", \"attack\", \"attack\", \"attack\", \"attack\", \"attendance\", \"available\", \"available\", \"available\", \"available\", \"available\", \"available\", \"available\", \"available\", \"available\", \"azerbaijan\", \"azerbaijani\", \"b\", \"b\", \"b\", \"b\", \"b\", \"b\", \"b\", \"b\", \"b\", \"b\", \"bad\", \"bad\", \"bad\", \"bad\", \"bad\", \"bad\", \"bad\", \"bad\", \"baerga\", \"baseball\", \"baseball\", \"batf\", \"battery\", \"battery\", \"beep\", \"belief\", \"believe\", \"believe\", \"believe\", \"believe\", \"believe\", \"believe\", \"believe\", \"believe\", \"believe\", \"believer\", \"best_offer\", \"bible\", \"biblical\", \"bike\", \"biker\", \"billion\", \"billion\", \"billion\", \"binary\", \"bio\", \"bit\", \"bit\", \"bit\", \"bit\", \"bit\", \"bit\", \"bit\", \"bit\", \"bit\", \"bit\", \"black\", \"black\", \"black\", \"black\", \"black\", \"black\", \"black\", \"black\", \"black\", \"black\", \"bmw\", \"board\", \"board\", \"board\", \"board\", \"board\", \"board\", \"board\", \"book\", \"book\", \"book\", \"book\", \"book\", \"book\", \"book\", \"book\", \"book\", \"book\", \"bos\", \"bos\", \"brake\", \"breaker\", \"bruin\", \"buy\", \"buy\", \"buy\", \"buy\", \"buy\", \"buy\", \"c\", \"c\", \"c\", \"c\", \"c\", \"c\", \"c\", \"cable\", \"cable\", \"cable\", \"cable\", \"car\", \"car\", \"car\", \"carb\", \"card\", \"card\", \"card\", \"card\", \"card\", \"case\", \"case\", \"case\", \"case\", \"case\", \"case\", \"case\", \"case\", \"case\", \"catholic\", \"cause\", \"cause\", \"cause\", \"cause\", \"cause\", \"cause\", \"cause\", \"cause\", \"cdc\", \"center\", \"center\", \"center\", \"center\", \"center\", \"center\", \"center\", \"center\", \"center\", \"center\", \"center_policy\", \"centris\", \"char\", \"character\", \"character\", \"character\", \"character\", \"character\", \"character\", \"chi\", \"child\", \"child\", \"child\", \"child\", \"child\", \"chip\", \"chip\", \"chip\", \"chip\", \"chip\", \"christ\", \"christ\", \"christian\", \"christian\", \"christian\", \"christian\", \"christianity\", \"christians\", \"chrysler\", \"church\", \"cipher\", \"citizen\", \"citizen\", \"citizen\", \"citizen\", \"civilian\", \"civilian\", \"claim\", \"claim\", \"claim\", \"claim\", \"claim\", \"claim\", \"claim\", \"claim\", \"claim\", \"clh\", \"client\", \"clinton\", \"clinton\", \"clinton\", \"clinton\", \"clipper\", \"clipper\", \"clipper\", \"clipper_chip\", \"coach\", \"code\", \"code\", \"code\", \"code\", \"code\", \"code\", \"code\", \"color\", \"color\", \"color\", \"color\", \"color\", \"color\", \"color\", \"colormap\", \"come\", \"come\", \"come\", \"come\", \"come\", \"come\", \"come\", \"come\", \"come\", \"come\", \"comet\", \"commercial\", \"commercial\", \"commercial\", \"commercial\", \"company\", \"company\", \"company\", \"company\", \"company\", \"company\", \"company\", \"compile\", \"compile\", \"compile\", \"computer\", \"computer\", \"computer\", \"computer\", \"computer\", \"computer\", \"computer\", \"computer\", \"connector\", \"contrib\", \"controller\", \"cooling_tower\", \"cop\", \"cop\", \"cop\", \"cost\", \"cost\", \"cost\", \"cost\", \"cost\", \"cost\", \"country\", \"country\", \"country\", \"country\", \"country\", \"country\", \"country\", \"cpu\", \"crime\", \"crime\", \"criminal\", \"criminal\", \"criminal\", \"crypto\", \"cryptographic\", \"cryptography\", \"cub\", \"cursor\", \"cview\", \"d\", \"d\", \"d\", \"d\", \"d\", \"d\", \"d\", \"d\", \"d\", \"d\", \"datum\", \"datum\", \"datum\", \"datum\", \"datum\", \"datum\", \"david_veal\", \"day\", \"day\", \"day\", \"day\", \"day\", \"day\", \"day\", \"day\", \"day\", \"dealer\", \"dealer\", \"dealer\", \"dealer\", \"death_penalty\", \"decrypt\", \"defenseman\", \"deficit\", \"des\", \"design\", \"design\", \"design\", \"design\", \"design\", \"design\", \"design\", \"design\", \"design\", \"deskjet\", \"det\", \"detroit\", \"development\", \"development\", \"development\", \"development\", \"development\", \"development\", \"development\", \"device\", \"device\", \"device\", \"device\", \"device\", \"device\", \"diet\", \"directory\", \"disk\", \"disk\", \"disk\", \"display\", \"display\", \"display\", \"display\", \"display\", \"distribution_usa\", \"distribution_usa\", \"distribution_usa\", \"distribution_usa\", \"distribution_usa\", \"distribution_usa\", \"distribution_usa\", \"division\", \"division\", \"division\", \"division\", \"division\", \"division\", \"division\", \"dma\", \"do\", \"do\", \"do\", \"do\", \"doctrine\", \"dod\", \"dod\", \"dog\", \"dog\", \"dog\", \"dog\", \"dr\", \"dr\", \"dr\", \"dr\", \"dr\", \"dr\", \"dr\", \"dr\", \"dram\", \"drink\", \"drink\", \"drink\", \"drive\", \"drive\", \"drive\", \"drive\", \"drive\", \"drive\", \"drive\", \"driver\", \"driver\", \"driver\", \"driver\", \"driver\", \"drug\", \"drug\", \"drug\", \"duo\", \"dx\", \"dx\", \"e\", \"e\", \"e\", \"e\", \"e\", \"e\", \"e\", \"e\", \"e\", \"e_mail\", \"e_mail\", \"e_mail\", \"e_mail\", \"e_mail\", \"e_mail\", \"e_mail\", \"earth\", \"earth\", \"earth\", \"eat\", \"eat\", \"eat\", \"eat\", \"eat\", \"edm\", \"eff\", \"egg\", \"email\", \"email\", \"email\", \"email\", \"email\", \"email\", \"encrypt\", \"encryption\", \"encryption\", \"engine\", \"engine\", \"engine\", \"engine\", \"engineering\", \"engineering\", \"engineering\", \"engineering\", \"engineering\", \"engineering\", \"entry\", \"entry\", \"espn\", \"eternal\", \"ether\", \"ethnic\", \"evidence\", \"evidence\", \"evidence\", \"evidence\", \"exhaust\", \"exist\", \"exist\", \"exist\", \"exist\", \"exist\", \"exist\", \"exist\", \"exist\", \"exist\", \"existence\", \"existence\", \"exploration\", \"f\", \"f\", \"f\", \"f\", \"f\", \"f\", \"f\", \"f\", \"f\", \"fact\", \"fact\", \"fact\", \"fact\", \"fact\", \"fact\", \"fact\", \"fact\", \"fact\", \"faith\", \"fan\", \"fan\", \"fbi\", \"fbi\", \"file\", \"file\", \"file\", \"file\", \"file\", \"filename\", \"find\", \"find\", \"find\", \"find\", \"find\", \"find\", \"find\", \"find\", \"find\", \"find\", \"finnish\", \"fire\", \"fire\", \"fire\", \"fire\", \"fire\", \"fire\", \"firearm\", \"firearm\", \"fleet\", \"flight\", \"floppy\", \"flyer\", \"font\", \"food\", \"food\", \"food\", \"food\", \"food\", \"foot\", \"foot\", \"foot\", \"foot\", \"foot\", \"format\", \"format\", \"forsale\", \"fps\", \"fpu\", \"ftp\", \"function\", \"function\", \"function\", \"function\", \"function\", \"function\", \"function\", \"function\", \"fund\", \"fund\", \"fund\", \"g\", \"g\", \"g\", \"g\", \"g\", \"g\", \"g\", \"game\", \"game\", \"game\", \"game\", \"game\", \"games\", \"gas\", \"gas\", \"gas\", \"gas\", \"gay\", \"get\", \"get\", \"get\", \"get\", \"get\", \"get\", \"get\", \"get\", \"get\", \"gfci\", \"gif\", \"giz\", \"glock\", \"gm\", \"gm\", \"gm\", \"go\", \"go\", \"go\", \"go\", \"go\", \"go\", \"go\", \"go\", \"go\", \"goal\", \"goal\", \"goal\", \"goal\", \"goal\", \"goal\", \"goal\", \"god\", \"good\", \"good\", \"good\", \"good\", \"good\", \"good\", \"good\", \"good\", \"good\", \"gospel\", \"government\", \"government\", \"government\", \"government\", \"government\", \"gr\", \"graphic\", \"graphic\", \"graphic\", \"greece\", \"greek\", \"greek\", \"greek\", \"group\", \"group\", \"group\", \"group\", \"group\", \"group\", \"group\", \"group\", \"group\", \"group\", \"gun\", \"gun\", \"gv\", \"gv_gv_gv_gv\", \"h\", \"h\", \"h\", \"h\", \"h\", \"h\", \"h\", \"h\", \"h\", \"h\", \"happen\", \"happen\", \"happen\", \"happen\", \"happen\", \"happen\", \"happen\", \"happen\", \"happen\", \"hard_disk\", \"hard_drive\", \"harley\", \"hd\", \"hd\", \"health_insurance\", \"heaven\", \"heaven\", \"helmet\", \"helmet\", \"helmet\", \"help\", \"help\", \"help\", \"help\", \"help\", \"help\", \"help\", \"help\", \"help\", \"help\", \"henrik\", \"high\", \"high\", \"high\", \"high\", \"high\", \"high\", \"high\", \"high\", \"high\", \"hit\", \"hit\", \"hit\", \"hit\", \"hit\", \"hit\", \"hit\", \"hitter\", \"hiv\", \"hiv\", \"hockey\", \"homosexual\", \"homosexuality\", \"honda\", \"honda\", \"host\", \"host\", \"host\", \"host\", \"host\", \"host\", \"host\", \"host\", \"host\", \"host\", \"hot\", \"hot\", \"hot\", \"hot\", \"hot\", \"hot\", \"hudson\", \"hudson\", \"human\", \"human\", \"human\", \"human\", \"human\", \"human\", \"human\", \"ice\", \"ice\", \"icon\", \"ide\", \"ihl\", \"image\", \"image\", \"image\", \"image\", \"include\", \"include\", \"include\", \"include\", \"include\", \"include\", \"include\", \"include\", \"include\", \"include\", \"info\", \"info\", \"info\", \"info\", \"info\", \"info\", \"info\", \"info\", \"information\", \"information\", \"information\", \"information\", \"information\", \"information\", \"information\", \"information\", \"information\", \"information\", \"ink\", \"instal\", \"instal\", \"instal\", \"int\", \"int\", \"interested\", \"interested\", \"interested\", \"interested\", \"interested\", \"interested\", \"interested\", \"interested\", \"interpretation\", \"interpretation\", \"interpretation\", \"irq\", \"islam\", \"islander\", \"israel\", \"israel\", \"israeli\", \"israelis\", \"j\", \"j\", \"j\", \"j\", \"j\", \"j\", \"j\", \"j\", \"j\", \"j\", \"jagr\", \"jesus\", \"jesus_christ\", \"jews\", \"jews\", \"journal\", \"journal\", \"journal\", \"jpeg\", \"jpl\", \"jumper\", \"k\", \"k\", \"k\", \"k\", \"k\", \"k\", \"k\", \"keith_keller\", \"kermit\", \"key\", \"key\", \"key\", \"key\", \"key\", \"key_escrow\", \"kid\", \"kid\", \"kid\", \"kid\", \"kid\", \"kid\", \"kill\", \"kill\", \"kill\", \"kill\", \"kill\", \"kill\", \"know\", \"know\", \"know\", \"know\", \"know\", \"know\", \"know\", \"know\", \"know\", \"know\", \"l\", \"l\", \"l\", \"l\", \"l\", \"l\", \"l\", \"l\", \"la\", \"la\", \"la\", \"la\", \"la\", \"land\", \"land\", \"land\", \"land\", \"land\", \"land\", \"land\", \"laserwriter\", \"launch\", \"launch\", \"launch\", \"law\", \"law\", \"law\", \"law\", \"law\", \"law\", \"law\", \"lciii\", \"leafs\", \"league\", \"league\", \"lebanon\", \"lemieux\", \"lemon\", \"life\", \"life\", \"life\", \"life\", \"life\", \"life\", \"life\", \"light\", \"light\", \"light\", \"light\", \"light\", \"light\", \"light\", \"like\", \"like\", \"like\", \"like\", \"like\", \"like\", \"like\", \"like\", \"like\", \"like\", \"live\", \"live\", \"live\", \"live\", \"live\", \"live\", \"live\", \"live\", \"local_bus\", \"login\", \"long\", \"long\", \"long\", \"long\", \"long\", \"long\", \"long\", \"long\", \"long\", \"long\", \"look\", \"look\", \"look\", \"look\", \"look\", \"look\", \"look\", \"look\", \"look\", \"look\", \"lopez\", \"lord\", \"lord\", \"lose\", \"lose\", \"lose\", \"lose\", \"lose\", \"lose\", \"lose\", \"lose\", \"loser\", \"lunar\", \"m\", \"m\", \"m\", \"m\", \"m\", \"m\", \"m\", \"m\", \"m\", \"mac\", \"mac\", \"mac\", \"machine\", \"machine\", \"machine\", \"machine\", \"machine\", \"machine\", \"machine\", \"machine\", \"machine\", \"mail\", \"mail\", \"mail\", \"mail\", \"mail\", \"mail\", \"man\", \"man\", \"man\", \"man\", \"man\", \"man\", \"man\", \"man\", \"marriage\", \"marriage\", \"marry\", \"marry\", \"maryland_college_park\", \"massacre\", \"material\", \"material\", \"material\", \"material\", \"material\", \"material\", \"maxaxaxaxaxaxaxaxaxaxaxaxaxaxax\", \"maxaxaxaxaxaxaxaxaxaxaxaxaxaxax_maxaxaxaxaxaxaxaxaxaxaxaxaxaxax\", \"maxaxaxaxaxaxaxaxaxaxaxaxaxaxax_maxaxaxaxaxaxaxaxaxaxaxaxaxaxax_maxaxaxaxaxaxaxaxaxaxaxaxaxaxax\", \"maxaxaxaxaxaxaxaxaxaxaxaxaxaxax_maxaxaxaxaxaxaxaxaxaxaxaxaxaxax_maxaxaxaxaxaxaxaxaxaxaxaxaxaxax_maxaxaxaxaxaxaxaxaxaxaxaxaxaxax\", \"mazda\", \"mb\", \"mb\", \"mean\", \"mean\", \"mean\", \"mean\", \"mean\", \"mean\", \"mean\", \"mean\", \"mean\", \"mean\", \"memory\", \"memory\", \"memory\", \"memory\", \"memory\", \"memory\", \"menu\", \"met\", \"metal\", \"metal\", \"metal\", \"mhz\", \"michael\", \"michael\", \"michael\", \"michael\", \"michael\", \"michael\", \"michael\", \"michael\", \"michael\", \"mile\", \"mile\", \"mile\", \"mile\", \"mile\", \"mileage\", \"military\", \"military\", \"militia\", \"minnesota\", \"minnesota\", \"minnesota\", \"mission\", \"mission\", \"mode\", \"mode\", \"mode\", \"mode\", \"mode\", \"modem\", \"modem\", \"modem\", \"money\", \"money\", \"money\", \"money\", \"money\", \"money\", \"money\", \"monitor\", \"monitor\", \"monitor\", \"montreal\", \"moon\", \"moon\", \"moral\", \"moral\", \"moral\", \"moral\", \"morality\", \"motherboard\", \"motif\", \"motorcycle\", \"motto\", \"mouse\", \"mouse\", \"mph\", \"mph\", \"msg\", \"msg\", \"msg_sensitivity_superstition\", \"music\", \"music\", \"music\", \"music\", \"mv\", \"mw\", \"n\", \"n\", \"n\", \"n\", \"n\", \"n\", \"n\", \"n\", \"nasa\", \"national\", \"national\", \"national\", \"national\", \"national\", \"national\", \"national\", \"national\", \"nazi\", \"nazi\", \"need\", \"need\", \"need\", \"need\", \"need\", \"need\", \"need\", \"need\", \"need\", \"need\", \"needle\", \"new\", \"new\", \"new\", \"new\", \"new\", \"new\", \"new\", \"new\", \"new\", \"new\", \"new_zealand\", \"new_zealand\", \"news_gateway\", \"newsgroup\", \"newsgroup\", \"newsgroup\", \"newsgroup\", \"newsgroup\", \"newsletter\", \"nhl\", \"nickname\", \"nissan\", \"nra\", \"nsa\", \"nyi\", \"nyr\", \"occupy\", \"odometer\", \"oil\", \"oil\", \"onur_yalcin\", \"openwindow\", \"opinions_expresse\", \"opinions_expresse\", \"orbit\", \"orbital\", \"organism\", \"outlet\", \"ozone\", \"p\", \"p\", \"p\", \"p\", \"p\", \"p\", \"p\", \"p\", \"p_p\", \"p_p\", \"package\", \"package\", \"package\", \"package\", \"package\", \"package\", \"pain\", \"pain\", \"pain\", \"pain\", \"palestine\", \"palestinian\", \"palestinians\", \"parent\", \"parent\", \"parent\", \"parent\", \"pat\", \"pat\", \"patent\", \"patent\", \"payload\", \"pc\", \"pc\", \"pc\", \"pc\", \"pds\", \"pen\", \"pen\", \"penguin\", \"pentium\", \"people\", \"people\", \"people\", \"people\", \"people\", \"people\", \"people\", \"people\", \"people\", \"person\", \"person\", \"person\", \"person\", \"person\", \"person\", \"person\", \"person\", \"person\", \"pgp\", \"pgp\", \"phd\", \"phi\", \"phillie\", \"phone\", \"phone\", \"phone\", \"phone\", \"phone\", \"phone\", \"phone\", \"pin\", \"pin\", \"pin\", \"pin\", \"pitch\", \"pitch\", \"pitcher\", \"pittsburgh\", \"pittsburgh\", \"pittsburgh\", \"pixel\", \"pixmap\", \"planetary\", \"play\", \"play\", \"play\", \"play\", \"play\", \"play\", \"player\", \"playoff\", \"point\", \"point\", \"point\", \"point\", \"point\", \"point\", \"point\", \"point\", \"point\", \"point\", \"polygon\", \"pope\", \"porsche\", \"post\", \"post\", \"post\", \"post\", \"post\", \"post\", \"post\", \"post\", \"post\", \"post\", \"postscript\", \"postscript\", \"powerpc\", \"prayer\", \"pregnancy\", \"president\", \"president\", \"president\", \"president\", \"president\", \"price\", \"price\", \"price\", \"price\", \"price\", \"printer\", \"printer\", \"printer\", \"probe\", \"probe\", \"problem\", \"problem\", \"problem\", \"problem\", \"problem\", \"problem\", \"problem\", \"problem\", \"problem\", \"program\", \"program\", \"program\", \"program\", \"program\", \"program\", \"program\", \"project\", \"project\", \"project\", \"project\", \"project\", \"prophet\", \"provide\", \"provide\", \"provide\", \"provide\", \"provide\", \"provide\", \"provide\", \"provide\", \"provide\", \"provide\", \"pub\", \"public_access_unix\", \"public_access_unix\", \"public_key\", \"puck\", \"q\", \"q\", \"q\", \"q\", \"q\", \"q\", \"q\", \"quadra\", \"question\", \"question\", \"question\", \"question\", \"question\", \"question\", \"question\", \"question\", \"question\", \"question\", \"quran\", \"r\", \"r\", \"r\", \"r\", \"r\", \"r\", \"r\", \"r\", \"r\", \"r\", \"radar_detector\", \"ram\", \"ram\", \"ranger\", \"rate\", \"rate\", \"rate\", \"rate\", \"rate\", \"rate\", \"read\", \"read\", \"read\", \"read\", \"read\", \"read\", \"read\", \"read\", \"read\", \"read\", \"rear\", \"rear\", \"reason\", \"reason\", \"reason\", \"reason\", \"reason\", \"reason\", \"reason\", \"reason\", \"reason\", \"religion\", \"religion\", \"religious\", \"religious\", \"reply\", \"reply\", \"reply\", \"reply\", \"reply\", \"reply\", \"reply\", \"reply\", \"reply\", \"reply\", \"report\", \"report\", \"report\", \"report\", \"report\", \"report\", \"report\", \"report\", \"research\", \"research\", \"research\", \"research\", \"research\", \"research\", \"research\", \"research\", \"researcher\", \"resurrection\", \"revelation\", \"revolver\", \"ride\", \"ride\", \"rider\", \"right\", \"right\", \"right\", \"right\", \"right\", \"right\", \"right\", \"right\", \"right\", \"right\", \"ripem\", \"road\", \"road\", \"road\", \"road\", \"road\", \"road\", \"road\", \"road\", \"rsa\", \"rsaref\", \"run\", \"run\", \"run\", \"run\", \"run\", \"run\", \"run\", \"run\", \"run\", \"run\", \"rushdie\", \"s\", \"s\", \"s\", \"s\", \"s\", \"s\", \"s\", \"s\", \"s\", \"s\", \"safety\", \"safety\", \"safety\", \"safety\", \"safety\", \"sale\", \"sale\", \"sale\", \"sale\", \"sale\", \"salvation\", \"satellite\", \"say\", \"say\", \"say\", \"say\", \"say\", \"say\", \"say\", \"say\", \"say\", \"say\", \"science\", \"science\", \"science\", \"science\", \"science\", \"science\", \"scientific\", \"scientific\", \"scientific\", \"score\", \"scoring\", \"scott\", \"scott\", \"scott\", \"scott\", \"scott\", \"scripture\", \"scsi\", \"season\", \"second\", \"second\", \"second\", \"second\", \"second\", \"second\", \"second\", \"second\", \"second\", \"second\", \"secure\", \"secure\", \"secure\", \"security\", \"security\", \"security\", \"security\", \"see\", \"see\", \"see\", \"see\", \"see\", \"see\", \"see\", \"see\", \"see\", \"seizure\", \"sell\", \"sell\", \"sell\", \"sell\", \"sell\", \"sell\", \"sell\", \"sell\", \"sell\", \"sell\", \"semi_auto\", \"senate\", \"send\", \"send\", \"send\", \"send\", \"send\", \"send\", \"send\", \"send\", \"send\", \"send\", \"serial_number\", \"serial_port\", \"series\", \"series\", \"series\", \"series\", \"series\", \"series\", \"server\", \"server\", \"server\", \"service\", \"service\", \"service\", \"service\", \"service\", \"service\", \"service\", \"service\", \"set\", \"set\", \"set\", \"set\", \"set\", \"set\", \"set\", \"set\", \"set\", \"sex\", \"sex\", \"sexual\", \"sho\", \"shoot\", \"shoot\", \"shoot\", \"shoot\", \"shoot\", \"shuttle\", \"simms\", \"sin\", \"sin\", \"software\", \"software\", \"software\", \"software\", \"software\", \"solar\", \"soldier\", \"sony\", \"source\", \"source\", \"source\", \"source\", \"source\", \"source\", \"source\", \"source\", \"source\", \"space\", \"space\", \"space\", \"space\", \"space\", \"space_shuttle\", \"space_station\", \"spacecraft\", \"speed\", \"speed\", \"speed\", \"speed\", \"speed\", \"st\", \"st\", \"st\", \"st\", \"st\", \"st\", \"st\", \"st\", \"stanley_cup\", \"start\", \"start\", \"start\", \"start\", \"start\", \"start\", \"start\", \"start\", \"start\", \"start\", \"starter\", \"state\", \"state\", \"state\", \"state\", \"state\", \"state\", \"state\", \"state\", \"state\", \"stereo\", \"steve_dyer\", \"sticker\", \"stl\", \"study\", \"study\", \"study\", \"study\", \"study\", \"study\", \"system\", \"system\", \"system\", \"system\", \"system\", \"system\", \"system\", \"system\", \"system\", \"t\", \"t\", \"t\", \"t\", \"t\", \"t\", \"t\", \"taste\", \"taste\", \"taste\", \"taste\", \"tb\", \"tb\", \"tb\", \"team\", \"team\", \"technology\", \"technology\", \"technology\", \"technology\", \"technology\", \"technology\", \"technology\", \"tell\", \"tell\", \"tell\", \"tell\", \"tell\", \"tell\", \"tell\", \"tell\", \"tell\", \"tell\", \"temperature\", \"temperature\", \"territory\", \"territory\", \"terrorist\", \"thank\", \"thank\", \"thank\", \"thank\", \"thank\", \"thank\", \"thank\", \"thank\", \"thank\", \"thing\", \"thing\", \"thing\", \"thing\", \"thing\", \"thing\", \"thing\", \"thing\", \"thing\", \"think\", \"think\", \"think\", \"think\", \"think\", \"think\", \"think\", \"think\", \"think\", \"think\", \"throttle\", \"time\", \"time\", \"time\", \"time\", \"time\", \"time\", \"time\", \"time\", \"time\", \"time\", \"tire\", \"tom\", \"tom\", \"tom\", \"tom\", \"toolkit\", \"toronto\", \"toronto\", \"toyota\", \"troop\", \"true\", \"true\", \"true\", \"true\", \"true\", \"true\", \"true\", \"true\", \"true\", \"truth\", \"truth\", \"truth\", \"truth\", \"truth\", \"try\", \"try\", \"try\", \"try\", \"try\", \"try\", \"try\", \"try\", \"try\", \"try\", \"turk\", \"turkey\", \"turkey\", \"turkish\", \"turn\", \"turn\", \"turn\", \"turn\", \"turn\", \"turn\", \"turn\", \"turn\", \"turn\", \"tw\", \"u\", \"u\", \"u\", \"u\", \"u\", \"u\", \"u_toronto_zoology\", \"uart\", \"university\", \"university\", \"university\", \"university\", \"university\", \"university\", \"university\", \"university\", \"university\", \"university\", \"university_illinois\", \"university_illinois\", \"university_illinois\", \"university_illinois\", \"university_illinois\", \"unix\", \"unix\", \"unix\", \"unix\", \"unix\", \"unix\", \"upgrade\", \"upgrade\", \"use\", \"use\", \"use\", \"use\", \"use\", \"use\", \"use\", \"use\", \"use\", \"use\", \"user\", \"user\", \"user\", \"user\", \"user\", \"user\", \"user\", \"utzoohenry\", \"uw\", \"vat\", \"venus\", \"version\", \"version\", \"version\", \"version\", \"version\", \"version\", \"vga\", \"vga\", \"video\", \"video\", \"video\", \"video\", \"video\", \"video\", \"video_card\", \"village\", \"visual\", \"vitamin\", \"vlb\", \"voltage\", \"voltage\", \"vram\", \"vs\", \"vs\", \"vs\", \"vs\", \"vs\", \"vs\", \"vs\", \"vs\", \"w\", \"w\", \"w\", \"w\", \"w\", \"w\", \"want\", \"want\", \"want\", \"want\", \"want\", \"want\", \"want\", \"want\", \"want\", \"war\", \"war\", \"war\", \"war\", \"war\", \"water\", \"water\", \"water\", \"water\", \"water\", \"water\", \"water\", \"way\", \"way\", \"way\", \"way\", \"way\", \"way\", \"way\", \"way\", \"way\", \"way\", \"weapon\", \"weapon\", \"well\", \"well\", \"well\", \"well\", \"well\", \"well\", \"well\", \"well\", \"well\", \"wheel\", \"wheel\", \"widget\", \"win\", \"win\", \"win\", \"win\", \"win\", \"win\", \"winbench\", \"window\", \"window\", \"window\", \"window\", \"window\", \"window\", \"window_manag\", \"wiretap\", \"wiretap\", \"woman\", \"woman\", \"woman\", \"woman\", \"word\", \"word\", \"word\", \"word\", \"word\", \"word\", \"word\", \"word\", \"word\", \"work\", \"work\", \"work\", \"work\", \"work\", \"work\", \"work\", \"work\", \"work\", \"work\", \"worship\", \"ww\", \"ww\", \"ww\", \"x\", \"x\", \"x\", \"x\", \"x_newsread\", \"x_newsread\", \"x_newsread\", \"x_newsread\", \"x_newsread\", \"x_newsread\", \"x_newsread\", \"xfree\", \"xlib\", \"xr\", \"xr\", \"xterm\", \"xview\", \"year\", \"year\", \"year\", \"year\", \"year\", \"year\", \"year\", \"year\", \"year\"]}, \"R\": 30, \"lambda.step\": 0.01, \"plot.opts\": {\"xlab\": \"PC1\", \"ylab\": \"PC2\"}, \"topic.order\": [10, 2, 4, 1, 7, 5, 3, 6, 8, 9]};\n",
              "\n",
              "function LDAvis_load_lib(url, callback){\n",
              "  var s = document.createElement('script');\n",
              "  s.src = url;\n",
              "  s.async = true;\n",
              "  s.onreadystatechange = s.onload = callback;\n",
              "  s.onerror = function(){console.warn(\"failed to load library \" + url);};\n",
              "  document.getElementsByTagName(\"head\")[0].appendChild(s);\n",
              "}\n",
              "\n",
              "if(typeof(LDAvis) !== \"undefined\"){\n",
              "   // already loaded: just create the visualization\n",
              "   !function(LDAvis){\n",
              "       new LDAvis(\"#\" + \"ldavis_el6051373722993892801047540493\", ldavis_el6051373722993892801047540493_data);\n",
              "   }(LDAvis);\n",
              "}else if(typeof define === \"function\" && define.amd){\n",
              "   // require.js is available: use it to load d3/LDAvis\n",
              "   require.config({paths: {d3: \"https://d3js.org/d3.v5\"}});\n",
              "   require([\"d3\"], function(d3){\n",
              "      window.d3 = d3;\n",
              "      LDAvis_load_lib(\"https://cdn.jsdelivr.net/gh/bmabey/pyLDAvis@3.4.0/pyLDAvis/js/ldavis.v3.0.0.js\", function(){\n",
              "        new LDAvis(\"#\" + \"ldavis_el6051373722993892801047540493\", ldavis_el6051373722993892801047540493_data);\n",
              "      });\n",
              "    });\n",
              "}else{\n",
              "    // require.js not available: dynamically load d3 & LDAvis\n",
              "    LDAvis_load_lib(\"https://d3js.org/d3.v5.js\", function(){\n",
              "         LDAvis_load_lib(\"https://cdn.jsdelivr.net/gh/bmabey/pyLDAvis@3.4.0/pyLDAvis/js/ldavis.v3.0.0.js\", function(){\n",
              "                 new LDAvis(\"#\" + \"ldavis_el6051373722993892801047540493\", ldavis_el6051373722993892801047540493_data);\n",
              "            })\n",
              "         });\n",
              "}\n",
              "</script>"
            ]
          },
          "metadata": {},
          "execution_count": 41
        }
      ]
    }
  ]
}